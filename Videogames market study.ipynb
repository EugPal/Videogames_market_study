{
 "cells": [
  {
   "cell_type": "markdown",
   "metadata": {},
   "source": [
    "# Videogames Market Study"
   ]
  },
  {
   "cell_type": "markdown",
   "metadata": {},
   "source": [
    "## Project Description\n",
    "You work at \"Stream\", an online store that sells computer games worldwide. Historical data on game sales, user and expert ratings, genres, and platforms (such as Xbox or PlayStation) are available from public sources. In this project, you aim to identify patterns that determine the success of a game. This will allow you to bet on potentially popular products and plan advertising campaigns. The available data goes up until 2016. Let's assume it is currently December 2016, and you are planning the campaign for 2017."
   ]
  },
  {
   "cell_type": "markdown",
   "metadata": {},
   "source": [
    "### Project Goal\n",
    "To identify patterns that determine the success of a game."
   ]
  },
  {
   "cell_type": "markdown",
   "metadata": {},
   "source": [
    "### Data Description\n",
    "\n",
    "`Name` — game name\n",
    "\n",
    "`Platform` — platform\n",
    "\n",
    "`Year_of_Release` — release year\n",
    "\n",
    "`Genre` — game genre\n",
    "\n",
    "`NA_sales` — sales in North America (millions of copies sold)\n",
    "\n",
    "`EU_sales` — sales in Europe (millions of copies sold)\n",
    "\n",
    "`JP_sales` — sales in Japan (millions of copies sold)\n",
    "\n",
    "`Other_sales` — sales in other countries (millions of copies sold)\n",
    "\n",
    "`Critic_Score` — critic score (maximum 100)\n",
    "\n",
    "`User_Score` — user score (maximum 10)\n",
    "\n",
    "`Rating` — rating from the Entertainment Software Rating Board (ESRB). This association determines the rating of computer games and assigns them an appropriate age category\n",
    "\n",
    "**Data for 2016 may be incomplete**"
   ]
  },
  {
   "cell_type": "markdown",
   "metadata": {},
   "source": [
    "## Content"
   ]
  },
  {
   "cell_type": "markdown",
   "metadata": {},
   "source": [
    "### Data Research\n",
    "\n",
    "### Data Preprocessing\n",
    " - Replace column names (convert them to lowercase)\n",
    " - Convert data types\n",
    " - Handle missing values\n",
    " - Calculate total sales in all regions and store them in a separate column\n",
    " \n",
    "### Data Analysis\n",
    "- Let's see how many games were released in different years. Are data from all periods important?\n",
    "- Examine how sales have changed across platforms. Select platforms with the highest total sales and plot their distribution by year. What is the typical lifespan for the emergence and disappearance of platforms?\n",
    "- Take data for the corresponding relevant period. Determine the relevant period based on the previous research. The main factor is that this data will help us make forecasts for 2017.\n",
    "- Exclude data from previous years from your analysis.\n",
    "- Which platforms are leading in sales, growing, or declining? Choose a few potentially profitable platforms.\n",
    "- Create a box plot of global game sales by platform. Describe the results.\n",
    "- Analyze the impact of user and critic reviews on sales within a popular platform. Create a scatter plot and calculate the correlation between reviews and sales. Formulate your conclusions.\n",
    "- Relate the conclusions to game sales on other platforms.\n",
    "- Examine the overall distribution of games by genre. What can be said about the most profitable genres? Are there any genres with high or low sales that stand out?\n",
    "\n",
    "### Tasks\n",
    " **1. Creating a profile of the typical user for each region.**\n",
    "- Let's analyze each region (NA, EU, JP) for the following:\n",
    "- The most popular platforms (top 5). Describe the differences in sales share.\n",
    "- The most popular genres (top 5). Explain the differences.\n",
    "- Does the ESRB rating affect sales in individual regions?\n",
    " \n",
    " **2. Hypothesis testing**\n",
    "- The average user ratings for Xbox One and PC platforms are the same.\n",
    "- The average user ratings for Action and Sports genres are different.\n",
    "- Set a threshold value for alpha independently.\n",
    "Explain:\n",
    "- How did you formulate the null and alternative hypotheses?\n",
    "- What criterion did you apply to test the hypotheses and why."
   ]
  },
  {
   "cell_type": "markdown",
   "metadata": {},
   "source": [
    "## Data Research"
   ]
  },
  {
   "cell_type": "code",
   "execution_count": 1,
   "metadata": {},
   "outputs": [],
   "source": [
    "import pandas as pd\n",
    "import matplotlib.pyplot as plt\n",
    "import seaborn as sb\n",
    "import numpy as np\n",
    "from scipy import stats as st"
   ]
  },
  {
   "cell_type": "code",
   "execution_count": 2,
   "metadata": {},
   "outputs": [],
   "source": [
    "try:\n",
    "    data = pd.read_csv('/datasets/games.csv')\n",
    "except:\n",
    "    data = pd.read_csv('https://code.s3.yandex.net/datasets/games.csv')"
   ]
  },
  {
   "cell_type": "code",
   "execution_count": 3,
   "metadata": {},
   "outputs": [
    {
     "data": {
      "text/html": [
       "<div>\n",
       "<style scoped>\n",
       "    .dataframe tbody tr th:only-of-type {\n",
       "        vertical-align: middle;\n",
       "    }\n",
       "\n",
       "    .dataframe tbody tr th {\n",
       "        vertical-align: top;\n",
       "    }\n",
       "\n",
       "    .dataframe thead th {\n",
       "        text-align: right;\n",
       "    }\n",
       "</style>\n",
       "<table border=\"1\" class=\"dataframe\">\n",
       "  <thead>\n",
       "    <tr style=\"text-align: right;\">\n",
       "      <th></th>\n",
       "      <th>Name</th>\n",
       "      <th>Platform</th>\n",
       "      <th>Year_of_Release</th>\n",
       "      <th>Genre</th>\n",
       "      <th>NA_sales</th>\n",
       "      <th>EU_sales</th>\n",
       "      <th>JP_sales</th>\n",
       "      <th>Other_sales</th>\n",
       "      <th>Critic_Score</th>\n",
       "      <th>User_Score</th>\n",
       "      <th>Rating</th>\n",
       "    </tr>\n",
       "  </thead>\n",
       "  <tbody>\n",
       "    <tr>\n",
       "      <th>0</th>\n",
       "      <td>Wii Sports</td>\n",
       "      <td>Wii</td>\n",
       "      <td>2006.0</td>\n",
       "      <td>Sports</td>\n",
       "      <td>41.36</td>\n",
       "      <td>28.96</td>\n",
       "      <td>3.77</td>\n",
       "      <td>8.45</td>\n",
       "      <td>76.0</td>\n",
       "      <td>8</td>\n",
       "      <td>E</td>\n",
       "    </tr>\n",
       "    <tr>\n",
       "      <th>1</th>\n",
       "      <td>Super Mario Bros.</td>\n",
       "      <td>NES</td>\n",
       "      <td>1985.0</td>\n",
       "      <td>Platform</td>\n",
       "      <td>29.08</td>\n",
       "      <td>3.58</td>\n",
       "      <td>6.81</td>\n",
       "      <td>0.77</td>\n",
       "      <td>NaN</td>\n",
       "      <td>NaN</td>\n",
       "      <td>NaN</td>\n",
       "    </tr>\n",
       "    <tr>\n",
       "      <th>2</th>\n",
       "      <td>Mario Kart Wii</td>\n",
       "      <td>Wii</td>\n",
       "      <td>2008.0</td>\n",
       "      <td>Racing</td>\n",
       "      <td>15.68</td>\n",
       "      <td>12.76</td>\n",
       "      <td>3.79</td>\n",
       "      <td>3.29</td>\n",
       "      <td>82.0</td>\n",
       "      <td>8.3</td>\n",
       "      <td>E</td>\n",
       "    </tr>\n",
       "    <tr>\n",
       "      <th>3</th>\n",
       "      <td>Wii Sports Resort</td>\n",
       "      <td>Wii</td>\n",
       "      <td>2009.0</td>\n",
       "      <td>Sports</td>\n",
       "      <td>15.61</td>\n",
       "      <td>10.93</td>\n",
       "      <td>3.28</td>\n",
       "      <td>2.95</td>\n",
       "      <td>80.0</td>\n",
       "      <td>8</td>\n",
       "      <td>E</td>\n",
       "    </tr>\n",
       "    <tr>\n",
       "      <th>4</th>\n",
       "      <td>Pokemon Red/Pokemon Blue</td>\n",
       "      <td>GB</td>\n",
       "      <td>1996.0</td>\n",
       "      <td>Role-Playing</td>\n",
       "      <td>11.27</td>\n",
       "      <td>8.89</td>\n",
       "      <td>10.22</td>\n",
       "      <td>1.00</td>\n",
       "      <td>NaN</td>\n",
       "      <td>NaN</td>\n",
       "      <td>NaN</td>\n",
       "    </tr>\n",
       "  </tbody>\n",
       "</table>\n",
       "</div>"
      ],
      "text/plain": [
       "                       Name Platform  Year_of_Release         Genre  NA_sales  \\\n",
       "0                Wii Sports      Wii           2006.0        Sports     41.36   \n",
       "1         Super Mario Bros.      NES           1985.0      Platform     29.08   \n",
       "2            Mario Kart Wii      Wii           2008.0        Racing     15.68   \n",
       "3         Wii Sports Resort      Wii           2009.0        Sports     15.61   \n",
       "4  Pokemon Red/Pokemon Blue       GB           1996.0  Role-Playing     11.27   \n",
       "\n",
       "   EU_sales  JP_sales  Other_sales  Critic_Score User_Score Rating  \n",
       "0     28.96      3.77         8.45          76.0          8      E  \n",
       "1      3.58      6.81         0.77           NaN        NaN    NaN  \n",
       "2     12.76      3.79         3.29          82.0        8.3      E  \n",
       "3     10.93      3.28         2.95          80.0          8      E  \n",
       "4      8.89     10.22         1.00           NaN        NaN    NaN  "
      ]
     },
     "execution_count": 3,
     "metadata": {},
     "output_type": "execute_result"
    }
   ],
   "source": [
    "data.head()"
   ]
  },
  {
   "cell_type": "code",
   "execution_count": 4,
   "metadata": {},
   "outputs": [
    {
     "data": {
      "text/html": [
       "<div>\n",
       "<style scoped>\n",
       "    .dataframe tbody tr th:only-of-type {\n",
       "        vertical-align: middle;\n",
       "    }\n",
       "\n",
       "    .dataframe tbody tr th {\n",
       "        vertical-align: top;\n",
       "    }\n",
       "\n",
       "    .dataframe thead th {\n",
       "        text-align: right;\n",
       "    }\n",
       "</style>\n",
       "<table border=\"1\" class=\"dataframe\">\n",
       "  <thead>\n",
       "    <tr style=\"text-align: right;\">\n",
       "      <th></th>\n",
       "      <th>Year_of_Release</th>\n",
       "      <th>NA_sales</th>\n",
       "      <th>EU_sales</th>\n",
       "      <th>JP_sales</th>\n",
       "      <th>Other_sales</th>\n",
       "      <th>Critic_Score</th>\n",
       "    </tr>\n",
       "  </thead>\n",
       "  <tbody>\n",
       "    <tr>\n",
       "      <th>count</th>\n",
       "      <td>16446.000000</td>\n",
       "      <td>16715.000000</td>\n",
       "      <td>16715.000000</td>\n",
       "      <td>16715.000000</td>\n",
       "      <td>16715.000000</td>\n",
       "      <td>8137.000000</td>\n",
       "    </tr>\n",
       "    <tr>\n",
       "      <th>mean</th>\n",
       "      <td>2006.484616</td>\n",
       "      <td>0.263377</td>\n",
       "      <td>0.145060</td>\n",
       "      <td>0.077617</td>\n",
       "      <td>0.047342</td>\n",
       "      <td>68.967679</td>\n",
       "    </tr>\n",
       "    <tr>\n",
       "      <th>std</th>\n",
       "      <td>5.877050</td>\n",
       "      <td>0.813604</td>\n",
       "      <td>0.503339</td>\n",
       "      <td>0.308853</td>\n",
       "      <td>0.186731</td>\n",
       "      <td>13.938165</td>\n",
       "    </tr>\n",
       "    <tr>\n",
       "      <th>min</th>\n",
       "      <td>1980.000000</td>\n",
       "      <td>0.000000</td>\n",
       "      <td>0.000000</td>\n",
       "      <td>0.000000</td>\n",
       "      <td>0.000000</td>\n",
       "      <td>13.000000</td>\n",
       "    </tr>\n",
       "    <tr>\n",
       "      <th>25%</th>\n",
       "      <td>2003.000000</td>\n",
       "      <td>0.000000</td>\n",
       "      <td>0.000000</td>\n",
       "      <td>0.000000</td>\n",
       "      <td>0.000000</td>\n",
       "      <td>60.000000</td>\n",
       "    </tr>\n",
       "    <tr>\n",
       "      <th>50%</th>\n",
       "      <td>2007.000000</td>\n",
       "      <td>0.080000</td>\n",
       "      <td>0.020000</td>\n",
       "      <td>0.000000</td>\n",
       "      <td>0.010000</td>\n",
       "      <td>71.000000</td>\n",
       "    </tr>\n",
       "    <tr>\n",
       "      <th>75%</th>\n",
       "      <td>2010.000000</td>\n",
       "      <td>0.240000</td>\n",
       "      <td>0.110000</td>\n",
       "      <td>0.040000</td>\n",
       "      <td>0.030000</td>\n",
       "      <td>79.000000</td>\n",
       "    </tr>\n",
       "    <tr>\n",
       "      <th>max</th>\n",
       "      <td>2016.000000</td>\n",
       "      <td>41.360000</td>\n",
       "      <td>28.960000</td>\n",
       "      <td>10.220000</td>\n",
       "      <td>10.570000</td>\n",
       "      <td>98.000000</td>\n",
       "    </tr>\n",
       "  </tbody>\n",
       "</table>\n",
       "</div>"
      ],
      "text/plain": [
       "       Year_of_Release      NA_sales      EU_sales      JP_sales  \\\n",
       "count     16446.000000  16715.000000  16715.000000  16715.000000   \n",
       "mean       2006.484616      0.263377      0.145060      0.077617   \n",
       "std           5.877050      0.813604      0.503339      0.308853   \n",
       "min        1980.000000      0.000000      0.000000      0.000000   \n",
       "25%        2003.000000      0.000000      0.000000      0.000000   \n",
       "50%        2007.000000      0.080000      0.020000      0.000000   \n",
       "75%        2010.000000      0.240000      0.110000      0.040000   \n",
       "max        2016.000000     41.360000     28.960000     10.220000   \n",
       "\n",
       "        Other_sales  Critic_Score  \n",
       "count  16715.000000   8137.000000  \n",
       "mean       0.047342     68.967679  \n",
       "std        0.186731     13.938165  \n",
       "min        0.000000     13.000000  \n",
       "25%        0.000000     60.000000  \n",
       "50%        0.010000     71.000000  \n",
       "75%        0.030000     79.000000  \n",
       "max       10.570000     98.000000  "
      ]
     },
     "execution_count": 4,
     "metadata": {},
     "output_type": "execute_result"
    }
   ],
   "source": [
    "data.describe()"
   ]
  },
  {
   "cell_type": "code",
   "execution_count": 5,
   "metadata": {
    "scrolled": true
   },
   "outputs": [
    {
     "name": "stdout",
     "output_type": "stream",
     "text": [
      "<class 'pandas.core.frame.DataFrame'>\n",
      "RangeIndex: 16715 entries, 0 to 16714\n",
      "Data columns (total 11 columns):\n",
      " #   Column           Non-Null Count  Dtype  \n",
      "---  ------           --------------  -----  \n",
      " 0   Name             16713 non-null  object \n",
      " 1   Platform         16715 non-null  object \n",
      " 2   Year_of_Release  16446 non-null  float64\n",
      " 3   Genre            16713 non-null  object \n",
      " 4   NA_sales         16715 non-null  float64\n",
      " 5   EU_sales         16715 non-null  float64\n",
      " 6   JP_sales         16715 non-null  float64\n",
      " 7   Other_sales      16715 non-null  float64\n",
      " 8   Critic_Score     8137 non-null   float64\n",
      " 9   User_Score       10014 non-null  object \n",
      " 10  Rating           9949 non-null   object \n",
      "dtypes: float64(6), object(5)\n",
      "memory usage: 1.4+ MB\n"
     ]
    }
   ],
   "source": [
    "data.info()"
   ]
  },
  {
   "cell_type": "markdown",
   "metadata": {},
   "source": [
    "**Let's check for duplicates:**\n",
    "Here, the \"id\" refers to the game's name, which is represented in the column \"name.\"\n",
    "We will selectively check the most frequently occurring names.\n",
    "We can see that the names are repeated because the game has been ported to different platforms, meaning they are not duplicates.\n",
    "Therefore, there are no duplicates in the data."
   ]
  },
  {
   "cell_type": "code",
   "execution_count": 6,
   "metadata": {},
   "outputs": [
    {
     "data": {
      "text/plain": [
       "Need for Speed: Most Wanted    12\n",
       "Ratatouille                     9\n",
       "FIFA 14                         9\n",
       "LEGO Marvel Super Heroes        9\n",
       "Madden NFL 07                   9\n",
       "                               ..\n",
       "Naruto: Ninja Council           1\n",
       "Monster Hunter                  1\n",
       "NCAA GameBreaker 2004           1\n",
       "We Cheer 2                      1\n",
       "Homeworld 2                     1\n",
       "Name: Name, Length: 11559, dtype: int64"
      ]
     },
     "execution_count": 6,
     "metadata": {},
     "output_type": "execute_result"
    }
   ],
   "source": [
    "data['Name'].value_counts()"
   ]
  },
  {
   "cell_type": "code",
   "execution_count": 7,
   "metadata": {},
   "outputs": [
    {
     "data": {
      "text/html": [
       "<div>\n",
       "<style scoped>\n",
       "    .dataframe tbody tr th:only-of-type {\n",
       "        vertical-align: middle;\n",
       "    }\n",
       "\n",
       "    .dataframe tbody tr th {\n",
       "        vertical-align: top;\n",
       "    }\n",
       "\n",
       "    .dataframe thead th {\n",
       "        text-align: right;\n",
       "    }\n",
       "</style>\n",
       "<table border=\"1\" class=\"dataframe\">\n",
       "  <thead>\n",
       "    <tr style=\"text-align: right;\">\n",
       "      <th></th>\n",
       "      <th>Name</th>\n",
       "      <th>Platform</th>\n",
       "      <th>Year_of_Release</th>\n",
       "      <th>Genre</th>\n",
       "      <th>NA_sales</th>\n",
       "      <th>EU_sales</th>\n",
       "      <th>JP_sales</th>\n",
       "      <th>Other_sales</th>\n",
       "      <th>Critic_Score</th>\n",
       "      <th>User_Score</th>\n",
       "      <th>Rating</th>\n",
       "    </tr>\n",
       "  </thead>\n",
       "  <tbody>\n",
       "    <tr>\n",
       "      <th>730</th>\n",
       "      <td>LEGO Marvel Super Heroes</td>\n",
       "      <td>X360</td>\n",
       "      <td>2013.0</td>\n",
       "      <td>Action</td>\n",
       "      <td>1.24</td>\n",
       "      <td>0.79</td>\n",
       "      <td>0.00</td>\n",
       "      <td>0.19</td>\n",
       "      <td>80.0</td>\n",
       "      <td>7.6</td>\n",
       "      <td>E10+</td>\n",
       "    </tr>\n",
       "    <tr>\n",
       "      <th>945</th>\n",
       "      <td>LEGO Marvel Super Heroes</td>\n",
       "      <td>PS3</td>\n",
       "      <td>2013.0</td>\n",
       "      <td>Action</td>\n",
       "      <td>0.77</td>\n",
       "      <td>0.76</td>\n",
       "      <td>0.01</td>\n",
       "      <td>0.29</td>\n",
       "      <td>82.0</td>\n",
       "      <td>7.9</td>\n",
       "      <td>E10+</td>\n",
       "    </tr>\n",
       "    <tr>\n",
       "      <th>1139</th>\n",
       "      <td>LEGO Marvel Super Heroes</td>\n",
       "      <td>PS4</td>\n",
       "      <td>2013.0</td>\n",
       "      <td>Action</td>\n",
       "      <td>0.59</td>\n",
       "      <td>0.76</td>\n",
       "      <td>0.01</td>\n",
       "      <td>0.26</td>\n",
       "      <td>83.0</td>\n",
       "      <td>7.7</td>\n",
       "      <td>E10+</td>\n",
       "    </tr>\n",
       "    <tr>\n",
       "      <th>1959</th>\n",
       "      <td>LEGO Marvel Super Heroes</td>\n",
       "      <td>XOne</td>\n",
       "      <td>2013.0</td>\n",
       "      <td>Action</td>\n",
       "      <td>0.61</td>\n",
       "      <td>0.35</td>\n",
       "      <td>0.00</td>\n",
       "      <td>0.09</td>\n",
       "      <td>NaN</td>\n",
       "      <td>6.8</td>\n",
       "      <td>E10+</td>\n",
       "    </tr>\n",
       "    <tr>\n",
       "      <th>2313</th>\n",
       "      <td>LEGO Marvel Super Heroes</td>\n",
       "      <td>3DS</td>\n",
       "      <td>2013.0</td>\n",
       "      <td>Action</td>\n",
       "      <td>0.42</td>\n",
       "      <td>0.36</td>\n",
       "      <td>0.04</td>\n",
       "      <td>0.07</td>\n",
       "      <td>61.0</td>\n",
       "      <td>5.2</td>\n",
       "      <td>E10+</td>\n",
       "    </tr>\n",
       "    <tr>\n",
       "      <th>2778</th>\n",
       "      <td>LEGO Marvel Super Heroes</td>\n",
       "      <td>WiiU</td>\n",
       "      <td>2013.0</td>\n",
       "      <td>Action</td>\n",
       "      <td>0.31</td>\n",
       "      <td>0.35</td>\n",
       "      <td>0.02</td>\n",
       "      <td>0.06</td>\n",
       "      <td>82.0</td>\n",
       "      <td>8</td>\n",
       "      <td>E10+</td>\n",
       "    </tr>\n",
       "    <tr>\n",
       "      <th>3876</th>\n",
       "      <td>LEGO Marvel Super Heroes</td>\n",
       "      <td>PSV</td>\n",
       "      <td>2013.0</td>\n",
       "      <td>Action</td>\n",
       "      <td>0.11</td>\n",
       "      <td>0.29</td>\n",
       "      <td>0.00</td>\n",
       "      <td>0.11</td>\n",
       "      <td>NaN</td>\n",
       "      <td>NaN</td>\n",
       "      <td>NaN</td>\n",
       "    </tr>\n",
       "    <tr>\n",
       "      <th>5054</th>\n",
       "      <td>LEGO Marvel Super Heroes</td>\n",
       "      <td>DS</td>\n",
       "      <td>2013.0</td>\n",
       "      <td>Action</td>\n",
       "      <td>0.22</td>\n",
       "      <td>0.13</td>\n",
       "      <td>0.00</td>\n",
       "      <td>0.03</td>\n",
       "      <td>NaN</td>\n",
       "      <td>4.8</td>\n",
       "      <td>E10+</td>\n",
       "    </tr>\n",
       "    <tr>\n",
       "      <th>8369</th>\n",
       "      <td>LEGO Marvel Super Heroes</td>\n",
       "      <td>PC</td>\n",
       "      <td>2013.0</td>\n",
       "      <td>Action</td>\n",
       "      <td>0.04</td>\n",
       "      <td>0.12</td>\n",
       "      <td>0.00</td>\n",
       "      <td>0.01</td>\n",
       "      <td>78.0</td>\n",
       "      <td>8.1</td>\n",
       "      <td>E10+</td>\n",
       "    </tr>\n",
       "  </tbody>\n",
       "</table>\n",
       "</div>"
      ],
      "text/plain": [
       "                          Name Platform  Year_of_Release   Genre  NA_sales  \\\n",
       "730   LEGO Marvel Super Heroes     X360           2013.0  Action      1.24   \n",
       "945   LEGO Marvel Super Heroes      PS3           2013.0  Action      0.77   \n",
       "1139  LEGO Marvel Super Heroes      PS4           2013.0  Action      0.59   \n",
       "1959  LEGO Marvel Super Heroes     XOne           2013.0  Action      0.61   \n",
       "2313  LEGO Marvel Super Heroes      3DS           2013.0  Action      0.42   \n",
       "2778  LEGO Marvel Super Heroes     WiiU           2013.0  Action      0.31   \n",
       "3876  LEGO Marvel Super Heroes      PSV           2013.0  Action      0.11   \n",
       "5054  LEGO Marvel Super Heroes       DS           2013.0  Action      0.22   \n",
       "8369  LEGO Marvel Super Heroes       PC           2013.0  Action      0.04   \n",
       "\n",
       "      EU_sales  JP_sales  Other_sales  Critic_Score User_Score Rating  \n",
       "730       0.79      0.00         0.19          80.0        7.6   E10+  \n",
       "945       0.76      0.01         0.29          82.0        7.9   E10+  \n",
       "1139      0.76      0.01         0.26          83.0        7.7   E10+  \n",
       "1959      0.35      0.00         0.09           NaN        6.8   E10+  \n",
       "2313      0.36      0.04         0.07          61.0        5.2   E10+  \n",
       "2778      0.35      0.02         0.06          82.0          8   E10+  \n",
       "3876      0.29      0.00         0.11           NaN        NaN    NaN  \n",
       "5054      0.13      0.00         0.03           NaN        4.8   E10+  \n",
       "8369      0.12      0.00         0.01          78.0        8.1   E10+  "
      ]
     },
     "execution_count": 7,
     "metadata": {},
     "output_type": "execute_result"
    }
   ],
   "source": [
    "data[data['Name'] == 'LEGO Marvel Super Heroes']"
   ]
  },
  {
   "cell_type": "code",
   "execution_count": 8,
   "metadata": {
    "scrolled": true
   },
   "outputs": [
    {
     "data": {
      "text/html": [
       "<div>\n",
       "<style scoped>\n",
       "    .dataframe tbody tr th:only-of-type {\n",
       "        vertical-align: middle;\n",
       "    }\n",
       "\n",
       "    .dataframe tbody tr th {\n",
       "        vertical-align: top;\n",
       "    }\n",
       "\n",
       "    .dataframe thead th {\n",
       "        text-align: right;\n",
       "    }\n",
       "</style>\n",
       "<table border=\"1\" class=\"dataframe\">\n",
       "  <thead>\n",
       "    <tr style=\"text-align: right;\">\n",
       "      <th></th>\n",
       "      <th>Name</th>\n",
       "      <th>Platform</th>\n",
       "      <th>Year_of_Release</th>\n",
       "      <th>Genre</th>\n",
       "      <th>NA_sales</th>\n",
       "      <th>EU_sales</th>\n",
       "      <th>JP_sales</th>\n",
       "      <th>Other_sales</th>\n",
       "      <th>Critic_Score</th>\n",
       "      <th>User_Score</th>\n",
       "      <th>Rating</th>\n",
       "    </tr>\n",
       "  </thead>\n",
       "  <tbody>\n",
       "    <tr>\n",
       "      <th>81</th>\n",
       "      <td>FIFA Soccer 13</td>\n",
       "      <td>PS3</td>\n",
       "      <td>2012.0</td>\n",
       "      <td>Action</td>\n",
       "      <td>1.06</td>\n",
       "      <td>5.01</td>\n",
       "      <td>0.13</td>\n",
       "      <td>1.97</td>\n",
       "      <td>88.0</td>\n",
       "      <td>6.6</td>\n",
       "      <td>E</td>\n",
       "    </tr>\n",
       "    <tr>\n",
       "      <th>190</th>\n",
       "      <td>FIFA Soccer 13</td>\n",
       "      <td>X360</td>\n",
       "      <td>2012.0</td>\n",
       "      <td>Action</td>\n",
       "      <td>1.09</td>\n",
       "      <td>3.47</td>\n",
       "      <td>0.03</td>\n",
       "      <td>0.57</td>\n",
       "      <td>90.0</td>\n",
       "      <td>6.1</td>\n",
       "      <td>E</td>\n",
       "    </tr>\n",
       "    <tr>\n",
       "      <th>2945</th>\n",
       "      <td>FIFA Soccer 13</td>\n",
       "      <td>Wii</td>\n",
       "      <td>2012.0</td>\n",
       "      <td>Action</td>\n",
       "      <td>0.18</td>\n",
       "      <td>0.44</td>\n",
       "      <td>0.00</td>\n",
       "      <td>0.07</td>\n",
       "      <td>NaN</td>\n",
       "      <td>1.6</td>\n",
       "      <td>E</td>\n",
       "    </tr>\n",
       "    <tr>\n",
       "      <th>4153</th>\n",
       "      <td>FIFA Soccer 13</td>\n",
       "      <td>WiiU</td>\n",
       "      <td>2012.0</td>\n",
       "      <td>Action</td>\n",
       "      <td>0.17</td>\n",
       "      <td>0.27</td>\n",
       "      <td>0.00</td>\n",
       "      <td>0.04</td>\n",
       "      <td>69.0</td>\n",
       "      <td>6.2</td>\n",
       "      <td>E</td>\n",
       "    </tr>\n",
       "    <tr>\n",
       "      <th>4438</th>\n",
       "      <td>FIFA Soccer 13</td>\n",
       "      <td>PSV</td>\n",
       "      <td>2012.0</td>\n",
       "      <td>Action</td>\n",
       "      <td>0.00</td>\n",
       "      <td>0.28</td>\n",
       "      <td>0.05</td>\n",
       "      <td>0.11</td>\n",
       "      <td>57.0</td>\n",
       "      <td>4.1</td>\n",
       "      <td>E</td>\n",
       "    </tr>\n",
       "    <tr>\n",
       "      <th>4821</th>\n",
       "      <td>FIFA Soccer 13</td>\n",
       "      <td>PC</td>\n",
       "      <td>2012.0</td>\n",
       "      <td>Action</td>\n",
       "      <td>0.02</td>\n",
       "      <td>0.31</td>\n",
       "      <td>0.00</td>\n",
       "      <td>0.07</td>\n",
       "      <td>86.0</td>\n",
       "      <td>6.6</td>\n",
       "      <td>E</td>\n",
       "    </tr>\n",
       "    <tr>\n",
       "      <th>5300</th>\n",
       "      <td>FIFA Soccer 13</td>\n",
       "      <td>PSP</td>\n",
       "      <td>2012.0</td>\n",
       "      <td>Action</td>\n",
       "      <td>0.05</td>\n",
       "      <td>0.18</td>\n",
       "      <td>0.02</td>\n",
       "      <td>0.09</td>\n",
       "      <td>NaN</td>\n",
       "      <td>3.2</td>\n",
       "      <td>E</td>\n",
       "    </tr>\n",
       "    <tr>\n",
       "      <th>6028</th>\n",
       "      <td>FIFA Soccer 13</td>\n",
       "      <td>3DS</td>\n",
       "      <td>2012.0</td>\n",
       "      <td>Action</td>\n",
       "      <td>0.06</td>\n",
       "      <td>0.20</td>\n",
       "      <td>0.00</td>\n",
       "      <td>0.03</td>\n",
       "      <td>68.0</td>\n",
       "      <td>3.7</td>\n",
       "      <td>E</td>\n",
       "    </tr>\n",
       "  </tbody>\n",
       "</table>\n",
       "</div>"
      ],
      "text/plain": [
       "                Name Platform  Year_of_Release   Genre  NA_sales  EU_sales  \\\n",
       "81    FIFA Soccer 13      PS3           2012.0  Action      1.06      5.01   \n",
       "190   FIFA Soccer 13     X360           2012.0  Action      1.09      3.47   \n",
       "2945  FIFA Soccer 13      Wii           2012.0  Action      0.18      0.44   \n",
       "4153  FIFA Soccer 13     WiiU           2012.0  Action      0.17      0.27   \n",
       "4438  FIFA Soccer 13      PSV           2012.0  Action      0.00      0.28   \n",
       "4821  FIFA Soccer 13       PC           2012.0  Action      0.02      0.31   \n",
       "5300  FIFA Soccer 13      PSP           2012.0  Action      0.05      0.18   \n",
       "6028  FIFA Soccer 13      3DS           2012.0  Action      0.06      0.20   \n",
       "\n",
       "      JP_sales  Other_sales  Critic_Score User_Score Rating  \n",
       "81        0.13         1.97          88.0        6.6      E  \n",
       "190       0.03         0.57          90.0        6.1      E  \n",
       "2945      0.00         0.07           NaN        1.6      E  \n",
       "4153      0.00         0.04          69.0        6.2      E  \n",
       "4438      0.05         0.11          57.0        4.1      E  \n",
       "4821      0.00         0.07          86.0        6.6      E  \n",
       "5300      0.02         0.09           NaN        3.2      E  \n",
       "6028      0.00         0.03          68.0        3.7      E  "
      ]
     },
     "execution_count": 8,
     "metadata": {},
     "output_type": "execute_result"
    }
   ],
   "source": [
    "data[data['Name'] == 'FIFA Soccer 13']"
   ]
  },
  {
   "cell_type": "markdown",
   "metadata": {},
   "source": [
    "**Conclusion for Data Research:**\n",
    "\n",
    "It is necessary to:\n",
    "1. Convert column names to lowercase.\n",
    "2. Remove missing values in the columns: name, year_of_release, genre.\n",
    "3. Convert the data types of year_of_release to integer and user_score to float.\n",
    "4. Fill in the missing values in the rating column with the value \"Unknown\"."
   ]
  },
  {
   "cell_type": "markdown",
   "metadata": {},
   "source": [
    "## Data Preprocessing"
   ]
  },
  {
   "cell_type": "code",
   "execution_count": 9,
   "metadata": {},
   "outputs": [],
   "source": [
    "data.columns = data.columns.str.lower()\n",
    "#check\n",
    "data.head();"
   ]
  },
  {
   "cell_type": "code",
   "execution_count": 10,
   "metadata": {
    "scrolled": true
   },
   "outputs": [
    {
     "name": "stdout",
     "output_type": "stream",
     "text": [
      "<class 'pandas.core.frame.DataFrame'>\n",
      "Int64Index: 16444 entries, 0 to 16714\n",
      "Data columns (total 11 columns):\n",
      " #   Column           Non-Null Count  Dtype  \n",
      "---  ------           --------------  -----  \n",
      " 0   name             16444 non-null  object \n",
      " 1   platform         16444 non-null  object \n",
      " 2   year_of_release  16444 non-null  float64\n",
      " 3   genre            16444 non-null  object \n",
      " 4   na_sales         16444 non-null  float64\n",
      " 5   eu_sales         16444 non-null  float64\n",
      " 6   jp_sales         16444 non-null  float64\n",
      " 7   other_sales      16444 non-null  float64\n",
      " 8   critic_score     7983 non-null   float64\n",
      " 9   user_score       9839 non-null   object \n",
      " 10  rating           9768 non-null   object \n",
      "dtypes: float64(6), object(5)\n",
      "memory usage: 1.5+ MB\n"
     ]
    }
   ],
   "source": [
    "data = data.dropna(subset=['name', 'year_of_release', 'genre'])\n",
    "#check\n",
    "data.info()"
   ]
  },
  {
   "cell_type": "markdown",
   "metadata": {},
   "source": [
    "**We will not fill in the missing values in critic_score, user_score, and rating because there are too many of them, and it would heavily distort the existing data.\n",
    "We will delete the remaining missing values as they are few in number.**"
   ]
  },
  {
   "cell_type": "markdown",
   "metadata": {},
   "source": [
    "**We will fill in the missing values in the rating column with a dummy value.**"
   ]
  },
  {
   "cell_type": "code",
   "execution_count": 11,
   "metadata": {},
   "outputs": [
    {
     "data": {
      "text/plain": [
       "array(['E', nan, 'M', 'T', 'E10+', 'K-A', 'AO', 'EC', 'RP'], dtype=object)"
      ]
     },
     "execution_count": 11,
     "metadata": {},
     "output_type": "execute_result"
    }
   ],
   "source": [
    "#check\n",
    "data.rating.unique()"
   ]
  },
  {
   "cell_type": "code",
   "execution_count": 12,
   "metadata": {},
   "outputs": [],
   "source": [
    "data.loc[data['rating'].isna(), 'rating'] = 'Unknown'"
   ]
  },
  {
   "cell_type": "code",
   "execution_count": 13,
   "metadata": {},
   "outputs": [
    {
     "data": {
      "text/plain": [
       "array(['E', 'Unknown', 'M', 'T', 'E10+', 'K-A', 'AO', 'EC', 'RP'],\n",
       "      dtype=object)"
      ]
     },
     "execution_count": 13,
     "metadata": {},
     "output_type": "execute_result"
    }
   ],
   "source": [
    "#check\n",
    "data.rating.unique()"
   ]
  },
  {
   "cell_type": "markdown",
   "metadata": {},
   "source": [
    "**\"tbd\" stands for \"to be discovered/developed,\" indicating that the rating is not determined at the current moment. There are quite a few of these values, as we can see below, with a count of 2424. Filling them would be incorrect, so we will leave them as they are.**"
   ]
  },
  {
   "cell_type": "code",
   "execution_count": 14,
   "metadata": {
    "scrolled": true
   },
   "outputs": [
    {
     "data": {
      "text/plain": [
       "array(['8', nan, '8.3', '8.5', '6.6', '8.4', '8.6', '7.7', '6.3', '7.4',\n",
       "       '8.2', '9', '7.9', '8.1', '8.7', '7.1', '3.4', '5.3', '4.8', '3.2',\n",
       "       '8.9', '6.4', '7.8', '7.5', '2.6', '7.2', '9.2', '7', '7.3', '4.3',\n",
       "       '7.6', '5.7', '5', '9.1', '6.5', 'tbd', '8.8', '6.9', '9.4', '6.8',\n",
       "       '6.1', '6.7', '5.4', '4', '4.9', '4.5', '9.3', '6.2', '4.2', '6',\n",
       "       '3.7', '4.1', '5.8', '5.6', '5.5', '4.4', '4.6', '5.9', '3.9',\n",
       "       '3.1', '2.9', '5.2', '3.3', '4.7', '5.1', '3.5', '2.5', '1.9', '3',\n",
       "       '2.7', '2.2', '2', '9.5', '2.1', '3.6', '2.8', '1.8', '3.8', '0',\n",
       "       '1.6', '9.6', '2.4', '1.7', '1.1', '0.3', '1.5', '0.7', '1.2',\n",
       "       '2.3', '0.5', '1.3', '0.2', '0.6', '1.4', '0.9', '1', '9.7'],\n",
       "      dtype=object)"
      ]
     },
     "execution_count": 14,
     "metadata": {},
     "output_type": "execute_result"
    }
   ],
   "source": [
    "data['user_score'].unique()"
   ]
  },
  {
   "cell_type": "code",
   "execution_count": 15,
   "metadata": {},
   "outputs": [
    {
     "data": {
      "text/plain": [
       "2376"
      ]
     },
     "execution_count": 15,
     "metadata": {},
     "output_type": "execute_result"
    }
   ],
   "source": [
    "data[data['user_score'] == 'tbd']['user_score'].count()"
   ]
  },
  {
   "cell_type": "markdown",
   "metadata": {},
   "source": [
    "**Change the data types of existing values in user_score to float and year_of_release to int:**"
   ]
  },
  {
   "cell_type": "code",
   "execution_count": 16,
   "metadata": {},
   "outputs": [],
   "source": [
    "data.loc[data['user_score']=='tbd', 'user_score'] = data.loc[data['user_score'].isna(), 'user_score']"
   ]
  },
  {
   "cell_type": "code",
   "execution_count": 17,
   "metadata": {},
   "outputs": [],
   "source": [
    "data.loc[data['user_score'].notna(), \n",
    "         'user_score'] = data.loc[data['user_score'].notna(), \n",
    "                                  'user_score'].astype(float)"
   ]
  },
  {
   "cell_type": "code",
   "execution_count": 18,
   "metadata": {},
   "outputs": [],
   "source": [
    "data['year_of_release'] = data['year_of_release'].astype(int)"
   ]
  },
  {
   "cell_type": "code",
   "execution_count": 19,
   "metadata": {},
   "outputs": [
    {
     "name": "stdout",
     "output_type": "stream",
     "text": [
      "<class 'pandas.core.frame.DataFrame'>\n",
      "Int64Index: 16444 entries, 0 to 16714\n",
      "Data columns (total 11 columns):\n",
      " #   Column           Non-Null Count  Dtype  \n",
      "---  ------           --------------  -----  \n",
      " 0   name             16444 non-null  object \n",
      " 1   platform         16444 non-null  object \n",
      " 2   year_of_release  16444 non-null  int32  \n",
      " 3   genre            16444 non-null  object \n",
      " 4   na_sales         16444 non-null  float64\n",
      " 5   eu_sales         16444 non-null  float64\n",
      " 6   jp_sales         16444 non-null  float64\n",
      " 7   other_sales      16444 non-null  float64\n",
      " 8   critic_score     7983 non-null   float64\n",
      " 9   user_score       7463 non-null   object \n",
      " 10  rating           16444 non-null  object \n",
      "dtypes: float64(5), int32(1), object(5)\n",
      "memory usage: 1.4+ MB\n"
     ]
    }
   ],
   "source": [
    "#check\n",
    "data.info();"
   ]
  },
  {
   "cell_type": "code",
   "execution_count": 20,
   "metadata": {},
   "outputs": [
    {
     "data": {
      "text/html": [
       "<div>\n",
       "<style scoped>\n",
       "    .dataframe tbody tr th:only-of-type {\n",
       "        vertical-align: middle;\n",
       "    }\n",
       "\n",
       "    .dataframe tbody tr th {\n",
       "        vertical-align: top;\n",
       "    }\n",
       "\n",
       "    .dataframe thead th {\n",
       "        text-align: right;\n",
       "    }\n",
       "</style>\n",
       "<table border=\"1\" class=\"dataframe\">\n",
       "  <thead>\n",
       "    <tr style=\"text-align: right;\">\n",
       "      <th></th>\n",
       "      <th>name</th>\n",
       "      <th>platform</th>\n",
       "      <th>year_of_release</th>\n",
       "      <th>genre</th>\n",
       "      <th>na_sales</th>\n",
       "      <th>eu_sales</th>\n",
       "      <th>jp_sales</th>\n",
       "      <th>other_sales</th>\n",
       "      <th>critic_score</th>\n",
       "      <th>user_score</th>\n",
       "      <th>rating</th>\n",
       "      <th>total_sales</th>\n",
       "    </tr>\n",
       "  </thead>\n",
       "  <tbody>\n",
       "    <tr>\n",
       "      <th>0</th>\n",
       "      <td>Wii Sports</td>\n",
       "      <td>Wii</td>\n",
       "      <td>2006</td>\n",
       "      <td>Sports</td>\n",
       "      <td>41.36</td>\n",
       "      <td>28.96</td>\n",
       "      <td>3.77</td>\n",
       "      <td>8.45</td>\n",
       "      <td>76.0</td>\n",
       "      <td>8.0</td>\n",
       "      <td>E</td>\n",
       "      <td>82.54</td>\n",
       "    </tr>\n",
       "    <tr>\n",
       "      <th>1</th>\n",
       "      <td>Super Mario Bros.</td>\n",
       "      <td>NES</td>\n",
       "      <td>1985</td>\n",
       "      <td>Platform</td>\n",
       "      <td>29.08</td>\n",
       "      <td>3.58</td>\n",
       "      <td>6.81</td>\n",
       "      <td>0.77</td>\n",
       "      <td>NaN</td>\n",
       "      <td>NaN</td>\n",
       "      <td>Unknown</td>\n",
       "      <td>40.24</td>\n",
       "    </tr>\n",
       "    <tr>\n",
       "      <th>2</th>\n",
       "      <td>Mario Kart Wii</td>\n",
       "      <td>Wii</td>\n",
       "      <td>2008</td>\n",
       "      <td>Racing</td>\n",
       "      <td>15.68</td>\n",
       "      <td>12.76</td>\n",
       "      <td>3.79</td>\n",
       "      <td>3.29</td>\n",
       "      <td>82.0</td>\n",
       "      <td>8.3</td>\n",
       "      <td>E</td>\n",
       "      <td>35.52</td>\n",
       "    </tr>\n",
       "    <tr>\n",
       "      <th>3</th>\n",
       "      <td>Wii Sports Resort</td>\n",
       "      <td>Wii</td>\n",
       "      <td>2009</td>\n",
       "      <td>Sports</td>\n",
       "      <td>15.61</td>\n",
       "      <td>10.93</td>\n",
       "      <td>3.28</td>\n",
       "      <td>2.95</td>\n",
       "      <td>80.0</td>\n",
       "      <td>8.0</td>\n",
       "      <td>E</td>\n",
       "      <td>32.77</td>\n",
       "    </tr>\n",
       "    <tr>\n",
       "      <th>4</th>\n",
       "      <td>Pokemon Red/Pokemon Blue</td>\n",
       "      <td>GB</td>\n",
       "      <td>1996</td>\n",
       "      <td>Role-Playing</td>\n",
       "      <td>11.27</td>\n",
       "      <td>8.89</td>\n",
       "      <td>10.22</td>\n",
       "      <td>1.00</td>\n",
       "      <td>NaN</td>\n",
       "      <td>NaN</td>\n",
       "      <td>Unknown</td>\n",
       "      <td>31.38</td>\n",
       "    </tr>\n",
       "  </tbody>\n",
       "</table>\n",
       "</div>"
      ],
      "text/plain": [
       "                       name platform  year_of_release         genre  na_sales  \\\n",
       "0                Wii Sports      Wii             2006        Sports     41.36   \n",
       "1         Super Mario Bros.      NES             1985      Platform     29.08   \n",
       "2            Mario Kart Wii      Wii             2008        Racing     15.68   \n",
       "3         Wii Sports Resort      Wii             2009        Sports     15.61   \n",
       "4  Pokemon Red/Pokemon Blue       GB             1996  Role-Playing     11.27   \n",
       "\n",
       "   eu_sales  jp_sales  other_sales  critic_score user_score   rating  \\\n",
       "0     28.96      3.77         8.45          76.0        8.0        E   \n",
       "1      3.58      6.81         0.77           NaN        NaN  Unknown   \n",
       "2     12.76      3.79         3.29          82.0        8.3        E   \n",
       "3     10.93      3.28         2.95          80.0        8.0        E   \n",
       "4      8.89     10.22         1.00           NaN        NaN  Unknown   \n",
       "\n",
       "   total_sales  \n",
       "0        82.54  \n",
       "1        40.24  \n",
       "2        35.52  \n",
       "3        32.77  \n",
       "4        31.38  "
      ]
     },
     "execution_count": 20,
     "metadata": {},
     "output_type": "execute_result"
    }
   ],
   "source": [
    "#Calculate the total sales in all regions and write them in a separate column.\n",
    "data['total_sales'] = data['na_sales'] + data['eu_sales'] + data['jp_sales'] + data['other_sales']\n",
    "#check\n",
    "data.head()"
   ]
  },
  {
   "cell_type": "code",
   "execution_count": 21,
   "metadata": {},
   "outputs": [
    {
     "data": {
      "text/plain": [
       "name               63\n",
       "platform           63\n",
       "year_of_release    63\n",
       "genre              63\n",
       "na_sales           63\n",
       "eu_sales           63\n",
       "jp_sales           63\n",
       "other_sales        63\n",
       "critic_score       51\n",
       "user_score         52\n",
       "rating             63\n",
       "total_sales        63\n",
       "dtype: int64"
      ]
     },
     "execution_count": 21,
     "metadata": {},
     "output_type": "execute_result"
    }
   ],
   "source": [
    "data[(data['platform'] == 'WiiU') & (data['year_of_release'] > 2006) & (data['total_sales'] > 0.3)].count()"
   ]
  },
  {
   "cell_type": "markdown",
   "metadata": {},
   "source": [
    "## Data analysis"
   ]
  },
  {
   "cell_type": "code",
   "execution_count": 22,
   "metadata": {
    "scrolled": true
   },
   "outputs": [
    {
     "data": {
      "image/png": "[encoded data removed]",
      "text/plain": [
       "<Figure size 432x288 with 1 Axes>"
      ]
     },
     "metadata": {
      "needs_background": "light"
     },
     "output_type": "display_data"
    }
   ],
   "source": [
    "# Let's see how many games were released in different years.\n",
    "data.pivot_table(index='year_of_release', values='total_sales', aggfunc='count').plot(kind='line', grid=True, rot=90)\n",
    "plt.locator_params(axis='x', nbins = 60)\n",
    "plt.locator_params(axis='y', nbins = 30)"
   ]
  },
  {
   "cell_type": "code",
   "execution_count": 23,
   "metadata": {},
   "outputs": [
    {
     "data": {
      "text/plain": [
       "array(['Wii', 'NES', 'GB', 'DS', 'X360', 'PS3', 'PS2', 'SNES', 'GBA',\n",
       "       'PS4', '3DS', 'N64', 'PS', 'XB', 'PC', '2600', 'PSP', 'XOne',\n",
       "       'WiiU', 'GC', 'GEN', 'DC', 'PSV', 'SAT', 'SCD', 'WS', 'NG', 'TG16',\n",
       "       '3DO', 'GG', 'PCFX'], dtype=object)"
      ]
     },
     "execution_count": 23,
     "metadata": {},
     "output_type": "execute_result"
    }
   ],
   "source": [
    "data['platform'].unique()"
   ]
  },
  {
   "cell_type": "code",
   "execution_count": 24,
   "metadata": {
    "scrolled": true
   },
   "outputs": [
    {
     "data": {
      "image/png": "[encoded data removed]",
      "text/plain": [
       "<Figure size 432x288 with 1 Axes>"
      ]
     },
     "metadata": {
      "needs_background": "light"
     },
     "output_type": "display_data"
    }
   ],
   "source": [
    "# Let's observe how sales have changed across platforms.\n",
    "data.pivot_table(index='platform', values='total_sales', aggfunc='sum').plot(kind='bar', grid=True, rot=90)\n",
    "plt.locator_params(axis='y', nbins = 20)"
   ]
  },
  {
   "cell_type": "markdown",
   "metadata": {},
   "source": [
    "**Conclusion from the chart:**\n",
    "the platforms with the highest total sales are PS2, X360, PS3, Wii, DS, and PS."
   ]
  },
  {
   "cell_type": "code",
   "execution_count": 25,
   "metadata": {},
   "outputs": [
    {
     "data": {
      "image/png": "[encoded data removed]",
      "text/plain": [
       "<Figure size 432x288 with 1 Axes>"
      ]
     },
     "metadata": {
      "needs_background": "light"
     },
     "output_type": "display_data"
    }
   ],
   "source": [
    "data[data['platform']=='PS2'].pivot_table(index='year_of_release', values='total_sales', aggfunc='sum').plot(kind='bar', grid=True, rot=90)\n",
    "plt.locator_params(axis='y', nbins = 20)"
   ]
  },
  {
   "cell_type": "code",
   "execution_count": 26,
   "metadata": {},
   "outputs": [
    {
     "data": {
      "image/png": "[encoded data removed]",
      "text/plain": [
       "<Figure size 432x288 with 1 Axes>"
      ]
     },
     "metadata": {
      "needs_background": "light"
     },
     "output_type": "display_data"
    }
   ],
   "source": [
    "data[data['platform']=='X360'].pivot_table(index='year_of_release', values='total_sales', aggfunc='sum').plot(kind='bar', grid=True, rot=90)\n",
    "plt.locator_params(axis='y', nbins = 20)"
   ]
  },
  {
   "cell_type": "code",
   "execution_count": 27,
   "metadata": {},
   "outputs": [
    {
     "data": {
      "image/png": "[encoded data removed]",
      "text/plain": [
       "<Figure size 432x288 with 1 Axes>"
      ]
     },
     "metadata": {
      "needs_background": "light"
     },
     "output_type": "display_data"
    }
   ],
   "source": [
    "data[data['platform']=='PS3'].pivot_table(index='year_of_release', values='total_sales', aggfunc='sum').plot(kind='bar', grid=True, rot=90)\n",
    "plt.locator_params(axis='y', nbins = 20)"
   ]
  },
  {
   "cell_type": "code",
   "execution_count": 28,
   "metadata": {},
   "outputs": [
    {
     "data": {
      "image/png": "[encoded data removed]",
      "text/plain": [
       "<Figure size 432x288 with 1 Axes>"
      ]
     },
     "metadata": {
      "needs_background": "light"
     },
     "output_type": "display_data"
    }
   ],
   "source": [
    "data[data['platform']=='DS'].pivot_table(index='year_of_release', values='total_sales', aggfunc='sum').plot(kind='bar', grid=True, rot=90)\n",
    "plt.locator_params(axis='y', nbins = 20)"
   ]
  },
  {
   "cell_type": "code",
   "execution_count": 29,
   "metadata": {},
   "outputs": [
    {
     "data": {
      "image/png": "[encoded data removed]",
      "text/plain": [
       "<Figure size 432x288 with 1 Axes>"
      ]
     },
     "metadata": {
      "needs_background": "light"
     },
     "output_type": "display_data"
    }
   ],
   "source": [
    "data[data['platform']=='PS'].pivot_table(index='year_of_release', values='total_sales', aggfunc='sum').plot(kind='bar', grid=True, rot=90)\n",
    "plt.locator_params(axis='y', nbins = 20)"
   ]
  },
  {
   "cell_type": "markdown",
   "metadata": {},
   "source": [
    "**Conclusion from the charts:**\n",
    "It can be observed that the life cycle of the most popular platforms is around 10 years. Only the long-lasting DS platform lasted for 28 years, nearly three times longer."
   ]
  },
  {
   "cell_type": "markdown",
   "metadata": {},
   "source": [
    "**Let's take the sales data for the last 3 years. We will consider earlier data as outdated because the industry undergoes significant changes, including user behavior, audience, financial models of products, etc.**"
   ]
  },
  {
   "cell_type": "code",
   "execution_count": 30,
   "metadata": {},
   "outputs": [],
   "source": [
    "data = data[data['year_of_release'] > 2012]"
   ]
  },
  {
   "cell_type": "code",
   "execution_count": 31,
   "metadata": {},
   "outputs": [
    {
     "name": "stdout",
     "output_type": "stream",
     "text": [
      "<class 'pandas.core.frame.DataFrame'>\n",
      "Int64Index: 2233 entries, 16 to 16714\n",
      "Data columns (total 12 columns):\n",
      " #   Column           Non-Null Count  Dtype  \n",
      "---  ------           --------------  -----  \n",
      " 0   name             2233 non-null   object \n",
      " 1   platform         2233 non-null   object \n",
      " 2   year_of_release  2233 non-null   int32  \n",
      " 3   genre            2233 non-null   object \n",
      " 4   na_sales         2233 non-null   float64\n",
      " 5   eu_sales         2233 non-null   float64\n",
      " 6   jp_sales         2233 non-null   float64\n",
      " 7   other_sales      2233 non-null   float64\n",
      " 8   critic_score     991 non-null    float64\n",
      " 9   user_score       1192 non-null   object \n",
      " 10  rating           2233 non-null   object \n",
      " 11  total_sales      2233 non-null   float64\n",
      "dtypes: float64(6), int32(1), object(5)\n",
      "memory usage: 218.1+ KB\n"
     ]
    }
   ],
   "source": [
    "#check\n",
    "data.info();"
   ]
  },
  {
   "cell_type": "code",
   "execution_count": 32,
   "metadata": {},
   "outputs": [],
   "source": [
    "#check\n",
    "data.head();"
   ]
  },
  {
   "cell_type": "code",
   "execution_count": 33,
   "metadata": {},
   "outputs": [
    {
     "data": {
      "image/png": "[encoded data removed]",
      "text/plain": [
       "<Figure size 432x288 with 1 Axes>"
      ]
     },
     "metadata": {
      "needs_background": "light"
     },
     "output_type": "display_data"
    }
   ],
   "source": [
    "data.pivot_table(index='year_of_release', \n",
    "                 columns = 'platform', \n",
    "                 values='total_sales', \n",
    "                 aggfunc='sum').plot(kind='line', grid=True, rot=90)\n",
    "plt.locator_params(axis='x', nbins = 10)\n",
    "plt.locator_params(axis='y', nbins = 30)\n",
    "plt.legend(bbox_to_anchor=(1, 1));"
   ]
  },
  {
   "cell_type": "markdown",
   "metadata": {},
   "source": [
    "**Over the last 3 years, sales of PS4 and XOne have clearly increased, while sales of 3DS, PS3, and X360 have consistently declined.**\n",
    "\n",
    "**The problem statement also mentions that the data for the year 2016 is incomplete. It is possible that the decline in sales for that year is due to the incompleteness of the data.**"
   ]
  },
  {
   "cell_type": "code",
   "execution_count": 34,
   "metadata": {},
   "outputs": [],
   "source": [
    "data_platforms = data.query('platform == [\"PS4\", \"XOne\", \"3DS\", \"PS3\", \"X360\"]')"
   ]
  },
  {
   "cell_type": "code",
   "execution_count": 35,
   "metadata": {},
   "outputs": [
    {
     "data": {
      "image/png": "[encoded data removed]",
      "text/plain": [
       "<Figure size 432x288 with 1 Axes>"
      ]
     },
     "metadata": {
      "needs_background": "light"
     },
     "output_type": "display_data"
    }
   ],
   "source": [
    "data_platforms.boxplot('total_sales', by='platform');\n",
    "plt.ylim(0, 2); "
   ]
  },
  {
   "cell_type": "markdown",
   "metadata": {},
   "source": [
    "**Let's assess the platforms based on median sales: X360 and XOne are leading.**"
   ]
  },
  {
   "cell_type": "markdown",
   "metadata": {},
   "source": [
    "**The median is located close to the center of the box for all 5 platforms. This indicates that the data is normally distributed.**"
   ]
  },
  {
   "cell_type": "markdown",
   "metadata": {},
   "source": [
    "**Let's examine how user and critic reviews impact sales within one popular platform.**\n",
    "**Plot a scatter plot and calculate the correlation between reviews and sales. Formulate conclusions based on the results.**"
   ]
  },
  {
   "cell_type": "markdown",
   "metadata": {},
   "source": [
    "**XOne:**"
   ]
  },
  {
   "cell_type": "code",
   "execution_count": 36,
   "metadata": {
    "scrolled": true
   },
   "outputs": [
    {
     "name": "stdout",
     "output_type": "stream",
     "text": [
      "коэффициент корреляции между суммарными продажами и оценкой критиков: 0.410422035612964\n"
     ]
    }
   ],
   "source": [
    "data_XOne2 = data.query('platform == \"XOne\" and user_score.notna()')\n",
    "print('коэффициент корреляции между суммарными продажами и оценкой критиков:', \n",
    "      data_XOne2['total_sales'].corr(data_XOne2['critic_score']))"
   ]
  },
  {
   "cell_type": "code",
   "execution_count": 37,
   "metadata": {},
   "outputs": [
    {
     "data": {
      "image/png": "[encoded data removed]",
      "text/plain": [
       "<Figure size 432x288 with 1 Axes>"
      ]
     },
     "metadata": {
      "needs_background": "light"
     },
     "output_type": "display_data"
    }
   ],
   "source": [
    "data_XOne2.plot(x='critic_score', y='total_sales', kind='scatter');"
   ]
  },
  {
   "cell_type": "code",
   "execution_count": 38,
   "metadata": {},
   "outputs": [
    {
     "name": "stdout",
     "output_type": "stream",
     "text": [
      "коэффициент корреляции между суммарными продажами и оценкой пользователей: -0.06892505328279415\n"
     ]
    }
   ],
   "source": [
    "print('коэффициент корреляции между суммарными продажами и оценкой пользователей:', \n",
    "      data_XOne2['total_sales'].corr(data_XOne2['user_score'].astype(float)))"
   ]
  },
  {
   "cell_type": "code",
   "execution_count": 39,
   "metadata": {
    "scrolled": true
   },
   "outputs": [
    {
     "data": {
      "image/png": "[encoded data removed]",
      "text/plain": [
       "<Figure size 432x288 with 1 Axes>"
      ]
     },
     "metadata": {
      "needs_background": "light"
     },
     "output_type": "display_data"
    }
   ],
   "source": [
    "data_XOne2.plot(x='user_score', y='total_sales', kind='scatter');"
   ]
  },
  {
   "cell_type": "code",
   "execution_count": 40,
   "metadata": {},
   "outputs": [],
   "source": [
    "# Соотнесите выводы с продажами игр на других платформах."
   ]
  },
  {
   "cell_type": "markdown",
   "metadata": {},
   "source": [
    "**PS3:**"
   ]
  },
  {
   "cell_type": "code",
   "execution_count": 41,
   "metadata": {},
   "outputs": [
    {
     "name": "stdout",
     "output_type": "stream",
     "text": [
      "коэффициент корреляции между суммарными продажами и оценкой критиков: 0.3338066356506173\n"
     ]
    }
   ],
   "source": [
    "data_PS32 = data.query('platform == \"PS3\" and user_score.notna()')\n",
    "print('коэффициент корреляции между суммарными продажами и оценкой критиков:', \n",
    "      data_PS32['total_sales'].corr(data_PS32['critic_score']))"
   ]
  },
  {
   "cell_type": "code",
   "execution_count": 42,
   "metadata": {},
   "outputs": [
    {
     "data": {
      "image/png": "[encoded data removed]",
      "text/plain": [
       "<Figure size 432x288 with 1 Axes>"
      ]
     },
     "metadata": {
      "needs_background": "light"
     },
     "output_type": "display_data"
    }
   ],
   "source": [
    "data_PS32.plot(x='critic_score', y='total_sales', kind='scatter');"
   ]
  },
  {
   "cell_type": "code",
   "execution_count": 43,
   "metadata": {
    "scrolled": true
   },
   "outputs": [
    {
     "name": "stdout",
     "output_type": "stream",
     "text": [
      "коэффициент корреляции между суммарными продажами и оценкой пользователей: 0.0023944027357566907\n"
     ]
    }
   ],
   "source": [
    "print('коэффициент корреляции между суммарными продажами и оценкой пользователей:', \n",
    "      data_PS32['total_sales'].corr(data_PS32['user_score'].astype(float)))"
   ]
  },
  {
   "cell_type": "code",
   "execution_count": 44,
   "metadata": {},
   "outputs": [
    {
     "data": {
      "image/png": "[encoded data removed]",
      "text/plain": [
       "<Figure size 432x288 with 1 Axes>"
      ]
     },
     "metadata": {
      "needs_background": "light"
     },
     "output_type": "display_data"
    }
   ],
   "source": [
    "data_PS32.plot(x='user_score', y='total_sales', kind='scatter');"
   ]
  },
  {
   "cell_type": "markdown",
   "metadata": {},
   "source": [
    "**3DS:**"
   ]
  },
  {
   "cell_type": "code",
   "execution_count": 45,
   "metadata": {},
   "outputs": [
    {
     "name": "stdout",
     "output_type": "stream",
     "text": [
      "коэффициент корреляции между суммарными продажами и оценкой пользователей: 0.33923492878531464\n"
     ]
    }
   ],
   "source": [
    "data_3DS2 = data.query('platform == \"3DS\" and user_score.notna()')\n",
    "print('коэффициент корреляции между суммарными продажами и оценкой пользователей:', \n",
    "      data_3DS2['total_sales'].corr(data['critic_score']))"
   ]
  },
  {
   "cell_type": "code",
   "execution_count": 46,
   "metadata": {},
   "outputs": [
    {
     "data": {
      "image/png": "[encoded data removed]",
      "text/plain": [
       "<Figure size 432x288 with 1 Axes>"
      ]
     },
     "metadata": {
      "needs_background": "light"
     },
     "output_type": "display_data"
    }
   ],
   "source": [
    "data_3DS2.plot(x='critic_score', y='total_sales', kind='scatter');"
   ]
  },
  {
   "cell_type": "code",
   "execution_count": 47,
   "metadata": {},
   "outputs": [
    {
     "name": "stdout",
     "output_type": "stream",
     "text": [
      "коэффициент корреляции между суммарными продажами и оценкой пользователей: 0.24150411773563016\n"
     ]
    }
   ],
   "source": [
    "print('коэффициент корреляции между суммарными продажами и оценкой пользователей:', \n",
    "      data_3DS2['total_sales'].corr(data_3DS2['user_score'].astype(float)))"
   ]
  },
  {
   "cell_type": "code",
   "execution_count": 48,
   "metadata": {},
   "outputs": [
    {
     "data": {
      "image/png": "[encoded data removed]",
      "text/plain": [
       "<Figure size 432x288 with 1 Axes>"
      ]
     },
     "metadata": {
      "needs_background": "light"
     },
     "output_type": "display_data"
    }
   ],
   "source": [
    "data_3DS2.plot(x='user_score', y='total_sales', kind='scatter');"
   ]
  },
  {
   "cell_type": "markdown",
   "metadata": {},
   "source": [
    "**PS4:**"
   ]
  },
  {
   "cell_type": "code",
   "execution_count": 49,
   "metadata": {},
   "outputs": [
    {
     "name": "stdout",
     "output_type": "stream",
     "text": [
      "коэффициент корреляции между суммарными продажами и оценкой критиков: 0.40589480145836676\n"
     ]
    }
   ],
   "source": [
    "data_PS42 = data.query('platform == \"PS4\" and user_score.notna()')\n",
    "print('коэффициент корреляции между суммарными продажами и оценкой критиков:', \n",
    "      data_PS42['total_sales'].corr(data_PS42['critic_score']))"
   ]
  },
  {
   "cell_type": "code",
   "execution_count": 50,
   "metadata": {},
   "outputs": [
    {
     "data": {
      "image/png": "[encoded data removed]",
      "text/plain": [
       "<Figure size 432x288 with 1 Axes>"
      ]
     },
     "metadata": {
      "needs_background": "light"
     },
     "output_type": "display_data"
    }
   ],
   "source": [
    "data_PS42.plot(x='critic_score', y='total_sales', kind='scatter');"
   ]
  },
  {
   "cell_type": "code",
   "execution_count": 51,
   "metadata": {},
   "outputs": [
    {
     "name": "stdout",
     "output_type": "stream",
     "text": [
      "коэффициент корреляции между суммарными продажами и оценкой пользователей: -0.03195711020455643\n"
     ]
    }
   ],
   "source": [
    "print('коэффициент корреляции между суммарными продажами и оценкой пользователей:', \n",
    "      data_PS42['total_sales'].corr(data_PS42['user_score'].astype(float)))"
   ]
  },
  {
   "cell_type": "code",
   "execution_count": 52,
   "metadata": {},
   "outputs": [
    {
     "data": {
      "image/png": "[encoded data removed]",
      "text/plain": [
       "<Figure size 432x288 with 1 Axes>"
      ]
     },
     "metadata": {
      "needs_background": "light"
     },
     "output_type": "display_data"
    }
   ],
   "source": [
    "data_PS42.plot(x='user_score', y='total_sales', kind='scatter');"
   ]
  },
  {
   "cell_type": "markdown",
   "metadata": {},
   "source": [
    "**X360:**"
   ]
  },
  {
   "cell_type": "code",
   "execution_count": 53,
   "metadata": {},
   "outputs": [
    {
     "name": "stdout",
     "output_type": "stream",
     "text": [
      "коэффициент корреляции между суммарными продажами и оценкой критиков: 0.3503445460228664\n"
     ]
    }
   ],
   "source": [
    "data_X3602 = data.query('platform == \"X360\" and user_score.notna()')\n",
    "print('коэффициент корреляции между суммарными продажами и оценкой критиков:', \n",
    "      data_X3602['total_sales'].corr(data['critic_score']))"
   ]
  },
  {
   "cell_type": "code",
   "execution_count": 54,
   "metadata": {},
   "outputs": [
    {
     "data": {
      "image/png": "[encoded data removed]",
      "text/plain": [
       "<Figure size 432x288 with 1 Axes>"
      ]
     },
     "metadata": {
      "needs_background": "light"
     },
     "output_type": "display_data"
    }
   ],
   "source": [
    "data_X3602.plot(x='critic_score', y='total_sales', kind='scatter');"
   ]
  },
  {
   "cell_type": "code",
   "execution_count": 55,
   "metadata": {},
   "outputs": [
    {
     "name": "stdout",
     "output_type": "stream",
     "text": [
      "коэффициент корреляции между суммарными продажами и оценкой пользователей: -0.011742185147181351\n"
     ]
    }
   ],
   "source": [
    "print('коэффициент корреляции между суммарными продажами и оценкой пользователей:', \n",
    "      data_X3602['total_sales'].corr(data_X3602['user_score'].astype(float)))"
   ]
  },
  {
   "cell_type": "code",
   "execution_count": 56,
   "metadata": {},
   "outputs": [
    {
     "data": {
      "image/png": "[encoded data removed]",
      "text/plain": [
       "<Figure size 432x288 with 1 Axes>"
      ]
     },
     "metadata": {
      "needs_background": "light"
     },
     "output_type": "display_data"
    }
   ],
   "source": [
    "data_X3602.plot(x='user_score', y='total_sales', kind='scatter');"
   ]
  },
  {
   "cell_type": "markdown",
   "metadata": {},
   "source": [
    "**Conclusion: Influence of Ratings on Sales:**\n",
    "\n",
    "The best-selling platforms over the last 3 years are PS4, XOne, 3DS, PS3, and X360.\n",
    "\n",
    "There is a weak correlation between global sales and critic ratings (0.33 - 0.41) for these platforms.\n",
    "\n",
    "There is no significant correlation between global sales and user ratings (0.01 - 0.07) for all platforms, except for 3DS, where a weak correlation (0.24) is observed."
   ]
  },
  {
   "cell_type": "markdown",
   "metadata": {},
   "source": [
    "**Let's take a look at the overall distribution of games by genre:**"
   ]
  },
  {
   "cell_type": "code",
   "execution_count": 57,
   "metadata": {},
   "outputs": [
    {
     "data": {
      "image/png": "[encoded data removed]",
      "text/plain": [
       "<Figure size 432x288 with 1 Axes>"
      ]
     },
     "metadata": {
      "needs_background": "light"
     },
     "output_type": "display_data"
    }
   ],
   "source": [
    "data.pivot_table(index='genre',\n",
    "                 values='total_sales', \n",
    "                 aggfunc='count').plot(kind='barh', grid=True);"
   ]
  },
  {
   "cell_type": "code",
   "execution_count": 58,
   "metadata": {},
   "outputs": [
    {
     "data": {
      "image/png": "[encoded data removed]",
      "text/plain": [
       "<Figure size 432x288 with 1 Axes>"
      ]
     },
     "metadata": {
      "needs_background": "light"
     },
     "output_type": "display_data"
    }
   ],
   "source": [
    "data.pivot_table(index='genre',\n",
    "                 values='total_sales', \n",
    "                 aggfunc='sum').plot(kind='barh', grid=True);"
   ]
  },
  {
   "cell_type": "markdown",
   "metadata": {},
   "source": [
    "**Conclusion from the bar chart of total sales values:**\n",
    "Judging by the total sales, the genres that stand out the most in terms of both the number of games and the number of copies sold are Action, Sports, and Shooter. The genres that perform the lowest are Strategy, Puzzle, and Adventure."
   ]
  },
  {
   "cell_type": "code",
   "execution_count": 59,
   "metadata": {},
   "outputs": [
    {
     "data": {
      "image/png": "[encoded data removed]",
      "text/plain": [
       "<Figure size 432x288 with 1 Axes>"
      ]
     },
     "metadata": {
      "needs_background": "light"
     },
     "output_type": "display_data"
    }
   ],
   "source": [
    "data_platforms.boxplot('total_sales', by='genre', rot=90);\n",
    "plt.ylim(0, 5);"
   ]
  },
  {
   "cell_type": "markdown",
   "metadata": {},
   "source": [
    "**Conclusion from the box plot:**\n",
    "Based on the median sales, the genres Shooter and Sports are leading. The genres Puzzle and Adventure have the lowest performance."
   ]
  },
  {
   "cell_type": "markdown",
   "metadata": {},
   "source": [
    "**Difference between the total and median sales figures:**\n",
    "As we can see from the box plot, the Action genre has many outliers. This explains why its sales figures in terms of both quantity and total sales are significantly higher than the others."
   ]
  },
  {
   "cell_type": "markdown",
   "metadata": {},
   "source": [
    "**Conclusion for Chapter 3:**\n",
    "Critic reviews have a weak direct impact on sales.\n",
    "User reviews have no significant impact on sales, except for the 3DS platform where a weak impact is observed.\n",
    "The most profitable genres are Shooter and Sports.\n",
    "The least profitable genres are Puzzle and Adventure."
   ]
  },
  {
   "cell_type": "markdown",
   "metadata": {},
   "source": [
    "## Task 1: Creating a profile of the typical user for each region"
   ]
  },
  {
   "cell_type": "markdown",
   "metadata": {},
   "source": [
    "**Let's determine for each region (NA, EU, JP):**\n",
    "The most popular platforms (top 5). Describe the differences in sales shares."
   ]
  },
  {
   "cell_type": "code",
   "execution_count": 60,
   "metadata": {},
   "outputs": [
    {
     "data": {
      "text/plain": [
       "platform\n",
       "PS4     108.74\n",
       "XOne     93.12\n",
       "X360     81.66\n",
       "PS3      63.50\n",
       "3DS      38.20\n",
       "Name: na_sales, dtype: float64"
      ]
     },
     "execution_count": 60,
     "metadata": {},
     "output_type": "execute_result"
    }
   ],
   "source": [
    "data.groupby(by=['platform']).sum().sort_values(by=['na_sales'], ascending=False).head()['na_sales']"
   ]
  },
  {
   "cell_type": "code",
   "execution_count": 61,
   "metadata": {},
   "outputs": [
    {
     "data": {
      "text/plain": [
       "platform\n",
       "PS4     141.09\n",
       "PS3      67.81\n",
       "XOne     51.59\n",
       "X360     42.52\n",
       "3DS      30.96\n",
       "Name: eu_sales, dtype: float64"
      ]
     },
     "execution_count": 61,
     "metadata": {},
     "output_type": "execute_result"
    }
   ],
   "source": [
    "data.groupby(by=['platform']).sum().sort_values(by=['eu_sales'], ascending=False).head()['eu_sales']"
   ]
  },
  {
   "cell_type": "code",
   "execution_count": 62,
   "metadata": {},
   "outputs": [
    {
     "data": {
      "text/plain": [
       "platform\n",
       "3DS     67.81\n",
       "PS3     23.35\n",
       "PSV     18.59\n",
       "PS4     15.96\n",
       "WiiU    10.88\n",
       "Name: jp_sales, dtype: float64"
      ]
     },
     "execution_count": 62,
     "metadata": {},
     "output_type": "execute_result"
    }
   ],
   "source": [
    "data.groupby(by=['platform']).sum().sort_values(by=['jp_sales'], ascending=False).head()['jp_sales']"
   ]
  },
  {
   "cell_type": "markdown",
   "metadata": {},
   "source": [
    "**Conclusion:**\n",
    "Users from North America and Europe prefer the same platforms, with a preference for home consoles like PS4, PS3, XOne, and X360. In Japan, domestic home consoles and mobile platforms like 3DS, PS3, and PSV are popular."
   ]
  },
  {
   "cell_type": "markdown",
   "metadata": {},
   "source": [
    "**The most popular genres (top 5) are:**"
   ]
  },
  {
   "cell_type": "code",
   "execution_count": 63,
   "metadata": {},
   "outputs": [
    {
     "data": {
      "text/plain": [
       "genre\n",
       "Action          126.05\n",
       "Shooter         109.74\n",
       "Sports           65.27\n",
       "Role-Playing     46.40\n",
       "Misc             27.49\n",
       "Name: na_sales, dtype: float64"
      ]
     },
     "execution_count": 63,
     "metadata": {},
     "output_type": "execute_result"
    }
   ],
   "source": [
    "data.groupby(by=['genre']).sum().sort_values(by=['na_sales'], ascending=False).head()['na_sales']"
   ]
  },
  {
   "cell_type": "code",
   "execution_count": 64,
   "metadata": {},
   "outputs": [
    {
     "data": {
      "text/plain": [
       "genre\n",
       "Action          118.13\n",
       "Shooter          87.86\n",
       "Sports           60.52\n",
       "Role-Playing     36.97\n",
       "Racing           20.19\n",
       "Name: eu_sales, dtype: float64"
      ]
     },
     "execution_count": 64,
     "metadata": {},
     "output_type": "execute_result"
    }
   ],
   "source": [
    "data.groupby(by=['genre']).sum().sort_values(by=['eu_sales'], ascending=False).head()['eu_sales']"
   ]
  },
  {
   "cell_type": "code",
   "execution_count": 65,
   "metadata": {
    "scrolled": true
   },
   "outputs": [
    {
     "data": {
      "text/plain": [
       "genre\n",
       "Role-Playing    51.04\n",
       "Action          40.49\n",
       "Misc             9.20\n",
       "Fighting         7.65\n",
       "Shooter          6.61\n",
       "Name: jp_sales, dtype: float64"
      ]
     },
     "execution_count": 65,
     "metadata": {},
     "output_type": "execute_result"
    }
   ],
   "source": [
    "data.groupby(by=['genre']).sum().sort_values(by=['jp_sales'], ascending=False).head()['jp_sales']"
   ]
  },
  {
   "cell_type": "markdown",
   "metadata": {},
   "source": [
    "**Conclusion:** In North America and Europe, the same genres are preferred, with Action, Shooter, and Sports being the most played. In Japan, Role-Playing games dominate with a significant margin, while Shooters are not as popular."
   ]
  },
  {
   "cell_type": "markdown",
   "metadata": {},
   "source": [
    "**Does the ESRB rating affect sales in a specific region?**"
   ]
  },
  {
   "cell_type": "code",
   "execution_count": 66,
   "metadata": {},
   "outputs": [
    {
     "data": {
      "text/plain": [
       "rating\n",
       "M          165.21\n",
       "Unknown     89.42\n",
       "E           79.05\n",
       "E10+        54.24\n",
       "T           49.79\n",
       "Name: na_sales, dtype: float64"
      ]
     },
     "execution_count": 66,
     "metadata": {},
     "output_type": "execute_result"
    }
   ],
   "source": [
    "data.pivot_table(index = 'rating', values = 'na_sales', aggfunc = 'sum')['na_sales'].sort_values(ascending=False)"
   ]
  },
  {
   "cell_type": "code",
   "execution_count": 67,
   "metadata": {},
   "outputs": [
    {
     "data": {
      "text/plain": [
       "rating\n",
       "M          145.32\n",
       "E           83.36\n",
       "Unknown     78.91\n",
       "E10+        42.69\n",
       "T           41.95\n",
       "Name: eu_sales, dtype: float64"
      ]
     },
     "execution_count": 67,
     "metadata": {},
     "output_type": "execute_result"
    }
   ],
   "source": [
    "data.pivot_table(index = 'rating', values = 'eu_sales', aggfunc = 'sum')['eu_sales'].sort_values(ascending=False)"
   ]
  },
  {
   "cell_type": "code",
   "execution_count": 68,
   "metadata": {
    "scrolled": true
   },
   "outputs": [
    {
     "data": {
      "text/plain": [
       "rating\n",
       "Unknown    85.05\n",
       "T          20.59\n",
       "E          15.14\n",
       "M          14.11\n",
       "E10+        5.89\n",
       "Name: jp_sales, dtype: float64"
      ]
     },
     "execution_count": 68,
     "metadata": {},
     "output_type": "execute_result"
    }
   ],
   "source": [
    "data.pivot_table(index = 'rating', values = 'jp_sales', aggfunc = 'sum')['jp_sales'].sort_values(ascending=False)"
   ]
  },
  {
   "cell_type": "markdown",
   "metadata": {},
   "source": [
    "**Conclusion regarding the ESRB rating:**\n",
    "\n",
    "In North America and Europe, the best-selling ratings are M, E, and Unknown.\n",
    "\n",
    "In Japan, the best-selling ratings are Unknown and T.\n",
    "\n",
    "It is possible that the popularity of games with missing ratings in Japan can be attributed to the fact that the region has a different rating system than ESRB or lacks a rating system altogether."
   ]
  },
  {
   "cell_type": "markdown",
   "metadata": {},
   "source": [
    "**Conclusion for Task 1:**\n",
    "\n",
    "Users from North America and Europe prefer the same platforms, with a preference for home consoles such as PS4, PS3, XOne, and X360. In Japan, they prefer domestic home and mobile platforms like 3DS, PS3, and PSV.\n",
    "In North America and Europe, the preferred genres are Action, Shooter, and Sports. In Japan, Role-Playing games dominate, while shooters are less popular.\n",
    "\n",
    "In North America and Europe, the best-selling ESRB ratings are M, E, and Unknown. In Japan, the best-selling ratings are Unknown and T. It is possible that the popularity of games with missing ratings in Japan can be attributed to a different or non-existent rating system in the region.\n",
    "\n",
    "\n",
    "\n"
   ]
  },
  {
   "cell_type": "markdown",
   "metadata": {},
   "source": [
    "## Task 2. Hypothesis testing"
   ]
  },
  {
   "cell_type": "markdown",
   "metadata": {},
   "source": [
    "**The average user ratings for Xbox One and PC platforms are the same:**"
   ]
  },
  {
   "cell_type": "code",
   "execution_count": 69,
   "metadata": {},
   "outputs": [
    {
     "data": {
      "text/plain": [
       "array(['PS3', 'X360', 'PS4', '3DS', 'XOne', 'WiiU', 'Wii', 'PC', 'PSV',\n",
       "       'DS', 'PSP'], dtype=object)"
      ]
     },
     "execution_count": 69,
     "metadata": {},
     "output_type": "execute_result"
    }
   ],
   "source": [
    "#check\n",
    "data['platform'].unique()"
   ]
  },
  {
   "cell_type": "markdown",
   "metadata": {},
   "source": [
    "```\n",
    "H_0: Пользовательский рейтинг (user_score) платформы XOne = Пользовательский рейтинг (user_score) платформы PC`\n",
    "H_a: Пользовательский рейтинг (user_score) платформы XOne ≠ Пользовательский рейтинг (user_score) платформы PC`\n",
    "alpha = 0.05\n",
    "```"
   ]
  },
  {
   "cell_type": "code",
   "execution_count": 70,
   "metadata": {},
   "outputs": [
    {
     "name": "stdout",
     "output_type": "stream",
     "text": [
      "p-значение: 0.14759594013430463\n",
      "Не получилось отвергнуть нулевую гипотезу\n"
     ]
    }
   ],
   "source": [
    "# results = вызов метода для проверки гипотезы\n",
    "xbox = (data[data['platform'] =='XOne']['user_score']).dropna().astype(float)\n",
    "pc =  (data[data['platform'] =='PC']['user_score']).dropna().astype(float)\n",
    "results = st.ttest_ind(xbox, pc, equal_var=False)\n",
    "# alpha = зададим значение уровня значимости\n",
    "alpha = 0.05\n",
    "# вывод значения p-value на экран\n",
    "print('p-значение:', results.pvalue)\n",
    "# условный оператор с выводом строки с ответом\n",
    "if results.pvalue < alpha:\n",
    "    print('Отвергаем нулевую гипотезу')\n",
    "else:\n",
    "    print('Не получилось отвергнуть нулевую гипотезу') "
   ]
  },
  {
   "cell_type": "markdown",
   "metadata": {},
   "source": [
    "**The average user ratings for Action and Sports genres are different:**"
   ]
  },
  {
   "cell_type": "code",
   "execution_count": 71,
   "metadata": {},
   "outputs": [
    {
     "data": {
      "text/plain": [
       "array(['Action', 'Shooter', 'Role-Playing', 'Misc', 'Sports', 'Fighting',\n",
       "       'Racing', 'Simulation', 'Platform', 'Strategy', 'Adventure',\n",
       "       'Puzzle'], dtype=object)"
      ]
     },
     "execution_count": 71,
     "metadata": {},
     "output_type": "execute_result"
    }
   ],
   "source": [
    "#check\n",
    "data['genre'].unique()"
   ]
  },
  {
   "cell_type": "markdown",
   "metadata": {},
   "source": [
    "```\n",
    "H_0: Пользовательский рейтинг (user_score) жанра Action = Пользовательский рейтинг (user_score) жанра Sports`\n",
    "H_a: Пользовательский рейтинг (user_score) жанра Action ≠ Пользовательский рейтинг (user_score) жанра Sports`\n",
    "alpha = 0.05\n",
    "```"
   ]
  },
  {
   "cell_type": "code",
   "execution_count": 72,
   "metadata": {},
   "outputs": [
    {
     "name": "stdout",
     "output_type": "stream",
     "text": [
      "p-значение: 1.4460039700704318e-20\n",
      "Отвергаем нулевую гипотезу\n"
     ]
    }
   ],
   "source": [
    "# results = вызов метода для проверки гипотезы\n",
    "xbox = (data[data['genre'] =='Action']['user_score']).dropna().astype(float)\n",
    "pc =  (data[data['genre'] =='Sports']['user_score']).dropna().astype(float)\n",
    "results = st.ttest_ind(xbox, pc, equal_var=False)\n",
    "# alpha = зададим значение уровня значимости\n",
    "alpha = 0.05\n",
    "# вывод значения p-value на экран\n",
    "print('p-значение:', results.pvalue)\n",
    "# условный оператор с выводом строки с ответом\n",
    "if results.pvalue < alpha:\n",
    "    print('Отвергаем нулевую гипотезу')\n",
    "else:\n",
    "    print('Не получилось отвергнуть нулевую гипотезу') "
   ]
  },
  {
   "cell_type": "markdown",
   "metadata": {},
   "source": [
    "**Conclusion for Task 2:**\n",
    "\n",
    "The average user ratings for the Xbox One and PC platforms are the same.\n",
    "\n",
    "The average user ratings for the Action and Sports genres are different."
   ]
  },
  {
   "cell_type": "markdown",
   "metadata": {},
   "source": [
    "## Overall conclusion"
   ]
  },
  {
   "cell_type": "markdown",
   "metadata": {},
   "source": [
    "- Critics' reviews have a weak direct impact on sales.\n",
    "- User reviews do not have an impact on sales, except for the 3DS platform, where a weak influence can be observed.\n",
    "- The most profitable genres are Sports and Shooter. The least profitable genres are Puzzle and Adventure.\n",
    "\n",
    "**-----------------**\n",
    "\n",
    "- Users from North America and Europe prefer the same platforms, and they enjoy home consoles like PS4, PS3, Xbox One, and Xbox 360. In Japan, players tend to use domestic home consoles and mobile platforms such as 3DS, PS3, and PS Vita.\n",
    "- In North America and Europe, the preferred genres are Action, Shooter, and Sports. In Japan, Role-Playing games dominate the market, while shooters are not as popular.\n",
    "- The highest-selling ratings in North America and Europe are M, E, and Unknown. In Japan, the best-selling ratings are Unknown and T.\n",
    "\n",
    "**------------------**\n",
    "\n",
    "- The average user ratings for Xbox One and PC platforms are the same.\n",
    "- The average user ratings for the Action and Sports genres are different.\n",
    "\n",
    "**------------------**"
   ]
  },
  {
   "cell_type": "markdown",
   "metadata": {},
   "source": [
    "**Thus, the success of a game is influenced by:**\n",
    "- Critic reviews\n",
    "- Profitability: the most profitable genres are Sports and Shooter\n",
    "- Platform affiliation: plug-in home consoles are popular in Europe and North America, while mobile consoles are popular in Japan\n",
    "- Popularity: Action, Shooter, and Sports genres are popular in Europe and North America, while Role-Playing genre is popular in Japan.\n",
    "\n",
    "**Recommendations:**\n",
    "- When selecting a game for promotion, pay attention to the target region it will be distributed in.\n",
    "- Choose genres based on the region. For Europe and North America, consider Action, Shooter, and Sports genres. For Japan, prioritize Role-Playing and Action genres.\n",
    "- Select the platform based on the region: PS4, PS3, XOne, X360 for Europe and North America; 3DS, PS3, PSV for Japan.\n",
    "- Consider the rating affiliation: M, E, and Unknown for Europe and North America; Unknown and T for Japan. However, additional research may be required for the Japanese market, as it operates under a different rating system.\n",
    "- Pay attention to critic reviews."
   ]
  }
 ],
 "metadata": {
  "ExecuteTimeLog": [
   {
    "duration": 1355,
    "start_time": "2023-03-14T09:09:01.975Z"
   },
   {
    "duration": 97,
    "start_time": "2023-03-14T09:09:04.738Z"
   },
   {
    "duration": 9,
    "start_time": "2023-03-14T09:09:17.491Z"
   },
   {
    "duration": 53,
    "start_time": "2023-03-14T09:09:37.803Z"
   },
   {
    "duration": 3,
    "start_time": "2023-03-14T09:10:10.351Z"
   },
   {
    "duration": 216,
    "start_time": "2023-03-14T09:10:23.061Z"
   },
   {
    "duration": 15,
    "start_time": "2023-03-14T09:10:38.512Z"
   },
   {
    "duration": 13,
    "start_time": "2023-03-14T15:21:54.894Z"
   },
   {
    "duration": 19,
    "start_time": "2023-03-14T15:22:17.068Z"
   },
   {
    "duration": 9,
    "start_time": "2023-03-14T15:22:30.709Z"
   },
   {
    "duration": 8,
    "start_time": "2023-03-14T15:22:41.663Z"
   },
   {
    "duration": 102,
    "start_time": "2023-03-14T15:22:42.706Z"
   },
   {
    "duration": 19,
    "start_time": "2023-03-14T15:22:48.357Z"
   },
   {
    "duration": 30,
    "start_time": "2023-03-14T15:22:55.271Z"
   },
   {
    "duration": 14,
    "start_time": "2023-03-14T15:23:28.110Z"
   },
   {
    "duration": 24,
    "start_time": "2023-03-14T15:47:26.960Z"
   },
   {
    "duration": 14,
    "start_time": "2023-03-14T15:47:59.699Z"
   },
   {
    "duration": 239,
    "start_time": "2023-03-14T15:54:21.299Z"
   },
   {
    "duration": 568,
    "start_time": "2023-03-14T16:21:04.403Z"
   },
   {
    "duration": 253,
    "start_time": "2023-03-14T16:21:54.085Z"
   },
   {
    "duration": 28,
    "start_time": "2023-03-14T16:22:33.826Z"
   },
   {
    "duration": 16,
    "start_time": "2023-03-14T16:23:33.303Z"
   },
   {
    "duration": 9,
    "start_time": "2023-03-14T16:23:49.396Z"
   },
   {
    "duration": 14,
    "start_time": "2023-03-14T16:24:21.814Z"
   },
   {
    "duration": 5,
    "start_time": "2023-03-14T16:24:34.002Z"
   },
   {
    "duration": 5,
    "start_time": "2023-03-14T16:24:37.690Z"
   },
   {
    "duration": 1382,
    "start_time": "2023-03-15T13:38:10.835Z"
   },
   {
    "duration": 107,
    "start_time": "2023-03-15T13:38:12.219Z"
   },
   {
    "duration": 13,
    "start_time": "2023-03-15T13:38:12.328Z"
   },
   {
    "duration": 97,
    "start_time": "2023-03-15T13:38:12.873Z"
   },
   {
    "duration": 13,
    "start_time": "2023-03-15T13:38:26.127Z"
   },
   {
    "duration": 7,
    "start_time": "2023-03-15T13:38:40.873Z"
   },
   {
    "duration": 4,
    "start_time": "2023-03-15T13:38:51.724Z"
   },
   {
    "duration": 96,
    "start_time": "2023-03-15T13:59:06.290Z"
   },
   {
    "duration": 5,
    "start_time": "2023-03-15T14:00:23.716Z"
   },
   {
    "duration": 7,
    "start_time": "2023-03-15T14:01:01.139Z"
   },
   {
    "duration": 102,
    "start_time": "2023-03-15T14:02:15.702Z"
   },
   {
    "duration": 17,
    "start_time": "2023-03-15T14:03:43.427Z"
   },
   {
    "duration": 14,
    "start_time": "2023-03-15T14:03:57.038Z"
   },
   {
    "duration": 17,
    "start_time": "2023-03-15T14:04:13.318Z"
   },
   {
    "duration": 10,
    "start_time": "2023-03-15T14:05:57.196Z"
   },
   {
    "duration": 21,
    "start_time": "2023-03-15T14:07:30.211Z"
   },
   {
    "duration": 5,
    "start_time": "2023-03-15T14:08:12.710Z"
   },
   {
    "duration": 5,
    "start_time": "2023-03-15T14:08:54.329Z"
   },
   {
    "duration": 614,
    "start_time": "2023-03-15T14:12:24.096Z"
   },
   {
    "duration": 590,
    "start_time": "2023-03-15T14:12:47.051Z"
   },
   {
    "duration": 746,
    "start_time": "2023-03-15T14:13:36.606Z"
   },
   {
    "duration": 6,
    "start_time": "2023-03-15T14:14:09.804Z"
   },
   {
    "duration": 7,
    "start_time": "2023-03-15T14:14:18.000Z"
   },
   {
    "duration": 6,
    "start_time": "2023-03-15T14:14:23.851Z"
   },
   {
    "duration": 10,
    "start_time": "2023-03-15T14:14:31.554Z"
   },
   {
    "duration": 6,
    "start_time": "2023-03-15T14:14:44.121Z"
   },
   {
    "duration": 4,
    "start_time": "2023-03-15T14:15:46.700Z"
   },
   {
    "duration": 13,
    "start_time": "2023-03-15T14:40:11.889Z"
   },
   {
    "duration": 10,
    "start_time": "2023-03-15T14:40:44.425Z"
   },
   {
    "duration": 13,
    "start_time": "2023-03-15T14:41:05.204Z"
   },
   {
    "duration": 12,
    "start_time": "2023-03-15T14:41:31.791Z"
   },
   {
    "duration": 12,
    "start_time": "2023-03-15T14:41:33.729Z"
   },
   {
    "duration": 12,
    "start_time": "2023-03-15T14:41:35.926Z"
   },
   {
    "duration": 8,
    "start_time": "2023-03-15T14:41:38.487Z"
   },
   {
    "duration": 12,
    "start_time": "2023-03-15T14:41:39.088Z"
   },
   {
    "duration": 12,
    "start_time": "2023-03-15T14:41:42.304Z"
   },
   {
    "duration": 13,
    "start_time": "2023-03-15T14:41:46.290Z"
   },
   {
    "duration": 4,
    "start_time": "2023-03-15T14:41:50.308Z"
   },
   {
    "duration": 19,
    "start_time": "2023-03-15T14:41:57.420Z"
   },
   {
    "duration": 3,
    "start_time": "2023-03-15T14:42:15.593Z"
   },
   {
    "duration": 2,
    "start_time": "2023-03-15T14:42:20.844Z"
   },
   {
    "duration": 4,
    "start_time": "2023-03-15T14:46:44.830Z"
   },
   {
    "duration": 20,
    "start_time": "2023-03-15T14:46:59.356Z"
   },
   {
    "duration": 4,
    "start_time": "2023-03-15T16:15:32.720Z"
   },
   {
    "duration": 10,
    "start_time": "2023-03-15T16:15:49.920Z"
   },
   {
    "duration": 19,
    "start_time": "2023-03-15T16:15:58.455Z"
   },
   {
    "duration": 3,
    "start_time": "2023-03-15T16:16:46.150Z"
   },
   {
    "duration": 15,
    "start_time": "2023-03-15T16:36:49.080Z"
   },
   {
    "duration": 159,
    "start_time": "2023-03-15T16:37:06.679Z"
   },
   {
    "duration": 155,
    "start_time": "2023-03-15T16:37:51.230Z"
   },
   {
    "duration": 4,
    "start_time": "2023-03-15T16:39:29.988Z"
   },
   {
    "duration": 216,
    "start_time": "2023-03-15T16:39:35.420Z"
   },
   {
    "duration": 210,
    "start_time": "2023-03-15T16:39:42.504Z"
   },
   {
    "duration": 403,
    "start_time": "2023-03-15T16:39:50.059Z"
   },
   {
    "duration": 499,
    "start_time": "2023-03-15T16:40:22.185Z"
   },
   {
    "duration": 289,
    "start_time": "2023-03-15T16:40:28.455Z"
   },
   {
    "duration": 476,
    "start_time": "2023-03-15T16:40:33.868Z"
   },
   {
    "duration": 348,
    "start_time": "2023-03-15T16:52:28.865Z"
   },
   {
    "duration": 7,
    "start_time": "2023-03-15T16:53:28.486Z"
   },
   {
    "duration": 7,
    "start_time": "2023-03-15T16:53:46.690Z"
   },
   {
    "duration": 467,
    "start_time": "2023-03-15T16:54:39.469Z"
   },
   {
    "duration": 297,
    "start_time": "2023-03-15T16:54:49.624Z"
   },
   {
    "duration": 25,
    "start_time": "2023-03-15T17:14:25.163Z"
   },
   {
    "duration": 286,
    "start_time": "2023-03-15T17:21:25.955Z"
   },
   {
    "duration": 17,
    "start_time": "2023-03-15T17:21:35.680Z"
   },
   {
    "duration": 356,
    "start_time": "2023-03-15T17:21:39.672Z"
   },
   {
    "duration": 16,
    "start_time": "2023-03-15T17:22:24.389Z"
   },
   {
    "duration": 278,
    "start_time": "2023-03-15T17:22:28.551Z"
   },
   {
    "duration": 18,
    "start_time": "2023-03-15T17:25:16.628Z"
   },
   {
    "duration": 323,
    "start_time": "2023-03-15T17:39:09.314Z"
   },
   {
    "duration": 2786,
    "start_time": "2023-03-15T18:07:18.100Z"
   },
   {
    "duration": 66,
    "start_time": "2023-03-15T18:13:54.725Z"
   },
   {
    "duration": 80,
    "start_time": "2023-03-15T18:14:05.607Z"
   },
   {
    "duration": 3,
    "start_time": "2023-03-15T18:14:21.173Z"
   },
   {
    "duration": 4,
    "start_time": "2023-03-15T18:14:25.744Z"
   },
   {
    "duration": 7,
    "start_time": "2023-03-15T18:14:26.551Z"
   },
   {
    "duration": 6,
    "start_time": "2023-03-15T18:14:34.459Z"
   },
   {
    "duration": 18,
    "start_time": "2023-03-15T18:32:45.983Z"
   },
   {
    "duration": 33,
    "start_time": "2023-03-15T18:32:55.151Z"
   },
   {
    "duration": 302,
    "start_time": "2023-03-15T18:33:36.488Z"
   },
   {
    "duration": 411,
    "start_time": "2023-03-15T18:41:53.528Z"
   },
   {
    "duration": 468,
    "start_time": "2023-03-15T18:42:05.323Z"
   },
   {
    "duration": 133,
    "start_time": "2023-03-15T18:43:29.051Z"
   },
   {
    "duration": 16,
    "start_time": "2023-03-15T18:43:35.018Z"
   },
   {
    "duration": 3122,
    "start_time": "2023-03-15T18:43:56.228Z"
   },
   {
    "duration": 739,
    "start_time": "2023-03-15T18:46:50.096Z"
   },
   {
    "duration": 23,
    "start_time": "2023-03-15T18:47:08.292Z"
   },
   {
    "duration": 5,
    "start_time": "2023-03-15T18:48:00.209Z"
   },
   {
    "duration": 16,
    "start_time": "2023-03-15T18:48:37.997Z"
   },
   {
    "duration": 15,
    "start_time": "2023-03-15T18:54:00.608Z"
   },
   {
    "duration": 68,
    "start_time": "2023-03-15T18:56:31.986Z"
   },
   {
    "duration": 12,
    "start_time": "2023-03-15T18:56:40.304Z"
   },
   {
    "duration": 394,
    "start_time": "2023-03-15T18:57:45.418Z"
   },
   {
    "duration": 17,
    "start_time": "2023-03-15T18:58:14.521Z"
   },
   {
    "duration": 17,
    "start_time": "2023-03-15T18:58:30.236Z"
   },
   {
    "duration": 423,
    "start_time": "2023-03-15T19:00:33.578Z"
   },
   {
    "duration": 22,
    "start_time": "2023-03-15T19:01:15.481Z"
   },
   {
    "duration": 815,
    "start_time": "2023-03-15T19:01:39.601Z"
   },
   {
    "duration": 32,
    "start_time": "2023-03-15T19:01:56.043Z"
   },
   {
    "duration": 2427,
    "start_time": "2023-03-15T19:02:09.229Z"
   },
   {
    "duration": 24,
    "start_time": "2023-03-15T19:03:08.928Z"
   },
   {
    "duration": 69,
    "start_time": "2023-03-15T19:04:22.423Z"
   },
   {
    "duration": 416,
    "start_time": "2023-03-15T19:04:39.140Z"
   },
   {
    "duration": 10,
    "start_time": "2023-03-15T19:06:43.130Z"
   },
   {
    "duration": 1029,
    "start_time": "2023-03-15T19:07:07.314Z"
   },
   {
    "duration": 965,
    "start_time": "2023-03-15T19:07:28.516Z"
   },
   {
    "duration": 933,
    "start_time": "2023-03-15T19:08:22.272Z"
   },
   {
    "duration": 1045,
    "start_time": "2023-03-15T19:08:27.880Z"
   },
   {
    "duration": 10,
    "start_time": "2023-03-15T19:08:36.678Z"
   },
   {
    "duration": 2,
    "start_time": "2023-03-15T19:08:50.696Z"
   },
   {
    "duration": 63,
    "start_time": "2023-03-15T19:08:51.327Z"
   },
   {
    "duration": 15,
    "start_time": "2023-03-15T19:08:51.912Z"
   },
   {
    "duration": 3,
    "start_time": "2023-03-15T19:08:53.621Z"
   },
   {
    "duration": 2,
    "start_time": "2023-03-15T19:08:54.651Z"
   },
   {
    "duration": 20,
    "start_time": "2023-03-15T19:08:55.804Z"
   },
   {
    "duration": 3,
    "start_time": "2023-03-15T19:08:56.900Z"
   },
   {
    "duration": 10,
    "start_time": "2023-03-15T19:08:57.956Z"
   },
   {
    "duration": 5,
    "start_time": "2023-03-15T19:08:58.600Z"
   },
   {
    "duration": 6,
    "start_time": "2023-03-15T19:08:59.489Z"
   },
   {
    "duration": 2,
    "start_time": "2023-03-15T19:08:59.714Z"
   },
   {
    "duration": 9,
    "start_time": "2023-03-15T19:09:00.278Z"
   },
   {
    "duration": 4,
    "start_time": "2023-03-15T19:09:00.501Z"
   },
   {
    "duration": 15,
    "start_time": "2023-03-15T19:09:00.795Z"
   },
   {
    "duration": 554,
    "start_time": "2023-03-15T19:09:01.289Z"
   },
   {
    "duration": 12,
    "start_time": "2023-03-15T19:09:01.846Z"
   },
   {
    "duration": 284,
    "start_time": "2023-03-15T19:09:03.652Z"
   },
   {
    "duration": 400,
    "start_time": "2023-03-15T19:09:05.751Z"
   },
   {
    "duration": 101,
    "start_time": "2023-03-15T19:09:08.879Z"
   },
   {
    "duration": 13,
    "start_time": "2023-03-15T19:09:20.070Z"
   },
   {
    "duration": 5,
    "start_time": "2023-03-15T19:09:54.573Z"
   },
   {
    "duration": 14,
    "start_time": "2023-03-15T19:09:57.406Z"
   },
   {
    "duration": 50,
    "start_time": "2023-03-16T07:38:58.748Z"
   },
   {
    "duration": 8,
    "start_time": "2023-03-16T07:39:09.997Z"
   },
   {
    "duration": 1414,
    "start_time": "2023-03-16T07:39:16.845Z"
   },
   {
    "duration": 222,
    "start_time": "2023-03-16T07:39:18.261Z"
   },
   {
    "duration": 18,
    "start_time": "2023-03-16T07:39:18.485Z"
   },
   {
    "duration": 14,
    "start_time": "2023-03-16T07:39:18.505Z"
   },
   {
    "duration": 14,
    "start_time": "2023-03-16T07:39:18.521Z"
   },
   {
    "duration": 19,
    "start_time": "2023-03-16T07:39:19.035Z"
   },
   {
    "duration": 2,
    "start_time": "2023-03-16T07:39:19.242Z"
   },
   {
    "duration": 2,
    "start_time": "2023-03-16T07:39:19.674Z"
   },
   {
    "duration": 5,
    "start_time": "2023-03-16T07:39:20.113Z"
   },
   {
    "duration": 6,
    "start_time": "2023-03-16T07:39:20.434Z"
   },
   {
    "duration": 3,
    "start_time": "2023-03-16T07:39:21.043Z"
   },
   {
    "duration": 11,
    "start_time": "2023-03-16T07:39:21.489Z"
   },
   {
    "duration": 4,
    "start_time": "2023-03-16T07:39:21.697Z"
   },
   {
    "duration": 17,
    "start_time": "2023-03-16T07:39:21.913Z"
   },
   {
    "duration": 427,
    "start_time": "2023-03-16T07:39:22.405Z"
   },
   {
    "duration": 4,
    "start_time": "2023-03-16T07:39:23.213Z"
   },
   {
    "duration": 305,
    "start_time": "2023-03-16T07:39:23.965Z"
   },
   {
    "duration": 77,
    "start_time": "2023-03-16T07:39:24.803Z"
   },
   {
    "duration": 23,
    "start_time": "2023-03-16T07:39:42.493Z"
   },
   {
    "duration": 20,
    "start_time": "2023-03-16T07:40:40.802Z"
   },
   {
    "duration": 21,
    "start_time": "2023-03-16T07:41:20.630Z"
   },
   {
    "duration": 150,
    "start_time": "2023-03-16T07:41:30.221Z"
   },
   {
    "duration": 21,
    "start_time": "2023-03-16T07:43:26.765Z"
   },
   {
    "duration": 20,
    "start_time": "2023-03-16T07:48:57.738Z"
   },
   {
    "duration": 1117,
    "start_time": "2023-03-16T07:49:19.328Z"
   },
   {
    "duration": 67,
    "start_time": "2023-03-16T07:49:20.447Z"
   },
   {
    "duration": 15,
    "start_time": "2023-03-16T07:49:20.515Z"
   },
   {
    "duration": 3,
    "start_time": "2023-03-16T07:49:20.532Z"
   },
   {
    "duration": 27,
    "start_time": "2023-03-16T07:49:20.536Z"
   },
   {
    "duration": 27,
    "start_time": "2023-03-16T07:49:20.564Z"
   },
   {
    "duration": 10,
    "start_time": "2023-03-16T07:49:20.593Z"
   },
   {
    "duration": 33,
    "start_time": "2023-03-16T07:49:20.604Z"
   },
   {
    "duration": 20,
    "start_time": "2023-03-16T07:49:20.639Z"
   },
   {
    "duration": 9,
    "start_time": "2023-03-16T07:49:20.662Z"
   },
   {
    "duration": 3,
    "start_time": "2023-03-16T07:49:20.672Z"
   },
   {
    "duration": 17,
    "start_time": "2023-03-16T07:49:20.677Z"
   },
   {
    "duration": 9,
    "start_time": "2023-03-16T07:49:20.695Z"
   },
   {
    "duration": 49,
    "start_time": "2023-03-16T07:49:20.706Z"
   },
   {
    "duration": 453,
    "start_time": "2023-03-16T07:49:20.757Z"
   },
   {
    "duration": 5,
    "start_time": "2023-03-16T07:49:21.211Z"
   },
   {
    "duration": 316,
    "start_time": "2023-03-16T07:49:21.217Z"
   },
   {
    "duration": 118,
    "start_time": "2023-03-16T07:49:21.534Z"
   },
   {
    "duration": 0,
    "start_time": "2023-03-16T07:49:21.654Z"
   },
   {
    "duration": 0,
    "start_time": "2023-03-16T07:49:21.655Z"
   },
   {
    "duration": 0,
    "start_time": "2023-03-16T07:49:21.656Z"
   },
   {
    "duration": 0,
    "start_time": "2023-03-16T07:49:21.657Z"
   },
   {
    "duration": 12,
    "start_time": "2023-03-16T07:50:55.457Z"
   },
   {
    "duration": 11,
    "start_time": "2023-03-16T07:51:03.150Z"
   },
   {
    "duration": 9,
    "start_time": "2023-03-16T07:51:18.681Z"
   },
   {
    "duration": 13,
    "start_time": "2023-03-16T07:51:35.018Z"
   },
   {
    "duration": 460,
    "start_time": "2023-03-16T07:53:34.707Z"
   },
   {
    "duration": 874,
    "start_time": "2023-03-16T07:54:08.608Z"
   },
   {
    "duration": 860,
    "start_time": "2023-03-16T07:54:35.096Z"
   },
   {
    "duration": 15,
    "start_time": "2023-03-16T07:55:40.277Z"
   },
   {
    "duration": 462,
    "start_time": "2023-03-16T07:55:55.613Z"
   },
   {
    "duration": 826,
    "start_time": "2023-03-16T07:56:14.921Z"
   },
   {
    "duration": 882,
    "start_time": "2023-03-16T07:56:54.498Z"
   },
   {
    "duration": 929,
    "start_time": "2023-03-16T07:57:15.713Z"
   },
   {
    "duration": 819,
    "start_time": "2023-03-16T07:57:29.878Z"
   },
   {
    "duration": 891,
    "start_time": "2023-03-16T07:58:11.386Z"
   },
   {
    "duration": 2968,
    "start_time": "2023-03-16T07:58:30.253Z"
   },
   {
    "duration": 25,
    "start_time": "2023-03-16T07:58:51.649Z"
   },
   {
    "duration": 886,
    "start_time": "2023-03-16T07:59:01.944Z"
   },
   {
    "duration": 5,
    "start_time": "2023-03-16T08:00:16.994Z"
   },
   {
    "duration": 865,
    "start_time": "2023-03-16T08:00:33.334Z"
   },
   {
    "duration": 10,
    "start_time": "2023-03-16T08:01:39.926Z"
   },
   {
    "duration": 16,
    "start_time": "2023-03-16T08:01:57.009Z"
   },
   {
    "duration": 27,
    "start_time": "2023-03-16T08:02:08.395Z"
   },
   {
    "duration": 14,
    "start_time": "2023-03-16T08:02:35.735Z"
   },
   {
    "duration": 1195,
    "start_time": "2023-03-16T08:02:46.091Z"
   },
   {
    "duration": 84,
    "start_time": "2023-03-16T08:02:47.288Z"
   },
   {
    "duration": 21,
    "start_time": "2023-03-16T08:02:47.374Z"
   },
   {
    "duration": 5,
    "start_time": "2023-03-16T08:02:47.397Z"
   },
   {
    "duration": 11,
    "start_time": "2023-03-16T08:02:47.405Z"
   },
   {
    "duration": 45,
    "start_time": "2023-03-16T08:02:47.419Z"
   },
   {
    "duration": 3,
    "start_time": "2023-03-16T08:02:47.467Z"
   },
   {
    "duration": 14,
    "start_time": "2023-03-16T08:02:47.472Z"
   },
   {
    "duration": 13,
    "start_time": "2023-03-16T08:02:47.489Z"
   },
   {
    "duration": 25,
    "start_time": "2023-03-16T08:02:47.504Z"
   },
   {
    "duration": 11,
    "start_time": "2023-03-16T08:02:47.532Z"
   },
   {
    "duration": 13,
    "start_time": "2023-03-16T08:02:47.546Z"
   },
   {
    "duration": 5,
    "start_time": "2023-03-16T08:02:47.562Z"
   },
   {
    "duration": 22,
    "start_time": "2023-03-16T08:02:47.573Z"
   },
   {
    "duration": 544,
    "start_time": "2023-03-16T08:02:47.597Z"
   },
   {
    "duration": 5,
    "start_time": "2023-03-16T08:02:48.143Z"
   },
   {
    "duration": 339,
    "start_time": "2023-03-16T08:02:48.150Z"
   },
   {
    "duration": 5,
    "start_time": "2023-03-16T08:02:48.491Z"
   },
   {
    "duration": 42,
    "start_time": "2023-03-16T08:02:48.497Z"
   },
   {
    "duration": 13,
    "start_time": "2023-03-16T08:02:48.541Z"
   },
   {
    "duration": 24,
    "start_time": "2023-03-16T08:02:48.556Z"
   },
   {
    "duration": 730,
    "start_time": "2023-03-16T08:02:48.582Z"
   },
   {
    "duration": 3,
    "start_time": "2023-03-16T08:02:49.314Z"
   },
   {
    "duration": 14,
    "start_time": "2023-03-16T08:03:06.341Z"
   },
   {
    "duration": 635,
    "start_time": "2023-03-16T08:03:39.953Z"
   },
   {
    "duration": 574,
    "start_time": "2023-03-16T08:03:46.537Z"
   },
   {
    "duration": 473,
    "start_time": "2023-03-16T08:03:55.154Z"
   },
   {
    "duration": 337,
    "start_time": "2023-03-16T08:04:01.242Z"
   },
   {
    "duration": 3,
    "start_time": "2023-03-16T08:05:51.846Z"
   },
   {
    "duration": 505,
    "start_time": "2023-03-16T08:06:08.911Z"
   },
   {
    "duration": 5,
    "start_time": "2023-03-16T08:06:27.036Z"
   },
   {
    "duration": 3,
    "start_time": "2023-03-16T08:06:27.905Z"
   },
   {
    "duration": 595,
    "start_time": "2023-03-16T08:06:29.949Z"
   },
   {
    "duration": 4,
    "start_time": "2023-03-16T08:06:38.418Z"
   },
   {
    "duration": 4,
    "start_time": "2023-03-16T08:06:39.289Z"
   },
   {
    "duration": 528,
    "start_time": "2023-03-16T08:06:40.235Z"
   },
   {
    "duration": 5,
    "start_time": "2023-03-16T08:06:47.885Z"
   },
   {
    "duration": 3,
    "start_time": "2023-03-16T08:06:48.735Z"
   },
   {
    "duration": 660,
    "start_time": "2023-03-16T08:06:49.828Z"
   },
   {
    "duration": 5,
    "start_time": "2023-03-16T08:07:01.426Z"
   },
   {
    "duration": 3,
    "start_time": "2023-03-16T08:07:02.393Z"
   },
   {
    "duration": 568,
    "start_time": "2023-03-16T08:07:03.499Z"
   },
   {
    "duration": 1078,
    "start_time": "2023-03-16T08:07:10.389Z"
   },
   {
    "duration": 71,
    "start_time": "2023-03-16T08:07:11.468Z"
   },
   {
    "duration": 16,
    "start_time": "2023-03-16T08:07:11.540Z"
   },
   {
    "duration": 4,
    "start_time": "2023-03-16T08:07:11.558Z"
   },
   {
    "duration": 5,
    "start_time": "2023-03-16T08:07:11.564Z"
   },
   {
    "duration": 20,
    "start_time": "2023-03-16T08:07:11.571Z"
   },
   {
    "duration": 3,
    "start_time": "2023-03-16T08:07:11.592Z"
   },
   {
    "duration": 5,
    "start_time": "2023-03-16T08:07:11.596Z"
   },
   {
    "duration": 6,
    "start_time": "2023-03-16T08:07:11.602Z"
   },
   {
    "duration": 35,
    "start_time": "2023-03-16T08:07:11.610Z"
   },
   {
    "duration": 3,
    "start_time": "2023-03-16T08:07:11.646Z"
   },
   {
    "duration": 10,
    "start_time": "2023-03-16T08:07:11.650Z"
   },
   {
    "duration": 4,
    "start_time": "2023-03-16T08:07:11.661Z"
   },
   {
    "duration": 16,
    "start_time": "2023-03-16T08:07:11.667Z"
   },
   {
    "duration": 528,
    "start_time": "2023-03-16T08:07:11.685Z"
   },
   {
    "duration": 7,
    "start_time": "2023-03-16T08:07:12.214Z"
   },
   {
    "duration": 336,
    "start_time": "2023-03-16T08:07:12.222Z"
   },
   {
    "duration": 5,
    "start_time": "2023-03-16T08:07:12.559Z"
   },
   {
    "duration": 15,
    "start_time": "2023-03-16T08:07:12.566Z"
   },
   {
    "duration": 4,
    "start_time": "2023-03-16T08:07:12.583Z"
   },
   {
    "duration": 16,
    "start_time": "2023-03-16T08:07:12.588Z"
   },
   {
    "duration": 548,
    "start_time": "2023-03-16T08:07:12.606Z"
   },
   {
    "duration": 2,
    "start_time": "2023-03-16T08:07:13.156Z"
   },
   {
    "duration": 1220,
    "start_time": "2023-03-16T08:07:33.114Z"
   },
   {
    "duration": 69,
    "start_time": "2023-03-16T08:07:34.336Z"
   },
   {
    "duration": 15,
    "start_time": "2023-03-16T08:07:34.407Z"
   },
   {
    "duration": 8,
    "start_time": "2023-03-16T08:07:34.424Z"
   },
   {
    "duration": 4,
    "start_time": "2023-03-16T08:07:34.434Z"
   },
   {
    "duration": 26,
    "start_time": "2023-03-16T08:07:34.439Z"
   },
   {
    "duration": 3,
    "start_time": "2023-03-16T08:07:34.466Z"
   },
   {
    "duration": 5,
    "start_time": "2023-03-16T08:07:34.470Z"
   },
   {
    "duration": 9,
    "start_time": "2023-03-16T08:07:34.476Z"
   },
   {
    "duration": 10,
    "start_time": "2023-03-16T08:07:34.486Z"
   },
   {
    "duration": 3,
    "start_time": "2023-03-16T08:07:34.497Z"
   },
   {
    "duration": 12,
    "start_time": "2023-03-16T08:07:34.501Z"
   },
   {
    "duration": 4,
    "start_time": "2023-03-16T08:07:34.514Z"
   },
   {
    "duration": 19,
    "start_time": "2023-03-16T08:07:34.540Z"
   },
   {
    "duration": 462,
    "start_time": "2023-03-16T08:07:34.561Z"
   },
   {
    "duration": 5,
    "start_time": "2023-03-16T08:07:35.024Z"
   },
   {
    "duration": 361,
    "start_time": "2023-03-16T08:07:35.041Z"
   },
   {
    "duration": 5,
    "start_time": "2023-03-16T08:07:35.403Z"
   },
   {
    "duration": 14,
    "start_time": "2023-03-16T08:07:35.409Z"
   },
   {
    "duration": 17,
    "start_time": "2023-03-16T08:07:35.424Z"
   },
   {
    "duration": 2,
    "start_time": "2023-03-16T08:07:35.443Z"
   },
   {
    "duration": 463,
    "start_time": "2023-03-16T08:07:35.447Z"
   },
   {
    "duration": 2,
    "start_time": "2023-03-16T08:07:35.912Z"
   },
   {
    "duration": 525,
    "start_time": "2023-03-16T08:09:43.125Z"
   },
   {
    "duration": 413,
    "start_time": "2023-03-16T08:09:50.452Z"
   },
   {
    "duration": 5,
    "start_time": "2023-03-16T08:10:17.834Z"
   },
   {
    "duration": 11,
    "start_time": "2023-03-16T08:10:19.590Z"
   },
   {
    "duration": 4,
    "start_time": "2023-03-16T08:10:20.785Z"
   },
   {
    "duration": 3,
    "start_time": "2023-03-16T08:10:21.924Z"
   },
   {
    "duration": 345,
    "start_time": "2023-03-16T08:10:23.437Z"
   },
   {
    "duration": 4,
    "start_time": "2023-03-16T08:10:44.901Z"
   },
   {
    "duration": 3,
    "start_time": "2023-03-16T08:10:46.041Z"
   },
   {
    "duration": 367,
    "start_time": "2023-03-16T08:10:46.982Z"
   },
   {
    "duration": 14,
    "start_time": "2023-03-16T08:13:34.381Z"
   },
   {
    "duration": 3,
    "start_time": "2023-03-16T08:13:40.301Z"
   },
   {
    "duration": 4,
    "start_time": "2023-03-16T08:14:05.797Z"
   },
   {
    "duration": 3,
    "start_time": "2023-03-16T08:14:06.528Z"
   },
   {
    "duration": 356,
    "start_time": "2023-03-16T08:14:07.905Z"
   },
   {
    "duration": 226,
    "start_time": "2023-03-16T08:35:57.788Z"
   },
   {
    "duration": 5,
    "start_time": "2023-03-16T08:39:13.893Z"
   },
   {
    "duration": 17,
    "start_time": "2023-03-16T08:39:25.209Z"
   },
   {
    "duration": 9,
    "start_time": "2023-03-16T08:39:45.674Z"
   },
   {
    "duration": 15,
    "start_time": "2023-03-16T08:39:55.669Z"
   },
   {
    "duration": 10,
    "start_time": "2023-03-16T08:40:26.486Z"
   },
   {
    "duration": 8,
    "start_time": "2023-03-16T08:41:15.358Z"
   },
   {
    "duration": 8,
    "start_time": "2023-03-16T08:41:29.994Z"
   },
   {
    "duration": 110,
    "start_time": "2023-03-16T08:42:03.177Z"
   },
   {
    "duration": 114,
    "start_time": "2023-03-16T08:42:38.678Z"
   },
   {
    "duration": 139,
    "start_time": "2023-03-16T08:44:56.230Z"
   },
   {
    "duration": 112,
    "start_time": "2023-03-16T08:45:31.910Z"
   },
   {
    "duration": 140,
    "start_time": "2023-03-16T08:45:57.391Z"
   },
   {
    "duration": 109,
    "start_time": "2023-03-16T08:50:41.978Z"
   },
   {
    "duration": 11,
    "start_time": "2023-03-16T08:50:57.926Z"
   },
   {
    "duration": 5,
    "start_time": "2023-03-16T08:51:10.828Z"
   },
   {
    "duration": 11,
    "start_time": "2023-03-16T08:51:11.698Z"
   },
   {
    "duration": 4,
    "start_time": "2023-03-16T08:51:12.626Z"
   },
   {
    "duration": 3,
    "start_time": "2023-03-16T08:51:13.377Z"
   },
   {
    "duration": 364,
    "start_time": "2023-03-16T08:51:14.866Z"
   },
   {
    "duration": 1209,
    "start_time": "2023-03-16T08:51:24.275Z"
   },
   {
    "duration": 79,
    "start_time": "2023-03-16T08:51:25.486Z"
   },
   {
    "duration": 16,
    "start_time": "2023-03-16T08:51:25.567Z"
   },
   {
    "duration": 4,
    "start_time": "2023-03-16T08:51:25.584Z"
   },
   {
    "duration": 16,
    "start_time": "2023-03-16T08:51:25.590Z"
   },
   {
    "duration": 23,
    "start_time": "2023-03-16T08:51:25.607Z"
   },
   {
    "duration": 3,
    "start_time": "2023-03-16T08:51:25.640Z"
   },
   {
    "duration": 9,
    "start_time": "2023-03-16T08:51:25.645Z"
   },
   {
    "duration": 11,
    "start_time": "2023-03-16T08:51:25.656Z"
   },
   {
    "duration": 9,
    "start_time": "2023-03-16T08:51:25.670Z"
   },
   {
    "duration": 26,
    "start_time": "2023-03-16T08:51:25.680Z"
   },
   {
    "duration": 17,
    "start_time": "2023-03-16T08:51:25.708Z"
   },
   {
    "duration": 5,
    "start_time": "2023-03-16T08:51:25.727Z"
   },
   {
    "duration": 28,
    "start_time": "2023-03-16T08:51:25.734Z"
   },
   {
    "duration": 517,
    "start_time": "2023-03-16T08:51:25.764Z"
   },
   {
    "duration": 5,
    "start_time": "2023-03-16T08:51:26.283Z"
   },
   {
    "duration": 369,
    "start_time": "2023-03-16T08:51:26.289Z"
   },
   {
    "duration": 7,
    "start_time": "2023-03-16T08:51:26.660Z"
   },
   {
    "duration": 15,
    "start_time": "2023-03-16T08:51:26.669Z"
   },
   {
    "duration": 6,
    "start_time": "2023-03-16T08:51:26.686Z"
   },
   {
    "duration": 5,
    "start_time": "2023-03-16T08:51:26.693Z"
   },
   {
    "duration": 2292,
    "start_time": "2023-03-16T08:51:26.699Z"
   },
   {
    "duration": 3,
    "start_time": "2023-03-16T08:51:28.993Z"
   },
   {
    "duration": 125,
    "start_time": "2023-03-16T08:51:28.997Z"
   },
   {
    "duration": 18,
    "start_time": "2023-03-16T08:51:29.125Z"
   },
   {
    "duration": 128,
    "start_time": "2023-03-16T08:51:29.146Z"
   },
   {
    "duration": 244,
    "start_time": "2023-03-16T08:51:29.276Z"
   },
   {
    "duration": 125,
    "start_time": "2023-03-16T08:51:29.522Z"
   },
   {
    "duration": 1282,
    "start_time": "2023-03-16T08:51:47.818Z"
   },
   {
    "duration": 78,
    "start_time": "2023-03-16T08:51:49.102Z"
   },
   {
    "duration": 16,
    "start_time": "2023-03-16T08:51:49.182Z"
   },
   {
    "duration": 4,
    "start_time": "2023-03-16T08:51:49.201Z"
   },
   {
    "duration": 4,
    "start_time": "2023-03-16T08:51:49.207Z"
   },
   {
    "duration": 42,
    "start_time": "2023-03-16T08:51:49.213Z"
   },
   {
    "duration": 3,
    "start_time": "2023-03-16T08:51:49.257Z"
   },
   {
    "duration": 12,
    "start_time": "2023-03-16T08:51:49.262Z"
   },
   {
    "duration": 13,
    "start_time": "2023-03-16T08:51:49.276Z"
   },
   {
    "duration": 8,
    "start_time": "2023-03-16T08:51:49.293Z"
   },
   {
    "duration": 20,
    "start_time": "2023-03-16T08:51:49.303Z"
   },
   {
    "duration": 17,
    "start_time": "2023-03-16T08:51:49.325Z"
   },
   {
    "duration": 11,
    "start_time": "2023-03-16T08:51:49.344Z"
   },
   {
    "duration": 22,
    "start_time": "2023-03-16T08:51:49.357Z"
   },
   {
    "duration": 516,
    "start_time": "2023-03-16T08:51:49.381Z"
   },
   {
    "duration": 5,
    "start_time": "2023-03-16T08:51:49.899Z"
   },
   {
    "duration": 365,
    "start_time": "2023-03-16T08:51:49.906Z"
   },
   {
    "duration": 4,
    "start_time": "2023-03-16T08:51:50.273Z"
   },
   {
    "duration": 41,
    "start_time": "2023-03-16T08:51:50.279Z"
   },
   {
    "duration": 13,
    "start_time": "2023-03-16T08:51:50.322Z"
   },
   {
    "duration": 12,
    "start_time": "2023-03-16T08:51:50.337Z"
   },
   {
    "duration": 512,
    "start_time": "2023-03-16T08:51:50.353Z"
   },
   {
    "duration": 3,
    "start_time": "2023-03-16T08:51:50.867Z"
   },
   {
    "duration": 130,
    "start_time": "2023-03-16T08:51:50.872Z"
   },
   {
    "duration": 8,
    "start_time": "2023-03-16T08:51:51.004Z"
   },
   {
    "duration": 198,
    "start_time": "2023-03-16T08:51:51.013Z"
   },
   {
    "duration": 118,
    "start_time": "2023-03-16T08:51:51.212Z"
   },
   {
    "duration": 125,
    "start_time": "2023-03-16T08:51:51.333Z"
   },
   {
    "duration": 8,
    "start_time": "2023-03-16T08:52:39.957Z"
   },
   {
    "duration": 8,
    "start_time": "2023-03-16T08:53:11.122Z"
   },
   {
    "duration": 1197,
    "start_time": "2023-03-16T08:53:17.694Z"
   },
   {
    "duration": 79,
    "start_time": "2023-03-16T08:53:18.893Z"
   },
   {
    "duration": 825,
    "start_time": "2023-03-16T08:53:18.974Z"
   },
   {
    "duration": 0,
    "start_time": "2023-03-16T08:53:19.802Z"
   },
   {
    "duration": 0,
    "start_time": "2023-03-16T08:53:19.804Z"
   },
   {
    "duration": 0,
    "start_time": "2023-03-16T08:53:19.805Z"
   },
   {
    "duration": 0,
    "start_time": "2023-03-16T08:53:19.807Z"
   },
   {
    "duration": 0,
    "start_time": "2023-03-16T08:53:19.809Z"
   },
   {
    "duration": 0,
    "start_time": "2023-03-16T08:53:19.810Z"
   },
   {
    "duration": 0,
    "start_time": "2023-03-16T08:53:19.811Z"
   },
   {
    "duration": 0,
    "start_time": "2023-03-16T08:53:19.813Z"
   },
   {
    "duration": 0,
    "start_time": "2023-03-16T08:53:19.814Z"
   },
   {
    "duration": 0,
    "start_time": "2023-03-16T08:53:19.815Z"
   },
   {
    "duration": 0,
    "start_time": "2023-03-16T08:53:19.817Z"
   },
   {
    "duration": 0,
    "start_time": "2023-03-16T08:53:19.818Z"
   },
   {
    "duration": 0,
    "start_time": "2023-03-16T08:53:19.819Z"
   },
   {
    "duration": 1,
    "start_time": "2023-03-16T08:53:19.820Z"
   },
   {
    "duration": 0,
    "start_time": "2023-03-16T08:53:19.822Z"
   },
   {
    "duration": 0,
    "start_time": "2023-03-16T08:53:19.823Z"
   },
   {
    "duration": 0,
    "start_time": "2023-03-16T08:53:19.824Z"
   },
   {
    "duration": 0,
    "start_time": "2023-03-16T08:53:19.826Z"
   },
   {
    "duration": 0,
    "start_time": "2023-03-16T08:53:19.827Z"
   },
   {
    "duration": 0,
    "start_time": "2023-03-16T08:53:19.829Z"
   },
   {
    "duration": 0,
    "start_time": "2023-03-16T08:53:19.830Z"
   },
   {
    "duration": 0,
    "start_time": "2023-03-16T08:53:19.831Z"
   },
   {
    "duration": 0,
    "start_time": "2023-03-16T08:53:19.833Z"
   },
   {
    "duration": 0,
    "start_time": "2023-03-16T08:53:19.834Z"
   },
   {
    "duration": 0,
    "start_time": "2023-03-16T08:53:19.835Z"
   },
   {
    "duration": 0,
    "start_time": "2023-03-16T08:53:19.837Z"
   },
   {
    "duration": 1260,
    "start_time": "2023-03-16T08:53:35.002Z"
   },
   {
    "duration": 72,
    "start_time": "2023-03-16T08:53:36.264Z"
   },
   {
    "duration": 11,
    "start_time": "2023-03-16T08:53:36.337Z"
   },
   {
    "duration": 33,
    "start_time": "2023-03-16T08:53:36.350Z"
   },
   {
    "duration": 14,
    "start_time": "2023-03-16T08:53:36.385Z"
   },
   {
    "duration": 13,
    "start_time": "2023-03-16T08:53:36.400Z"
   },
   {
    "duration": 27,
    "start_time": "2023-03-16T08:53:36.414Z"
   },
   {
    "duration": 6,
    "start_time": "2023-03-16T08:53:36.443Z"
   },
   {
    "duration": 13,
    "start_time": "2023-03-16T08:53:36.451Z"
   },
   {
    "duration": 26,
    "start_time": "2023-03-16T08:53:36.466Z"
   },
   {
    "duration": 9,
    "start_time": "2023-03-16T08:53:36.494Z"
   },
   {
    "duration": 2,
    "start_time": "2023-03-16T08:53:36.505Z"
   },
   {
    "duration": 17,
    "start_time": "2023-03-16T08:53:36.509Z"
   },
   {
    "duration": 4,
    "start_time": "2023-03-16T08:53:36.530Z"
   },
   {
    "duration": 28,
    "start_time": "2023-03-16T08:53:36.536Z"
   },
   {
    "duration": 532,
    "start_time": "2023-03-16T08:53:36.566Z"
   },
   {
    "duration": 6,
    "start_time": "2023-03-16T08:53:37.100Z"
   },
   {
    "duration": 374,
    "start_time": "2023-03-16T08:53:37.108Z"
   },
   {
    "duration": 5,
    "start_time": "2023-03-16T08:53:37.483Z"
   },
   {
    "duration": 15,
    "start_time": "2023-03-16T08:53:37.489Z"
   },
   {
    "duration": 4,
    "start_time": "2023-03-16T08:53:37.506Z"
   },
   {
    "duration": 4,
    "start_time": "2023-03-16T08:53:37.512Z"
   },
   {
    "duration": 653,
    "start_time": "2023-03-16T08:53:37.518Z"
   },
   {
    "duration": 4,
    "start_time": "2023-03-16T08:53:38.173Z"
   },
   {
    "duration": 123,
    "start_time": "2023-03-16T08:53:38.178Z"
   },
   {
    "duration": 8,
    "start_time": "2023-03-16T08:53:38.303Z"
   },
   {
    "duration": 228,
    "start_time": "2023-03-16T08:53:38.313Z"
   },
   {
    "duration": 137,
    "start_time": "2023-03-16T08:53:38.543Z"
   },
   {
    "duration": 124,
    "start_time": "2023-03-16T08:53:38.682Z"
   },
   {
    "duration": 1387,
    "start_time": "2023-03-16T08:54:37.423Z"
   },
   {
    "duration": 75,
    "start_time": "2023-03-16T08:54:38.812Z"
   },
   {
    "duration": 12,
    "start_time": "2023-03-16T08:54:38.889Z"
   },
   {
    "duration": 42,
    "start_time": "2023-03-16T08:54:38.903Z"
   },
   {
    "duration": 6,
    "start_time": "2023-03-16T08:54:38.948Z"
   },
   {
    "duration": 9,
    "start_time": "2023-03-16T08:54:38.956Z"
   },
   {
    "duration": 24,
    "start_time": "2023-03-16T08:54:38.967Z"
   },
   {
    "duration": 2,
    "start_time": "2023-03-16T08:54:38.993Z"
   },
   {
    "duration": 4,
    "start_time": "2023-03-16T08:54:38.997Z"
   },
   {
    "duration": 7,
    "start_time": "2023-03-16T08:54:39.003Z"
   },
   {
    "duration": 35,
    "start_time": "2023-03-16T08:54:39.011Z"
   },
   {
    "duration": 4,
    "start_time": "2023-03-16T08:54:39.048Z"
   },
   {
    "duration": 13,
    "start_time": "2023-03-16T08:54:39.054Z"
   },
   {
    "duration": 4,
    "start_time": "2023-03-16T08:54:39.070Z"
   },
   {
    "duration": 18,
    "start_time": "2023-03-16T08:54:39.076Z"
   },
   {
    "duration": 585,
    "start_time": "2023-03-16T08:54:39.096Z"
   },
   {
    "duration": 5,
    "start_time": "2023-03-16T08:54:39.682Z"
   },
   {
    "duration": 406,
    "start_time": "2023-03-16T08:54:39.689Z"
   },
   {
    "duration": 6,
    "start_time": "2023-03-16T08:54:40.096Z"
   },
   {
    "duration": 14,
    "start_time": "2023-03-16T08:54:40.104Z"
   },
   {
    "duration": 34,
    "start_time": "2023-03-16T08:54:40.119Z"
   },
   {
    "duration": 4,
    "start_time": "2023-03-16T08:54:40.155Z"
   },
   {
    "duration": 567,
    "start_time": "2023-03-16T08:54:40.160Z"
   },
   {
    "duration": 3,
    "start_time": "2023-03-16T08:54:40.729Z"
   },
   {
    "duration": 116,
    "start_time": "2023-03-16T08:54:40.741Z"
   },
   {
    "duration": 8,
    "start_time": "2023-03-16T08:54:40.858Z"
   },
   {
    "duration": 212,
    "start_time": "2023-03-16T08:54:40.868Z"
   },
   {
    "duration": 125,
    "start_time": "2023-03-16T08:54:41.082Z"
   },
   {
    "duration": 131,
    "start_time": "2023-03-16T08:54:41.209Z"
   },
   {
    "duration": 9,
    "start_time": "2023-03-16T08:55:17.120Z"
   },
   {
    "duration": 12,
    "start_time": "2023-03-16T08:56:37.494Z"
   },
   {
    "duration": 10,
    "start_time": "2023-03-16T08:56:44.221Z"
   },
   {
    "duration": 1177,
    "start_time": "2023-03-16T08:56:49.229Z"
   },
   {
    "duration": 71,
    "start_time": "2023-03-16T08:56:50.409Z"
   },
   {
    "duration": 15,
    "start_time": "2023-03-16T08:56:50.482Z"
   },
   {
    "duration": 7,
    "start_time": "2023-03-16T08:56:50.499Z"
   },
   {
    "duration": 14,
    "start_time": "2023-03-16T08:56:50.508Z"
   },
   {
    "duration": 25,
    "start_time": "2023-03-16T08:56:50.524Z"
   },
   {
    "duration": 3,
    "start_time": "2023-03-16T08:56:50.551Z"
   },
   {
    "duration": 14,
    "start_time": "2023-03-16T08:56:50.556Z"
   },
   {
    "duration": 11,
    "start_time": "2023-03-16T08:56:50.572Z"
   },
   {
    "duration": 20,
    "start_time": "2023-03-16T08:56:50.585Z"
   },
   {
    "duration": 5,
    "start_time": "2023-03-16T08:56:50.607Z"
   },
   {
    "duration": 12,
    "start_time": "2023-03-16T08:56:50.614Z"
   },
   {
    "duration": 5,
    "start_time": "2023-03-16T08:56:50.627Z"
   },
   {
    "duration": 18,
    "start_time": "2023-03-16T08:56:50.640Z"
   },
   {
    "duration": 24,
    "start_time": "2023-03-16T08:56:50.660Z"
   },
   {
    "duration": 479,
    "start_time": "2023-03-16T08:56:50.686Z"
   },
   {
    "duration": 6,
    "start_time": "2023-03-16T08:56:51.166Z"
   },
   {
    "duration": 324,
    "start_time": "2023-03-16T08:56:51.173Z"
   },
   {
    "duration": 5,
    "start_time": "2023-03-16T08:56:51.498Z"
   },
   {
    "duration": 18,
    "start_time": "2023-03-16T08:56:51.506Z"
   },
   {
    "duration": 18,
    "start_time": "2023-03-16T08:56:51.525Z"
   },
   {
    "duration": 3,
    "start_time": "2023-03-16T08:56:51.546Z"
   },
   {
    "duration": 534,
    "start_time": "2023-03-16T08:56:51.551Z"
   },
   {
    "duration": 3,
    "start_time": "2023-03-16T08:56:52.087Z"
   },
   {
    "duration": 125,
    "start_time": "2023-03-16T08:56:52.092Z"
   },
   {
    "duration": 7,
    "start_time": "2023-03-16T08:56:52.218Z"
   },
   {
    "duration": 230,
    "start_time": "2023-03-16T08:56:52.227Z"
   },
   {
    "duration": 133,
    "start_time": "2023-03-16T08:56:52.458Z"
   },
   {
    "duration": 166,
    "start_time": "2023-03-16T08:56:52.593Z"
   },
   {
    "duration": 1242,
    "start_time": "2023-03-16T08:58:16.119Z"
   },
   {
    "duration": 69,
    "start_time": "2023-03-16T08:58:17.365Z"
   },
   {
    "duration": 16,
    "start_time": "2023-03-16T08:58:17.436Z"
   },
   {
    "duration": 84,
    "start_time": "2023-03-16T08:58:17.454Z"
   },
   {
    "duration": 36,
    "start_time": "2023-03-16T08:58:17.540Z"
   },
   {
    "duration": 93,
    "start_time": "2023-03-16T08:58:17.578Z"
   },
   {
    "duration": 30,
    "start_time": "2023-03-16T08:58:17.673Z"
   },
   {
    "duration": 25,
    "start_time": "2023-03-16T08:58:17.705Z"
   },
   {
    "duration": 9,
    "start_time": "2023-03-16T08:58:17.732Z"
   },
   {
    "duration": 13,
    "start_time": "2023-03-16T08:58:17.743Z"
   },
   {
    "duration": 5,
    "start_time": "2023-03-16T08:58:17.758Z"
   },
   {
    "duration": 13,
    "start_time": "2023-03-16T08:58:17.765Z"
   },
   {
    "duration": 17,
    "start_time": "2023-03-16T08:58:17.780Z"
   },
   {
    "duration": 31,
    "start_time": "2023-03-16T08:58:17.801Z"
   },
   {
    "duration": 20,
    "start_time": "2023-03-16T08:58:17.834Z"
   },
   {
    "duration": 546,
    "start_time": "2023-03-16T08:58:17.856Z"
   },
   {
    "duration": 6,
    "start_time": "2023-03-16T08:58:18.404Z"
   },
   {
    "duration": 354,
    "start_time": "2023-03-16T08:58:18.412Z"
   },
   {
    "duration": 4,
    "start_time": "2023-03-16T08:58:18.768Z"
   },
   {
    "duration": 13,
    "start_time": "2023-03-16T08:58:18.774Z"
   },
   {
    "duration": 4,
    "start_time": "2023-03-16T08:58:18.789Z"
   },
   {
    "duration": 4,
    "start_time": "2023-03-16T08:58:18.794Z"
   },
   {
    "duration": 519,
    "start_time": "2023-03-16T08:58:18.799Z"
   },
   {
    "duration": 3,
    "start_time": "2023-03-16T08:58:19.319Z"
   },
   {
    "duration": 128,
    "start_time": "2023-03-16T08:58:19.323Z"
   },
   {
    "duration": 8,
    "start_time": "2023-03-16T08:58:19.452Z"
   },
   {
    "duration": 213,
    "start_time": "2023-03-16T08:58:19.461Z"
   },
   {
    "duration": 124,
    "start_time": "2023-03-16T08:58:19.675Z"
   },
   {
    "duration": 114,
    "start_time": "2023-03-16T08:58:19.800Z"
   },
   {
    "duration": 108,
    "start_time": "2023-03-16T09:24:12.505Z"
   },
   {
    "duration": 6,
    "start_time": "2023-03-16T09:24:33.534Z"
   },
   {
    "duration": 6,
    "start_time": "2023-03-16T09:25:02.459Z"
   },
   {
    "duration": 133,
    "start_time": "2023-03-16T09:34:21.788Z"
   },
   {
    "duration": 107,
    "start_time": "2023-03-16T09:34:34.750Z"
   },
   {
    "duration": 104,
    "start_time": "2023-03-16T09:34:49.617Z"
   },
   {
    "duration": 171,
    "start_time": "2023-03-16T09:35:08.753Z"
   },
   {
    "duration": 177,
    "start_time": "2023-03-16T09:36:11.828Z"
   },
   {
    "duration": 111,
    "start_time": "2023-03-16T09:36:33.585Z"
   },
   {
    "duration": 129,
    "start_time": "2023-03-16T09:36:47.315Z"
   },
   {
    "duration": 1217,
    "start_time": "2023-03-16T09:38:44.036Z"
   },
   {
    "duration": 71,
    "start_time": "2023-03-16T09:38:45.255Z"
   },
   {
    "duration": 15,
    "start_time": "2023-03-16T09:38:45.328Z"
   },
   {
    "duration": 3,
    "start_time": "2023-03-16T09:38:45.346Z"
   },
   {
    "duration": 5,
    "start_time": "2023-03-16T09:38:45.351Z"
   },
   {
    "duration": 25,
    "start_time": "2023-03-16T09:38:45.358Z"
   },
   {
    "duration": 3,
    "start_time": "2023-03-16T09:38:45.385Z"
   },
   {
    "duration": 7,
    "start_time": "2023-03-16T09:38:45.390Z"
   },
   {
    "duration": 6,
    "start_time": "2023-03-16T09:38:45.401Z"
   },
   {
    "duration": 34,
    "start_time": "2023-03-16T09:38:45.411Z"
   },
   {
    "duration": 13,
    "start_time": "2023-03-16T09:38:45.446Z"
   },
   {
    "duration": 21,
    "start_time": "2023-03-16T09:38:45.461Z"
   },
   {
    "duration": 20,
    "start_time": "2023-03-16T09:38:45.484Z"
   },
   {
    "duration": 22,
    "start_time": "2023-03-16T09:38:45.506Z"
   },
   {
    "duration": 13,
    "start_time": "2023-03-16T09:38:45.530Z"
   },
   {
    "duration": 476,
    "start_time": "2023-03-16T09:38:45.545Z"
   },
   {
    "duration": 5,
    "start_time": "2023-03-16T09:38:46.022Z"
   },
   {
    "duration": 363,
    "start_time": "2023-03-16T09:38:46.029Z"
   },
   {
    "duration": 5,
    "start_time": "2023-03-16T09:38:46.394Z"
   },
   {
    "duration": 30,
    "start_time": "2023-03-16T09:38:46.401Z"
   },
   {
    "duration": 10,
    "start_time": "2023-03-16T09:38:46.432Z"
   },
   {
    "duration": 6,
    "start_time": "2023-03-16T09:38:46.444Z"
   },
   {
    "duration": 542,
    "start_time": "2023-03-16T09:38:46.452Z"
   },
   {
    "duration": 3,
    "start_time": "2023-03-16T09:38:46.997Z"
   },
   {
    "duration": 127,
    "start_time": "2023-03-16T09:38:47.002Z"
   },
   {
    "duration": 226,
    "start_time": "2023-03-16T09:38:47.130Z"
   },
   {
    "duration": 152,
    "start_time": "2023-03-16T09:38:47.360Z"
   },
   {
    "duration": 185,
    "start_time": "2023-03-16T09:38:47.517Z"
   },
   {
    "duration": 3,
    "start_time": "2023-03-16T09:38:47.704Z"
   },
   {
    "duration": 140,
    "start_time": "2023-03-16T09:38:47.709Z"
   },
   {
    "duration": 6,
    "start_time": "2023-03-16T09:38:47.851Z"
   },
   {
    "duration": 2,
    "start_time": "2023-03-16T09:38:47.859Z"
   },
   {
    "duration": 106,
    "start_time": "2023-03-16T09:43:31.125Z"
   },
   {
    "duration": 112,
    "start_time": "2023-03-16T09:43:34.640Z"
   },
   {
    "duration": 135,
    "start_time": "2023-03-16T09:43:37.809Z"
   },
   {
    "duration": 117,
    "start_time": "2023-03-16T09:43:40.993Z"
   },
   {
    "duration": 134,
    "start_time": "2023-03-16T09:46:05.716Z"
   },
   {
    "duration": 29,
    "start_time": "2023-03-16T09:46:26.538Z"
   },
   {
    "duration": 153,
    "start_time": "2023-03-16T09:46:58.364Z"
   },
   {
    "duration": 149,
    "start_time": "2023-03-16T09:47:51.904Z"
   },
   {
    "duration": 30,
    "start_time": "2023-03-16T09:49:58.220Z"
   },
   {
    "duration": 131,
    "start_time": "2023-03-16T09:50:04.637Z"
   },
   {
    "duration": 9,
    "start_time": "2023-03-16T09:50:14.194Z"
   },
   {
    "duration": 162,
    "start_time": "2023-03-16T09:50:22.924Z"
   },
   {
    "duration": 122,
    "start_time": "2023-03-16T09:50:30.593Z"
   },
   {
    "duration": 242,
    "start_time": "2023-03-16T09:53:26.740Z"
   },
   {
    "duration": 128,
    "start_time": "2023-03-16T09:53:36.830Z"
   },
   {
    "duration": 44,
    "start_time": "2023-03-16T09:53:43.964Z"
   },
   {
    "duration": 8,
    "start_time": "2023-03-16T09:53:59.898Z"
   },
   {
    "duration": 10,
    "start_time": "2023-03-16T09:54:06.916Z"
   },
   {
    "duration": 123,
    "start_time": "2023-03-16T09:54:13.012Z"
   },
   {
    "duration": 9,
    "start_time": "2023-03-16T09:54:14.351Z"
   },
   {
    "duration": 136,
    "start_time": "2023-03-16T09:54:40.817Z"
   },
   {
    "duration": 6,
    "start_time": "2023-03-16T09:54:45.048Z"
   },
   {
    "duration": 148,
    "start_time": "2023-03-16T09:57:22.393Z"
   },
   {
    "duration": 7,
    "start_time": "2023-03-16T09:58:33.348Z"
   },
   {
    "duration": 156,
    "start_time": "2023-03-16T10:00:13.681Z"
   },
   {
    "duration": 6,
    "start_time": "2023-03-16T10:00:15.217Z"
   },
   {
    "duration": 1277,
    "start_time": "2023-03-16T10:00:22.512Z"
   },
   {
    "duration": 75,
    "start_time": "2023-03-16T10:00:23.791Z"
   },
   {
    "duration": 16,
    "start_time": "2023-03-16T10:00:23.868Z"
   },
   {
    "duration": 6,
    "start_time": "2023-03-16T10:00:23.886Z"
   },
   {
    "duration": 5,
    "start_time": "2023-03-16T10:00:23.894Z"
   },
   {
    "duration": 60,
    "start_time": "2023-03-16T10:00:23.901Z"
   },
   {
    "duration": 3,
    "start_time": "2023-03-16T10:00:23.963Z"
   },
   {
    "duration": 3,
    "start_time": "2023-03-16T10:00:23.968Z"
   },
   {
    "duration": 7,
    "start_time": "2023-03-16T10:00:23.973Z"
   },
   {
    "duration": 7,
    "start_time": "2023-03-16T10:00:23.983Z"
   },
   {
    "duration": 5,
    "start_time": "2023-03-16T10:00:23.991Z"
   },
   {
    "duration": 46,
    "start_time": "2023-03-16T10:00:23.998Z"
   },
   {
    "duration": 4,
    "start_time": "2023-03-16T10:00:24.046Z"
   },
   {
    "duration": 18,
    "start_time": "2023-03-16T10:00:24.052Z"
   },
   {
    "duration": 13,
    "start_time": "2023-03-16T10:00:24.072Z"
   },
   {
    "duration": 510,
    "start_time": "2023-03-16T10:00:24.086Z"
   },
   {
    "duration": 5,
    "start_time": "2023-03-16T10:00:24.598Z"
   },
   {
    "duration": 357,
    "start_time": "2023-03-16T10:00:24.605Z"
   },
   {
    "duration": 6,
    "start_time": "2023-03-16T10:00:24.964Z"
   },
   {
    "duration": 14,
    "start_time": "2023-03-16T10:00:24.972Z"
   },
   {
    "duration": 4,
    "start_time": "2023-03-16T10:00:24.988Z"
   },
   {
    "duration": 5,
    "start_time": "2023-03-16T10:00:24.993Z"
   },
   {
    "duration": 566,
    "start_time": "2023-03-16T10:00:24.999Z"
   },
   {
    "duration": 3,
    "start_time": "2023-03-16T10:00:25.566Z"
   },
   {
    "duration": 135,
    "start_time": "2023-03-16T10:00:25.570Z"
   },
   {
    "duration": 207,
    "start_time": "2023-03-16T10:00:25.707Z"
   },
   {
    "duration": 135,
    "start_time": "2023-03-16T10:00:25.916Z"
   },
   {
    "duration": 123,
    "start_time": "2023-03-16T10:00:26.054Z"
   },
   {
    "duration": 3,
    "start_time": "2023-03-16T10:00:26.179Z"
   },
   {
    "duration": 140,
    "start_time": "2023-03-16T10:00:26.184Z"
   },
   {
    "duration": 18,
    "start_time": "2023-03-16T10:00:26.326Z"
   },
   {
    "duration": 163,
    "start_time": "2023-03-16T10:00:26.347Z"
   },
   {
    "duration": 7,
    "start_time": "2023-03-16T10:00:26.511Z"
   },
   {
    "duration": 146,
    "start_time": "2023-03-16T10:00:26.519Z"
   },
   {
    "duration": 7,
    "start_time": "2023-03-16T10:03:22.533Z"
   },
   {
    "duration": 149,
    "start_time": "2023-03-16T10:03:23.449Z"
   },
   {
    "duration": 6,
    "start_time": "2023-03-16T10:03:25.229Z"
   },
   {
    "duration": 146,
    "start_time": "2023-03-16T10:03:32.041Z"
   },
   {
    "duration": 28,
    "start_time": "2023-03-16T10:04:58.203Z"
   },
   {
    "duration": 3,
    "start_time": "2023-03-16T10:05:15.616Z"
   },
   {
    "duration": 50,
    "start_time": "2023-03-16T10:10:45.108Z"
   },
   {
    "duration": 8,
    "start_time": "2023-03-16T10:12:32.947Z"
   },
   {
    "duration": 1208,
    "start_time": "2023-03-16T10:13:14.216Z"
   },
   {
    "duration": 70,
    "start_time": "2023-03-16T10:13:15.426Z"
   },
   {
    "duration": 14,
    "start_time": "2023-03-16T10:13:15.498Z"
   },
   {
    "duration": 8,
    "start_time": "2023-03-16T10:13:15.514Z"
   },
   {
    "duration": 4,
    "start_time": "2023-03-16T10:13:15.524Z"
   },
   {
    "duration": 29,
    "start_time": "2023-03-16T10:13:15.529Z"
   },
   {
    "duration": 3,
    "start_time": "2023-03-16T10:13:15.560Z"
   },
   {
    "duration": 9,
    "start_time": "2023-03-16T10:13:15.564Z"
   },
   {
    "duration": 7,
    "start_time": "2023-03-16T10:13:15.575Z"
   },
   {
    "duration": 10,
    "start_time": "2023-03-16T10:13:15.583Z"
   },
   {
    "duration": 13,
    "start_time": "2023-03-16T10:13:15.595Z"
   },
   {
    "duration": 16,
    "start_time": "2023-03-16T10:13:15.609Z"
   },
   {
    "duration": 17,
    "start_time": "2023-03-16T10:13:15.626Z"
   },
   {
    "duration": 17,
    "start_time": "2023-03-16T10:13:15.647Z"
   },
   {
    "duration": 12,
    "start_time": "2023-03-16T10:13:15.666Z"
   },
   {
    "duration": 505,
    "start_time": "2023-03-16T10:13:15.679Z"
   },
   {
    "duration": 5,
    "start_time": "2023-03-16T10:13:16.186Z"
   },
   {
    "duration": 325,
    "start_time": "2023-03-16T10:13:16.192Z"
   },
   {
    "duration": 5,
    "start_time": "2023-03-16T10:13:16.518Z"
   },
   {
    "duration": 24,
    "start_time": "2023-03-16T10:13:16.525Z"
   },
   {
    "duration": 11,
    "start_time": "2023-03-16T10:13:16.551Z"
   },
   {
    "duration": 4,
    "start_time": "2023-03-16T10:13:16.564Z"
   },
   {
    "duration": 532,
    "start_time": "2023-03-16T10:13:16.570Z"
   },
   {
    "duration": 2,
    "start_time": "2023-03-16T10:13:17.104Z"
   },
   {
    "duration": 121,
    "start_time": "2023-03-16T10:13:17.108Z"
   },
   {
    "duration": 241,
    "start_time": "2023-03-16T10:13:17.231Z"
   },
   {
    "duration": 153,
    "start_time": "2023-03-16T10:13:17.475Z"
   },
   {
    "duration": 131,
    "start_time": "2023-03-16T10:13:17.630Z"
   },
   {
    "duration": 3,
    "start_time": "2023-03-16T10:13:17.763Z"
   },
   {
    "duration": 148,
    "start_time": "2023-03-16T10:13:17.768Z"
   },
   {
    "duration": 6,
    "start_time": "2023-03-16T10:13:17.918Z"
   },
   {
    "duration": 155,
    "start_time": "2023-03-16T10:13:17.926Z"
   },
   {
    "duration": 6,
    "start_time": "2023-03-16T10:13:18.083Z"
   },
   {
    "duration": 10,
    "start_time": "2023-03-16T10:13:18.091Z"
   },
   {
    "duration": 18,
    "start_time": "2023-03-16T10:13:18.103Z"
   },
   {
    "duration": 277,
    "start_time": "2023-03-16T10:13:18.123Z"
   },
   {
    "duration": 0,
    "start_time": "2023-03-16T10:13:18.402Z"
   },
   {
    "duration": 0,
    "start_time": "2023-03-16T10:13:18.403Z"
   },
   {
    "duration": 6,
    "start_time": "2023-03-16T10:14:58.348Z"
   },
   {
    "duration": 7,
    "start_time": "2023-03-16T10:17:14.749Z"
   },
   {
    "duration": 9,
    "start_time": "2023-03-16T10:18:03.692Z"
   },
   {
    "duration": 6,
    "start_time": "2023-03-16T10:18:07.125Z"
   },
   {
    "duration": 118,
    "start_time": "2023-03-16T10:19:16.300Z"
   },
   {
    "duration": 1325,
    "start_time": "2023-03-16T10:20:46.933Z"
   },
   {
    "duration": 76,
    "start_time": "2023-03-16T10:20:48.260Z"
   },
   {
    "duration": 17,
    "start_time": "2023-03-16T10:20:48.338Z"
   },
   {
    "duration": 4,
    "start_time": "2023-03-16T10:20:48.357Z"
   },
   {
    "duration": 7,
    "start_time": "2023-03-16T10:20:48.363Z"
   },
   {
    "duration": 28,
    "start_time": "2023-03-16T10:20:48.372Z"
   },
   {
    "duration": 2,
    "start_time": "2023-03-16T10:20:48.402Z"
   },
   {
    "duration": 8,
    "start_time": "2023-03-16T10:20:48.406Z"
   },
   {
    "duration": 31,
    "start_time": "2023-03-16T10:20:48.415Z"
   },
   {
    "duration": 8,
    "start_time": "2023-03-16T10:20:48.448Z"
   },
   {
    "duration": 5,
    "start_time": "2023-03-16T10:20:48.458Z"
   },
   {
    "duration": 22,
    "start_time": "2023-03-16T10:20:48.465Z"
   },
   {
    "duration": 22,
    "start_time": "2023-03-16T10:20:48.489Z"
   },
   {
    "duration": 16,
    "start_time": "2023-03-16T10:20:48.515Z"
   },
   {
    "duration": 17,
    "start_time": "2023-03-16T10:20:48.533Z"
   },
   {
    "duration": 501,
    "start_time": "2023-03-16T10:20:48.552Z"
   },
   {
    "duration": 7,
    "start_time": "2023-03-16T10:20:49.055Z"
   },
   {
    "duration": 343,
    "start_time": "2023-03-16T10:20:49.064Z"
   },
   {
    "duration": 5,
    "start_time": "2023-03-16T10:20:49.409Z"
   },
   {
    "duration": 31,
    "start_time": "2023-03-16T10:20:49.416Z"
   },
   {
    "duration": 6,
    "start_time": "2023-03-16T10:20:49.449Z"
   },
   {
    "duration": 3,
    "start_time": "2023-03-16T10:20:49.457Z"
   },
   {
    "duration": 613,
    "start_time": "2023-03-16T10:20:49.462Z"
   },
   {
    "duration": 4,
    "start_time": "2023-03-16T10:20:50.077Z"
   },
   {
    "duration": 121,
    "start_time": "2023-03-16T10:20:50.083Z"
   },
   {
    "duration": 209,
    "start_time": "2023-03-16T10:20:50.206Z"
   },
   {
    "duration": 125,
    "start_time": "2023-03-16T10:20:50.417Z"
   },
   {
    "duration": 114,
    "start_time": "2023-03-16T10:20:50.543Z"
   },
   {
    "duration": 2,
    "start_time": "2023-03-16T10:20:50.659Z"
   },
   {
    "duration": 127,
    "start_time": "2023-03-16T10:20:50.662Z"
   },
   {
    "duration": 6,
    "start_time": "2023-03-16T10:20:50.791Z"
   },
   {
    "duration": 132,
    "start_time": "2023-03-16T10:20:50.798Z"
   },
   {
    "duration": 15,
    "start_time": "2023-03-16T10:20:50.932Z"
   },
   {
    "duration": 4,
    "start_time": "2023-03-16T10:20:50.949Z"
   },
   {
    "duration": 8,
    "start_time": "2023-03-16T10:20:50.955Z"
   },
   {
    "duration": 5,
    "start_time": "2023-03-16T10:20:50.965Z"
   },
   {
    "duration": 8,
    "start_time": "2023-03-16T10:20:50.971Z"
   },
   {
    "duration": 11,
    "start_time": "2023-03-16T10:20:50.980Z"
   },
   {
    "duration": 17,
    "start_time": "2023-03-16T10:20:50.992Z"
   },
   {
    "duration": 34,
    "start_time": "2023-03-16T10:20:51.011Z"
   },
   {
    "duration": 6,
    "start_time": "2023-03-16T10:20:51.048Z"
   },
   {
    "duration": 6,
    "start_time": "2023-03-16T10:20:51.055Z"
   },
   {
    "duration": 8,
    "start_time": "2023-03-16T10:21:21.504Z"
   },
   {
    "duration": 6,
    "start_time": "2023-03-16T10:21:22.740Z"
   },
   {
    "duration": 178,
    "start_time": "2023-03-16T10:23:14.900Z"
   },
   {
    "duration": 133,
    "start_time": "2023-03-16T10:23:23.723Z"
   },
   {
    "duration": 194,
    "start_time": "2023-03-16T10:24:51.741Z"
   },
   {
    "duration": 1424,
    "start_time": "2023-03-16T15:37:31.929Z"
   },
   {
    "duration": 244,
    "start_time": "2023-03-16T15:37:33.356Z"
   },
   {
    "duration": 17,
    "start_time": "2023-03-16T15:37:33.601Z"
   },
   {
    "duration": 5,
    "start_time": "2023-03-16T15:37:33.620Z"
   },
   {
    "duration": 5,
    "start_time": "2023-03-16T15:37:33.626Z"
   },
   {
    "duration": 58,
    "start_time": "2023-03-16T15:37:33.632Z"
   },
   {
    "duration": 3,
    "start_time": "2023-03-16T15:37:33.692Z"
   },
   {
    "duration": 21,
    "start_time": "2023-03-16T15:37:33.697Z"
   },
   {
    "duration": 10,
    "start_time": "2023-03-16T15:37:33.719Z"
   },
   {
    "duration": 11,
    "start_time": "2023-03-16T15:37:33.733Z"
   },
   {
    "duration": 4,
    "start_time": "2023-03-16T15:37:33.745Z"
   },
   {
    "duration": 15,
    "start_time": "2023-03-16T15:37:33.751Z"
   },
   {
    "duration": 4,
    "start_time": "2023-03-16T15:37:33.789Z"
   },
   {
    "duration": 19,
    "start_time": "2023-03-16T15:37:33.796Z"
   },
   {
    "duration": 11,
    "start_time": "2023-03-16T15:37:33.817Z"
   },
   {
    "duration": 508,
    "start_time": "2023-03-16T15:37:33.829Z"
   },
   {
    "duration": 7,
    "start_time": "2023-03-16T15:37:34.339Z"
   },
   {
    "duration": 410,
    "start_time": "2023-03-16T15:37:34.348Z"
   },
   {
    "duration": 6,
    "start_time": "2023-03-16T15:37:34.761Z"
   },
   {
    "duration": 40,
    "start_time": "2023-03-16T15:37:34.769Z"
   },
   {
    "duration": 5,
    "start_time": "2023-03-16T15:37:34.811Z"
   },
   {
    "duration": 20,
    "start_time": "2023-03-16T15:37:34.818Z"
   },
   {
    "duration": 594,
    "start_time": "2023-03-16T15:37:34.840Z"
   },
   {
    "duration": 3,
    "start_time": "2023-03-16T15:37:35.436Z"
   },
   {
    "duration": 229,
    "start_time": "2023-03-16T15:37:35.440Z"
   },
   {
    "duration": 225,
    "start_time": "2023-03-16T15:37:35.671Z"
   },
   {
    "duration": 127,
    "start_time": "2023-03-16T15:37:35.898Z"
   },
   {
    "duration": 137,
    "start_time": "2023-03-16T15:37:36.030Z"
   },
   {
    "duration": 3,
    "start_time": "2023-03-16T15:37:36.169Z"
   },
   {
    "duration": 143,
    "start_time": "2023-03-16T15:37:36.190Z"
   },
   {
    "duration": 5,
    "start_time": "2023-03-16T15:37:36.335Z"
   },
   {
    "duration": 149,
    "start_time": "2023-03-16T15:37:36.342Z"
   },
   {
    "duration": 6,
    "start_time": "2023-03-16T15:37:36.493Z"
   },
   {
    "duration": 5,
    "start_time": "2023-03-16T15:37:36.501Z"
   },
   {
    "duration": 9,
    "start_time": "2023-03-16T15:37:36.507Z"
   },
   {
    "duration": 10,
    "start_time": "2023-03-16T15:37:36.518Z"
   },
   {
    "duration": 9,
    "start_time": "2023-03-16T15:37:36.530Z"
   },
   {
    "duration": 51,
    "start_time": "2023-03-16T15:37:36.541Z"
   },
   {
    "duration": 10,
    "start_time": "2023-03-16T15:37:36.594Z"
   },
   {
    "duration": 13,
    "start_time": "2023-03-16T15:37:36.605Z"
   },
   {
    "duration": 3,
    "start_time": "2023-03-16T15:37:36.620Z"
   },
   {
    "duration": 217,
    "start_time": "2023-03-16T15:37:36.625Z"
   },
   {
    "duration": 3,
    "start_time": "2023-03-16T15:37:36.845Z"
   },
   {
    "duration": 250,
    "start_time": "2023-03-16T15:39:20.370Z"
   },
   {
    "duration": 278,
    "start_time": "2023-03-16T15:40:49.352Z"
   },
   {
    "duration": 183,
    "start_time": "2023-03-16T15:42:49.467Z"
   },
   {
    "duration": 22,
    "start_time": "2023-03-16T15:43:46.177Z"
   },
   {
    "duration": 17,
    "start_time": "2023-03-16T15:44:25.724Z"
   },
   {
    "duration": 28,
    "start_time": "2023-03-16T15:44:55.936Z"
   },
   {
    "duration": 960,
    "start_time": "2023-03-16T15:46:28.786Z"
   },
   {
    "duration": 42,
    "start_time": "2023-03-16T15:46:47.469Z"
   },
   {
    "duration": 731,
    "start_time": "2023-03-16T15:47:11.106Z"
   },
   {
    "duration": 978,
    "start_time": "2023-03-16T15:59:38.842Z"
   },
   {
    "duration": 8,
    "start_time": "2023-03-16T15:59:56.579Z"
   },
   {
    "duration": 8,
    "start_time": "2023-03-16T16:00:05.112Z"
   },
   {
    "duration": 25,
    "start_time": "2023-03-16T16:00:19.017Z"
   },
   {
    "duration": 861,
    "start_time": "2023-03-16T16:00:30.705Z"
   },
   {
    "duration": 17,
    "start_time": "2023-03-16T16:01:30.882Z"
   },
   {
    "duration": 20,
    "start_time": "2023-03-16T16:01:42.719Z"
   },
   {
    "duration": 5,
    "start_time": "2023-03-16T16:02:25.016Z"
   },
   {
    "duration": 3,
    "start_time": "2023-03-16T16:02:28.351Z"
   },
   {
    "duration": 19,
    "start_time": "2023-03-16T16:02:29.611Z"
   },
   {
    "duration": 188,
    "start_time": "2023-03-16T16:02:41.518Z"
   },
   {
    "duration": 181,
    "start_time": "2023-03-16T16:02:51.300Z"
   },
   {
    "duration": 203,
    "start_time": "2023-03-16T16:03:08.610Z"
   },
   {
    "duration": 190,
    "start_time": "2023-03-16T16:03:19.844Z"
   },
   {
    "duration": 141,
    "start_time": "2023-03-16T16:03:25.598Z"
   },
   {
    "duration": 294,
    "start_time": "2023-03-16T16:03:30.895Z"
   },
   {
    "duration": 256,
    "start_time": "2023-03-16T16:04:11.280Z"
   },
   {
    "duration": 297,
    "start_time": "2023-03-16T16:04:28.232Z"
   },
   {
    "duration": 276,
    "start_time": "2023-03-16T16:04:37.836Z"
   },
   {
    "duration": 249,
    "start_time": "2023-03-16T16:04:48.154Z"
   },
   {
    "duration": 369,
    "start_time": "2023-03-16T16:04:55.304Z"
   },
   {
    "duration": 320,
    "start_time": "2023-03-16T16:05:04.864Z"
   },
   {
    "duration": 362,
    "start_time": "2023-03-16T16:05:11.451Z"
   },
   {
    "duration": 284,
    "start_time": "2023-03-16T16:05:18.698Z"
   },
   {
    "duration": 8,
    "start_time": "2023-03-16T16:09:19.768Z"
   },
   {
    "duration": 725,
    "start_time": "2023-03-16T16:09:39.768Z"
   },
   {
    "duration": 4,
    "start_time": "2023-03-16T16:09:49.125Z"
   },
   {
    "duration": 199,
    "start_time": "2023-03-16T16:09:50.321Z"
   },
   {
    "duration": 6,
    "start_time": "2023-03-16T16:10:20.373Z"
   },
   {
    "duration": 9,
    "start_time": "2023-03-16T16:10:34.329Z"
   },
   {
    "duration": 266,
    "start_time": "2023-03-16T16:25:46.322Z"
   },
   {
    "duration": 301,
    "start_time": "2023-03-16T16:26:05.558Z"
   },
   {
    "duration": 200,
    "start_time": "2023-03-16T16:26:46.017Z"
   },
   {
    "duration": 11,
    "start_time": "2023-03-16T16:27:05.970Z"
   },
   {
    "duration": 19,
    "start_time": "2023-03-16T16:27:12.811Z"
   },
   {
    "duration": 34,
    "start_time": "2023-03-16T16:28:07.058Z"
   },
   {
    "duration": 27,
    "start_time": "2023-03-16T16:28:23.017Z"
   },
   {
    "duration": 302,
    "start_time": "2023-03-16T16:30:56.935Z"
   },
   {
    "duration": 317,
    "start_time": "2023-03-16T16:31:28.452Z"
   },
   {
    "duration": 308,
    "start_time": "2023-03-16T16:31:44.084Z"
   },
   {
    "duration": 1422,
    "start_time": "2023-03-16T16:31:53.787Z"
   },
   {
    "duration": 98,
    "start_time": "2023-03-16T16:31:55.211Z"
   },
   {
    "duration": 24,
    "start_time": "2023-03-16T16:31:55.310Z"
   },
   {
    "duration": 5,
    "start_time": "2023-03-16T16:31:55.336Z"
   },
   {
    "duration": 4,
    "start_time": "2023-03-16T16:31:55.343Z"
   },
   {
    "duration": 65,
    "start_time": "2023-03-16T16:31:55.349Z"
   },
   {
    "duration": 3,
    "start_time": "2023-03-16T16:31:55.418Z"
   },
   {
    "duration": 6,
    "start_time": "2023-03-16T16:31:55.423Z"
   },
   {
    "duration": 15,
    "start_time": "2023-03-16T16:31:55.431Z"
   },
   {
    "duration": 43,
    "start_time": "2023-03-16T16:31:55.450Z"
   },
   {
    "duration": 44,
    "start_time": "2023-03-16T16:31:55.495Z"
   },
   {
    "duration": 17,
    "start_time": "2023-03-16T16:31:55.541Z"
   },
   {
    "duration": 6,
    "start_time": "2023-03-16T16:31:55.560Z"
   },
   {
    "duration": 29,
    "start_time": "2023-03-16T16:31:55.568Z"
   },
   {
    "duration": 17,
    "start_time": "2023-03-16T16:31:55.599Z"
   },
   {
    "duration": 713,
    "start_time": "2023-03-16T16:31:55.618Z"
   },
   {
    "duration": 7,
    "start_time": "2023-03-16T16:31:56.334Z"
   },
   {
    "duration": 389,
    "start_time": "2023-03-16T16:31:56.343Z"
   },
   {
    "duration": 5,
    "start_time": "2023-03-16T16:31:56.734Z"
   },
   {
    "duration": 26,
    "start_time": "2023-03-16T16:31:56.742Z"
   },
   {
    "duration": 24,
    "start_time": "2023-03-16T16:31:56.771Z"
   },
   {
    "duration": 11,
    "start_time": "2023-03-16T16:31:56.797Z"
   },
   {
    "duration": 560,
    "start_time": "2023-03-16T16:31:56.810Z"
   },
   {
    "duration": 4,
    "start_time": "2023-03-16T16:31:57.372Z"
   },
   {
    "duration": 135,
    "start_time": "2023-03-16T16:31:57.389Z"
   },
   {
    "duration": 225,
    "start_time": "2023-03-16T16:31:57.526Z"
   },
   {
    "duration": 140,
    "start_time": "2023-03-16T16:31:57.753Z"
   },
   {
    "duration": 174,
    "start_time": "2023-03-16T16:31:57.898Z"
   },
   {
    "duration": 13,
    "start_time": "2023-03-16T16:31:58.075Z"
   },
   {
    "duration": 201,
    "start_time": "2023-03-16T16:31:58.091Z"
   },
   {
    "duration": 7,
    "start_time": "2023-03-16T16:31:58.294Z"
   },
   {
    "duration": 170,
    "start_time": "2023-03-16T16:31:58.303Z"
   },
   {
    "duration": 15,
    "start_time": "2023-03-16T16:31:58.475Z"
   },
   {
    "duration": 3,
    "start_time": "2023-03-16T16:31:58.493Z"
   },
   {
    "duration": 12,
    "start_time": "2023-03-16T16:31:58.498Z"
   },
   {
    "duration": 8,
    "start_time": "2023-03-16T16:31:58.512Z"
   },
   {
    "duration": 9,
    "start_time": "2023-03-16T16:31:58.525Z"
   },
   {
    "duration": 19,
    "start_time": "2023-03-16T16:31:58.535Z"
   },
   {
    "duration": 10,
    "start_time": "2023-03-16T16:31:58.588Z"
   },
   {
    "duration": 7,
    "start_time": "2023-03-16T16:31:58.600Z"
   },
   {
    "duration": 3,
    "start_time": "2023-03-16T16:31:58.609Z"
   },
   {
    "duration": 288,
    "start_time": "2023-03-16T16:31:58.614Z"
   },
   {
    "duration": 295,
    "start_time": "2023-03-16T16:31:58.905Z"
   },
   {
    "duration": 306,
    "start_time": "2023-03-16T16:31:59.202Z"
   },
   {
    "duration": 3,
    "start_time": "2023-03-16T16:31:59.510Z"
   },
   {
    "duration": 31,
    "start_time": "2023-03-16T16:31:59.515Z"
   },
   {
    "duration": 5,
    "start_time": "2023-03-16T16:31:59.548Z"
   },
   {
    "duration": 321,
    "start_time": "2023-03-16T16:31:59.556Z"
   },
   {
    "duration": 12,
    "start_time": "2023-03-16T16:31:59.879Z"
   },
   {
    "duration": 240,
    "start_time": "2023-03-16T16:43:05.665Z"
   },
   {
    "duration": 268,
    "start_time": "2023-03-16T16:43:09.412Z"
   },
   {
    "duration": 395,
    "start_time": "2023-03-16T16:43:19.732Z"
   },
   {
    "duration": 280,
    "start_time": "2023-03-16T16:43:21.396Z"
   },
   {
    "duration": 254,
    "start_time": "2023-03-16T16:43:37.509Z"
   },
   {
    "duration": 193,
    "start_time": "2023-03-16T16:43:39.252Z"
   },
   {
    "duration": 4,
    "start_time": "2023-03-16T16:43:39.892Z"
   },
   {
    "duration": 165,
    "start_time": "2023-03-16T16:47:44.748Z"
   },
   {
    "duration": 280,
    "start_time": "2023-03-16T16:47:52.060Z"
   },
   {
    "duration": 19,
    "start_time": "2023-03-16T16:48:40.867Z"
   },
   {
    "duration": 29,
    "start_time": "2023-03-16T16:48:47.991Z"
   },
   {
    "duration": 704,
    "start_time": "2023-03-16T16:49:01.962Z"
   },
   {
    "duration": 26,
    "start_time": "2023-03-16T16:49:20.746Z"
   },
   {
    "duration": 3,
    "start_time": "2023-03-16T17:11:40.191Z"
   },
   {
    "duration": 3,
    "start_time": "2023-03-16T17:11:47.238Z"
   },
   {
    "duration": 21,
    "start_time": "2023-03-16T17:27:44.636Z"
   },
   {
    "duration": 1246,
    "start_time": "2023-03-16T17:31:46.338Z"
   },
   {
    "duration": 1727,
    "start_time": "2023-03-16T17:32:29.824Z"
   },
   {
    "duration": 111,
    "start_time": "2023-03-16T17:32:31.554Z"
   },
   {
    "duration": 22,
    "start_time": "2023-03-16T17:32:31.667Z"
   },
   {
    "duration": 27,
    "start_time": "2023-03-16T17:32:31.694Z"
   },
   {
    "duration": 20,
    "start_time": "2023-03-16T17:32:31.723Z"
   },
   {
    "duration": 44,
    "start_time": "2023-03-16T17:32:31.746Z"
   },
   {
    "duration": 33,
    "start_time": "2023-03-16T17:32:31.791Z"
   },
   {
    "duration": 25,
    "start_time": "2023-03-16T17:32:31.826Z"
   },
   {
    "duration": 46,
    "start_time": "2023-03-16T17:32:31.853Z"
   },
   {
    "duration": 38,
    "start_time": "2023-03-16T17:32:31.902Z"
   },
   {
    "duration": 19,
    "start_time": "2023-03-16T17:32:31.944Z"
   },
   {
    "duration": 51,
    "start_time": "2023-03-16T17:32:31.965Z"
   },
   {
    "duration": 20,
    "start_time": "2023-03-16T17:32:32.018Z"
   },
   {
    "duration": 51,
    "start_time": "2023-03-16T17:32:32.041Z"
   },
   {
    "duration": 20,
    "start_time": "2023-03-16T17:32:32.094Z"
   },
   {
    "duration": 647,
    "start_time": "2023-03-16T17:32:32.116Z"
   },
   {
    "duration": 6,
    "start_time": "2023-03-16T17:32:32.765Z"
   },
   {
    "duration": 474,
    "start_time": "2023-03-16T17:32:32.773Z"
   },
   {
    "duration": 6,
    "start_time": "2023-03-16T17:32:33.248Z"
   },
   {
    "duration": 44,
    "start_time": "2023-03-16T17:32:33.257Z"
   },
   {
    "duration": 5,
    "start_time": "2023-03-16T17:32:33.303Z"
   },
   {
    "duration": 12,
    "start_time": "2023-03-16T17:32:33.310Z"
   },
   {
    "duration": 695,
    "start_time": "2023-03-16T17:32:33.324Z"
   },
   {
    "duration": 2,
    "start_time": "2023-03-16T17:32:34.021Z"
   },
   {
    "duration": 154,
    "start_time": "2023-03-16T17:32:34.025Z"
   },
   {
    "duration": 259,
    "start_time": "2023-03-16T17:32:34.181Z"
   },
   {
    "duration": 137,
    "start_time": "2023-03-16T17:32:34.442Z"
   },
   {
    "duration": 174,
    "start_time": "2023-03-16T17:32:34.592Z"
   },
   {
    "duration": 3,
    "start_time": "2023-03-16T17:32:34.768Z"
   },
   {
    "duration": 202,
    "start_time": "2023-03-16T17:32:34.773Z"
   },
   {
    "duration": 8,
    "start_time": "2023-03-16T17:32:34.977Z"
   },
   {
    "duration": 241,
    "start_time": "2023-03-16T17:32:34.988Z"
   },
   {
    "duration": 26,
    "start_time": "2023-03-16T17:32:35.231Z"
   },
   {
    "duration": 35,
    "start_time": "2023-03-16T17:32:35.263Z"
   },
   {
    "duration": 102,
    "start_time": "2023-03-16T17:32:35.301Z"
   },
   {
    "duration": 15,
    "start_time": "2023-03-16T17:32:35.410Z"
   },
   {
    "duration": 44,
    "start_time": "2023-03-16T17:32:35.427Z"
   },
   {
    "duration": 30,
    "start_time": "2023-03-16T17:32:35.474Z"
   },
   {
    "duration": 45,
    "start_time": "2023-03-16T17:32:35.507Z"
   },
   {
    "duration": 12,
    "start_time": "2023-03-16T17:32:35.554Z"
   },
   {
    "duration": 8,
    "start_time": "2023-03-16T17:32:35.568Z"
   },
   {
    "duration": 267,
    "start_time": "2023-03-16T17:32:35.578Z"
   },
   {
    "duration": 238,
    "start_time": "2023-03-16T17:32:35.847Z"
   },
   {
    "duration": 2,
    "start_time": "2023-03-16T17:32:36.093Z"
   },
   {
    "duration": 10,
    "start_time": "2023-03-16T17:32:36.097Z"
   },
   {
    "duration": 5,
    "start_time": "2023-03-16T17:32:36.109Z"
   },
   {
    "duration": 5,
    "start_time": "2023-03-16T17:32:36.116Z"
   },
   {
    "duration": 25,
    "start_time": "2023-03-16T17:32:36.123Z"
   },
   {
    "duration": 27,
    "start_time": "2023-03-16T17:32:36.150Z"
   },
   {
    "duration": 58019,
    "start_time": "2023-03-16T17:32:36.179Z"
   },
   {
    "duration": 303,
    "start_time": "2023-03-16T17:39:53.310Z"
   },
   {
    "duration": 296,
    "start_time": "2023-03-16T17:40:07.151Z"
   },
   {
    "duration": 577,
    "start_time": "2023-03-16T17:40:24.862Z"
   },
   {
    "duration": 207,
    "start_time": "2023-03-16T17:41:13.244Z"
   },
   {
    "duration": 224,
    "start_time": "2023-03-16T17:41:17.542Z"
   },
   {
    "duration": 27,
    "start_time": "2023-03-16T17:42:35.347Z"
   },
   {
    "duration": 24,
    "start_time": "2023-03-16T17:42:50.988Z"
   },
   {
    "duration": 15,
    "start_time": "2023-03-16T17:43:05.648Z"
   },
   {
    "duration": 18,
    "start_time": "2023-03-16T17:43:40.594Z"
   },
   {
    "duration": 16,
    "start_time": "2023-03-16T17:43:48.168Z"
   },
   {
    "duration": 10,
    "start_time": "2023-03-16T17:44:06.404Z"
   },
   {
    "duration": 12,
    "start_time": "2023-03-16T17:44:37.247Z"
   },
   {
    "duration": 16,
    "start_time": "2023-03-16T17:44:39.082Z"
   },
   {
    "duration": 3,
    "start_time": "2023-03-16T18:08:32.657Z"
   },
   {
    "duration": 1296,
    "start_time": "2023-03-16T18:14:00.651Z"
   },
   {
    "duration": 84,
    "start_time": "2023-03-16T18:14:01.949Z"
   },
   {
    "duration": 37,
    "start_time": "2023-03-16T18:14:02.034Z"
   },
   {
    "duration": 551,
    "start_time": "2023-03-16T18:14:02.072Z"
   },
   {
    "duration": 30,
    "start_time": "2023-03-16T18:14:02.626Z"
   },
   {
    "duration": 45,
    "start_time": "2023-03-16T18:14:02.658Z"
   },
   {
    "duration": 6,
    "start_time": "2023-03-16T18:14:02.705Z"
   },
   {
    "duration": 49,
    "start_time": "2023-03-16T18:14:02.713Z"
   },
   {
    "duration": 48,
    "start_time": "2023-03-16T18:14:02.764Z"
   },
   {
    "duration": 20,
    "start_time": "2023-03-16T18:14:02.814Z"
   },
   {
    "duration": 37,
    "start_time": "2023-03-16T18:14:02.837Z"
   },
   {
    "duration": 32,
    "start_time": "2023-03-16T18:14:02.876Z"
   },
   {
    "duration": 14,
    "start_time": "2023-03-16T18:14:02.913Z"
   },
   {
    "duration": 28,
    "start_time": "2023-03-16T18:14:02.931Z"
   },
   {
    "duration": 11,
    "start_time": "2023-03-16T18:14:02.961Z"
   },
   {
    "duration": 571,
    "start_time": "2023-03-16T18:14:02.974Z"
   },
   {
    "duration": 5,
    "start_time": "2023-03-16T18:14:03.547Z"
   },
   {
    "duration": 410,
    "start_time": "2023-03-16T18:14:03.554Z"
   },
   {
    "duration": 6,
    "start_time": "2023-03-16T18:14:03.967Z"
   },
   {
    "duration": 20,
    "start_time": "2023-03-16T18:14:03.988Z"
   },
   {
    "duration": 13,
    "start_time": "2023-03-16T18:14:04.010Z"
   },
   {
    "duration": 4,
    "start_time": "2023-03-16T18:14:04.025Z"
   },
   {
    "duration": 634,
    "start_time": "2023-03-16T18:14:04.031Z"
   },
   {
    "duration": 4,
    "start_time": "2023-03-16T18:14:04.668Z"
   },
   {
    "duration": 177,
    "start_time": "2023-03-16T18:14:04.674Z"
   },
   {
    "duration": 252,
    "start_time": "2023-03-16T18:14:04.853Z"
   },
   {
    "duration": 168,
    "start_time": "2023-03-16T18:14:05.107Z"
   },
   {
    "duration": 158,
    "start_time": "2023-03-16T18:14:05.277Z"
   },
   {
    "duration": 3,
    "start_time": "2023-03-16T18:14:05.437Z"
   },
   {
    "duration": 153,
    "start_time": "2023-03-16T18:14:05.443Z"
   },
   {
    "duration": 7,
    "start_time": "2023-03-16T18:14:05.597Z"
   },
   {
    "duration": 163,
    "start_time": "2023-03-16T18:14:05.606Z"
   },
   {
    "duration": 6,
    "start_time": "2023-03-16T18:14:05.771Z"
   },
   {
    "duration": 17,
    "start_time": "2023-03-16T18:14:05.799Z"
   },
   {
    "duration": 9,
    "start_time": "2023-03-16T18:14:05.827Z"
   },
   {
    "duration": 24,
    "start_time": "2023-03-16T18:14:05.838Z"
   },
   {
    "duration": 8,
    "start_time": "2023-03-16T18:14:05.864Z"
   },
   {
    "duration": 5,
    "start_time": "2023-03-16T18:14:05.874Z"
   },
   {
    "duration": 19,
    "start_time": "2023-03-16T18:14:05.881Z"
   },
   {
    "duration": 31,
    "start_time": "2023-03-16T18:14:05.901Z"
   },
   {
    "duration": 6,
    "start_time": "2023-03-16T18:14:05.936Z"
   },
   {
    "duration": 231,
    "start_time": "2023-03-16T18:14:05.943Z"
   },
   {
    "duration": 236,
    "start_time": "2023-03-16T18:14:06.176Z"
   },
   {
    "duration": 4,
    "start_time": "2023-03-16T18:14:06.414Z"
   },
   {
    "duration": 12,
    "start_time": "2023-03-16T18:14:06.420Z"
   },
   {
    "duration": 4,
    "start_time": "2023-03-16T18:14:06.434Z"
   },
   {
    "duration": 5,
    "start_time": "2023-03-16T18:14:06.440Z"
   },
   {
    "duration": 5,
    "start_time": "2023-03-16T18:14:06.446Z"
   },
   {
    "duration": 5,
    "start_time": "2023-03-16T18:14:06.453Z"
   },
   {
    "duration": 52,
    "start_time": "2023-03-16T18:14:06.459Z"
   },
   {
    "duration": 15,
    "start_time": "2023-03-16T18:14:06.513Z"
   },
   {
    "duration": 11,
    "start_time": "2023-03-16T18:14:06.530Z"
   },
   {
    "duration": 10,
    "start_time": "2023-03-16T18:14:06.543Z"
   },
   {
    "duration": 3,
    "start_time": "2023-03-16T18:14:06.555Z"
   },
   {
    "duration": 36,
    "start_time": "2023-03-16T18:14:06.560Z"
   },
   {
    "duration": 14,
    "start_time": "2023-03-16T18:14:59.751Z"
   },
   {
    "duration": 11,
    "start_time": "2023-03-16T18:15:08.149Z"
   },
   {
    "duration": 18,
    "start_time": "2023-03-16T18:18:03.598Z"
   },
   {
    "duration": 10,
    "start_time": "2023-03-16T18:18:47.662Z"
   },
   {
    "duration": 12,
    "start_time": "2023-03-16T18:18:48.473Z"
   },
   {
    "duration": 36,
    "start_time": "2023-03-16T18:39:11.320Z"
   },
   {
    "duration": 13,
    "start_time": "2023-03-16T18:42:47.821Z"
   },
   {
    "duration": 15,
    "start_time": "2023-03-16T18:42:59.904Z"
   },
   {
    "duration": 12,
    "start_time": "2023-03-16T18:43:16.728Z"
   },
   {
    "duration": 164,
    "start_time": "2023-03-16T18:51:20.873Z"
   },
   {
    "duration": 1002,
    "start_time": "2023-03-16T18:52:11.050Z"
   },
   {
    "duration": 26,
    "start_time": "2023-03-16T18:52:20.630Z"
   },
   {
    "duration": 1115,
    "start_time": "2023-03-16T18:52:32.732Z"
   },
   {
    "duration": 18,
    "start_time": "2023-03-16T18:52:34.730Z"
   },
   {
    "duration": 12,
    "start_time": "2023-03-16T18:52:48.439Z"
   },
   {
    "duration": 21,
    "start_time": "2023-03-16T18:54:05.440Z"
   },
   {
    "duration": 24,
    "start_time": "2023-03-16T18:55:10.821Z"
   },
   {
    "duration": 20,
    "start_time": "2023-03-16T18:55:16.736Z"
   },
   {
    "duration": 74,
    "start_time": "2023-03-16T18:55:44.766Z"
   },
   {
    "duration": 40,
    "start_time": "2023-03-16T18:56:00.406Z"
   },
   {
    "duration": 40,
    "start_time": "2023-03-16T18:56:46.934Z"
   },
   {
    "duration": 17,
    "start_time": "2023-03-16T18:56:54.520Z"
   },
   {
    "duration": 23,
    "start_time": "2023-03-16T18:56:56.985Z"
   },
   {
    "duration": 25,
    "start_time": "2023-03-16T18:56:57.982Z"
   },
   {
    "duration": 18,
    "start_time": "2023-03-16T18:57:04.760Z"
   },
   {
    "duration": 12,
    "start_time": "2023-03-16T18:57:33.472Z"
   },
   {
    "duration": 15,
    "start_time": "2023-03-16T18:57:43.949Z"
   },
   {
    "duration": 16,
    "start_time": "2023-03-16T18:58:03.258Z"
   },
   {
    "duration": 23,
    "start_time": "2023-03-16T18:58:05.978Z"
   },
   {
    "duration": 6,
    "start_time": "2023-03-16T18:59:03.232Z"
   },
   {
    "duration": 4,
    "start_time": "2023-03-16T18:59:18.178Z"
   },
   {
    "duration": 6,
    "start_time": "2023-03-16T19:26:09.070Z"
   },
   {
    "duration": 1671,
    "start_time": "2023-03-16T19:27:55.210Z"
   },
   {
    "duration": 17,
    "start_time": "2023-03-16T19:28:15.823Z"
   },
   {
    "duration": 29,
    "start_time": "2023-03-16T19:29:09.487Z"
   },
   {
    "duration": 1510,
    "start_time": "2023-03-16T19:29:20.824Z"
   },
   {
    "duration": 97,
    "start_time": "2023-03-16T19:29:22.337Z"
   },
   {
    "duration": 23,
    "start_time": "2023-03-16T19:29:22.437Z"
   },
   {
    "duration": 5,
    "start_time": "2023-03-16T19:29:22.463Z"
   },
   {
    "duration": 7,
    "start_time": "2023-03-16T19:29:22.488Z"
   },
   {
    "duration": 48,
    "start_time": "2023-03-16T19:29:22.498Z"
   },
   {
    "duration": 4,
    "start_time": "2023-03-16T19:29:22.548Z"
   },
   {
    "duration": 5,
    "start_time": "2023-03-16T19:29:22.554Z"
   },
   {
    "duration": 32,
    "start_time": "2023-03-16T19:29:22.561Z"
   },
   {
    "duration": 14,
    "start_time": "2023-03-16T19:29:22.595Z"
   },
   {
    "duration": 27,
    "start_time": "2023-03-16T19:29:22.611Z"
   },
   {
    "duration": 23,
    "start_time": "2023-03-16T19:29:22.640Z"
   },
   {
    "duration": 5,
    "start_time": "2023-03-16T19:29:22.665Z"
   },
   {
    "duration": 57,
    "start_time": "2023-03-16T19:29:22.673Z"
   },
   {
    "duration": 20,
    "start_time": "2023-03-16T19:29:22.732Z"
   },
   {
    "duration": 639,
    "start_time": "2023-03-16T19:29:22.755Z"
   },
   {
    "duration": 13,
    "start_time": "2023-03-16T19:29:23.399Z"
   },
   {
    "duration": 457,
    "start_time": "2023-03-16T19:29:23.415Z"
   },
   {
    "duration": 23,
    "start_time": "2023-03-16T19:29:23.875Z"
   },
   {
    "duration": 24,
    "start_time": "2023-03-16T19:29:23.901Z"
   },
   {
    "duration": 5,
    "start_time": "2023-03-16T19:29:23.927Z"
   },
   {
    "duration": 9,
    "start_time": "2023-03-16T19:29:23.936Z"
   },
   {
    "duration": 763,
    "start_time": "2023-03-16T19:29:23.947Z"
   },
   {
    "duration": 4,
    "start_time": "2023-03-16T19:29:24.714Z"
   },
   {
    "duration": 164,
    "start_time": "2023-03-16T19:29:24.722Z"
   },
   {
    "duration": 293,
    "start_time": "2023-03-16T19:29:24.888Z"
   },
   {
    "duration": 191,
    "start_time": "2023-03-16T19:29:25.184Z"
   },
   {
    "duration": 180,
    "start_time": "2023-03-16T19:29:25.378Z"
   },
   {
    "duration": 3,
    "start_time": "2023-03-16T19:29:25.560Z"
   },
   {
    "duration": 216,
    "start_time": "2023-03-16T19:29:25.565Z"
   },
   {
    "duration": 13,
    "start_time": "2023-03-16T19:29:25.783Z"
   },
   {
    "duration": 187,
    "start_time": "2023-03-16T19:29:25.798Z"
   },
   {
    "duration": 12,
    "start_time": "2023-03-16T19:29:25.986Z"
   },
   {
    "duration": 20,
    "start_time": "2023-03-16T19:29:26.000Z"
   },
   {
    "duration": 25,
    "start_time": "2023-03-16T19:29:26.023Z"
   },
   {
    "duration": 18,
    "start_time": "2023-03-16T19:29:26.051Z"
   },
   {
    "duration": 25,
    "start_time": "2023-03-16T19:29:26.071Z"
   },
   {
    "duration": 25,
    "start_time": "2023-03-16T19:29:26.098Z"
   },
   {
    "duration": 18,
    "start_time": "2023-03-16T19:29:26.126Z"
   },
   {
    "duration": 37,
    "start_time": "2023-03-16T19:29:26.147Z"
   },
   {
    "duration": 9,
    "start_time": "2023-03-16T19:29:26.191Z"
   },
   {
    "duration": 287,
    "start_time": "2023-03-16T19:29:26.203Z"
   },
   {
    "duration": 244,
    "start_time": "2023-03-16T19:29:26.493Z"
   },
   {
    "duration": 6,
    "start_time": "2023-03-16T19:29:26.739Z"
   },
   {
    "duration": 2,
    "start_time": "2023-03-16T19:29:26.747Z"
   },
   {
    "duration": 2,
    "start_time": "2023-03-16T19:29:26.751Z"
   },
   {
    "duration": 14,
    "start_time": "2023-03-16T19:29:26.755Z"
   },
   {
    "duration": 23,
    "start_time": "2023-03-16T19:29:26.788Z"
   },
   {
    "duration": 23,
    "start_time": "2023-03-16T19:29:26.814Z"
   },
   {
    "duration": 5,
    "start_time": "2023-03-16T19:29:26.844Z"
   },
   {
    "duration": 26,
    "start_time": "2023-03-16T19:29:26.853Z"
   },
   {
    "duration": 26,
    "start_time": "2023-03-16T19:29:26.882Z"
   },
   {
    "duration": 18,
    "start_time": "2023-03-16T19:29:26.910Z"
   },
   {
    "duration": 4,
    "start_time": "2023-03-16T19:29:26.931Z"
   },
   {
    "duration": 19,
    "start_time": "2023-03-16T19:29:26.938Z"
   },
   {
    "duration": 42,
    "start_time": "2023-03-16T19:29:26.958Z"
   },
   {
    "duration": 28,
    "start_time": "2023-03-16T19:29:27.002Z"
   },
   {
    "duration": 13,
    "start_time": "2023-03-16T19:29:27.032Z"
   },
   {
    "duration": 6,
    "start_time": "2023-03-16T19:29:27.049Z"
   },
   {
    "duration": 22,
    "start_time": "2023-03-16T19:29:27.057Z"
   },
   {
    "duration": 21,
    "start_time": "2023-03-16T19:29:27.081Z"
   },
   {
    "duration": 7,
    "start_time": "2023-03-16T19:29:27.105Z"
   },
   {
    "duration": 1248,
    "start_time": "2023-03-16T19:33:24.927Z"
   },
   {
    "duration": 6,
    "start_time": "2023-03-16T19:33:34.338Z"
   },
   {
    "duration": 39,
    "start_time": "2023-03-16T19:34:25.218Z"
   },
   {
    "duration": 56,
    "start_time": "2023-03-17T04:20:00.531Z"
   },
   {
    "duration": 1379,
    "start_time": "2023-03-17T04:20:07.000Z"
   },
   {
    "duration": 115,
    "start_time": "2023-03-17T04:20:08.381Z"
   },
   {
    "duration": 15,
    "start_time": "2023-03-17T04:20:08.498Z"
   },
   {
    "duration": 4,
    "start_time": "2023-03-17T04:20:08.515Z"
   },
   {
    "duration": 10,
    "start_time": "2023-03-17T04:20:08.520Z"
   },
   {
    "duration": 26,
    "start_time": "2023-03-17T04:20:08.531Z"
   },
   {
    "duration": 19,
    "start_time": "2023-03-17T04:20:08.559Z"
   },
   {
    "duration": 6,
    "start_time": "2023-03-17T04:20:08.580Z"
   },
   {
    "duration": 9,
    "start_time": "2023-03-17T04:20:08.588Z"
   },
   {
    "duration": 7,
    "start_time": "2023-03-17T04:20:08.600Z"
   },
   {
    "duration": 4,
    "start_time": "2023-03-17T04:20:08.609Z"
   },
   {
    "duration": 17,
    "start_time": "2023-03-17T04:20:08.614Z"
   },
   {
    "duration": 7,
    "start_time": "2023-03-17T04:20:08.633Z"
   },
   {
    "duration": 49,
    "start_time": "2023-03-17T04:20:08.642Z"
   },
   {
    "duration": 12,
    "start_time": "2023-03-17T04:20:08.693Z"
   },
   {
    "duration": 474,
    "start_time": "2023-03-17T04:20:08.706Z"
   },
   {
    "duration": 6,
    "start_time": "2023-03-17T04:20:09.182Z"
   },
   {
    "duration": 334,
    "start_time": "2023-03-17T04:20:09.190Z"
   },
   {
    "duration": 5,
    "start_time": "2023-03-17T04:20:09.526Z"
   },
   {
    "duration": 16,
    "start_time": "2023-03-17T04:20:09.532Z"
   },
   {
    "duration": 5,
    "start_time": "2023-03-17T04:20:09.550Z"
   },
   {
    "duration": 10,
    "start_time": "2023-03-17T04:20:09.576Z"
   },
   {
    "duration": 501,
    "start_time": "2023-03-17T04:20:09.589Z"
   },
   {
    "duration": 2,
    "start_time": "2023-03-17T04:20:10.092Z"
   },
   {
    "duration": 121,
    "start_time": "2023-03-17T04:20:10.095Z"
   },
   {
    "duration": 199,
    "start_time": "2023-03-17T04:20:10.217Z"
   },
   {
    "duration": 124,
    "start_time": "2023-03-17T04:20:10.418Z"
   },
   {
    "duration": 133,
    "start_time": "2023-03-17T04:20:10.547Z"
   },
   {
    "duration": 3,
    "start_time": "2023-03-17T04:20:10.682Z"
   },
   {
    "duration": 152,
    "start_time": "2023-03-17T04:20:10.687Z"
   },
   {
    "duration": 8,
    "start_time": "2023-03-17T04:20:10.841Z"
   },
   {
    "duration": 184,
    "start_time": "2023-03-17T04:20:10.851Z"
   },
   {
    "duration": 8,
    "start_time": "2023-03-17T04:20:11.036Z"
   },
   {
    "duration": 37,
    "start_time": "2023-03-17T04:20:11.045Z"
   },
   {
    "duration": 22,
    "start_time": "2023-03-17T04:20:11.084Z"
   },
   {
    "duration": 18,
    "start_time": "2023-03-17T04:20:11.109Z"
   },
   {
    "duration": 19,
    "start_time": "2023-03-17T04:20:11.129Z"
   },
   {
    "duration": 20,
    "start_time": "2023-03-17T04:20:11.150Z"
   },
   {
    "duration": 14,
    "start_time": "2023-03-17T04:20:11.172Z"
   },
   {
    "duration": 9,
    "start_time": "2023-03-17T04:20:11.188Z"
   },
   {
    "duration": 25,
    "start_time": "2023-03-17T04:20:11.199Z"
   },
   {
    "duration": 213,
    "start_time": "2023-03-17T04:20:11.225Z"
   },
   {
    "duration": 200,
    "start_time": "2023-03-17T04:20:11.439Z"
   },
   {
    "duration": 3,
    "start_time": "2023-03-17T04:20:11.640Z"
   },
   {
    "duration": 28,
    "start_time": "2023-03-17T04:20:11.645Z"
   },
   {
    "duration": 18,
    "start_time": "2023-03-17T04:20:11.675Z"
   },
   {
    "duration": 14,
    "start_time": "2023-03-17T04:20:11.695Z"
   },
   {
    "duration": 11,
    "start_time": "2023-03-17T04:20:11.711Z"
   },
   {
    "duration": 3,
    "start_time": "2023-03-17T04:20:11.724Z"
   },
   {
    "duration": 14,
    "start_time": "2023-03-17T04:20:11.728Z"
   },
   {
    "duration": 39,
    "start_time": "2023-03-17T04:20:11.744Z"
   },
   {
    "duration": 11,
    "start_time": "2023-03-17T04:20:11.785Z"
   },
   {
    "duration": 8,
    "start_time": "2023-03-17T04:20:11.798Z"
   },
   {
    "duration": 20,
    "start_time": "2023-03-17T04:20:11.808Z"
   },
   {
    "duration": 21,
    "start_time": "2023-03-17T04:20:11.830Z"
   },
   {
    "duration": 29,
    "start_time": "2023-03-17T04:20:11.853Z"
   },
   {
    "duration": 12,
    "start_time": "2023-03-17T04:20:11.883Z"
   },
   {
    "duration": 11,
    "start_time": "2023-03-17T04:20:11.897Z"
   },
   {
    "duration": 17,
    "start_time": "2023-03-17T04:20:11.910Z"
   },
   {
    "duration": 9,
    "start_time": "2023-03-17T04:20:11.929Z"
   },
   {
    "duration": 29,
    "start_time": "2023-03-17T04:20:11.940Z"
   },
   {
    "duration": 19,
    "start_time": "2023-03-17T04:20:11.971Z"
   },
   {
    "duration": 15,
    "start_time": "2023-03-17T04:20:11.992Z"
   },
   {
    "duration": 208,
    "start_time": "2023-03-17T04:23:05.265Z"
   },
   {
    "duration": 238,
    "start_time": "2023-03-17T04:23:23.990Z"
   },
   {
    "duration": 603,
    "start_time": "2023-03-17T04:23:42.751Z"
   },
   {
    "duration": 610,
    "start_time": "2023-03-17T04:24:22.351Z"
   },
   {
    "duration": 229,
    "start_time": "2023-03-17T04:24:57.550Z"
   },
   {
    "duration": 116,
    "start_time": "2023-03-17T04:25:49.440Z"
   },
   {
    "duration": 383,
    "start_time": "2023-03-17T04:25:56.189Z"
   },
   {
    "duration": 1219,
    "start_time": "2023-03-17T04:26:58.952Z"
   },
   {
    "duration": 67,
    "start_time": "2023-03-17T04:27:00.173Z"
   },
   {
    "duration": 17,
    "start_time": "2023-03-17T04:27:00.242Z"
   },
   {
    "duration": 28,
    "start_time": "2023-03-17T04:27:00.261Z"
   },
   {
    "duration": 20,
    "start_time": "2023-03-17T04:27:00.291Z"
   },
   {
    "duration": 33,
    "start_time": "2023-03-17T04:27:00.313Z"
   },
   {
    "duration": 4,
    "start_time": "2023-03-17T04:27:00.348Z"
   },
   {
    "duration": 49,
    "start_time": "2023-03-17T04:27:00.353Z"
   },
   {
    "duration": 53,
    "start_time": "2023-03-17T04:27:00.403Z"
   },
   {
    "duration": 45,
    "start_time": "2023-03-17T04:27:00.459Z"
   },
   {
    "duration": 54,
    "start_time": "2023-03-17T04:27:00.506Z"
   },
   {
    "duration": 50,
    "start_time": "2023-03-17T04:27:00.561Z"
   },
   {
    "duration": 49,
    "start_time": "2023-03-17T04:27:00.613Z"
   },
   {
    "duration": 45,
    "start_time": "2023-03-17T04:27:00.664Z"
   },
   {
    "duration": 28,
    "start_time": "2023-03-17T04:27:00.711Z"
   },
   {
    "duration": 491,
    "start_time": "2023-03-17T04:27:00.741Z"
   },
   {
    "duration": 5,
    "start_time": "2023-03-17T04:27:01.234Z"
   },
   {
    "duration": 389,
    "start_time": "2023-03-17T04:27:01.240Z"
   },
   {
    "duration": 5,
    "start_time": "2023-03-17T04:27:01.631Z"
   },
   {
    "duration": 61,
    "start_time": "2023-03-17T04:27:01.638Z"
   },
   {
    "duration": 29,
    "start_time": "2023-03-17T04:27:01.701Z"
   },
   {
    "duration": 38,
    "start_time": "2023-03-17T04:27:01.732Z"
   },
   {
    "duration": 476,
    "start_time": "2023-03-17T04:27:01.772Z"
   },
   {
    "duration": 3,
    "start_time": "2023-03-17T04:27:02.250Z"
   },
   {
    "duration": 170,
    "start_time": "2023-03-17T04:27:02.255Z"
   },
   {
    "duration": 166,
    "start_time": "2023-03-17T04:27:02.426Z"
   },
   {
    "duration": 252,
    "start_time": "2023-03-17T04:27:02.594Z"
   },
   {
    "duration": 135,
    "start_time": "2023-03-17T04:27:02.852Z"
   },
   {
    "duration": 3,
    "start_time": "2023-03-17T04:27:02.989Z"
   },
   {
    "duration": 148,
    "start_time": "2023-03-17T04:27:02.994Z"
   },
   {
    "duration": 7,
    "start_time": "2023-03-17T04:27:03.145Z"
   },
   {
    "duration": 177,
    "start_time": "2023-03-17T04:27:03.155Z"
   },
   {
    "duration": 7,
    "start_time": "2023-03-17T04:27:03.333Z"
   },
   {
    "duration": 9,
    "start_time": "2023-03-17T04:27:03.342Z"
   },
   {
    "duration": 27,
    "start_time": "2023-03-17T04:27:03.353Z"
   },
   {
    "duration": 27,
    "start_time": "2023-03-17T04:27:03.382Z"
   },
   {
    "duration": 13,
    "start_time": "2023-03-17T04:27:03.411Z"
   },
   {
    "duration": 15,
    "start_time": "2023-03-17T04:27:03.425Z"
   },
   {
    "duration": 15,
    "start_time": "2023-03-17T04:27:03.441Z"
   },
   {
    "duration": 9,
    "start_time": "2023-03-17T04:27:03.458Z"
   },
   {
    "duration": 15,
    "start_time": "2023-03-17T04:27:03.469Z"
   },
   {
    "duration": 202,
    "start_time": "2023-03-17T04:27:03.486Z"
   },
   {
    "duration": 218,
    "start_time": "2023-03-17T04:27:03.689Z"
   },
   {
    "duration": 3,
    "start_time": "2023-03-17T04:27:03.908Z"
   },
   {
    "duration": 9,
    "start_time": "2023-03-17T04:27:03.913Z"
   },
   {
    "duration": 17,
    "start_time": "2023-03-17T04:27:03.924Z"
   },
   {
    "duration": 34,
    "start_time": "2023-03-17T04:27:03.944Z"
   },
   {
    "duration": 12,
    "start_time": "2023-03-17T04:27:03.980Z"
   },
   {
    "duration": 3,
    "start_time": "2023-03-17T04:27:03.994Z"
   },
   {
    "duration": 20,
    "start_time": "2023-03-17T04:27:03.998Z"
   },
   {
    "duration": 13,
    "start_time": "2023-03-17T04:27:04.020Z"
   },
   {
    "duration": 47,
    "start_time": "2023-03-17T04:27:04.034Z"
   },
   {
    "duration": 2,
    "start_time": "2023-03-17T04:27:04.083Z"
   },
   {
    "duration": 24,
    "start_time": "2023-03-17T04:27:04.087Z"
   },
   {
    "duration": 12,
    "start_time": "2023-03-17T04:27:04.112Z"
   },
   {
    "duration": 26,
    "start_time": "2023-03-17T04:27:04.126Z"
   },
   {
    "duration": 3,
    "start_time": "2023-03-17T04:27:04.154Z"
   },
   {
    "duration": 20,
    "start_time": "2023-03-17T04:27:04.158Z"
   },
   {
    "duration": 8,
    "start_time": "2023-03-17T04:27:04.180Z"
   },
   {
    "duration": 14,
    "start_time": "2023-03-17T04:27:04.189Z"
   },
   {
    "duration": 19,
    "start_time": "2023-03-17T04:27:04.205Z"
   },
   {
    "duration": 14,
    "start_time": "2023-03-17T04:27:04.226Z"
   },
   {
    "duration": 9,
    "start_time": "2023-03-17T04:27:04.242Z"
   },
   {
    "duration": 6,
    "start_time": "2023-03-17T04:31:50.359Z"
   },
   {
    "duration": 1271,
    "start_time": "2023-03-17T14:41:31.646Z"
   },
   {
    "duration": 133,
    "start_time": "2023-03-17T14:41:32.918Z"
   },
   {
    "duration": 14,
    "start_time": "2023-03-17T14:41:33.053Z"
   },
   {
    "duration": 45,
    "start_time": "2023-03-17T14:41:33.069Z"
   },
   {
    "duration": 22,
    "start_time": "2023-03-17T14:41:33.115Z"
   },
   {
    "duration": 29,
    "start_time": "2023-03-17T14:41:33.139Z"
   },
   {
    "duration": 7,
    "start_time": "2023-03-17T14:41:33.170Z"
   },
   {
    "duration": 32,
    "start_time": "2023-03-17T14:41:33.178Z"
   },
   {
    "duration": 35,
    "start_time": "2023-03-17T14:41:33.212Z"
   },
   {
    "duration": 19,
    "start_time": "2023-03-17T14:41:33.249Z"
   },
   {
    "duration": 8,
    "start_time": "2023-03-17T14:41:48.742Z"
   },
   {
    "duration": 5,
    "start_time": "2023-03-17T14:41:52.342Z"
   },
   {
    "duration": 15,
    "start_time": "2023-03-17T14:41:53.626Z"
   },
   {
    "duration": 53,
    "start_time": "2023-03-17T14:42:13.418Z"
   },
   {
    "duration": 9,
    "start_time": "2023-03-17T14:42:30.248Z"
   },
   {
    "duration": 13,
    "start_time": "2023-03-17T14:42:50.826Z"
   },
   {
    "duration": 6,
    "start_time": "2023-03-17T14:43:15.634Z"
   },
   {
    "duration": 11,
    "start_time": "2023-03-17T14:47:34.119Z"
   },
   {
    "duration": 3,
    "start_time": "2023-03-17T14:54:51.013Z"
   },
   {
    "duration": 102,
    "start_time": "2023-03-17T14:54:51.018Z"
   },
   {
    "duration": 18,
    "start_time": "2023-03-17T14:54:51.124Z"
   },
   {
    "duration": 25,
    "start_time": "2023-03-17T14:54:51.144Z"
   },
   {
    "duration": 35,
    "start_time": "2023-03-17T14:54:51.172Z"
   },
   {
    "duration": 23,
    "start_time": "2023-03-17T14:54:51.209Z"
   },
   {
    "duration": 4,
    "start_time": "2023-03-17T14:54:51.234Z"
   },
   {
    "duration": 11,
    "start_time": "2023-03-17T14:54:51.240Z"
   },
   {
    "duration": 15,
    "start_time": "2023-03-17T14:54:51.252Z"
   },
   {
    "duration": 31,
    "start_time": "2023-03-17T14:54:51.268Z"
   },
   {
    "duration": 4,
    "start_time": "2023-03-17T14:54:51.302Z"
   },
   {
    "duration": 15,
    "start_time": "2023-03-17T14:54:51.308Z"
   },
   {
    "duration": 7,
    "start_time": "2023-03-17T14:54:51.325Z"
   },
   {
    "duration": 25,
    "start_time": "2023-03-17T14:54:51.333Z"
   },
   {
    "duration": 9,
    "start_time": "2023-03-17T14:54:51.359Z"
   },
   {
    "duration": 5,
    "start_time": "2023-03-17T14:54:51.369Z"
   },
   {
    "duration": 521,
    "start_time": "2023-03-17T14:54:51.376Z"
   },
   {
    "duration": 15,
    "start_time": "2023-03-17T14:54:51.898Z"
   },
   {
    "duration": 331,
    "start_time": "2023-03-17T14:54:51.914Z"
   },
   {
    "duration": 4,
    "start_time": "2023-03-17T14:54:52.247Z"
   },
   {
    "duration": 65,
    "start_time": "2023-03-17T14:54:52.253Z"
   },
   {
    "duration": 45,
    "start_time": "2023-03-17T14:54:52.320Z"
   },
   {
    "duration": 78,
    "start_time": "2023-03-17T14:54:52.366Z"
   },
   {
    "duration": 416,
    "start_time": "2023-03-17T14:54:52.446Z"
   },
   {
    "duration": 353,
    "start_time": "2023-03-17T14:55:07.267Z"
   },
   {
    "duration": 306,
    "start_time": "2023-03-17T14:56:20.779Z"
   },
   {
    "duration": 5,
    "start_time": "2023-03-17T14:56:32.928Z"
   },
   {
    "duration": 10,
    "start_time": "2023-03-17T14:56:45.323Z"
   },
   {
    "duration": 132,
    "start_time": "2023-03-17T14:56:58.778Z"
   },
   {
    "duration": 3,
    "start_time": "2023-03-17T15:00:30.708Z"
   },
   {
    "duration": 126,
    "start_time": "2023-03-17T15:00:30.712Z"
   },
   {
    "duration": 13,
    "start_time": "2023-03-17T15:00:30.840Z"
   },
   {
    "duration": 22,
    "start_time": "2023-03-17T15:00:30.854Z"
   },
   {
    "duration": 65,
    "start_time": "2023-03-17T15:00:30.877Z"
   },
   {
    "duration": 83,
    "start_time": "2023-03-17T15:00:30.944Z"
   },
   {
    "duration": 37,
    "start_time": "2023-03-17T15:00:31.029Z"
   },
   {
    "duration": 78,
    "start_time": "2023-03-17T15:00:31.067Z"
   },
   {
    "duration": 97,
    "start_time": "2023-03-17T15:00:31.147Z"
   },
   {
    "duration": 65,
    "start_time": "2023-03-17T15:00:31.246Z"
   },
   {
    "duration": 55,
    "start_time": "2023-03-17T15:00:31.313Z"
   },
   {
    "duration": 73,
    "start_time": "2023-03-17T15:00:31.370Z"
   },
   {
    "duration": 77,
    "start_time": "2023-03-17T15:00:31.445Z"
   },
   {
    "duration": 73,
    "start_time": "2023-03-17T15:00:31.524Z"
   },
   {
    "duration": 29,
    "start_time": "2023-03-17T15:00:31.598Z"
   },
   {
    "duration": 33,
    "start_time": "2023-03-17T15:00:31.629Z"
   },
   {
    "duration": 53,
    "start_time": "2023-03-17T15:00:31.663Z"
   },
   {
    "duration": 392,
    "start_time": "2023-03-17T15:00:31.717Z"
   },
   {
    "duration": 5,
    "start_time": "2023-03-17T15:00:32.111Z"
   },
   {
    "duration": 339,
    "start_time": "2023-03-17T15:00:32.119Z"
   },
   {
    "duration": 5,
    "start_time": "2023-03-17T15:00:32.460Z"
   },
   {
    "duration": 54,
    "start_time": "2023-03-17T15:00:32.466Z"
   },
   {
    "duration": 10,
    "start_time": "2023-03-17T15:00:32.521Z"
   },
   {
    "duration": 24,
    "start_time": "2023-03-17T15:00:32.532Z"
   },
   {
    "duration": 357,
    "start_time": "2023-03-17T15:00:32.558Z"
   },
   {
    "duration": 3,
    "start_time": "2023-03-17T15:00:32.916Z"
   },
   {
    "duration": 140,
    "start_time": "2023-03-17T15:00:32.920Z"
   },
   {
    "duration": 129,
    "start_time": "2023-03-17T15:00:33.062Z"
   },
   {
    "duration": 165,
    "start_time": "2023-03-17T15:00:33.200Z"
   },
   {
    "duration": 95,
    "start_time": "2023-03-17T15:00:33.366Z"
   },
   {
    "duration": 2,
    "start_time": "2023-03-17T15:00:33.462Z"
   },
   {
    "duration": 110,
    "start_time": "2023-03-17T15:00:33.491Z"
   },
   {
    "duration": 8,
    "start_time": "2023-03-17T15:00:33.603Z"
   },
   {
    "duration": 192,
    "start_time": "2023-03-17T15:00:33.613Z"
   },
   {
    "duration": 9,
    "start_time": "2023-03-17T15:00:33.807Z"
   },
   {
    "duration": 13,
    "start_time": "2023-03-17T15:00:33.817Z"
   },
   {
    "duration": 15,
    "start_time": "2023-03-17T15:00:33.831Z"
   },
   {
    "duration": 7,
    "start_time": "2023-03-17T15:00:33.847Z"
   },
   {
    "duration": 20,
    "start_time": "2023-03-17T15:00:33.855Z"
   },
   {
    "duration": 31,
    "start_time": "2023-03-17T15:00:33.877Z"
   },
   {
    "duration": 11,
    "start_time": "2023-03-17T15:00:33.909Z"
   },
   {
    "duration": 11,
    "start_time": "2023-03-17T15:00:33.922Z"
   },
   {
    "duration": 16,
    "start_time": "2023-03-17T15:00:33.934Z"
   },
   {
    "duration": 187,
    "start_time": "2023-03-17T15:00:33.951Z"
   },
   {
    "duration": 174,
    "start_time": "2023-03-17T15:00:34.140Z"
   },
   {
    "duration": 3,
    "start_time": "2023-03-17T15:00:34.316Z"
   },
   {
    "duration": 1127,
    "start_time": "2023-03-17T15:02:22.909Z"
   },
   {
    "duration": 68,
    "start_time": "2023-03-17T15:02:24.038Z"
   },
   {
    "duration": 15,
    "start_time": "2023-03-17T15:02:24.107Z"
   },
   {
    "duration": 6,
    "start_time": "2023-03-17T15:02:24.124Z"
   },
   {
    "duration": 25,
    "start_time": "2023-03-17T15:02:24.132Z"
   },
   {
    "duration": 39,
    "start_time": "2023-03-17T15:02:24.159Z"
   },
   {
    "duration": 15,
    "start_time": "2023-03-17T15:02:24.200Z"
   },
   {
    "duration": 11,
    "start_time": "2023-03-17T15:02:24.216Z"
   },
   {
    "duration": 24,
    "start_time": "2023-03-17T15:02:24.229Z"
   },
   {
    "duration": 19,
    "start_time": "2023-03-17T15:02:24.255Z"
   },
   {
    "duration": 31,
    "start_time": "2023-03-17T15:02:24.275Z"
   },
   {
    "duration": 27,
    "start_time": "2023-03-17T15:02:24.307Z"
   },
   {
    "duration": 20,
    "start_time": "2023-03-17T15:02:24.335Z"
   },
   {
    "duration": 40,
    "start_time": "2023-03-17T15:02:24.357Z"
   },
   {
    "duration": 48,
    "start_time": "2023-03-17T15:02:24.399Z"
   },
   {
    "duration": 24,
    "start_time": "2023-03-17T15:02:24.449Z"
   },
   {
    "duration": 38,
    "start_time": "2023-03-17T15:02:24.475Z"
   },
   {
    "duration": 400,
    "start_time": "2023-03-17T15:02:24.515Z"
   },
   {
    "duration": 5,
    "start_time": "2023-03-17T15:02:24.917Z"
   },
   {
    "duration": 293,
    "start_time": "2023-03-17T15:02:24.924Z"
   },
   {
    "duration": 5,
    "start_time": "2023-03-17T15:02:25.219Z"
   },
   {
    "duration": 20,
    "start_time": "2023-03-17T15:02:25.225Z"
   },
   {
    "duration": 9,
    "start_time": "2023-03-17T15:02:25.247Z"
   },
   {
    "duration": 6,
    "start_time": "2023-03-17T15:02:25.257Z"
   },
   {
    "duration": 306,
    "start_time": "2023-03-17T15:02:25.265Z"
   },
   {
    "duration": 8,
    "start_time": "2023-03-17T15:02:25.572Z"
   },
   {
    "duration": 127,
    "start_time": "2023-03-17T15:02:25.581Z"
   },
   {
    "duration": 121,
    "start_time": "2023-03-17T15:02:25.713Z"
   },
   {
    "duration": 166,
    "start_time": "2023-03-17T15:02:25.835Z"
   },
   {
    "duration": 102,
    "start_time": "2023-03-17T15:02:26.003Z"
   },
   {
    "duration": 3,
    "start_time": "2023-03-17T15:02:26.107Z"
   },
   {
    "duration": 116,
    "start_time": "2023-03-17T15:02:26.111Z"
   },
   {
    "duration": 6,
    "start_time": "2023-03-17T15:02:26.228Z"
   },
   {
    "duration": 136,
    "start_time": "2023-03-17T15:02:26.235Z"
   },
   {
    "duration": 6,
    "start_time": "2023-03-17T15:02:26.372Z"
   },
   {
    "duration": 30,
    "start_time": "2023-03-17T15:02:26.380Z"
   },
   {
    "duration": 33,
    "start_time": "2023-03-17T15:02:26.411Z"
   },
   {
    "duration": 28,
    "start_time": "2023-03-17T15:02:26.446Z"
   },
   {
    "duration": 38,
    "start_time": "2023-03-17T15:02:26.475Z"
   },
   {
    "duration": 11,
    "start_time": "2023-03-17T15:02:26.514Z"
   },
   {
    "duration": 12,
    "start_time": "2023-03-17T15:02:26.526Z"
   },
   {
    "duration": 15,
    "start_time": "2023-03-17T15:02:26.540Z"
   },
   {
    "duration": 8,
    "start_time": "2023-03-17T15:02:26.556Z"
   },
   {
    "duration": 179,
    "start_time": "2023-03-17T15:02:26.565Z"
   },
   {
    "duration": 171,
    "start_time": "2023-03-17T15:02:26.745Z"
   },
   {
    "duration": 2,
    "start_time": "2023-03-17T15:02:26.918Z"
   },
   {
    "duration": 8,
    "start_time": "2023-03-17T15:02:26.921Z"
   },
   {
    "duration": 14,
    "start_time": "2023-03-17T15:02:26.931Z"
   },
   {
    "duration": 10,
    "start_time": "2023-03-17T15:02:26.947Z"
   },
   {
    "duration": 39,
    "start_time": "2023-03-17T15:02:26.959Z"
   },
   {
    "duration": 3,
    "start_time": "2023-03-17T15:02:26.999Z"
   },
   {
    "duration": 20,
    "start_time": "2023-03-17T15:02:27.004Z"
   },
   {
    "duration": 10,
    "start_time": "2023-03-17T15:02:27.025Z"
   },
   {
    "duration": 9,
    "start_time": "2023-03-17T15:02:27.036Z"
   },
   {
    "duration": 2,
    "start_time": "2023-03-17T15:02:27.046Z"
   },
   {
    "duration": 24,
    "start_time": "2023-03-17T15:02:27.050Z"
   },
   {
    "duration": 28,
    "start_time": "2023-03-17T15:02:27.076Z"
   },
   {
    "duration": 12,
    "start_time": "2023-03-17T15:02:27.106Z"
   },
   {
    "duration": 3,
    "start_time": "2023-03-17T15:02:27.120Z"
   },
   {
    "duration": 26,
    "start_time": "2023-03-17T15:02:27.125Z"
   },
   {
    "duration": 11,
    "start_time": "2023-03-17T15:02:27.153Z"
   },
   {
    "duration": 9,
    "start_time": "2023-03-17T15:02:27.167Z"
   },
   {
    "duration": 50,
    "start_time": "2023-03-17T15:02:27.178Z"
   },
   {
    "duration": 76,
    "start_time": "2023-03-17T15:02:27.231Z"
   },
   {
    "duration": 18,
    "start_time": "2023-03-17T15:02:27.309Z"
   },
   {
    "duration": 1382,
    "start_time": "2023-03-17T15:15:07.811Z"
   },
   {
    "duration": 77,
    "start_time": "2023-03-17T15:15:09.199Z"
   },
   {
    "duration": 39,
    "start_time": "2023-03-17T15:15:09.277Z"
   },
   {
    "duration": 18,
    "start_time": "2023-03-17T15:15:09.319Z"
   },
   {
    "duration": 14,
    "start_time": "2023-03-17T15:15:09.340Z"
   },
   {
    "duration": 34,
    "start_time": "2023-03-17T15:15:09.356Z"
   },
   {
    "duration": 25,
    "start_time": "2023-03-17T15:15:09.391Z"
   },
   {
    "duration": 8,
    "start_time": "2023-03-17T15:15:09.418Z"
   },
   {
    "duration": 12,
    "start_time": "2023-03-17T15:15:09.427Z"
   },
   {
    "duration": 27,
    "start_time": "2023-03-17T15:15:09.441Z"
   },
   {
    "duration": 31,
    "start_time": "2023-03-17T15:15:09.470Z"
   },
   {
    "duration": 54,
    "start_time": "2023-03-17T15:15:09.503Z"
   },
   {
    "duration": 8,
    "start_time": "2023-03-17T15:15:09.559Z"
   },
   {
    "duration": 29,
    "start_time": "2023-03-17T15:15:09.570Z"
   },
   {
    "duration": 29,
    "start_time": "2023-03-17T15:15:09.601Z"
   },
   {
    "duration": 470,
    "start_time": "2023-03-17T15:15:09.632Z"
   },
   {
    "duration": 6,
    "start_time": "2023-03-17T15:15:10.111Z"
   },
   {
    "duration": 382,
    "start_time": "2023-03-17T15:15:10.119Z"
   },
   {
    "duration": 11,
    "start_time": "2023-03-17T15:15:10.508Z"
   },
   {
    "duration": 17,
    "start_time": "2023-03-17T15:15:10.521Z"
   },
   {
    "duration": 5,
    "start_time": "2023-03-17T15:15:10.541Z"
   },
   {
    "duration": 6,
    "start_time": "2023-03-17T15:15:10.548Z"
   },
   {
    "duration": 351,
    "start_time": "2023-03-17T15:15:10.556Z"
   },
   {
    "duration": 12,
    "start_time": "2023-03-17T15:15:10.909Z"
   },
   {
    "duration": 166,
    "start_time": "2023-03-17T15:15:10.923Z"
   },
   {
    "duration": 142,
    "start_time": "2023-03-17T15:15:11.091Z"
   },
   {
    "duration": 202,
    "start_time": "2023-03-17T15:15:11.236Z"
   },
   {
    "duration": 124,
    "start_time": "2023-03-17T15:15:11.440Z"
   },
   {
    "duration": 3,
    "start_time": "2023-03-17T15:15:11.566Z"
   },
   {
    "duration": 221,
    "start_time": "2023-03-17T15:15:11.581Z"
   },
   {
    "duration": 12,
    "start_time": "2023-03-17T15:15:11.812Z"
   },
   {
    "duration": 148,
    "start_time": "2023-03-17T15:15:11.826Z"
   },
   {
    "duration": 8,
    "start_time": "2023-03-17T15:15:11.976Z"
   },
   {
    "duration": 28,
    "start_time": "2023-03-17T15:15:11.987Z"
   },
   {
    "duration": 20,
    "start_time": "2023-03-17T15:15:12.017Z"
   },
   {
    "duration": 11,
    "start_time": "2023-03-17T15:15:12.038Z"
   },
   {
    "duration": 11,
    "start_time": "2023-03-17T15:15:12.050Z"
   },
   {
    "duration": 22,
    "start_time": "2023-03-17T15:15:12.063Z"
   },
   {
    "duration": 11,
    "start_time": "2023-03-17T15:15:12.098Z"
   },
   {
    "duration": 37,
    "start_time": "2023-03-17T15:15:12.110Z"
   },
   {
    "duration": 18,
    "start_time": "2023-03-17T15:15:12.152Z"
   },
   {
    "duration": 202,
    "start_time": "2023-03-17T15:15:12.171Z"
   },
   {
    "duration": 192,
    "start_time": "2023-03-17T15:15:12.375Z"
   },
   {
    "duration": 3,
    "start_time": "2023-03-17T15:15:12.569Z"
   },
   {
    "duration": 28,
    "start_time": "2023-03-17T15:15:12.573Z"
   },
   {
    "duration": 14,
    "start_time": "2023-03-17T15:15:12.602Z"
   },
   {
    "duration": 9,
    "start_time": "2023-03-17T15:15:12.618Z"
   },
   {
    "duration": 11,
    "start_time": "2023-03-17T15:15:12.628Z"
   },
   {
    "duration": 7,
    "start_time": "2023-03-17T15:15:12.641Z"
   },
   {
    "duration": 14,
    "start_time": "2023-03-17T15:15:12.650Z"
   },
   {
    "duration": 36,
    "start_time": "2023-03-17T15:15:12.666Z"
   },
   {
    "duration": 11,
    "start_time": "2023-03-17T15:15:12.704Z"
   },
   {
    "duration": 2,
    "start_time": "2023-03-17T15:15:12.717Z"
   },
   {
    "duration": 16,
    "start_time": "2023-03-17T15:15:12.721Z"
   },
   {
    "duration": 14,
    "start_time": "2023-03-17T15:15:12.739Z"
   },
   {
    "duration": 34,
    "start_time": "2023-03-17T15:15:12.755Z"
   },
   {
    "duration": 12,
    "start_time": "2023-03-17T15:15:12.790Z"
   },
   {
    "duration": 12,
    "start_time": "2023-03-17T15:15:12.803Z"
   },
   {
    "duration": 7,
    "start_time": "2023-03-17T15:15:12.817Z"
   },
   {
    "duration": 13,
    "start_time": "2023-03-17T15:15:12.826Z"
   },
   {
    "duration": 13,
    "start_time": "2023-03-17T15:15:12.841Z"
   },
   {
    "duration": 12,
    "start_time": "2023-03-17T15:15:12.856Z"
   },
   {
    "duration": 7,
    "start_time": "2023-03-17T15:15:12.870Z"
   },
   {
    "duration": 1294,
    "start_time": "2023-03-18T07:41:38.801Z"
   },
   {
    "duration": 204,
    "start_time": "2023-03-18T07:41:40.097Z"
   },
   {
    "duration": 14,
    "start_time": "2023-03-18T07:41:40.303Z"
   },
   {
    "duration": 4,
    "start_time": "2023-03-18T07:41:40.319Z"
   },
   {
    "duration": 6,
    "start_time": "2023-03-18T07:41:40.324Z"
   },
   {
    "duration": 21,
    "start_time": "2023-03-18T07:41:40.332Z"
   },
   {
    "duration": 2,
    "start_time": "2023-03-18T07:41:40.354Z"
   },
   {
    "duration": 8,
    "start_time": "2023-03-18T07:41:40.358Z"
   },
   {
    "duration": 5,
    "start_time": "2023-03-18T07:41:40.390Z"
   },
   {
    "duration": 8,
    "start_time": "2023-03-18T07:41:40.398Z"
   },
   {
    "duration": 5,
    "start_time": "2023-03-18T07:41:40.407Z"
   },
   {
    "duration": 11,
    "start_time": "2023-03-18T07:41:40.414Z"
   },
   {
    "duration": 5,
    "start_time": "2023-03-18T07:41:40.427Z"
   },
   {
    "duration": 21,
    "start_time": "2023-03-18T07:41:40.433Z"
   },
   {
    "duration": 34,
    "start_time": "2023-03-18T07:41:40.456Z"
   },
   {
    "duration": 433,
    "start_time": "2023-03-18T07:41:40.492Z"
   },
   {
    "duration": 5,
    "start_time": "2023-03-18T07:41:40.927Z"
   },
   {
    "duration": 318,
    "start_time": "2023-03-18T07:41:40.934Z"
   },
   {
    "duration": 4,
    "start_time": "2023-03-18T07:41:41.254Z"
   },
   {
    "duration": 13,
    "start_time": "2023-03-18T07:41:41.260Z"
   },
   {
    "duration": 5,
    "start_time": "2023-03-18T07:41:41.288Z"
   },
   {
    "duration": 4,
    "start_time": "2023-03-18T07:41:41.295Z"
   },
   {
    "duration": 339,
    "start_time": "2023-03-18T07:41:41.301Z"
   },
   {
    "duration": 2,
    "start_time": "2023-03-18T07:41:41.642Z"
   },
   {
    "duration": 117,
    "start_time": "2023-03-18T07:41:41.646Z"
   },
   {
    "duration": 182,
    "start_time": "2023-03-18T07:41:41.764Z"
   },
   {
    "duration": 122,
    "start_time": "2023-03-18T07:41:41.948Z"
   },
   {
    "duration": 131,
    "start_time": "2023-03-18T07:41:42.075Z"
   },
   {
    "duration": 3,
    "start_time": "2023-03-18T07:41:42.208Z"
   },
   {
    "duration": 133,
    "start_time": "2023-03-18T07:41:42.213Z"
   },
   {
    "duration": 6,
    "start_time": "2023-03-18T07:41:42.348Z"
   },
   {
    "duration": 146,
    "start_time": "2023-03-18T07:41:42.356Z"
   },
   {
    "duration": 5,
    "start_time": "2023-03-18T07:41:42.504Z"
   },
   {
    "duration": 4,
    "start_time": "2023-03-18T07:41:42.511Z"
   },
   {
    "duration": 14,
    "start_time": "2023-03-18T07:41:42.516Z"
   },
   {
    "duration": 5,
    "start_time": "2023-03-18T07:41:42.532Z"
   },
   {
    "duration": 10,
    "start_time": "2023-03-18T07:41:42.539Z"
   },
   {
    "duration": 6,
    "start_time": "2023-03-18T07:41:42.550Z"
   },
   {
    "duration": 7,
    "start_time": "2023-03-18T07:41:42.589Z"
   },
   {
    "duration": 19,
    "start_time": "2023-03-18T07:41:42.597Z"
   },
   {
    "duration": 35,
    "start_time": "2023-03-18T07:41:42.618Z"
   },
   {
    "duration": 206,
    "start_time": "2023-03-18T07:41:42.655Z"
   },
   {
    "duration": 188,
    "start_time": "2023-03-18T07:41:42.862Z"
   },
   {
    "duration": 2,
    "start_time": "2023-03-18T07:41:43.052Z"
   },
   {
    "duration": 4,
    "start_time": "2023-03-18T07:41:43.056Z"
   },
   {
    "duration": 21,
    "start_time": "2023-03-18T07:41:43.062Z"
   },
   {
    "duration": 19,
    "start_time": "2023-03-18T07:41:43.085Z"
   },
   {
    "duration": 10,
    "start_time": "2023-03-18T07:41:43.105Z"
   },
   {
    "duration": 2,
    "start_time": "2023-03-18T07:41:43.117Z"
   },
   {
    "duration": 10,
    "start_time": "2023-03-18T07:41:43.121Z"
   },
   {
    "duration": 9,
    "start_time": "2023-03-18T07:41:43.133Z"
   },
   {
    "duration": 9,
    "start_time": "2023-03-18T07:41:43.143Z"
   },
   {
    "duration": 2,
    "start_time": "2023-03-18T07:41:43.153Z"
   },
   {
    "duration": 43,
    "start_time": "2023-03-18T07:41:43.156Z"
   },
   {
    "duration": 15,
    "start_time": "2023-03-18T07:41:43.200Z"
   },
   {
    "duration": 9,
    "start_time": "2023-03-18T07:41:43.217Z"
   },
   {
    "duration": 8,
    "start_time": "2023-03-18T07:41:43.227Z"
   },
   {
    "duration": 9,
    "start_time": "2023-03-18T07:41:43.236Z"
   },
   {
    "duration": 8,
    "start_time": "2023-03-18T07:41:43.246Z"
   },
   {
    "duration": 7,
    "start_time": "2023-03-18T07:41:43.255Z"
   },
   {
    "duration": 7,
    "start_time": "2023-03-18T07:41:43.263Z"
   },
   {
    "duration": 19,
    "start_time": "2023-03-18T07:41:43.272Z"
   },
   {
    "duration": 10,
    "start_time": "2023-03-18T07:41:43.293Z"
   },
   {
    "duration": 3,
    "start_time": "2023-03-18T08:02:10.605Z"
   },
   {
    "duration": 8,
    "start_time": "2023-03-18T08:30:38.255Z"
   },
   {
    "duration": 9,
    "start_time": "2023-03-18T08:30:49.900Z"
   },
   {
    "duration": 16,
    "start_time": "2023-03-18T08:35:51.672Z"
   },
   {
    "duration": 12,
    "start_time": "2023-03-18T08:36:00.552Z"
   },
   {
    "duration": 28,
    "start_time": "2023-03-18T08:36:07.714Z"
   },
   {
    "duration": 106,
    "start_time": "2023-03-18T08:36:23.816Z"
   },
   {
    "duration": 7,
    "start_time": "2023-03-18T08:36:55.933Z"
   },
   {
    "duration": 6,
    "start_time": "2023-03-18T08:38:28.087Z"
   },
   {
    "duration": 8,
    "start_time": "2023-03-18T08:38:36.234Z"
   },
   {
    "duration": 8,
    "start_time": "2023-03-18T08:38:43.454Z"
   },
   {
    "duration": 8,
    "start_time": "2023-03-18T08:39:10.847Z"
   },
   {
    "duration": 5,
    "start_time": "2023-03-18T08:39:41.887Z"
   },
   {
    "duration": 8,
    "start_time": "2023-03-18T08:40:26.397Z"
   },
   {
    "duration": 8,
    "start_time": "2023-03-18T08:40:39.543Z"
   },
   {
    "duration": 17,
    "start_time": "2023-03-18T08:42:19.403Z"
   },
   {
    "duration": 15,
    "start_time": "2023-03-18T08:43:36.243Z"
   },
   {
    "duration": 56,
    "start_time": "2023-03-18T08:48:42.658Z"
   },
   {
    "duration": 4,
    "start_time": "2023-03-18T08:58:14.203Z"
   },
   {
    "duration": 233,
    "start_time": "2023-03-18T08:58:16.858Z"
   },
   {
    "duration": 4,
    "start_time": "2023-03-18T08:58:42.290Z"
   },
   {
    "duration": 4,
    "start_time": "2023-03-18T08:58:49.853Z"
   },
   {
    "duration": 204,
    "start_time": "2023-03-18T08:58:50.435Z"
   },
   {
    "duration": 54,
    "start_time": "2023-03-18T09:01:42.973Z"
   },
   {
    "duration": 235,
    "start_time": "2023-03-18T09:06:22.823Z"
   },
   {
    "duration": 1188,
    "start_time": "2023-03-18T09:06:33.233Z"
   },
   {
    "duration": 69,
    "start_time": "2023-03-18T09:06:34.423Z"
   },
   {
    "duration": 14,
    "start_time": "2023-03-18T09:06:34.494Z"
   },
   {
    "duration": 792,
    "start_time": "2023-03-18T09:06:34.510Z"
   },
   {
    "duration": 0,
    "start_time": "2023-03-18T09:06:35.305Z"
   },
   {
    "duration": 0,
    "start_time": "2023-03-18T09:06:35.307Z"
   },
   {
    "duration": 0,
    "start_time": "2023-03-18T09:06:35.308Z"
   },
   {
    "duration": 0,
    "start_time": "2023-03-18T09:06:35.310Z"
   },
   {
    "duration": 0,
    "start_time": "2023-03-18T09:06:35.311Z"
   },
   {
    "duration": 0,
    "start_time": "2023-03-18T09:06:35.313Z"
   },
   {
    "duration": 0,
    "start_time": "2023-03-18T09:06:35.315Z"
   },
   {
    "duration": 0,
    "start_time": "2023-03-18T09:06:35.316Z"
   },
   {
    "duration": 0,
    "start_time": "2023-03-18T09:06:35.318Z"
   },
   {
    "duration": 1,
    "start_time": "2023-03-18T09:06:35.319Z"
   },
   {
    "duration": 0,
    "start_time": "2023-03-18T09:06:35.321Z"
   },
   {
    "duration": 0,
    "start_time": "2023-03-18T09:06:35.322Z"
   },
   {
    "duration": 0,
    "start_time": "2023-03-18T09:06:35.324Z"
   },
   {
    "duration": 0,
    "start_time": "2023-03-18T09:06:35.326Z"
   },
   {
    "duration": 0,
    "start_time": "2023-03-18T09:06:35.327Z"
   },
   {
    "duration": 0,
    "start_time": "2023-03-18T09:06:35.329Z"
   },
   {
    "duration": 0,
    "start_time": "2023-03-18T09:06:35.330Z"
   },
   {
    "duration": 0,
    "start_time": "2023-03-18T09:06:35.332Z"
   },
   {
    "duration": 1,
    "start_time": "2023-03-18T09:06:35.333Z"
   },
   {
    "duration": 0,
    "start_time": "2023-03-18T09:06:35.335Z"
   },
   {
    "duration": 0,
    "start_time": "2023-03-18T09:06:35.336Z"
   },
   {
    "duration": 0,
    "start_time": "2023-03-18T09:06:35.338Z"
   },
   {
    "duration": 0,
    "start_time": "2023-03-18T09:06:35.339Z"
   },
   {
    "duration": 0,
    "start_time": "2023-03-18T09:06:35.340Z"
   },
   {
    "duration": 0,
    "start_time": "2023-03-18T09:06:35.389Z"
   },
   {
    "duration": 0,
    "start_time": "2023-03-18T09:06:35.390Z"
   },
   {
    "duration": 0,
    "start_time": "2023-03-18T09:06:35.391Z"
   },
   {
    "duration": 0,
    "start_time": "2023-03-18T09:06:35.392Z"
   },
   {
    "duration": 0,
    "start_time": "2023-03-18T09:06:35.393Z"
   },
   {
    "duration": 0,
    "start_time": "2023-03-18T09:06:35.393Z"
   },
   {
    "duration": 0,
    "start_time": "2023-03-18T09:06:35.395Z"
   },
   {
    "duration": 0,
    "start_time": "2023-03-18T09:06:35.396Z"
   },
   {
    "duration": 0,
    "start_time": "2023-03-18T09:06:35.397Z"
   },
   {
    "duration": 0,
    "start_time": "2023-03-18T09:06:35.397Z"
   },
   {
    "duration": 0,
    "start_time": "2023-03-18T09:06:35.398Z"
   },
   {
    "duration": 0,
    "start_time": "2023-03-18T09:06:35.399Z"
   },
   {
    "duration": 0,
    "start_time": "2023-03-18T09:06:35.400Z"
   },
   {
    "duration": 0,
    "start_time": "2023-03-18T09:06:35.401Z"
   },
   {
    "duration": 0,
    "start_time": "2023-03-18T09:06:35.402Z"
   },
   {
    "duration": 0,
    "start_time": "2023-03-18T09:06:35.403Z"
   },
   {
    "duration": 0,
    "start_time": "2023-03-18T09:06:35.404Z"
   },
   {
    "duration": 0,
    "start_time": "2023-03-18T09:06:35.405Z"
   },
   {
    "duration": 0,
    "start_time": "2023-03-18T09:06:35.406Z"
   },
   {
    "duration": 0,
    "start_time": "2023-03-18T09:06:35.407Z"
   },
   {
    "duration": 0,
    "start_time": "2023-03-18T09:06:35.408Z"
   },
   {
    "duration": 0,
    "start_time": "2023-03-18T09:06:35.409Z"
   },
   {
    "duration": 0,
    "start_time": "2023-03-18T09:06:35.410Z"
   },
   {
    "duration": 0,
    "start_time": "2023-03-18T09:06:35.411Z"
   },
   {
    "duration": 0,
    "start_time": "2023-03-18T09:06:35.412Z"
   },
   {
    "duration": 0,
    "start_time": "2023-03-18T09:06:35.413Z"
   },
   {
    "duration": 0,
    "start_time": "2023-03-18T09:06:35.414Z"
   },
   {
    "duration": 0,
    "start_time": "2023-03-18T09:06:35.415Z"
   },
   {
    "duration": 0,
    "start_time": "2023-03-18T09:06:35.416Z"
   },
   {
    "duration": 0,
    "start_time": "2023-03-18T09:06:35.417Z"
   },
   {
    "duration": 0,
    "start_time": "2023-03-18T09:06:35.419Z"
   },
   {
    "duration": 0,
    "start_time": "2023-03-18T09:06:35.420Z"
   },
   {
    "duration": 0,
    "start_time": "2023-03-18T09:06:35.421Z"
   },
   {
    "duration": 0,
    "start_time": "2023-03-18T09:06:35.422Z"
   },
   {
    "duration": 0,
    "start_time": "2023-03-18T09:06:35.423Z"
   },
   {
    "duration": 0,
    "start_time": "2023-03-18T09:06:35.424Z"
   },
   {
    "duration": 0,
    "start_time": "2023-03-18T09:06:35.425Z"
   },
   {
    "duration": 0,
    "start_time": "2023-03-18T09:06:35.426Z"
   },
   {
    "duration": 0,
    "start_time": "2023-03-18T09:06:35.489Z"
   },
   {
    "duration": 1151,
    "start_time": "2023-03-18T09:07:23.380Z"
   },
   {
    "duration": 69,
    "start_time": "2023-03-18T09:07:24.533Z"
   },
   {
    "duration": 14,
    "start_time": "2023-03-18T09:07:24.604Z"
   },
   {
    "duration": 26,
    "start_time": "2023-03-18T09:07:24.621Z"
   },
   {
    "duration": 22,
    "start_time": "2023-03-18T09:07:24.649Z"
   },
   {
    "duration": 29,
    "start_time": "2023-03-18T09:07:24.673Z"
   },
   {
    "duration": 5,
    "start_time": "2023-03-18T09:07:24.704Z"
   },
   {
    "duration": 14,
    "start_time": "2023-03-18T09:07:24.711Z"
   },
   {
    "duration": 29,
    "start_time": "2023-03-18T09:07:24.727Z"
   },
   {
    "duration": 3,
    "start_time": "2023-03-18T09:07:24.760Z"
   },
   {
    "duration": 26,
    "start_time": "2023-03-18T09:07:24.764Z"
   },
   {
    "duration": 16,
    "start_time": "2023-03-18T09:07:24.791Z"
   },
   {
    "duration": 9,
    "start_time": "2023-03-18T09:07:24.809Z"
   },
   {
    "duration": 7,
    "start_time": "2023-03-18T09:07:24.819Z"
   },
   {
    "duration": 17,
    "start_time": "2023-03-18T09:07:24.828Z"
   },
   {
    "duration": 4,
    "start_time": "2023-03-18T09:07:24.846Z"
   },
   {
    "duration": 42,
    "start_time": "2023-03-18T09:07:24.852Z"
   },
   {
    "duration": 11,
    "start_time": "2023-03-18T09:07:24.896Z"
   },
   {
    "duration": 483,
    "start_time": "2023-03-18T09:07:24.909Z"
   },
   {
    "duration": 6,
    "start_time": "2023-03-18T09:07:25.394Z"
   },
   {
    "duration": 332,
    "start_time": "2023-03-18T09:07:25.401Z"
   },
   {
    "duration": 2,
    "start_time": "2023-03-18T09:07:25.735Z"
   },
   {
    "duration": 12,
    "start_time": "2023-03-18T09:07:25.738Z"
   },
   {
    "duration": 12,
    "start_time": "2023-03-18T09:07:25.751Z"
   },
   {
    "duration": 26,
    "start_time": "2023-03-18T09:07:25.765Z"
   },
   {
    "duration": 11,
    "start_time": "2023-03-18T09:07:25.793Z"
   },
   {
    "duration": 342,
    "start_time": "2023-03-18T09:07:25.806Z"
   },
   {
    "duration": 2,
    "start_time": "2023-03-18T09:07:26.152Z"
   },
   {
    "duration": 113,
    "start_time": "2023-03-18T09:07:26.156Z"
   },
   {
    "duration": 128,
    "start_time": "2023-03-18T09:07:26.270Z"
   },
   {
    "duration": 192,
    "start_time": "2023-03-18T09:07:26.400Z"
   },
   {
    "duration": 125,
    "start_time": "2023-03-18T09:07:26.594Z"
   },
   {
    "duration": 2,
    "start_time": "2023-03-18T09:07:26.721Z"
   },
   {
    "duration": 136,
    "start_time": "2023-03-18T09:07:26.725Z"
   },
   {
    "duration": 6,
    "start_time": "2023-03-18T09:07:26.863Z"
   },
   {
    "duration": 148,
    "start_time": "2023-03-18T09:07:26.889Z"
   },
   {
    "duration": 6,
    "start_time": "2023-03-18T09:07:27.039Z"
   },
   {
    "duration": 13,
    "start_time": "2023-03-18T09:07:27.046Z"
   },
   {
    "duration": 16,
    "start_time": "2023-03-18T09:07:27.061Z"
   },
   {
    "duration": 16,
    "start_time": "2023-03-18T09:07:27.079Z"
   },
   {
    "duration": 15,
    "start_time": "2023-03-18T09:07:27.097Z"
   },
   {
    "duration": 14,
    "start_time": "2023-03-18T09:07:27.113Z"
   },
   {
    "duration": 8,
    "start_time": "2023-03-18T09:07:27.129Z"
   },
   {
    "duration": 14,
    "start_time": "2023-03-18T09:07:27.139Z"
   },
   {
    "duration": 5,
    "start_time": "2023-03-18T09:07:27.155Z"
   },
   {
    "duration": 219,
    "start_time": "2023-03-18T09:07:27.162Z"
   },
   {
    "duration": 237,
    "start_time": "2023-03-18T09:07:27.383Z"
   },
   {
    "duration": 3,
    "start_time": "2023-03-18T09:07:27.622Z"
   },
   {
    "duration": 10,
    "start_time": "2023-03-18T09:07:27.626Z"
   },
   {
    "duration": 23,
    "start_time": "2023-03-18T09:07:27.638Z"
   },
   {
    "duration": 14,
    "start_time": "2023-03-18T09:07:27.662Z"
   },
   {
    "duration": 20,
    "start_time": "2023-03-18T09:07:27.677Z"
   },
   {
    "duration": 3,
    "start_time": "2023-03-18T09:07:27.699Z"
   },
   {
    "duration": 13,
    "start_time": "2023-03-18T09:07:27.703Z"
   },
   {
    "duration": 16,
    "start_time": "2023-03-18T09:07:27.718Z"
   },
   {
    "duration": 11,
    "start_time": "2023-03-18T09:07:27.736Z"
   },
   {
    "duration": 41,
    "start_time": "2023-03-18T09:07:27.749Z"
   },
   {
    "duration": 18,
    "start_time": "2023-03-18T09:07:27.792Z"
   },
   {
    "duration": 15,
    "start_time": "2023-03-18T09:07:27.811Z"
   },
   {
    "duration": 13,
    "start_time": "2023-03-18T09:07:27.828Z"
   },
   {
    "duration": 11,
    "start_time": "2023-03-18T09:07:27.843Z"
   },
   {
    "duration": 4,
    "start_time": "2023-03-18T09:07:27.856Z"
   },
   {
    "duration": 29,
    "start_time": "2023-03-18T09:07:27.862Z"
   },
   {
    "duration": 8,
    "start_time": "2023-03-18T09:07:27.893Z"
   },
   {
    "duration": 10,
    "start_time": "2023-03-18T09:07:27.903Z"
   },
   {
    "duration": 10,
    "start_time": "2023-03-18T09:07:27.914Z"
   },
   {
    "duration": 16,
    "start_time": "2023-03-18T09:07:27.925Z"
   },
   {
    "duration": 120,
    "start_time": "2023-03-18T09:12:46.922Z"
   },
   {
    "duration": 23,
    "start_time": "2023-03-18T09:13:27.730Z"
   },
   {
    "duration": 9,
    "start_time": "2023-03-18T09:13:53.301Z"
   },
   {
    "duration": 20,
    "start_time": "2023-03-18T09:14:12.822Z"
   },
   {
    "duration": 9,
    "start_time": "2023-03-18T09:14:17.741Z"
   },
   {
    "duration": 1190,
    "start_time": "2023-03-18T09:14:32.425Z"
   },
   {
    "duration": 67,
    "start_time": "2023-03-18T09:14:33.617Z"
   },
   {
    "duration": 17,
    "start_time": "2023-03-18T09:14:33.686Z"
   },
   {
    "duration": 12,
    "start_time": "2023-03-18T09:14:33.706Z"
   },
   {
    "duration": 27,
    "start_time": "2023-03-18T09:14:33.720Z"
   },
   {
    "duration": 15,
    "start_time": "2023-03-18T09:14:33.749Z"
   },
   {
    "duration": 5,
    "start_time": "2023-03-18T09:14:33.788Z"
   },
   {
    "duration": 9,
    "start_time": "2023-03-18T09:14:33.794Z"
   },
   {
    "duration": 22,
    "start_time": "2023-03-18T09:14:33.805Z"
   },
   {
    "duration": 3,
    "start_time": "2023-03-18T09:14:33.829Z"
   },
   {
    "duration": 6,
    "start_time": "2023-03-18T09:14:33.833Z"
   },
   {
    "duration": 7,
    "start_time": "2023-03-18T09:14:33.841Z"
   },
   {
    "duration": 43,
    "start_time": "2023-03-18T09:14:33.849Z"
   },
   {
    "duration": 2,
    "start_time": "2023-03-18T09:14:33.894Z"
   },
   {
    "duration": 9,
    "start_time": "2023-03-18T09:14:33.898Z"
   },
   {
    "duration": 3,
    "start_time": "2023-03-18T09:14:33.909Z"
   },
   {
    "duration": 20,
    "start_time": "2023-03-18T09:14:33.914Z"
   },
   {
    "duration": 11,
    "start_time": "2023-03-18T09:14:33.936Z"
   },
   {
    "duration": 499,
    "start_time": "2023-03-18T09:14:33.949Z"
   },
   {
    "duration": 5,
    "start_time": "2023-03-18T09:14:34.450Z"
   },
   {
    "duration": 327,
    "start_time": "2023-03-18T09:14:34.457Z"
   },
   {
    "duration": 24,
    "start_time": "2023-03-18T09:14:34.788Z"
   },
   {
    "duration": 228,
    "start_time": "2023-03-18T09:14:34.814Z"
   },
   {
    "duration": 3,
    "start_time": "2023-03-18T09:14:35.043Z"
   },
   {
    "duration": 16,
    "start_time": "2023-03-18T09:14:35.047Z"
   },
   {
    "duration": 14,
    "start_time": "2023-03-18T09:14:35.065Z"
   },
   {
    "duration": 11,
    "start_time": "2023-03-18T09:14:35.080Z"
   },
   {
    "duration": 3,
    "start_time": "2023-03-18T09:14:35.096Z"
   },
   {
    "duration": 336,
    "start_time": "2023-03-18T09:14:35.100Z"
   },
   {
    "duration": 2,
    "start_time": "2023-03-18T09:14:35.438Z"
   },
   {
    "duration": 121,
    "start_time": "2023-03-18T09:14:35.441Z"
   },
   {
    "duration": 191,
    "start_time": "2023-03-18T09:14:35.563Z"
   },
   {
    "duration": 112,
    "start_time": "2023-03-18T09:14:35.755Z"
   },
   {
    "duration": 121,
    "start_time": "2023-03-18T09:14:35.869Z"
   },
   {
    "duration": 2,
    "start_time": "2023-03-18T09:14:35.992Z"
   },
   {
    "duration": 135,
    "start_time": "2023-03-18T09:14:35.996Z"
   },
   {
    "duration": 5,
    "start_time": "2023-03-18T09:14:36.133Z"
   },
   {
    "duration": 137,
    "start_time": "2023-03-18T09:14:36.139Z"
   },
   {
    "duration": 14,
    "start_time": "2023-03-18T09:14:36.277Z"
   },
   {
    "duration": 3,
    "start_time": "2023-03-18T09:14:36.293Z"
   },
   {
    "duration": 13,
    "start_time": "2023-03-18T09:14:36.298Z"
   },
   {
    "duration": 7,
    "start_time": "2023-03-18T09:14:36.312Z"
   },
   {
    "duration": 7,
    "start_time": "2023-03-18T09:14:36.321Z"
   },
   {
    "duration": 6,
    "start_time": "2023-03-18T09:14:36.329Z"
   },
   {
    "duration": 10,
    "start_time": "2023-03-18T09:14:36.336Z"
   },
   {
    "duration": 8,
    "start_time": "2023-03-18T09:14:36.389Z"
   },
   {
    "duration": 3,
    "start_time": "2023-03-18T09:14:36.399Z"
   },
   {
    "duration": 217,
    "start_time": "2023-03-18T09:14:36.404Z"
   },
   {
    "duration": 200,
    "start_time": "2023-03-18T09:14:36.623Z"
   },
   {
    "duration": 2,
    "start_time": "2023-03-18T09:14:36.825Z"
   },
   {
    "duration": 16,
    "start_time": "2023-03-18T09:14:36.829Z"
   },
   {
    "duration": 13,
    "start_time": "2023-03-18T09:14:36.846Z"
   },
   {
    "duration": 8,
    "start_time": "2023-03-18T09:14:36.860Z"
   },
   {
    "duration": 23,
    "start_time": "2023-03-18T09:14:36.870Z"
   },
   {
    "duration": 2,
    "start_time": "2023-03-18T09:14:36.895Z"
   },
   {
    "duration": 9,
    "start_time": "2023-03-18T09:14:36.899Z"
   },
   {
    "duration": 9,
    "start_time": "2023-03-18T09:14:36.910Z"
   },
   {
    "duration": 9,
    "start_time": "2023-03-18T09:14:36.921Z"
   },
   {
    "duration": 5,
    "start_time": "2023-03-18T09:14:36.932Z"
   },
   {
    "duration": 57,
    "start_time": "2023-03-18T09:14:36.939Z"
   },
   {
    "duration": 12,
    "start_time": "2023-03-18T09:14:36.998Z"
   },
   {
    "duration": 12,
    "start_time": "2023-03-18T09:14:37.012Z"
   },
   {
    "duration": 12,
    "start_time": "2023-03-18T09:14:37.026Z"
   },
   {
    "duration": 24,
    "start_time": "2023-03-18T09:14:37.040Z"
   },
   {
    "duration": 6,
    "start_time": "2023-03-18T09:14:37.066Z"
   },
   {
    "duration": 20,
    "start_time": "2023-03-18T09:14:37.074Z"
   },
   {
    "duration": 3,
    "start_time": "2023-03-18T09:14:37.096Z"
   },
   {
    "duration": 8,
    "start_time": "2023-03-18T09:14:37.101Z"
   },
   {
    "duration": 9,
    "start_time": "2023-03-18T09:14:37.111Z"
   },
   {
    "duration": 203,
    "start_time": "2023-03-18T09:17:48.383Z"
   },
   {
    "duration": 152,
    "start_time": "2023-03-18T09:17:52.323Z"
   },
   {
    "duration": 1180,
    "start_time": "2023-03-18T09:17:57.911Z"
   },
   {
    "duration": 64,
    "start_time": "2023-03-18T09:17:59.092Z"
   },
   {
    "duration": 14,
    "start_time": "2023-03-18T09:17:59.157Z"
   },
   {
    "duration": 10,
    "start_time": "2023-03-18T09:17:59.173Z"
   },
   {
    "duration": 16,
    "start_time": "2023-03-18T09:17:59.189Z"
   },
   {
    "duration": 19,
    "start_time": "2023-03-18T09:17:59.207Z"
   },
   {
    "duration": 5,
    "start_time": "2023-03-18T09:17:59.228Z"
   },
   {
    "duration": 6,
    "start_time": "2023-03-18T09:17:59.234Z"
   },
   {
    "duration": 26,
    "start_time": "2023-03-18T09:17:59.241Z"
   },
   {
    "duration": 2,
    "start_time": "2023-03-18T09:17:59.290Z"
   },
   {
    "duration": 7,
    "start_time": "2023-03-18T09:17:59.293Z"
   },
   {
    "duration": 6,
    "start_time": "2023-03-18T09:17:59.301Z"
   },
   {
    "duration": 8,
    "start_time": "2023-03-18T09:17:59.309Z"
   },
   {
    "duration": 2,
    "start_time": "2023-03-18T09:17:59.319Z"
   },
   {
    "duration": 10,
    "start_time": "2023-03-18T09:17:59.322Z"
   },
   {
    "duration": 3,
    "start_time": "2023-03-18T09:17:59.334Z"
   },
   {
    "duration": 51,
    "start_time": "2023-03-18T09:17:59.339Z"
   },
   {
    "duration": 10,
    "start_time": "2023-03-18T09:17:59.391Z"
   },
   {
    "duration": 433,
    "start_time": "2023-03-18T09:17:59.402Z"
   },
   {
    "duration": 5,
    "start_time": "2023-03-18T09:17:59.837Z"
   },
   {
    "duration": 310,
    "start_time": "2023-03-18T09:17:59.843Z"
   },
   {
    "duration": 194,
    "start_time": "2023-03-18T09:18:00.154Z"
   },
   {
    "duration": 235,
    "start_time": "2023-03-18T09:18:00.349Z"
   },
   {
    "duration": 244,
    "start_time": "2023-03-18T09:18:00.589Z"
   },
   {
    "duration": 3,
    "start_time": "2023-03-18T09:18:00.836Z"
   },
   {
    "duration": 55,
    "start_time": "2023-03-18T09:18:00.841Z"
   },
   {
    "duration": 47,
    "start_time": "2023-03-18T09:18:00.898Z"
   },
   {
    "duration": 20,
    "start_time": "2023-03-18T09:18:00.949Z"
   },
   {
    "duration": 43,
    "start_time": "2023-03-18T09:18:00.971Z"
   },
   {
    "duration": 440,
    "start_time": "2023-03-18T09:18:01.016Z"
   },
   {
    "duration": 2,
    "start_time": "2023-03-18T09:18:01.458Z"
   },
   {
    "duration": 137,
    "start_time": "2023-03-18T09:18:01.462Z"
   },
   {
    "duration": 126,
    "start_time": "2023-03-18T09:18:01.601Z"
   },
   {
    "duration": 125,
    "start_time": "2023-03-18T09:18:01.729Z"
   },
   {
    "duration": 124,
    "start_time": "2023-03-18T09:18:01.855Z"
   },
   {
    "duration": 2,
    "start_time": "2023-03-18T09:18:01.990Z"
   },
   {
    "duration": 132,
    "start_time": "2023-03-18T09:18:01.993Z"
   },
   {
    "duration": 6,
    "start_time": "2023-03-18T09:18:02.127Z"
   },
   {
    "duration": 141,
    "start_time": "2023-03-18T09:18:02.135Z"
   },
   {
    "duration": 14,
    "start_time": "2023-03-18T09:18:02.278Z"
   },
   {
    "duration": 13,
    "start_time": "2023-03-18T09:18:02.294Z"
   },
   {
    "duration": 32,
    "start_time": "2023-03-18T09:18:02.309Z"
   },
   {
    "duration": 28,
    "start_time": "2023-03-18T09:18:02.342Z"
   },
   {
    "duration": 24,
    "start_time": "2023-03-18T09:18:02.371Z"
   },
   {
    "duration": 29,
    "start_time": "2023-03-18T09:18:02.396Z"
   },
   {
    "duration": 24,
    "start_time": "2023-03-18T09:18:02.426Z"
   },
   {
    "duration": 22,
    "start_time": "2023-03-18T09:18:02.452Z"
   },
   {
    "duration": 9,
    "start_time": "2023-03-18T09:18:02.476Z"
   },
   {
    "duration": 223,
    "start_time": "2023-03-18T09:18:02.487Z"
   },
   {
    "duration": 210,
    "start_time": "2023-03-18T09:18:02.712Z"
   },
   {
    "duration": 2,
    "start_time": "2023-03-18T09:18:02.924Z"
   },
   {
    "duration": 8,
    "start_time": "2023-03-18T09:18:02.928Z"
   },
   {
    "duration": 28,
    "start_time": "2023-03-18T09:18:02.938Z"
   },
   {
    "duration": 11,
    "start_time": "2023-03-18T09:18:02.968Z"
   },
   {
    "duration": 9,
    "start_time": "2023-03-18T09:18:02.990Z"
   },
   {
    "duration": 30,
    "start_time": "2023-03-18T09:18:03.001Z"
   },
   {
    "duration": 20,
    "start_time": "2023-03-18T09:18:03.032Z"
   },
   {
    "duration": 32,
    "start_time": "2023-03-18T09:18:03.054Z"
   },
   {
    "duration": 17,
    "start_time": "2023-03-18T09:18:03.088Z"
   },
   {
    "duration": 3,
    "start_time": "2023-03-18T09:18:03.107Z"
   },
   {
    "duration": 14,
    "start_time": "2023-03-18T09:18:03.112Z"
   },
   {
    "duration": 18,
    "start_time": "2023-03-18T09:18:03.128Z"
   },
   {
    "duration": 43,
    "start_time": "2023-03-18T09:18:03.147Z"
   },
   {
    "duration": 8,
    "start_time": "2023-03-18T09:18:03.192Z"
   },
   {
    "duration": 5,
    "start_time": "2023-03-18T09:18:03.201Z"
   },
   {
    "duration": 12,
    "start_time": "2023-03-18T09:18:03.207Z"
   },
   {
    "duration": 11,
    "start_time": "2023-03-18T09:18:03.221Z"
   },
   {
    "duration": 7,
    "start_time": "2023-03-18T09:18:03.233Z"
   },
   {
    "duration": 6,
    "start_time": "2023-03-18T09:18:03.241Z"
   },
   {
    "duration": 8,
    "start_time": "2023-03-18T09:18:03.249Z"
   },
   {
    "duration": 207,
    "start_time": "2023-03-18T09:21:10.385Z"
   },
   {
    "duration": 1223,
    "start_time": "2023-03-18T09:21:25.609Z"
   },
   {
    "duration": 74,
    "start_time": "2023-03-18T09:21:26.835Z"
   },
   {
    "duration": 17,
    "start_time": "2023-03-18T09:21:26.910Z"
   },
   {
    "duration": 13,
    "start_time": "2023-03-18T09:21:26.929Z"
   },
   {
    "duration": 47,
    "start_time": "2023-03-18T09:21:26.944Z"
   },
   {
    "duration": 19,
    "start_time": "2023-03-18T09:21:26.993Z"
   },
   {
    "duration": 13,
    "start_time": "2023-03-18T09:21:27.014Z"
   },
   {
    "duration": 9,
    "start_time": "2023-03-18T09:21:27.029Z"
   },
   {
    "duration": 52,
    "start_time": "2023-03-18T09:21:27.040Z"
   },
   {
    "duration": 3,
    "start_time": "2023-03-18T09:21:27.095Z"
   },
   {
    "duration": 4,
    "start_time": "2023-03-18T09:21:27.099Z"
   },
   {
    "duration": 9,
    "start_time": "2023-03-18T09:21:27.105Z"
   },
   {
    "duration": 8,
    "start_time": "2023-03-18T09:21:27.115Z"
   },
   {
    "duration": 3,
    "start_time": "2023-03-18T09:21:27.124Z"
   },
   {
    "duration": 61,
    "start_time": "2023-03-18T09:21:27.130Z"
   },
   {
    "duration": 5,
    "start_time": "2023-03-18T09:21:27.193Z"
   },
   {
    "duration": 27,
    "start_time": "2023-03-18T09:21:27.200Z"
   },
   {
    "duration": 15,
    "start_time": "2023-03-18T09:21:27.229Z"
   },
   {
    "duration": 588,
    "start_time": "2023-03-18T09:21:27.246Z"
   },
   {
    "duration": 7,
    "start_time": "2023-03-18T09:21:27.837Z"
   },
   {
    "duration": 401,
    "start_time": "2023-03-18T09:21:27.846Z"
   },
   {
    "duration": 258,
    "start_time": "2023-03-18T09:21:28.249Z"
   },
   {
    "duration": 267,
    "start_time": "2023-03-18T09:21:28.509Z"
   },
   {
    "duration": 233,
    "start_time": "2023-03-18T09:21:28.778Z"
   },
   {
    "duration": 240,
    "start_time": "2023-03-18T09:21:29.013Z"
   },
   {
    "duration": 337,
    "start_time": "2023-03-18T09:21:29.255Z"
   },
   {
    "duration": 3,
    "start_time": "2023-03-18T09:21:29.595Z"
   },
   {
    "duration": 5,
    "start_time": "2023-03-18T09:21:29.604Z"
   },
   {
    "duration": 15,
    "start_time": "2023-03-18T09:21:29.611Z"
   },
   {
    "duration": 4,
    "start_time": "2023-03-18T09:21:29.628Z"
   },
   {
    "duration": 5,
    "start_time": "2023-03-18T09:21:29.633Z"
   },
   {
    "duration": 385,
    "start_time": "2023-03-18T09:21:29.639Z"
   },
   {
    "duration": 2,
    "start_time": "2023-03-18T09:21:30.026Z"
   },
   {
    "duration": 134,
    "start_time": "2023-03-18T09:21:30.030Z"
   },
   {
    "duration": 143,
    "start_time": "2023-03-18T09:21:30.166Z"
   },
   {
    "duration": 131,
    "start_time": "2023-03-18T09:21:30.311Z"
   },
   {
    "duration": 144,
    "start_time": "2023-03-18T09:21:30.444Z"
   },
   {
    "duration": 2,
    "start_time": "2023-03-18T09:21:30.590Z"
   },
   {
    "duration": 149,
    "start_time": "2023-03-18T09:21:30.594Z"
   },
   {
    "duration": 6,
    "start_time": "2023-03-18T09:21:30.744Z"
   },
   {
    "duration": 172,
    "start_time": "2023-03-18T09:21:30.753Z"
   },
   {
    "duration": 6,
    "start_time": "2023-03-18T09:21:30.926Z"
   },
   {
    "duration": 36,
    "start_time": "2023-03-18T09:21:30.934Z"
   },
   {
    "duration": 40,
    "start_time": "2023-03-18T09:21:30.972Z"
   },
   {
    "duration": 35,
    "start_time": "2023-03-18T09:21:31.014Z"
   },
   {
    "duration": 25,
    "start_time": "2023-03-18T09:21:31.051Z"
   },
   {
    "duration": 33,
    "start_time": "2023-03-18T09:21:31.078Z"
   },
   {
    "duration": 25,
    "start_time": "2023-03-18T09:21:31.113Z"
   },
   {
    "duration": 23,
    "start_time": "2023-03-18T09:21:31.140Z"
   },
   {
    "duration": 26,
    "start_time": "2023-03-18T09:21:31.165Z"
   },
   {
    "duration": 226,
    "start_time": "2023-03-18T09:21:31.193Z"
   },
   {
    "duration": 201,
    "start_time": "2023-03-18T09:21:31.420Z"
   },
   {
    "duration": 3,
    "start_time": "2023-03-18T09:21:31.622Z"
   },
   {
    "duration": 72,
    "start_time": "2023-03-18T09:21:31.627Z"
   },
   {
    "duration": 29,
    "start_time": "2023-03-18T09:21:31.702Z"
   },
   {
    "duration": 35,
    "start_time": "2023-03-18T09:21:31.733Z"
   },
   {
    "duration": 43,
    "start_time": "2023-03-18T09:21:31.770Z"
   },
   {
    "duration": 14,
    "start_time": "2023-03-18T09:21:31.815Z"
   },
   {
    "duration": 25,
    "start_time": "2023-03-18T09:21:31.831Z"
   },
   {
    "duration": 25,
    "start_time": "2023-03-18T09:21:31.858Z"
   },
   {
    "duration": 42,
    "start_time": "2023-03-18T09:21:31.885Z"
   },
   {
    "duration": 36,
    "start_time": "2023-03-18T09:21:31.929Z"
   },
   {
    "duration": 31,
    "start_time": "2023-03-18T09:21:31.967Z"
   },
   {
    "duration": 127,
    "start_time": "2023-03-18T09:21:31.999Z"
   },
   {
    "duration": 27,
    "start_time": "2023-03-18T09:21:32.127Z"
   },
   {
    "duration": 10,
    "start_time": "2023-03-18T09:21:32.155Z"
   },
   {
    "duration": 26,
    "start_time": "2023-03-18T09:21:32.166Z"
   },
   {
    "duration": 19,
    "start_time": "2023-03-18T09:21:32.194Z"
   },
   {
    "duration": 14,
    "start_time": "2023-03-18T09:21:32.215Z"
   },
   {
    "duration": 5,
    "start_time": "2023-03-18T09:21:32.231Z"
   },
   {
    "duration": 42,
    "start_time": "2023-03-18T09:21:32.238Z"
   },
   {
    "duration": 25,
    "start_time": "2023-03-18T09:21:32.281Z"
   },
   {
    "duration": 50,
    "start_time": "2023-03-18T09:26:27.506Z"
   },
   {
    "duration": 55,
    "start_time": "2023-03-18T09:27:30.996Z"
   },
   {
    "duration": 1353,
    "start_time": "2023-03-18T09:27:58.834Z"
   },
   {
    "duration": 75,
    "start_time": "2023-03-18T09:28:00.189Z"
   },
   {
    "duration": 17,
    "start_time": "2023-03-18T09:28:00.266Z"
   },
   {
    "duration": 16,
    "start_time": "2023-03-18T09:28:00.285Z"
   },
   {
    "duration": 25,
    "start_time": "2023-03-18T09:28:00.302Z"
   },
   {
    "duration": 35,
    "start_time": "2023-03-18T09:28:00.329Z"
   },
   {
    "duration": 30,
    "start_time": "2023-03-18T09:28:00.366Z"
   },
   {
    "duration": 15,
    "start_time": "2023-03-18T09:28:00.399Z"
   },
   {
    "duration": 68,
    "start_time": "2023-03-18T09:28:00.416Z"
   },
   {
    "duration": 19,
    "start_time": "2023-03-18T09:28:00.487Z"
   },
   {
    "duration": 55,
    "start_time": "2023-03-18T09:28:00.508Z"
   },
   {
    "duration": 51,
    "start_time": "2023-03-18T09:28:00.565Z"
   },
   {
    "duration": 31,
    "start_time": "2023-03-18T09:28:00.621Z"
   },
   {
    "duration": 43,
    "start_time": "2023-03-18T09:28:00.654Z"
   },
   {
    "duration": 48,
    "start_time": "2023-03-18T09:28:00.699Z"
   },
   {
    "duration": 60,
    "start_time": "2023-03-18T09:28:00.748Z"
   },
   {
    "duration": 53,
    "start_time": "2023-03-18T09:28:00.810Z"
   },
   {
    "duration": 37,
    "start_time": "2023-03-18T09:28:00.864Z"
   },
   {
    "duration": 508,
    "start_time": "2023-03-18T09:28:00.903Z"
   },
   {
    "duration": 6,
    "start_time": "2023-03-18T09:28:01.414Z"
   },
   {
    "duration": 413,
    "start_time": "2023-03-18T09:28:01.422Z"
   },
   {
    "duration": 259,
    "start_time": "2023-03-18T09:28:01.837Z"
   },
   {
    "duration": 273,
    "start_time": "2023-03-18T09:28:02.100Z"
   },
   {
    "duration": 276,
    "start_time": "2023-03-18T09:28:02.375Z"
   },
   {
    "duration": 280,
    "start_time": "2023-03-18T09:28:02.652Z"
   },
   {
    "duration": 319,
    "start_time": "2023-03-18T09:28:02.934Z"
   },
   {
    "duration": 3,
    "start_time": "2023-03-18T09:28:03.255Z"
   },
   {
    "duration": 21,
    "start_time": "2023-03-18T09:28:03.261Z"
   },
   {
    "duration": 22,
    "start_time": "2023-03-18T09:28:03.283Z"
   },
   {
    "duration": 44,
    "start_time": "2023-03-18T09:28:03.307Z"
   },
   {
    "duration": 24,
    "start_time": "2023-03-18T09:28:03.353Z"
   },
   {
    "duration": 362,
    "start_time": "2023-03-18T09:28:03.379Z"
   },
   {
    "duration": 3,
    "start_time": "2023-03-18T09:28:03.743Z"
   },
   {
    "duration": 128,
    "start_time": "2023-03-18T09:28:03.747Z"
   },
   {
    "duration": 141,
    "start_time": "2023-03-18T09:28:03.877Z"
   },
   {
    "duration": 131,
    "start_time": "2023-03-18T09:28:04.019Z"
   },
   {
    "duration": 140,
    "start_time": "2023-03-18T09:28:04.152Z"
   },
   {
    "duration": 3,
    "start_time": "2023-03-18T09:28:04.294Z"
   },
   {
    "duration": 180,
    "start_time": "2023-03-18T09:28:04.298Z"
   },
   {
    "duration": 16,
    "start_time": "2023-03-18T09:28:04.480Z"
   },
   {
    "duration": 267,
    "start_time": "2023-03-18T09:28:04.500Z"
   },
   {
    "duration": 0,
    "start_time": "2023-03-18T09:28:04.769Z"
   },
   {
    "duration": 0,
    "start_time": "2023-03-18T09:28:04.771Z"
   },
   {
    "duration": 0,
    "start_time": "2023-03-18T09:28:04.773Z"
   },
   {
    "duration": 0,
    "start_time": "2023-03-18T09:28:04.774Z"
   },
   {
    "duration": 0,
    "start_time": "2023-03-18T09:28:04.790Z"
   },
   {
    "duration": 0,
    "start_time": "2023-03-18T09:28:04.791Z"
   },
   {
    "duration": 0,
    "start_time": "2023-03-18T09:28:04.793Z"
   },
   {
    "duration": 0,
    "start_time": "2023-03-18T09:28:04.794Z"
   },
   {
    "duration": 0,
    "start_time": "2023-03-18T09:28:04.795Z"
   },
   {
    "duration": 0,
    "start_time": "2023-03-18T09:28:04.796Z"
   },
   {
    "duration": 0,
    "start_time": "2023-03-18T09:28:04.797Z"
   },
   {
    "duration": 0,
    "start_time": "2023-03-18T09:28:04.798Z"
   },
   {
    "duration": 0,
    "start_time": "2023-03-18T09:28:04.806Z"
   },
   {
    "duration": 0,
    "start_time": "2023-03-18T09:28:04.810Z"
   },
   {
    "duration": 0,
    "start_time": "2023-03-18T09:28:04.813Z"
   },
   {
    "duration": 0,
    "start_time": "2023-03-18T09:28:04.815Z"
   },
   {
    "duration": 0,
    "start_time": "2023-03-18T09:28:04.817Z"
   },
   {
    "duration": 0,
    "start_time": "2023-03-18T09:28:04.818Z"
   },
   {
    "duration": 0,
    "start_time": "2023-03-18T09:28:04.819Z"
   },
   {
    "duration": 0,
    "start_time": "2023-03-18T09:28:04.821Z"
   },
   {
    "duration": 0,
    "start_time": "2023-03-18T09:28:04.822Z"
   },
   {
    "duration": 0,
    "start_time": "2023-03-18T09:28:04.823Z"
   },
   {
    "duration": 0,
    "start_time": "2023-03-18T09:28:04.824Z"
   },
   {
    "duration": 0,
    "start_time": "2023-03-18T09:28:04.825Z"
   },
   {
    "duration": 0,
    "start_time": "2023-03-18T09:28:04.826Z"
   },
   {
    "duration": 0,
    "start_time": "2023-03-18T09:28:04.827Z"
   },
   {
    "duration": 0,
    "start_time": "2023-03-18T09:28:04.829Z"
   },
   {
    "duration": 0,
    "start_time": "2023-03-18T09:28:04.830Z"
   },
   {
    "duration": 0,
    "start_time": "2023-03-18T09:28:04.831Z"
   },
   {
    "duration": 0,
    "start_time": "2023-03-18T09:28:04.898Z"
   },
   {
    "duration": 0,
    "start_time": "2023-03-18T09:28:04.902Z"
   },
   {
    "duration": 310,
    "start_time": "2023-03-18T09:31:57.541Z"
   },
   {
    "duration": 269,
    "start_time": "2023-03-18T09:32:17.512Z"
   },
   {
    "duration": 499,
    "start_time": "2023-03-18T09:38:57.121Z"
   },
   {
    "duration": 50,
    "start_time": "2023-03-18T09:39:53.026Z"
   },
   {
    "duration": 41,
    "start_time": "2023-03-18T10:34:31.413Z"
   },
   {
    "duration": 138,
    "start_time": "2023-03-18T10:35:25.263Z"
   },
   {
    "duration": 1371,
    "start_time": "2023-03-18T10:35:56.977Z"
   },
   {
    "duration": 78,
    "start_time": "2023-03-18T10:35:58.350Z"
   },
   {
    "duration": 17,
    "start_time": "2023-03-18T10:35:58.430Z"
   },
   {
    "duration": 14,
    "start_time": "2023-03-18T10:35:58.449Z"
   },
   {
    "duration": 56,
    "start_time": "2023-03-18T10:35:58.464Z"
   },
   {
    "duration": 27,
    "start_time": "2023-03-18T10:35:58.522Z"
   },
   {
    "duration": 20,
    "start_time": "2023-03-18T10:35:58.550Z"
   },
   {
    "duration": 10,
    "start_time": "2023-03-18T10:35:58.572Z"
   },
   {
    "duration": 36,
    "start_time": "2023-03-18T10:35:58.590Z"
   },
   {
    "duration": 3,
    "start_time": "2023-03-18T10:35:58.630Z"
   },
   {
    "duration": 8,
    "start_time": "2023-03-18T10:35:58.635Z"
   },
   {
    "duration": 7,
    "start_time": "2023-03-18T10:35:58.645Z"
   },
   {
    "duration": 45,
    "start_time": "2023-03-18T10:35:58.654Z"
   },
   {
    "duration": 5,
    "start_time": "2023-03-18T10:35:58.701Z"
   },
   {
    "duration": 12,
    "start_time": "2023-03-18T10:35:58.707Z"
   },
   {
    "duration": 8,
    "start_time": "2023-03-18T10:35:58.721Z"
   },
   {
    "duration": 24,
    "start_time": "2023-03-18T10:35:58.731Z"
   },
   {
    "duration": 49,
    "start_time": "2023-03-18T10:35:58.757Z"
   },
   {
    "duration": 481,
    "start_time": "2023-03-18T10:35:58.808Z"
   },
   {
    "duration": 18,
    "start_time": "2023-03-18T10:35:59.290Z"
   },
   {
    "duration": 384,
    "start_time": "2023-03-18T10:35:59.311Z"
   },
   {
    "duration": 236,
    "start_time": "2023-03-18T10:35:59.700Z"
   },
   {
    "duration": 265,
    "start_time": "2023-03-18T10:35:59.938Z"
   },
   {
    "duration": 235,
    "start_time": "2023-03-18T10:36:00.204Z"
   },
   {
    "duration": 262,
    "start_time": "2023-03-18T10:36:00.442Z"
   },
   {
    "duration": 312,
    "start_time": "2023-03-18T10:36:00.706Z"
   },
   {
    "duration": 3,
    "start_time": "2023-03-18T10:36:01.020Z"
   },
   {
    "duration": 81,
    "start_time": "2023-03-18T10:36:01.027Z"
   },
   {
    "duration": 47,
    "start_time": "2023-03-18T10:36:01.110Z"
   },
   {
    "duration": 48,
    "start_time": "2023-03-18T10:36:01.159Z"
   },
   {
    "duration": 54,
    "start_time": "2023-03-18T10:36:01.210Z"
   },
   {
    "duration": 390,
    "start_time": "2023-03-18T10:36:01.266Z"
   },
   {
    "duration": 2,
    "start_time": "2023-03-18T10:36:01.658Z"
   },
   {
    "duration": 151,
    "start_time": "2023-03-18T10:36:01.662Z"
   },
   {
    "duration": 135,
    "start_time": "2023-03-18T10:36:01.815Z"
   },
   {
    "duration": 131,
    "start_time": "2023-03-18T10:36:01.951Z"
   },
   {
    "duration": 134,
    "start_time": "2023-03-18T10:36:02.083Z"
   },
   {
    "duration": 3,
    "start_time": "2023-03-18T10:36:02.218Z"
   },
   {
    "duration": 197,
    "start_time": "2023-03-18T10:36:02.223Z"
   },
   {
    "duration": 5,
    "start_time": "2023-03-18T10:36:02.422Z"
   },
   {
    "duration": 282,
    "start_time": "2023-03-18T10:36:02.429Z"
   },
   {
    "duration": 0,
    "start_time": "2023-03-18T10:36:02.713Z"
   },
   {
    "duration": 0,
    "start_time": "2023-03-18T10:36:02.716Z"
   },
   {
    "duration": 0,
    "start_time": "2023-03-18T10:36:02.718Z"
   },
   {
    "duration": 0,
    "start_time": "2023-03-18T10:36:02.719Z"
   },
   {
    "duration": 0,
    "start_time": "2023-03-18T10:36:02.721Z"
   },
   {
    "duration": 0,
    "start_time": "2023-03-18T10:36:02.722Z"
   },
   {
    "duration": 0,
    "start_time": "2023-03-18T10:36:02.723Z"
   },
   {
    "duration": 1,
    "start_time": "2023-03-18T10:36:02.724Z"
   },
   {
    "duration": 0,
    "start_time": "2023-03-18T10:36:02.726Z"
   },
   {
    "duration": 0,
    "start_time": "2023-03-18T10:36:02.728Z"
   },
   {
    "duration": 0,
    "start_time": "2023-03-18T10:36:02.729Z"
   },
   {
    "duration": 0,
    "start_time": "2023-03-18T10:36:02.730Z"
   },
   {
    "duration": 0,
    "start_time": "2023-03-18T10:36:02.732Z"
   },
   {
    "duration": 0,
    "start_time": "2023-03-18T10:36:02.733Z"
   },
   {
    "duration": 0,
    "start_time": "2023-03-18T10:36:02.734Z"
   },
   {
    "duration": 0,
    "start_time": "2023-03-18T10:36:02.736Z"
   },
   {
    "duration": 0,
    "start_time": "2023-03-18T10:36:02.737Z"
   },
   {
    "duration": 0,
    "start_time": "2023-03-18T10:36:02.738Z"
   },
   {
    "duration": 0,
    "start_time": "2023-03-18T10:36:02.739Z"
   },
   {
    "duration": 0,
    "start_time": "2023-03-18T10:36:02.740Z"
   },
   {
    "duration": 0,
    "start_time": "2023-03-18T10:36:02.741Z"
   },
   {
    "duration": 0,
    "start_time": "2023-03-18T10:36:02.742Z"
   },
   {
    "duration": 0,
    "start_time": "2023-03-18T10:36:02.788Z"
   },
   {
    "duration": 0,
    "start_time": "2023-03-18T10:36:02.789Z"
   },
   {
    "duration": 0,
    "start_time": "2023-03-18T10:36:02.790Z"
   },
   {
    "duration": 0,
    "start_time": "2023-03-18T10:36:02.791Z"
   },
   {
    "duration": 0,
    "start_time": "2023-03-18T10:36:02.791Z"
   },
   {
    "duration": 0,
    "start_time": "2023-03-18T10:36:02.792Z"
   },
   {
    "duration": 0,
    "start_time": "2023-03-18T10:36:02.796Z"
   },
   {
    "duration": 0,
    "start_time": "2023-03-18T10:36:02.797Z"
   },
   {
    "duration": 0,
    "start_time": "2023-03-18T10:36:02.798Z"
   },
   {
    "duration": 23,
    "start_time": "2023-03-18T10:43:37.293Z"
   },
   {
    "duration": 23,
    "start_time": "2023-03-18T10:43:40.085Z"
   },
   {
    "duration": 20,
    "start_time": "2023-03-18T10:43:53.862Z"
   },
   {
    "duration": 152,
    "start_time": "2023-03-18T10:44:05.486Z"
   },
   {
    "duration": 165,
    "start_time": "2023-03-18T10:46:36.966Z"
   },
   {
    "duration": 244,
    "start_time": "2023-03-18T10:46:54.969Z"
   },
   {
    "duration": 161,
    "start_time": "2023-03-18T10:47:19.945Z"
   },
   {
    "duration": 8,
    "start_time": "2023-03-18T10:47:21.951Z"
   },
   {
    "duration": 135,
    "start_time": "2023-03-18T10:47:23.492Z"
   },
   {
    "duration": 10,
    "start_time": "2023-03-18T10:47:47.875Z"
   },
   {
    "duration": 18,
    "start_time": "2023-03-18T10:48:29.228Z"
   },
   {
    "duration": 20,
    "start_time": "2023-03-18T10:48:52.351Z"
   },
   {
    "duration": 160,
    "start_time": "2023-03-18T10:49:44.278Z"
   },
   {
    "duration": 6,
    "start_time": "2023-03-18T10:49:47.368Z"
   },
   {
    "duration": 161,
    "start_time": "2023-03-18T10:49:48.337Z"
   },
   {
    "duration": 10,
    "start_time": "2023-03-18T10:49:50.301Z"
   },
   {
    "duration": 13,
    "start_time": "2023-03-18T10:50:10.654Z"
   },
   {
    "duration": 15,
    "start_time": "2023-03-18T10:50:21.365Z"
   },
   {
    "duration": 232,
    "start_time": "2023-03-18T10:50:29.883Z"
   },
   {
    "duration": 15,
    "start_time": "2023-03-18T10:50:51.199Z"
   },
   {
    "duration": 167,
    "start_time": "2023-03-18T10:51:04.404Z"
   },
   {
    "duration": 163,
    "start_time": "2023-03-18T10:54:34.518Z"
   },
   {
    "duration": 6,
    "start_time": "2023-03-18T10:54:36.573Z"
   },
   {
    "duration": 174,
    "start_time": "2023-03-18T10:54:37.448Z"
   },
   {
    "duration": 165,
    "start_time": "2023-03-18T10:54:38.610Z"
   },
   {
    "duration": 6,
    "start_time": "2023-03-18T10:55:25.949Z"
   },
   {
    "duration": 121,
    "start_time": "2023-03-18T10:55:26.912Z"
   },
   {
    "duration": 140,
    "start_time": "2023-03-18T10:55:32.683Z"
   },
   {
    "duration": 151,
    "start_time": "2023-03-18T10:55:49.415Z"
   },
   {
    "duration": 7,
    "start_time": "2023-03-18T10:55:51.429Z"
   },
   {
    "duration": 136,
    "start_time": "2023-03-18T10:55:52.271Z"
   },
   {
    "duration": 162,
    "start_time": "2023-03-18T10:55:53.070Z"
   },
   {
    "duration": 9,
    "start_time": "2023-03-18T10:56:42.815Z"
   },
   {
    "duration": 154,
    "start_time": "2023-03-18T10:56:43.771Z"
   },
   {
    "duration": 139,
    "start_time": "2023-03-18T10:56:55.761Z"
   },
   {
    "duration": 135,
    "start_time": "2023-03-18T10:57:03.285Z"
   },
   {
    "duration": 158,
    "start_time": "2023-03-18T10:57:19.542Z"
   },
   {
    "duration": 13,
    "start_time": "2023-03-18T10:57:55.038Z"
   },
   {
    "duration": 6,
    "start_time": "2023-03-18T10:58:18.629Z"
   },
   {
    "duration": 161,
    "start_time": "2023-03-18T10:58:31.963Z"
   },
   {
    "duration": 5,
    "start_time": "2023-03-18T10:59:04.335Z"
   },
   {
    "duration": 6,
    "start_time": "2023-03-18T11:00:16.043Z"
   },
   {
    "duration": 5,
    "start_time": "2023-03-18T11:00:27.918Z"
   },
   {
    "duration": 2,
    "start_time": "2023-03-18T11:02:07.653Z"
   },
   {
    "duration": 8,
    "start_time": "2023-03-18T11:02:08.116Z"
   },
   {
    "duration": 6,
    "start_time": "2023-03-18T11:02:08.940Z"
   },
   {
    "duration": 9,
    "start_time": "2023-03-18T11:02:10.775Z"
   },
   {
    "duration": 6,
    "start_time": "2023-03-18T11:02:11.235Z"
   },
   {
    "duration": 8,
    "start_time": "2023-03-18T11:02:12.038Z"
   },
   {
    "duration": 7,
    "start_time": "2023-03-18T11:02:12.358Z"
   },
   {
    "duration": 11,
    "start_time": "2023-03-18T11:05:08.343Z"
   },
   {
    "duration": 9,
    "start_time": "2023-03-18T11:05:09.788Z"
   },
   {
    "duration": 7,
    "start_time": "2023-03-18T11:06:01.016Z"
   },
   {
    "duration": 20,
    "start_time": "2023-03-18T11:06:06.009Z"
   },
   {
    "duration": 15,
    "start_time": "2023-03-18T11:06:09.216Z"
   },
   {
    "duration": 1149,
    "start_time": "2023-03-18T11:06:24.606Z"
   },
   {
    "duration": 68,
    "start_time": "2023-03-18T11:06:25.757Z"
   },
   {
    "duration": 14,
    "start_time": "2023-03-18T11:06:25.826Z"
   },
   {
    "duration": 11,
    "start_time": "2023-03-18T11:06:25.842Z"
   },
   {
    "duration": 46,
    "start_time": "2023-03-18T11:06:25.855Z"
   },
   {
    "duration": 18,
    "start_time": "2023-03-18T11:06:25.903Z"
   },
   {
    "duration": 4,
    "start_time": "2023-03-18T11:06:25.922Z"
   },
   {
    "duration": 3,
    "start_time": "2023-03-18T11:06:25.928Z"
   },
   {
    "duration": 22,
    "start_time": "2023-03-18T11:06:25.933Z"
   },
   {
    "duration": 2,
    "start_time": "2023-03-18T11:06:25.958Z"
   },
   {
    "duration": 2,
    "start_time": "2023-03-18T11:06:25.990Z"
   },
   {
    "duration": 8,
    "start_time": "2023-03-18T11:06:25.994Z"
   },
   {
    "duration": 9,
    "start_time": "2023-03-18T11:06:26.004Z"
   },
   {
    "duration": 12,
    "start_time": "2023-03-18T11:06:26.015Z"
   },
   {
    "duration": 17,
    "start_time": "2023-03-18T11:06:26.029Z"
   },
   {
    "duration": 9,
    "start_time": "2023-03-18T11:06:26.047Z"
   },
   {
    "duration": 139,
    "start_time": "2023-03-18T11:06:26.058Z"
   },
   {
    "duration": 0,
    "start_time": "2023-03-18T11:06:26.201Z"
   },
   {
    "duration": 0,
    "start_time": "2023-03-18T11:06:26.202Z"
   },
   {
    "duration": 0,
    "start_time": "2023-03-18T11:06:26.204Z"
   },
   {
    "duration": 0,
    "start_time": "2023-03-18T11:06:26.206Z"
   },
   {
    "duration": 0,
    "start_time": "2023-03-18T11:06:26.207Z"
   },
   {
    "duration": 0,
    "start_time": "2023-03-18T11:06:26.208Z"
   },
   {
    "duration": 0,
    "start_time": "2023-03-18T11:06:26.210Z"
   },
   {
    "duration": 0,
    "start_time": "2023-03-18T11:06:26.211Z"
   },
   {
    "duration": 0,
    "start_time": "2023-03-18T11:06:26.212Z"
   },
   {
    "duration": 0,
    "start_time": "2023-03-18T11:06:26.214Z"
   },
   {
    "duration": 0,
    "start_time": "2023-03-18T11:06:26.215Z"
   },
   {
    "duration": 0,
    "start_time": "2023-03-18T11:06:26.216Z"
   },
   {
    "duration": 0,
    "start_time": "2023-03-18T11:06:26.218Z"
   },
   {
    "duration": 0,
    "start_time": "2023-03-18T11:06:26.219Z"
   },
   {
    "duration": 0,
    "start_time": "2023-03-18T11:06:26.220Z"
   },
   {
    "duration": 0,
    "start_time": "2023-03-18T11:06:26.221Z"
   },
   {
    "duration": 0,
    "start_time": "2023-03-18T11:06:26.223Z"
   },
   {
    "duration": 0,
    "start_time": "2023-03-18T11:06:26.225Z"
   },
   {
    "duration": 0,
    "start_time": "2023-03-18T11:06:26.226Z"
   },
   {
    "duration": 0,
    "start_time": "2023-03-18T11:06:26.227Z"
   },
   {
    "duration": 0,
    "start_time": "2023-03-18T11:06:26.229Z"
   },
   {
    "duration": 0,
    "start_time": "2023-03-18T11:06:26.230Z"
   },
   {
    "duration": 0,
    "start_time": "2023-03-18T11:06:26.231Z"
   },
   {
    "duration": 0,
    "start_time": "2023-03-18T11:06:26.233Z"
   },
   {
    "duration": 0,
    "start_time": "2023-03-18T11:06:26.235Z"
   },
   {
    "duration": 0,
    "start_time": "2023-03-18T11:06:26.289Z"
   },
   {
    "duration": 0,
    "start_time": "2023-03-18T11:06:26.291Z"
   },
   {
    "duration": 0,
    "start_time": "2023-03-18T11:06:26.293Z"
   },
   {
    "duration": 0,
    "start_time": "2023-03-18T11:06:26.294Z"
   },
   {
    "duration": 0,
    "start_time": "2023-03-18T11:06:26.295Z"
   },
   {
    "duration": 0,
    "start_time": "2023-03-18T11:06:26.297Z"
   },
   {
    "duration": 0,
    "start_time": "2023-03-18T11:06:26.298Z"
   },
   {
    "duration": 0,
    "start_time": "2023-03-18T11:06:26.300Z"
   },
   {
    "duration": 0,
    "start_time": "2023-03-18T11:06:26.301Z"
   },
   {
    "duration": 0,
    "start_time": "2023-03-18T11:06:26.303Z"
   },
   {
    "duration": 0,
    "start_time": "2023-03-18T11:06:26.304Z"
   },
   {
    "duration": 0,
    "start_time": "2023-03-18T11:06:26.305Z"
   },
   {
    "duration": 0,
    "start_time": "2023-03-18T11:06:26.307Z"
   },
   {
    "duration": 0,
    "start_time": "2023-03-18T11:06:26.308Z"
   },
   {
    "duration": 0,
    "start_time": "2023-03-18T11:06:26.310Z"
   },
   {
    "duration": 0,
    "start_time": "2023-03-18T11:06:26.311Z"
   },
   {
    "duration": 0,
    "start_time": "2023-03-18T11:06:26.313Z"
   },
   {
    "duration": 0,
    "start_time": "2023-03-18T11:06:26.314Z"
   },
   {
    "duration": 0,
    "start_time": "2023-03-18T11:06:26.315Z"
   },
   {
    "duration": 0,
    "start_time": "2023-03-18T11:06:26.316Z"
   },
   {
    "duration": 0,
    "start_time": "2023-03-18T11:06:26.318Z"
   },
   {
    "duration": 0,
    "start_time": "2023-03-18T11:06:26.318Z"
   },
   {
    "duration": 0,
    "start_time": "2023-03-18T11:06:26.319Z"
   },
   {
    "duration": 0,
    "start_time": "2023-03-18T11:06:26.320Z"
   },
   {
    "duration": 0,
    "start_time": "2023-03-18T11:06:26.321Z"
   },
   {
    "duration": 0,
    "start_time": "2023-03-18T11:06:26.322Z"
   },
   {
    "duration": 0,
    "start_time": "2023-03-18T11:06:26.323Z"
   },
   {
    "duration": 0,
    "start_time": "2023-03-18T11:06:26.324Z"
   },
   {
    "duration": 0,
    "start_time": "2023-03-18T11:06:26.325Z"
   },
   {
    "duration": 0,
    "start_time": "2023-03-18T11:06:26.326Z"
   },
   {
    "duration": 0,
    "start_time": "2023-03-18T11:06:26.327Z"
   },
   {
    "duration": 0,
    "start_time": "2023-03-18T11:06:26.328Z"
   },
   {
    "duration": 0,
    "start_time": "2023-03-18T11:06:26.328Z"
   },
   {
    "duration": 9,
    "start_time": "2023-03-18T11:06:52.437Z"
   },
   {
    "duration": 14,
    "start_time": "2023-03-18T11:06:53.942Z"
   },
   {
    "duration": 21,
    "start_time": "2023-03-18T11:07:02.596Z"
   },
   {
    "duration": 20,
    "start_time": "2023-03-18T11:07:56.229Z"
   },
   {
    "duration": 4,
    "start_time": "2023-03-18T11:08:06.007Z"
   },
   {
    "duration": 15,
    "start_time": "2023-03-18T11:08:24.539Z"
   },
   {
    "duration": 12,
    "start_time": "2023-03-18T11:08:40.968Z"
   },
   {
    "duration": 7,
    "start_time": "2023-03-18T11:09:18.829Z"
   },
   {
    "duration": 3,
    "start_time": "2023-03-18T11:09:20.498Z"
   },
   {
    "duration": 14,
    "start_time": "2023-03-18T11:09:21.553Z"
   },
   {
    "duration": 19,
    "start_time": "2023-03-18T11:09:22.607Z"
   },
   {
    "duration": 1245,
    "start_time": "2023-03-18T11:09:57.518Z"
   },
   {
    "duration": 72,
    "start_time": "2023-03-18T11:09:58.764Z"
   },
   {
    "duration": 14,
    "start_time": "2023-03-18T11:09:58.838Z"
   },
   {
    "duration": 13,
    "start_time": "2023-03-18T11:09:58.854Z"
   },
   {
    "duration": 38,
    "start_time": "2023-03-18T11:09:58.869Z"
   },
   {
    "duration": 17,
    "start_time": "2023-03-18T11:09:58.909Z"
   },
   {
    "duration": 4,
    "start_time": "2023-03-18T11:09:58.928Z"
   },
   {
    "duration": 6,
    "start_time": "2023-03-18T11:09:58.934Z"
   },
   {
    "duration": 54,
    "start_time": "2023-03-18T11:09:58.942Z"
   },
   {
    "duration": 2,
    "start_time": "2023-03-18T11:09:58.999Z"
   },
   {
    "duration": 18,
    "start_time": "2023-03-18T11:09:59.003Z"
   },
   {
    "duration": 20,
    "start_time": "2023-03-18T11:09:59.022Z"
   },
   {
    "duration": 26,
    "start_time": "2023-03-18T11:09:59.044Z"
   },
   {
    "duration": 23,
    "start_time": "2023-03-18T11:09:59.071Z"
   },
   {
    "duration": 59,
    "start_time": "2023-03-18T11:09:59.096Z"
   },
   {
    "duration": 16,
    "start_time": "2023-03-18T11:09:59.156Z"
   },
   {
    "duration": 134,
    "start_time": "2023-03-18T11:09:59.174Z"
   },
   {
    "duration": 0,
    "start_time": "2023-03-18T11:09:59.311Z"
   },
   {
    "duration": 0,
    "start_time": "2023-03-18T11:09:59.313Z"
   },
   {
    "duration": 0,
    "start_time": "2023-03-18T11:09:59.314Z"
   },
   {
    "duration": 0,
    "start_time": "2023-03-18T11:09:59.315Z"
   },
   {
    "duration": 0,
    "start_time": "2023-03-18T11:09:59.317Z"
   },
   {
    "duration": 0,
    "start_time": "2023-03-18T11:09:59.318Z"
   },
   {
    "duration": 0,
    "start_time": "2023-03-18T11:09:59.319Z"
   },
   {
    "duration": 0,
    "start_time": "2023-03-18T11:09:59.320Z"
   },
   {
    "duration": 0,
    "start_time": "2023-03-18T11:09:59.321Z"
   },
   {
    "duration": 0,
    "start_time": "2023-03-18T11:09:59.323Z"
   },
   {
    "duration": 0,
    "start_time": "2023-03-18T11:09:59.324Z"
   },
   {
    "duration": 0,
    "start_time": "2023-03-18T11:09:59.325Z"
   },
   {
    "duration": 0,
    "start_time": "2023-03-18T11:09:59.326Z"
   },
   {
    "duration": 0,
    "start_time": "2023-03-18T11:09:59.327Z"
   },
   {
    "duration": 0,
    "start_time": "2023-03-18T11:09:59.329Z"
   },
   {
    "duration": 0,
    "start_time": "2023-03-18T11:09:59.332Z"
   },
   {
    "duration": 0,
    "start_time": "2023-03-18T11:09:59.333Z"
   },
   {
    "duration": 0,
    "start_time": "2023-03-18T11:09:59.333Z"
   },
   {
    "duration": 0,
    "start_time": "2023-03-18T11:09:59.335Z"
   },
   {
    "duration": 0,
    "start_time": "2023-03-18T11:09:59.336Z"
   },
   {
    "duration": 0,
    "start_time": "2023-03-18T11:09:59.337Z"
   },
   {
    "duration": 0,
    "start_time": "2023-03-18T11:09:59.339Z"
   },
   {
    "duration": 1,
    "start_time": "2023-03-18T11:09:59.340Z"
   },
   {
    "duration": 0,
    "start_time": "2023-03-18T11:09:59.390Z"
   },
   {
    "duration": 0,
    "start_time": "2023-03-18T11:09:59.391Z"
   },
   {
    "duration": 1,
    "start_time": "2023-03-18T11:09:59.392Z"
   },
   {
    "duration": 0,
    "start_time": "2023-03-18T11:09:59.394Z"
   },
   {
    "duration": 0,
    "start_time": "2023-03-18T11:09:59.395Z"
   },
   {
    "duration": 0,
    "start_time": "2023-03-18T11:09:59.397Z"
   },
   {
    "duration": 0,
    "start_time": "2023-03-18T11:09:59.398Z"
   },
   {
    "duration": 0,
    "start_time": "2023-03-18T11:09:59.400Z"
   },
   {
    "duration": 0,
    "start_time": "2023-03-18T11:09:59.401Z"
   },
   {
    "duration": 0,
    "start_time": "2023-03-18T11:09:59.403Z"
   },
   {
    "duration": 0,
    "start_time": "2023-03-18T11:09:59.404Z"
   },
   {
    "duration": 0,
    "start_time": "2023-03-18T11:09:59.405Z"
   },
   {
    "duration": 0,
    "start_time": "2023-03-18T11:09:59.407Z"
   },
   {
    "duration": 0,
    "start_time": "2023-03-18T11:09:59.408Z"
   },
   {
    "duration": 0,
    "start_time": "2023-03-18T11:09:59.410Z"
   },
   {
    "duration": 0,
    "start_time": "2023-03-18T11:09:59.411Z"
   },
   {
    "duration": 0,
    "start_time": "2023-03-18T11:09:59.412Z"
   },
   {
    "duration": 0,
    "start_time": "2023-03-18T11:09:59.414Z"
   },
   {
    "duration": 0,
    "start_time": "2023-03-18T11:09:59.416Z"
   },
   {
    "duration": 0,
    "start_time": "2023-03-18T11:09:59.417Z"
   },
   {
    "duration": 0,
    "start_time": "2023-03-18T11:09:59.418Z"
   },
   {
    "duration": 0,
    "start_time": "2023-03-18T11:09:59.420Z"
   },
   {
    "duration": 0,
    "start_time": "2023-03-18T11:09:59.421Z"
   },
   {
    "duration": 0,
    "start_time": "2023-03-18T11:09:59.422Z"
   },
   {
    "duration": 0,
    "start_time": "2023-03-18T11:09:59.423Z"
   },
   {
    "duration": 0,
    "start_time": "2023-03-18T11:09:59.424Z"
   },
   {
    "duration": 0,
    "start_time": "2023-03-18T11:09:59.426Z"
   },
   {
    "duration": 0,
    "start_time": "2023-03-18T11:09:59.427Z"
   },
   {
    "duration": 0,
    "start_time": "2023-03-18T11:09:59.428Z"
   },
   {
    "duration": 0,
    "start_time": "2023-03-18T11:09:59.490Z"
   },
   {
    "duration": 0,
    "start_time": "2023-03-18T11:09:59.491Z"
   },
   {
    "duration": 0,
    "start_time": "2023-03-18T11:09:59.492Z"
   },
   {
    "duration": 0,
    "start_time": "2023-03-18T11:09:59.493Z"
   },
   {
    "duration": 0,
    "start_time": "2023-03-18T11:09:59.494Z"
   },
   {
    "duration": 0,
    "start_time": "2023-03-18T11:09:59.495Z"
   },
   {
    "duration": 0,
    "start_time": "2023-03-18T11:09:59.496Z"
   },
   {
    "duration": 1147,
    "start_time": "2023-03-18T11:10:54.543Z"
   },
   {
    "duration": 68,
    "start_time": "2023-03-18T11:10:55.691Z"
   },
   {
    "duration": 15,
    "start_time": "2023-03-18T11:10:55.760Z"
   },
   {
    "duration": 13,
    "start_time": "2023-03-18T11:10:55.776Z"
   },
   {
    "duration": 16,
    "start_time": "2023-03-18T11:10:55.790Z"
   },
   {
    "duration": 15,
    "start_time": "2023-03-18T11:10:55.808Z"
   },
   {
    "duration": 8,
    "start_time": "2023-03-18T11:10:55.824Z"
   },
   {
    "duration": 10,
    "start_time": "2023-03-18T11:10:55.833Z"
   },
   {
    "duration": 22,
    "start_time": "2023-03-18T11:10:55.844Z"
   },
   {
    "duration": 20,
    "start_time": "2023-03-18T11:10:55.869Z"
   },
   {
    "duration": 3,
    "start_time": "2023-03-18T11:10:55.890Z"
   },
   {
    "duration": 11,
    "start_time": "2023-03-18T11:10:55.894Z"
   },
   {
    "duration": 7,
    "start_time": "2023-03-18T11:10:55.907Z"
   },
   {
    "duration": 11,
    "start_time": "2023-03-18T11:10:55.915Z"
   },
   {
    "duration": 471,
    "start_time": "2023-03-18T11:10:55.928Z"
   },
   {
    "duration": 0,
    "start_time": "2023-03-18T11:10:56.404Z"
   },
   {
    "duration": 0,
    "start_time": "2023-03-18T11:10:56.406Z"
   },
   {
    "duration": 0,
    "start_time": "2023-03-18T11:10:56.407Z"
   },
   {
    "duration": 0,
    "start_time": "2023-03-18T11:10:56.409Z"
   },
   {
    "duration": 0,
    "start_time": "2023-03-18T11:10:56.411Z"
   },
   {
    "duration": 0,
    "start_time": "2023-03-18T11:10:56.412Z"
   },
   {
    "duration": 0,
    "start_time": "2023-03-18T11:10:56.413Z"
   },
   {
    "duration": 0,
    "start_time": "2023-03-18T11:10:56.415Z"
   },
   {
    "duration": 0,
    "start_time": "2023-03-18T11:10:56.417Z"
   },
   {
    "duration": 0,
    "start_time": "2023-03-18T11:10:56.418Z"
   },
   {
    "duration": 0,
    "start_time": "2023-03-18T11:10:56.420Z"
   },
   {
    "duration": 0,
    "start_time": "2023-03-18T11:10:56.421Z"
   },
   {
    "duration": 0,
    "start_time": "2023-03-18T11:10:56.422Z"
   },
   {
    "duration": 1,
    "start_time": "2023-03-18T11:10:56.423Z"
   },
   {
    "duration": 0,
    "start_time": "2023-03-18T11:10:56.425Z"
   },
   {
    "duration": 0,
    "start_time": "2023-03-18T11:10:56.426Z"
   },
   {
    "duration": 0,
    "start_time": "2023-03-18T11:10:56.427Z"
   },
   {
    "duration": 0,
    "start_time": "2023-03-18T11:10:56.429Z"
   },
   {
    "duration": 0,
    "start_time": "2023-03-18T11:10:56.430Z"
   },
   {
    "duration": 0,
    "start_time": "2023-03-18T11:10:56.431Z"
   },
   {
    "duration": 0,
    "start_time": "2023-03-18T11:10:56.433Z"
   },
   {
    "duration": 0,
    "start_time": "2023-03-18T11:10:56.434Z"
   },
   {
    "duration": 0,
    "start_time": "2023-03-18T11:10:56.435Z"
   },
   {
    "duration": 0,
    "start_time": "2023-03-18T11:10:56.437Z"
   },
   {
    "duration": 0,
    "start_time": "2023-03-18T11:10:56.438Z"
   },
   {
    "duration": 0,
    "start_time": "2023-03-18T11:10:56.439Z"
   },
   {
    "duration": 0,
    "start_time": "2023-03-18T11:10:56.440Z"
   },
   {
    "duration": 0,
    "start_time": "2023-03-18T11:10:56.440Z"
   },
   {
    "duration": 0,
    "start_time": "2023-03-18T11:10:56.490Z"
   },
   {
    "duration": 0,
    "start_time": "2023-03-18T11:10:56.491Z"
   },
   {
    "duration": 0,
    "start_time": "2023-03-18T11:10:56.492Z"
   },
   {
    "duration": 0,
    "start_time": "2023-03-18T11:10:56.493Z"
   },
   {
    "duration": 0,
    "start_time": "2023-03-18T11:10:56.494Z"
   },
   {
    "duration": 0,
    "start_time": "2023-03-18T11:10:56.496Z"
   },
   {
    "duration": 0,
    "start_time": "2023-03-18T11:10:56.497Z"
   },
   {
    "duration": 0,
    "start_time": "2023-03-18T11:10:56.498Z"
   },
   {
    "duration": 0,
    "start_time": "2023-03-18T11:10:56.499Z"
   },
   {
    "duration": 0,
    "start_time": "2023-03-18T11:10:56.500Z"
   },
   {
    "duration": 0,
    "start_time": "2023-03-18T11:10:56.501Z"
   },
   {
    "duration": 0,
    "start_time": "2023-03-18T11:10:56.501Z"
   },
   {
    "duration": 0,
    "start_time": "2023-03-18T11:10:56.503Z"
   },
   {
    "duration": 0,
    "start_time": "2023-03-18T11:10:56.504Z"
   },
   {
    "duration": 0,
    "start_time": "2023-03-18T11:10:56.505Z"
   },
   {
    "duration": 0,
    "start_time": "2023-03-18T11:10:56.506Z"
   },
   {
    "duration": 0,
    "start_time": "2023-03-18T11:10:56.507Z"
   },
   {
    "duration": 0,
    "start_time": "2023-03-18T11:10:56.509Z"
   },
   {
    "duration": 0,
    "start_time": "2023-03-18T11:10:56.510Z"
   },
   {
    "duration": 0,
    "start_time": "2023-03-18T11:10:56.511Z"
   },
   {
    "duration": 0,
    "start_time": "2023-03-18T11:10:56.512Z"
   },
   {
    "duration": 0,
    "start_time": "2023-03-18T11:10:56.513Z"
   },
   {
    "duration": 0,
    "start_time": "2023-03-18T11:10:56.515Z"
   },
   {
    "duration": 0,
    "start_time": "2023-03-18T11:10:56.516Z"
   },
   {
    "duration": 0,
    "start_time": "2023-03-18T11:10:56.517Z"
   },
   {
    "duration": 0,
    "start_time": "2023-03-18T11:10:56.518Z"
   },
   {
    "duration": 0,
    "start_time": "2023-03-18T11:10:56.519Z"
   },
   {
    "duration": 0,
    "start_time": "2023-03-18T11:10:56.520Z"
   },
   {
    "duration": 0,
    "start_time": "2023-03-18T11:10:56.521Z"
   },
   {
    "duration": 0,
    "start_time": "2023-03-18T11:10:56.522Z"
   },
   {
    "duration": 0,
    "start_time": "2023-03-18T11:10:56.523Z"
   },
   {
    "duration": 0,
    "start_time": "2023-03-18T11:10:56.589Z"
   },
   {
    "duration": 0,
    "start_time": "2023-03-18T11:10:56.590Z"
   },
   {
    "duration": 7,
    "start_time": "2023-03-18T11:11:23.431Z"
   },
   {
    "duration": 1218,
    "start_time": "2023-03-18T11:11:29.295Z"
   },
   {
    "duration": 69,
    "start_time": "2023-03-18T11:11:30.515Z"
   },
   {
    "duration": 14,
    "start_time": "2023-03-18T11:11:30.586Z"
   },
   {
    "duration": 50,
    "start_time": "2023-03-18T11:11:30.603Z"
   },
   {
    "duration": 49,
    "start_time": "2023-03-18T11:11:30.655Z"
   },
   {
    "duration": 79,
    "start_time": "2023-03-18T11:11:30.706Z"
   },
   {
    "duration": 42,
    "start_time": "2023-03-18T11:11:30.786Z"
   },
   {
    "duration": 31,
    "start_time": "2023-03-18T11:11:30.830Z"
   },
   {
    "duration": 83,
    "start_time": "2023-03-18T11:11:30.863Z"
   },
   {
    "duration": 31,
    "start_time": "2023-03-18T11:11:30.950Z"
   },
   {
    "duration": 52,
    "start_time": "2023-03-18T11:11:30.983Z"
   },
   {
    "duration": 62,
    "start_time": "2023-03-18T11:11:31.037Z"
   },
   {
    "duration": 48,
    "start_time": "2023-03-18T11:11:31.100Z"
   },
   {
    "duration": 44,
    "start_time": "2023-03-18T11:11:31.150Z"
   },
   {
    "duration": 38,
    "start_time": "2023-03-18T11:11:31.195Z"
   },
   {
    "duration": 28,
    "start_time": "2023-03-18T11:11:31.235Z"
   },
   {
    "duration": 24,
    "start_time": "2023-03-18T11:11:31.265Z"
   },
   {
    "duration": 25,
    "start_time": "2023-03-18T11:11:31.290Z"
   },
   {
    "duration": 28,
    "start_time": "2023-03-18T11:11:31.318Z"
   },
   {
    "duration": 20,
    "start_time": "2023-03-18T11:11:31.348Z"
   },
   {
    "duration": 446,
    "start_time": "2023-03-18T11:11:31.369Z"
   },
   {
    "duration": 5,
    "start_time": "2023-03-18T11:11:31.817Z"
   },
   {
    "duration": 348,
    "start_time": "2023-03-18T11:11:31.824Z"
   },
   {
    "duration": 209,
    "start_time": "2023-03-18T11:11:32.174Z"
   },
   {
    "duration": 217,
    "start_time": "2023-03-18T11:11:32.389Z"
   },
   {
    "duration": 244,
    "start_time": "2023-03-18T11:11:32.607Z"
   },
   {
    "duration": 224,
    "start_time": "2023-03-18T11:11:32.853Z"
   },
   {
    "duration": 299,
    "start_time": "2023-03-18T11:11:33.081Z"
   },
   {
    "duration": 2,
    "start_time": "2023-03-18T11:11:33.382Z"
   },
   {
    "duration": 6,
    "start_time": "2023-03-18T11:11:33.388Z"
   },
   {
    "duration": 12,
    "start_time": "2023-03-18T11:11:33.395Z"
   },
   {
    "duration": 2,
    "start_time": "2023-03-18T11:11:33.409Z"
   },
   {
    "duration": 5,
    "start_time": "2023-03-18T11:11:33.413Z"
   },
   {
    "duration": 379,
    "start_time": "2023-03-18T11:11:33.419Z"
   },
   {
    "duration": 3,
    "start_time": "2023-03-18T11:11:33.800Z"
   },
   {
    "duration": 134,
    "start_time": "2023-03-18T11:11:33.804Z"
   },
   {
    "duration": 133,
    "start_time": "2023-03-18T11:11:33.940Z"
   },
   {
    "duration": 131,
    "start_time": "2023-03-18T11:11:34.074Z"
   },
   {
    "duration": 130,
    "start_time": "2023-03-18T11:11:34.207Z"
   },
   {
    "duration": 3,
    "start_time": "2023-03-18T11:11:34.338Z"
   },
   {
    "duration": 42,
    "start_time": "2023-03-18T11:11:34.342Z"
   },
   {
    "duration": 145,
    "start_time": "2023-03-18T11:11:34.385Z"
   },
   {
    "duration": 5,
    "start_time": "2023-03-18T11:11:34.531Z"
   },
   {
    "duration": 151,
    "start_time": "2023-03-18T11:11:34.538Z"
   },
   {
    "duration": 5,
    "start_time": "2023-03-18T11:11:34.690Z"
   },
   {
    "duration": 7,
    "start_time": "2023-03-18T11:11:34.696Z"
   },
   {
    "duration": 4,
    "start_time": "2023-03-18T11:11:34.704Z"
   },
   {
    "duration": 11,
    "start_time": "2023-03-18T11:11:34.709Z"
   },
   {
    "duration": 5,
    "start_time": "2023-03-18T11:11:34.721Z"
   },
   {
    "duration": 8,
    "start_time": "2023-03-18T11:11:34.727Z"
   },
   {
    "duration": 43,
    "start_time": "2023-03-18T11:11:34.736Z"
   },
   {
    "duration": 42,
    "start_time": "2023-03-18T11:11:34.790Z"
   },
   {
    "duration": 18,
    "start_time": "2023-03-18T11:11:34.834Z"
   },
   {
    "duration": 23,
    "start_time": "2023-03-18T11:11:34.853Z"
   },
   {
    "duration": 280,
    "start_time": "2023-03-18T11:11:34.878Z"
   },
   {
    "duration": 215,
    "start_time": "2023-03-18T11:11:35.160Z"
   },
   {
    "duration": 12,
    "start_time": "2023-03-18T11:11:35.377Z"
   },
   {
    "duration": 29,
    "start_time": "2023-03-18T11:11:35.391Z"
   },
   {
    "duration": 44,
    "start_time": "2023-03-18T11:11:35.422Z"
   },
   {
    "duration": 45,
    "start_time": "2023-03-18T11:11:35.468Z"
   },
   {
    "duration": 36,
    "start_time": "2023-03-18T11:11:35.515Z"
   },
   {
    "duration": 42,
    "start_time": "2023-03-18T11:11:35.553Z"
   },
   {
    "duration": 42,
    "start_time": "2023-03-18T11:11:35.596Z"
   },
   {
    "duration": 52,
    "start_time": "2023-03-18T11:11:35.640Z"
   },
   {
    "duration": 27,
    "start_time": "2023-03-18T11:11:35.694Z"
   },
   {
    "duration": 5,
    "start_time": "2023-03-18T11:11:35.723Z"
   },
   {
    "duration": 16,
    "start_time": "2023-03-18T11:11:35.730Z"
   },
   {
    "duration": 96,
    "start_time": "2023-03-18T11:11:35.747Z"
   },
   {
    "duration": 26,
    "start_time": "2023-03-18T11:11:35.844Z"
   },
   {
    "duration": 10,
    "start_time": "2023-03-18T11:11:35.871Z"
   },
   {
    "duration": 13,
    "start_time": "2023-03-18T11:11:35.883Z"
   },
   {
    "duration": 7,
    "start_time": "2023-03-18T11:11:35.898Z"
   },
   {
    "duration": 22,
    "start_time": "2023-03-18T11:11:35.907Z"
   },
   {
    "duration": 27,
    "start_time": "2023-03-18T11:11:35.930Z"
   },
   {
    "duration": 20,
    "start_time": "2023-03-18T11:11:35.959Z"
   },
   {
    "duration": 11,
    "start_time": "2023-03-18T11:11:35.981Z"
   },
   {
    "duration": 4,
    "start_time": "2023-03-18T11:12:06.491Z"
   },
   {
    "duration": 253,
    "start_time": "2023-03-18T11:13:20.400Z"
   },
   {
    "duration": 5,
    "start_time": "2023-03-18T11:13:27.091Z"
   },
   {
    "duration": 7,
    "start_time": "2023-03-18T11:14:03.458Z"
   },
   {
    "duration": 128,
    "start_time": "2023-03-18T11:14:04.575Z"
   },
   {
    "duration": 5,
    "start_time": "2023-03-18T11:14:06.206Z"
   },
   {
    "duration": 125,
    "start_time": "2023-03-18T11:14:07.075Z"
   },
   {
    "duration": 30,
    "start_time": "2023-03-18T11:14:55.492Z"
   },
   {
    "duration": 27,
    "start_time": "2023-03-18T11:16:18.480Z"
   },
   {
    "duration": 30,
    "start_time": "2023-03-18T11:16:32.035Z"
   },
   {
    "duration": 9,
    "start_time": "2023-03-18T11:16:40.200Z"
   },
   {
    "duration": 12,
    "start_time": "2023-03-18T11:16:58.313Z"
   },
   {
    "duration": 5,
    "start_time": "2023-03-18T11:17:37.571Z"
   },
   {
    "duration": 1145,
    "start_time": "2023-03-18T11:18:35.060Z"
   },
   {
    "duration": 65,
    "start_time": "2023-03-18T11:18:36.207Z"
   },
   {
    "duration": 17,
    "start_time": "2023-03-18T11:18:36.274Z"
   },
   {
    "duration": 24,
    "start_time": "2023-03-18T11:18:36.294Z"
   },
   {
    "duration": 18,
    "start_time": "2023-03-18T11:18:36.320Z"
   },
   {
    "duration": 31,
    "start_time": "2023-03-18T11:18:36.339Z"
   },
   {
    "duration": 6,
    "start_time": "2023-03-18T11:18:36.371Z"
   },
   {
    "duration": 11,
    "start_time": "2023-03-18T11:18:36.379Z"
   },
   {
    "duration": 36,
    "start_time": "2023-03-18T11:18:36.391Z"
   },
   {
    "duration": 2,
    "start_time": "2023-03-18T11:18:36.430Z"
   },
   {
    "duration": 50,
    "start_time": "2023-03-18T11:18:36.434Z"
   },
   {
    "duration": 14,
    "start_time": "2023-03-18T11:18:36.486Z"
   },
   {
    "duration": 38,
    "start_time": "2023-03-18T11:18:36.501Z"
   },
   {
    "duration": 37,
    "start_time": "2023-03-18T11:18:36.541Z"
   },
   {
    "duration": 25,
    "start_time": "2023-03-18T11:18:36.580Z"
   },
   {
    "duration": 10,
    "start_time": "2023-03-18T11:18:36.607Z"
   },
   {
    "duration": 5,
    "start_time": "2023-03-18T11:18:36.619Z"
   },
   {
    "duration": 29,
    "start_time": "2023-03-18T11:18:36.625Z"
   },
   {
    "duration": 17,
    "start_time": "2023-03-18T11:18:36.656Z"
   },
   {
    "duration": 22,
    "start_time": "2023-03-18T11:18:36.674Z"
   },
   {
    "duration": 463,
    "start_time": "2023-03-18T11:18:36.698Z"
   },
   {
    "duration": 5,
    "start_time": "2023-03-18T11:18:37.163Z"
   },
   {
    "duration": 366,
    "start_time": "2023-03-18T11:18:37.170Z"
   },
   {
    "duration": 258,
    "start_time": "2023-03-18T11:18:37.538Z"
   },
   {
    "duration": 251,
    "start_time": "2023-03-18T11:18:37.799Z"
   },
   {
    "duration": 317,
    "start_time": "2023-03-18T11:18:38.053Z"
   },
   {
    "duration": 319,
    "start_time": "2023-03-18T11:18:38.372Z"
   },
   {
    "duration": 355,
    "start_time": "2023-03-18T11:18:38.696Z"
   },
   {
    "duration": 2,
    "start_time": "2023-03-18T11:18:39.053Z"
   },
   {
    "duration": 14,
    "start_time": "2023-03-18T11:18:39.057Z"
   },
   {
    "duration": 23,
    "start_time": "2023-03-18T11:18:39.072Z"
   },
   {
    "duration": 3,
    "start_time": "2023-03-18T11:18:39.096Z"
   },
   {
    "duration": 10,
    "start_time": "2023-03-18T11:18:39.101Z"
   },
   {
    "duration": 343,
    "start_time": "2023-03-18T11:18:39.112Z"
   },
   {
    "duration": 3,
    "start_time": "2023-03-18T11:18:39.457Z"
   },
   {
    "duration": 131,
    "start_time": "2023-03-18T11:18:39.462Z"
   },
   {
    "duration": 127,
    "start_time": "2023-03-18T11:18:39.595Z"
   },
   {
    "duration": 122,
    "start_time": "2023-03-18T11:18:39.724Z"
   },
   {
    "duration": 118,
    "start_time": "2023-03-18T11:18:39.848Z"
   },
   {
    "duration": 2,
    "start_time": "2023-03-18T11:18:39.969Z"
   },
   {
    "duration": 7,
    "start_time": "2023-03-18T11:18:39.989Z"
   },
   {
    "duration": 19,
    "start_time": "2023-03-18T11:18:39.998Z"
   },
   {
    "duration": 23,
    "start_time": "2023-03-18T11:18:40.019Z"
   },
   {
    "duration": 145,
    "start_time": "2023-03-18T11:18:40.043Z"
   },
   {
    "duration": 4,
    "start_time": "2023-03-18T11:18:40.190Z"
   },
   {
    "duration": 143,
    "start_time": "2023-03-18T11:18:40.196Z"
   },
   {
    "duration": 5,
    "start_time": "2023-03-18T11:18:40.341Z"
   },
   {
    "duration": 5,
    "start_time": "2023-03-18T11:18:40.347Z"
   },
   {
    "duration": 9,
    "start_time": "2023-03-18T11:18:40.354Z"
   },
   {
    "duration": 29,
    "start_time": "2023-03-18T11:18:40.365Z"
   },
   {
    "duration": 5,
    "start_time": "2023-03-18T11:18:40.396Z"
   },
   {
    "duration": 13,
    "start_time": "2023-03-18T11:18:40.403Z"
   },
   {
    "duration": 16,
    "start_time": "2023-03-18T11:18:40.417Z"
   },
   {
    "duration": 13,
    "start_time": "2023-03-18T11:18:40.435Z"
   },
   {
    "duration": 8,
    "start_time": "2023-03-18T11:18:40.450Z"
   },
   {
    "duration": 16,
    "start_time": "2023-03-18T11:18:40.459Z"
   },
   {
    "duration": 208,
    "start_time": "2023-03-18T11:18:40.477Z"
   },
   {
    "duration": 197,
    "start_time": "2023-03-18T11:18:40.688Z"
   },
   {
    "duration": 3,
    "start_time": "2023-03-18T11:18:40.888Z"
   },
   {
    "duration": 4,
    "start_time": "2023-03-18T11:18:40.893Z"
   },
   {
    "duration": 13,
    "start_time": "2023-03-18T11:18:40.899Z"
   },
   {
    "duration": 8,
    "start_time": "2023-03-18T11:18:40.913Z"
   },
   {
    "duration": 9,
    "start_time": "2023-03-18T11:18:40.923Z"
   },
   {
    "duration": 2,
    "start_time": "2023-03-18T11:18:40.933Z"
   },
   {
    "duration": 52,
    "start_time": "2023-03-18T11:18:40.937Z"
   },
   {
    "duration": 10,
    "start_time": "2023-03-18T11:18:40.990Z"
   },
   {
    "duration": 9,
    "start_time": "2023-03-18T11:18:41.001Z"
   },
   {
    "duration": 3,
    "start_time": "2023-03-18T11:18:41.011Z"
   },
   {
    "duration": 12,
    "start_time": "2023-03-18T11:18:41.015Z"
   },
   {
    "duration": 120,
    "start_time": "2023-03-18T11:18:41.028Z"
   },
   {
    "duration": 23,
    "start_time": "2023-03-18T11:18:41.150Z"
   },
   {
    "duration": 13,
    "start_time": "2023-03-18T11:18:41.175Z"
   },
   {
    "duration": 4,
    "start_time": "2023-03-18T11:18:41.190Z"
   },
   {
    "duration": 6,
    "start_time": "2023-03-18T11:18:41.196Z"
   },
   {
    "duration": 8,
    "start_time": "2023-03-18T11:18:41.203Z"
   },
   {
    "duration": 2,
    "start_time": "2023-03-18T11:18:41.213Z"
   },
   {
    "duration": 5,
    "start_time": "2023-03-18T11:18:41.217Z"
   },
   {
    "duration": 8,
    "start_time": "2023-03-18T11:18:41.223Z"
   },
   {
    "duration": 11,
    "start_time": "2023-03-18T11:19:05.669Z"
   },
   {
    "duration": 1230,
    "start_time": "2023-03-18T11:19:46.286Z"
   },
   {
    "duration": 72,
    "start_time": "2023-03-18T11:19:47.518Z"
   },
   {
    "duration": 15,
    "start_time": "2023-03-18T11:19:47.592Z"
   },
   {
    "duration": 18,
    "start_time": "2023-03-18T11:19:47.609Z"
   },
   {
    "duration": 50,
    "start_time": "2023-03-18T11:19:47.629Z"
   },
   {
    "duration": 18,
    "start_time": "2023-03-18T11:19:47.682Z"
   },
   {
    "duration": 5,
    "start_time": "2023-03-18T11:19:47.702Z"
   },
   {
    "duration": 5,
    "start_time": "2023-03-18T11:19:47.709Z"
   },
   {
    "duration": 23,
    "start_time": "2023-03-18T11:19:47.716Z"
   },
   {
    "duration": 3,
    "start_time": "2023-03-18T11:19:47.742Z"
   },
   {
    "duration": 4,
    "start_time": "2023-03-18T11:19:47.746Z"
   },
   {
    "duration": 42,
    "start_time": "2023-03-18T11:19:47.751Z"
   },
   {
    "duration": 8,
    "start_time": "2023-03-18T11:19:47.794Z"
   },
   {
    "duration": 3,
    "start_time": "2023-03-18T11:19:47.803Z"
   },
   {
    "duration": 45,
    "start_time": "2023-03-18T11:19:47.808Z"
   },
   {
    "duration": 37,
    "start_time": "2023-03-18T11:19:47.855Z"
   },
   {
    "duration": 58,
    "start_time": "2023-03-18T11:19:47.893Z"
   },
   {
    "duration": 74,
    "start_time": "2023-03-18T11:19:47.954Z"
   },
   {
    "duration": 20,
    "start_time": "2023-03-18T11:19:48.030Z"
   },
   {
    "duration": 13,
    "start_time": "2023-03-18T11:19:48.052Z"
   },
   {
    "duration": 515,
    "start_time": "2023-03-18T11:19:48.068Z"
   },
   {
    "duration": 5,
    "start_time": "2023-03-18T11:19:48.589Z"
   },
   {
    "duration": 366,
    "start_time": "2023-03-18T11:19:48.596Z"
   },
   {
    "duration": 216,
    "start_time": "2023-03-18T11:19:48.964Z"
   },
   {
    "duration": 243,
    "start_time": "2023-03-18T11:19:49.188Z"
   },
   {
    "duration": 228,
    "start_time": "2023-03-18T11:19:49.432Z"
   },
   {
    "duration": 214,
    "start_time": "2023-03-18T11:19:49.661Z"
   },
   {
    "duration": 281,
    "start_time": "2023-03-18T11:19:49.879Z"
   },
   {
    "duration": 2,
    "start_time": "2023-03-18T11:19:50.162Z"
   },
   {
    "duration": 10,
    "start_time": "2023-03-18T11:19:50.166Z"
   },
   {
    "duration": 20,
    "start_time": "2023-03-18T11:19:50.178Z"
   },
   {
    "duration": 12,
    "start_time": "2023-03-18T11:19:50.199Z"
   },
   {
    "duration": 11,
    "start_time": "2023-03-18T11:19:50.213Z"
   },
   {
    "duration": 341,
    "start_time": "2023-03-18T11:19:50.225Z"
   },
   {
    "duration": 3,
    "start_time": "2023-03-18T11:19:50.567Z"
   },
   {
    "duration": 191,
    "start_time": "2023-03-18T11:19:50.572Z"
   },
   {
    "duration": 112,
    "start_time": "2023-03-18T11:19:50.764Z"
   },
   {
    "duration": 115,
    "start_time": "2023-03-18T11:19:50.878Z"
   },
   {
    "duration": 109,
    "start_time": "2023-03-18T11:19:50.995Z"
   },
   {
    "duration": 2,
    "start_time": "2023-03-18T11:19:51.106Z"
   },
   {
    "duration": 20,
    "start_time": "2023-03-18T11:19:51.110Z"
   },
   {
    "duration": 24,
    "start_time": "2023-03-18T11:19:51.132Z"
   },
   {
    "duration": 137,
    "start_time": "2023-03-18T11:19:51.158Z"
   },
   {
    "duration": 5,
    "start_time": "2023-03-18T11:19:51.297Z"
   },
   {
    "duration": 140,
    "start_time": "2023-03-18T11:19:51.303Z"
   },
   {
    "duration": 5,
    "start_time": "2023-03-18T11:19:51.445Z"
   },
   {
    "duration": 20,
    "start_time": "2023-03-18T11:19:51.451Z"
   },
   {
    "duration": 7,
    "start_time": "2023-03-18T11:19:51.473Z"
   },
   {
    "duration": 14,
    "start_time": "2023-03-18T11:19:51.481Z"
   },
   {
    "duration": 10,
    "start_time": "2023-03-18T11:19:51.497Z"
   },
   {
    "duration": 21,
    "start_time": "2023-03-18T11:19:51.508Z"
   },
   {
    "duration": 20,
    "start_time": "2023-03-18T11:19:51.531Z"
   },
   {
    "duration": 20,
    "start_time": "2023-03-18T11:19:51.552Z"
   },
   {
    "duration": 23,
    "start_time": "2023-03-18T11:19:51.573Z"
   },
   {
    "duration": 12,
    "start_time": "2023-03-18T11:19:51.597Z"
   },
   {
    "duration": 202,
    "start_time": "2023-03-18T11:19:51.611Z"
   },
   {
    "duration": 206,
    "start_time": "2023-03-18T11:19:51.814Z"
   },
   {
    "duration": 2,
    "start_time": "2023-03-18T11:19:52.022Z"
   },
   {
    "duration": 20,
    "start_time": "2023-03-18T11:19:52.025Z"
   },
   {
    "duration": 20,
    "start_time": "2023-03-18T11:19:52.047Z"
   },
   {
    "duration": 10,
    "start_time": "2023-03-18T11:19:52.069Z"
   },
   {
    "duration": 14,
    "start_time": "2023-03-18T11:19:52.081Z"
   },
   {
    "duration": 10,
    "start_time": "2023-03-18T11:19:52.097Z"
   },
   {
    "duration": 28,
    "start_time": "2023-03-18T11:19:52.108Z"
   },
   {
    "duration": 10,
    "start_time": "2023-03-18T11:19:52.137Z"
   },
   {
    "duration": 21,
    "start_time": "2023-03-18T11:19:52.148Z"
   },
   {
    "duration": 13,
    "start_time": "2023-03-18T11:19:52.171Z"
   },
   {
    "duration": 30,
    "start_time": "2023-03-18T11:19:52.185Z"
   },
   {
    "duration": 113,
    "start_time": "2023-03-18T11:19:52.216Z"
   },
   {
    "duration": 56,
    "start_time": "2023-03-18T11:19:52.331Z"
   },
   {
    "duration": 19,
    "start_time": "2023-03-18T11:19:52.389Z"
   },
   {
    "duration": 7,
    "start_time": "2023-03-18T11:19:52.410Z"
   },
   {
    "duration": 6,
    "start_time": "2023-03-18T11:19:52.418Z"
   },
   {
    "duration": 29,
    "start_time": "2023-03-18T11:19:52.426Z"
   },
   {
    "duration": 7,
    "start_time": "2023-03-18T11:19:52.457Z"
   },
   {
    "duration": 30,
    "start_time": "2023-03-18T11:19:52.466Z"
   },
   {
    "duration": 13,
    "start_time": "2023-03-18T11:19:52.497Z"
   },
   {
    "duration": 1275,
    "start_time": "2023-03-18T11:20:29.568Z"
   },
   {
    "duration": 67,
    "start_time": "2023-03-18T11:20:30.845Z"
   },
   {
    "duration": 14,
    "start_time": "2023-03-18T11:20:30.914Z"
   },
   {
    "duration": 35,
    "start_time": "2023-03-18T11:20:30.930Z"
   },
   {
    "duration": 42,
    "start_time": "2023-03-18T11:20:30.967Z"
   },
   {
    "duration": 42,
    "start_time": "2023-03-18T11:20:31.011Z"
   },
   {
    "duration": 36,
    "start_time": "2023-03-18T11:20:31.055Z"
   },
   {
    "duration": 39,
    "start_time": "2023-03-18T11:20:31.093Z"
   },
   {
    "duration": 48,
    "start_time": "2023-03-18T11:20:31.134Z"
   },
   {
    "duration": 22,
    "start_time": "2023-03-18T11:20:31.185Z"
   },
   {
    "duration": 8,
    "start_time": "2023-03-18T11:20:31.209Z"
   },
   {
    "duration": 32,
    "start_time": "2023-03-18T11:20:31.218Z"
   },
   {
    "duration": 34,
    "start_time": "2023-03-18T11:20:31.251Z"
   },
   {
    "duration": 20,
    "start_time": "2023-03-18T11:20:31.287Z"
   },
   {
    "duration": 30,
    "start_time": "2023-03-18T11:20:31.309Z"
   },
   {
    "duration": 23,
    "start_time": "2023-03-18T11:20:31.341Z"
   },
   {
    "duration": 13,
    "start_time": "2023-03-18T11:20:31.366Z"
   },
   {
    "duration": 17,
    "start_time": "2023-03-18T11:20:31.380Z"
   },
   {
    "duration": 21,
    "start_time": "2023-03-18T11:20:31.399Z"
   },
   {
    "duration": 17,
    "start_time": "2023-03-18T11:20:31.421Z"
   },
   {
    "duration": 455,
    "start_time": "2023-03-18T11:20:31.439Z"
   },
   {
    "duration": 5,
    "start_time": "2023-03-18T11:20:31.895Z"
   },
   {
    "duration": 362,
    "start_time": "2023-03-18T11:20:31.902Z"
   },
   {
    "duration": 222,
    "start_time": "2023-03-18T11:20:32.266Z"
   },
   {
    "duration": 239,
    "start_time": "2023-03-18T11:20:32.489Z"
   },
   {
    "duration": 258,
    "start_time": "2023-03-18T11:20:32.731Z"
   },
   {
    "duration": 401,
    "start_time": "2023-03-18T11:20:32.991Z"
   },
   {
    "duration": 595,
    "start_time": "2023-03-18T11:20:33.396Z"
   },
   {
    "duration": 2,
    "start_time": "2023-03-18T11:20:33.993Z"
   },
   {
    "duration": 6,
    "start_time": "2023-03-18T11:20:33.997Z"
   },
   {
    "duration": 11,
    "start_time": "2023-03-18T11:20:34.004Z"
   },
   {
    "duration": 2,
    "start_time": "2023-03-18T11:20:34.017Z"
   },
   {
    "duration": 10,
    "start_time": "2023-03-18T11:20:34.021Z"
   },
   {
    "duration": 702,
    "start_time": "2023-03-18T11:20:34.033Z"
   },
   {
    "duration": 53,
    "start_time": "2023-03-18T11:20:34.736Z"
   },
   {
    "duration": 218,
    "start_time": "2023-03-18T11:20:34.791Z"
   },
   {
    "duration": 130,
    "start_time": "2023-03-18T11:20:35.011Z"
   },
   {
    "duration": 125,
    "start_time": "2023-03-18T11:20:35.143Z"
   },
   {
    "duration": 122,
    "start_time": "2023-03-18T11:20:35.269Z"
   },
   {
    "duration": 2,
    "start_time": "2023-03-18T11:20:35.393Z"
   },
   {
    "duration": 138,
    "start_time": "2023-03-18T11:20:35.397Z"
   },
   {
    "duration": 0,
    "start_time": "2023-03-18T11:20:35.536Z"
   },
   {
    "duration": 0,
    "start_time": "2023-03-18T11:20:35.538Z"
   },
   {
    "duration": 0,
    "start_time": "2023-03-18T11:20:35.539Z"
   },
   {
    "duration": 0,
    "start_time": "2023-03-18T11:20:35.540Z"
   },
   {
    "duration": 0,
    "start_time": "2023-03-18T11:20:35.540Z"
   },
   {
    "duration": 0,
    "start_time": "2023-03-18T11:20:35.542Z"
   },
   {
    "duration": 0,
    "start_time": "2023-03-18T11:20:35.542Z"
   },
   {
    "duration": 0,
    "start_time": "2023-03-18T11:20:35.543Z"
   },
   {
    "duration": 0,
    "start_time": "2023-03-18T11:20:35.544Z"
   },
   {
    "duration": 0,
    "start_time": "2023-03-18T11:20:35.545Z"
   },
   {
    "duration": 0,
    "start_time": "2023-03-18T11:20:35.546Z"
   },
   {
    "duration": 0,
    "start_time": "2023-03-18T11:20:35.547Z"
   },
   {
    "duration": 0,
    "start_time": "2023-03-18T11:20:35.548Z"
   },
   {
    "duration": 0,
    "start_time": "2023-03-18T11:20:35.549Z"
   },
   {
    "duration": 0,
    "start_time": "2023-03-18T11:20:35.550Z"
   },
   {
    "duration": 0,
    "start_time": "2023-03-18T11:20:35.550Z"
   },
   {
    "duration": 0,
    "start_time": "2023-03-18T11:20:35.551Z"
   },
   {
    "duration": 0,
    "start_time": "2023-03-18T11:20:35.552Z"
   },
   {
    "duration": 0,
    "start_time": "2023-03-18T11:20:35.553Z"
   },
   {
    "duration": 0,
    "start_time": "2023-03-18T11:20:35.554Z"
   },
   {
    "duration": 0,
    "start_time": "2023-03-18T11:20:35.589Z"
   },
   {
    "duration": 0,
    "start_time": "2023-03-18T11:20:35.590Z"
   },
   {
    "duration": 0,
    "start_time": "2023-03-18T11:20:35.592Z"
   },
   {
    "duration": 0,
    "start_time": "2023-03-18T11:20:35.593Z"
   },
   {
    "duration": 0,
    "start_time": "2023-03-18T11:20:35.594Z"
   },
   {
    "duration": 0,
    "start_time": "2023-03-18T11:20:35.595Z"
   },
   {
    "duration": 0,
    "start_time": "2023-03-18T11:20:35.596Z"
   },
   {
    "duration": 0,
    "start_time": "2023-03-18T11:20:35.596Z"
   },
   {
    "duration": 0,
    "start_time": "2023-03-18T11:20:35.598Z"
   },
   {
    "duration": 0,
    "start_time": "2023-03-18T11:20:35.599Z"
   },
   {
    "duration": 0,
    "start_time": "2023-03-18T11:20:35.600Z"
   },
   {
    "duration": 0,
    "start_time": "2023-03-18T11:20:35.601Z"
   },
   {
    "duration": 0,
    "start_time": "2023-03-18T11:20:35.601Z"
   },
   {
    "duration": 0,
    "start_time": "2023-03-18T11:20:35.602Z"
   },
   {
    "duration": 0,
    "start_time": "2023-03-18T11:20:35.603Z"
   },
   {
    "duration": 0,
    "start_time": "2023-03-18T11:20:35.604Z"
   },
   {
    "duration": 9,
    "start_time": "2023-03-18T11:20:52.599Z"
   },
   {
    "duration": 10,
    "start_time": "2023-03-18T11:20:53.864Z"
   },
   {
    "duration": 144,
    "start_time": "2023-03-18T11:21:24.497Z"
   },
   {
    "duration": 7,
    "start_time": "2023-03-18T11:21:28.596Z"
   },
   {
    "duration": 137,
    "start_time": "2023-03-18T11:21:29.040Z"
   },
   {
    "duration": 4,
    "start_time": "2023-03-18T11:21:30.135Z"
   },
   {
    "duration": 6,
    "start_time": "2023-03-18T11:21:31.049Z"
   },
   {
    "duration": 1280,
    "start_time": "2023-03-18T11:21:46.571Z"
   },
   {
    "duration": 83,
    "start_time": "2023-03-18T11:21:47.853Z"
   },
   {
    "duration": 21,
    "start_time": "2023-03-18T11:21:47.941Z"
   },
   {
    "duration": 33,
    "start_time": "2023-03-18T11:21:47.966Z"
   },
   {
    "duration": 18,
    "start_time": "2023-03-18T11:21:48.001Z"
   },
   {
    "duration": 18,
    "start_time": "2023-03-18T11:21:48.021Z"
   },
   {
    "duration": 5,
    "start_time": "2023-03-18T11:21:48.041Z"
   },
   {
    "duration": 4,
    "start_time": "2023-03-18T11:21:48.047Z"
   },
   {
    "duration": 23,
    "start_time": "2023-03-18T11:21:48.089Z"
   },
   {
    "duration": 3,
    "start_time": "2023-03-18T11:21:48.115Z"
   },
   {
    "duration": 5,
    "start_time": "2023-03-18T11:21:48.120Z"
   },
   {
    "duration": 7,
    "start_time": "2023-03-18T11:21:48.127Z"
   },
   {
    "duration": 7,
    "start_time": "2023-03-18T11:21:48.136Z"
   },
   {
    "duration": 44,
    "start_time": "2023-03-18T11:21:48.145Z"
   },
   {
    "duration": 8,
    "start_time": "2023-03-18T11:21:48.191Z"
   },
   {
    "duration": 9,
    "start_time": "2023-03-18T11:21:48.201Z"
   },
   {
    "duration": 8,
    "start_time": "2023-03-18T11:21:48.212Z"
   },
   {
    "duration": 17,
    "start_time": "2023-03-18T11:21:48.222Z"
   },
   {
    "duration": 57,
    "start_time": "2023-03-18T11:21:48.241Z"
   },
   {
    "duration": 10,
    "start_time": "2023-03-18T11:21:48.300Z"
   },
   {
    "duration": 483,
    "start_time": "2023-03-18T11:21:48.312Z"
   },
   {
    "duration": 6,
    "start_time": "2023-03-18T11:21:48.796Z"
   },
   {
    "duration": 340,
    "start_time": "2023-03-18T11:21:48.803Z"
   },
   {
    "duration": 230,
    "start_time": "2023-03-18T11:21:49.145Z"
   },
   {
    "duration": 271,
    "start_time": "2023-03-18T11:21:49.377Z"
   },
   {
    "duration": 229,
    "start_time": "2023-03-18T11:21:49.650Z"
   },
   {
    "duration": 227,
    "start_time": "2023-03-18T11:21:49.880Z"
   },
   {
    "duration": 303,
    "start_time": "2023-03-18T11:21:50.112Z"
   },
   {
    "duration": 2,
    "start_time": "2023-03-18T11:21:50.417Z"
   },
   {
    "duration": 16,
    "start_time": "2023-03-18T11:21:50.421Z"
   },
   {
    "duration": 15,
    "start_time": "2023-03-18T11:21:50.439Z"
   },
   {
    "duration": 2,
    "start_time": "2023-03-18T11:21:50.456Z"
   },
   {
    "duration": 6,
    "start_time": "2023-03-18T11:21:50.460Z"
   },
   {
    "duration": 347,
    "start_time": "2023-03-18T11:21:50.468Z"
   },
   {
    "duration": 3,
    "start_time": "2023-03-18T11:21:50.816Z"
   },
   {
    "duration": 121,
    "start_time": "2023-03-18T11:21:50.820Z"
   },
   {
    "duration": 117,
    "start_time": "2023-03-18T11:21:50.942Z"
   },
   {
    "duration": 111,
    "start_time": "2023-03-18T11:21:51.061Z"
   },
   {
    "duration": 121,
    "start_time": "2023-03-18T11:21:51.174Z"
   },
   {
    "duration": 3,
    "start_time": "2023-03-18T11:21:51.296Z"
   },
   {
    "duration": 15,
    "start_time": "2023-03-18T11:21:51.301Z"
   },
   {
    "duration": 4,
    "start_time": "2023-03-18T11:21:51.317Z"
   },
   {
    "duration": 12,
    "start_time": "2023-03-18T11:21:51.322Z"
   },
   {
    "duration": 146,
    "start_time": "2023-03-18T11:21:51.336Z"
   },
   {
    "duration": 8,
    "start_time": "2023-03-18T11:21:51.484Z"
   },
   {
    "duration": 134,
    "start_time": "2023-03-18T11:21:51.494Z"
   },
   {
    "duration": 5,
    "start_time": "2023-03-18T11:21:51.630Z"
   },
   {
    "duration": 7,
    "start_time": "2023-03-18T11:21:51.637Z"
   },
   {
    "duration": 19,
    "start_time": "2023-03-18T11:21:51.646Z"
   },
   {
    "duration": 26,
    "start_time": "2023-03-18T11:21:51.667Z"
   },
   {
    "duration": 7,
    "start_time": "2023-03-18T11:21:51.695Z"
   },
   {
    "duration": 8,
    "start_time": "2023-03-18T11:21:51.703Z"
   },
   {
    "duration": 14,
    "start_time": "2023-03-18T11:21:51.712Z"
   },
   {
    "duration": 13,
    "start_time": "2023-03-18T11:21:51.728Z"
   },
   {
    "duration": 5,
    "start_time": "2023-03-18T11:21:51.742Z"
   },
   {
    "duration": 2,
    "start_time": "2023-03-18T11:21:51.748Z"
   },
   {
    "duration": 215,
    "start_time": "2023-03-18T11:21:51.751Z"
   },
   {
    "duration": 205,
    "start_time": "2023-03-18T11:21:51.968Z"
   },
   {
    "duration": 2,
    "start_time": "2023-03-18T11:21:52.175Z"
   },
   {
    "duration": 8,
    "start_time": "2023-03-18T11:21:52.188Z"
   },
   {
    "duration": 22,
    "start_time": "2023-03-18T11:21:52.197Z"
   },
   {
    "duration": 8,
    "start_time": "2023-03-18T11:21:52.221Z"
   },
   {
    "duration": 9,
    "start_time": "2023-03-18T11:21:52.231Z"
   },
   {
    "duration": 2,
    "start_time": "2023-03-18T11:21:52.241Z"
   },
   {
    "duration": 11,
    "start_time": "2023-03-18T11:21:52.245Z"
   },
   {
    "duration": 33,
    "start_time": "2023-03-18T11:21:52.257Z"
   },
   {
    "duration": 8,
    "start_time": "2023-03-18T11:21:52.292Z"
   },
   {
    "duration": 2,
    "start_time": "2023-03-18T11:21:52.302Z"
   },
   {
    "duration": 14,
    "start_time": "2023-03-18T11:21:52.306Z"
   },
   {
    "duration": 111,
    "start_time": "2023-03-18T11:21:52.322Z"
   },
   {
    "duration": 11,
    "start_time": "2023-03-18T11:21:52.435Z"
   },
   {
    "duration": 6,
    "start_time": "2023-03-18T11:21:52.447Z"
   },
   {
    "duration": 6,
    "start_time": "2023-03-18T11:21:52.454Z"
   },
   {
    "duration": 28,
    "start_time": "2023-03-18T11:21:52.462Z"
   },
   {
    "duration": 8,
    "start_time": "2023-03-18T11:21:52.491Z"
   },
   {
    "duration": 8,
    "start_time": "2023-03-18T11:21:52.501Z"
   },
   {
    "duration": 13,
    "start_time": "2023-03-18T11:21:52.511Z"
   },
   {
    "duration": 41,
    "start_time": "2023-03-18T11:21:52.526Z"
   },
   {
    "duration": 10,
    "start_time": "2023-03-18T11:26:09.607Z"
   },
   {
    "duration": 264,
    "start_time": "2023-03-18T11:26:10.392Z"
   },
   {
    "duration": 9,
    "start_time": "2023-03-18T11:26:26.597Z"
   },
   {
    "duration": 154,
    "start_time": "2023-03-18T11:26:28.598Z"
   },
   {
    "duration": 1588,
    "start_time": "2023-03-18T11:26:37.390Z"
   },
   {
    "duration": 69,
    "start_time": "2023-03-18T11:26:38.981Z"
   },
   {
    "duration": 17,
    "start_time": "2023-03-18T11:26:39.051Z"
   },
   {
    "duration": 23,
    "start_time": "2023-03-18T11:26:39.070Z"
   },
   {
    "duration": 18,
    "start_time": "2023-03-18T11:26:39.095Z"
   },
   {
    "duration": 19,
    "start_time": "2023-03-18T11:26:39.115Z"
   },
   {
    "duration": 10,
    "start_time": "2023-03-18T11:26:39.135Z"
   },
   {
    "duration": 4,
    "start_time": "2023-03-18T11:26:39.146Z"
   },
   {
    "duration": 56,
    "start_time": "2023-03-18T11:26:39.152Z"
   },
   {
    "duration": 2,
    "start_time": "2023-03-18T11:26:39.210Z"
   },
   {
    "duration": 3,
    "start_time": "2023-03-18T11:26:39.214Z"
   },
   {
    "duration": 7,
    "start_time": "2023-03-18T11:26:39.218Z"
   },
   {
    "duration": 7,
    "start_time": "2023-03-18T11:26:39.226Z"
   },
   {
    "duration": 4,
    "start_time": "2023-03-18T11:26:39.234Z"
   },
   {
    "duration": 50,
    "start_time": "2023-03-18T11:26:39.239Z"
   },
   {
    "duration": 8,
    "start_time": "2023-03-18T11:26:39.291Z"
   },
   {
    "duration": 27,
    "start_time": "2023-03-18T11:26:39.301Z"
   },
   {
    "duration": 15,
    "start_time": "2023-03-18T11:26:39.330Z"
   },
   {
    "duration": 43,
    "start_time": "2023-03-18T11:26:39.347Z"
   },
   {
    "duration": 19,
    "start_time": "2023-03-18T11:26:39.393Z"
   },
   {
    "duration": 482,
    "start_time": "2023-03-18T11:26:39.414Z"
   },
   {
    "duration": 6,
    "start_time": "2023-03-18T11:26:39.898Z"
   },
   {
    "duration": 335,
    "start_time": "2023-03-18T11:26:39.906Z"
   },
   {
    "duration": 203,
    "start_time": "2023-03-18T11:26:40.243Z"
   },
   {
    "duration": 247,
    "start_time": "2023-03-18T11:26:40.448Z"
   },
   {
    "duration": 210,
    "start_time": "2023-03-18T11:26:40.697Z"
   },
   {
    "duration": 210,
    "start_time": "2023-03-18T11:26:40.908Z"
   },
   {
    "duration": 289,
    "start_time": "2023-03-18T11:26:41.122Z"
   },
   {
    "duration": 2,
    "start_time": "2023-03-18T11:26:41.413Z"
   },
   {
    "duration": 6,
    "start_time": "2023-03-18T11:26:41.416Z"
   },
   {
    "duration": 12,
    "start_time": "2023-03-18T11:26:41.423Z"
   },
   {
    "duration": 4,
    "start_time": "2023-03-18T11:26:41.436Z"
   },
   {
    "duration": 5,
    "start_time": "2023-03-18T11:26:41.441Z"
   },
   {
    "duration": 359,
    "start_time": "2023-03-18T11:26:41.448Z"
   },
   {
    "duration": 3,
    "start_time": "2023-03-18T11:26:41.809Z"
   },
   {
    "duration": 121,
    "start_time": "2023-03-18T11:26:41.813Z"
   },
   {
    "duration": 132,
    "start_time": "2023-03-18T11:26:41.935Z"
   },
   {
    "duration": 128,
    "start_time": "2023-03-18T11:26:42.069Z"
   },
   {
    "duration": 125,
    "start_time": "2023-03-18T11:26:42.199Z"
   },
   {
    "duration": 3,
    "start_time": "2023-03-18T11:26:42.326Z"
   },
   {
    "duration": 13,
    "start_time": "2023-03-18T11:26:42.330Z"
   },
   {
    "duration": 174,
    "start_time": "2023-03-18T11:26:42.344Z"
   },
   {
    "duration": 6,
    "start_time": "2023-03-18T11:26:42.519Z"
   },
   {
    "duration": 151,
    "start_time": "2023-03-18T11:26:42.526Z"
   },
   {
    "duration": 10,
    "start_time": "2023-03-18T11:26:42.679Z"
   },
   {
    "duration": 3,
    "start_time": "2023-03-18T11:26:42.691Z"
   },
   {
    "duration": 11,
    "start_time": "2023-03-18T11:26:42.695Z"
   },
   {
    "duration": 270,
    "start_time": "2023-03-18T11:26:42.708Z"
   },
   {
    "duration": 0,
    "start_time": "2023-03-18T11:26:42.981Z"
   },
   {
    "duration": 0,
    "start_time": "2023-03-18T11:26:42.982Z"
   },
   {
    "duration": 0,
    "start_time": "2023-03-18T11:26:42.984Z"
   },
   {
    "duration": 0,
    "start_time": "2023-03-18T11:26:42.986Z"
   },
   {
    "duration": 0,
    "start_time": "2023-03-18T11:26:42.988Z"
   },
   {
    "duration": 0,
    "start_time": "2023-03-18T11:26:42.989Z"
   },
   {
    "duration": 0,
    "start_time": "2023-03-18T11:26:42.990Z"
   },
   {
    "duration": 0,
    "start_time": "2023-03-18T11:26:42.992Z"
   },
   {
    "duration": 1,
    "start_time": "2023-03-18T11:26:42.993Z"
   },
   {
    "duration": 0,
    "start_time": "2023-03-18T11:26:42.995Z"
   },
   {
    "duration": 0,
    "start_time": "2023-03-18T11:26:42.996Z"
   },
   {
    "duration": 0,
    "start_time": "2023-03-18T11:26:42.998Z"
   },
   {
    "duration": 0,
    "start_time": "2023-03-18T11:26:42.999Z"
   },
   {
    "duration": 0,
    "start_time": "2023-03-18T11:26:43.001Z"
   },
   {
    "duration": 0,
    "start_time": "2023-03-18T11:26:43.003Z"
   },
   {
    "duration": 0,
    "start_time": "2023-03-18T11:26:43.004Z"
   },
   {
    "duration": 0,
    "start_time": "2023-03-18T11:26:43.005Z"
   },
   {
    "duration": 0,
    "start_time": "2023-03-18T11:26:43.006Z"
   },
   {
    "duration": 0,
    "start_time": "2023-03-18T11:26:43.008Z"
   },
   {
    "duration": 0,
    "start_time": "2023-03-18T11:26:43.010Z"
   },
   {
    "duration": 0,
    "start_time": "2023-03-18T11:26:43.011Z"
   },
   {
    "duration": 0,
    "start_time": "2023-03-18T11:26:43.012Z"
   },
   {
    "duration": 0,
    "start_time": "2023-03-18T11:26:43.014Z"
   },
   {
    "duration": 0,
    "start_time": "2023-03-18T11:26:43.015Z"
   },
   {
    "duration": 0,
    "start_time": "2023-03-18T11:26:43.017Z"
   },
   {
    "duration": 0,
    "start_time": "2023-03-18T11:26:43.019Z"
   },
   {
    "duration": 0,
    "start_time": "2023-03-18T11:26:43.020Z"
   },
   {
    "duration": 154,
    "start_time": "2023-03-18T11:27:24.396Z"
   },
   {
    "duration": 7,
    "start_time": "2023-03-18T11:27:27.927Z"
   },
   {
    "duration": 6,
    "start_time": "2023-03-18T11:27:44.079Z"
   },
   {
    "duration": 13,
    "start_time": "2023-03-18T11:27:52.636Z"
   },
   {
    "duration": 161,
    "start_time": "2023-03-18T11:27:53.989Z"
   },
   {
    "duration": 162,
    "start_time": "2023-03-18T11:28:09.886Z"
   },
   {
    "duration": 156,
    "start_time": "2023-03-18T11:28:21.374Z"
   },
   {
    "duration": 165,
    "start_time": "2023-03-18T11:28:30.989Z"
   },
   {
    "duration": 6,
    "start_time": "2023-03-18T11:28:53.507Z"
   },
   {
    "duration": 10,
    "start_time": "2023-03-18T11:30:01.372Z"
   },
   {
    "duration": 6,
    "start_time": "2023-03-18T11:30:02.342Z"
   },
   {
    "duration": 189,
    "start_time": "2023-03-18T11:30:11.436Z"
   },
   {
    "duration": 6,
    "start_time": "2023-03-18T11:30:19.873Z"
   },
   {
    "duration": 5,
    "start_time": "2023-03-18T11:31:02.413Z"
   },
   {
    "duration": 131,
    "start_time": "2023-03-18T11:31:05.892Z"
   },
   {
    "duration": 13,
    "start_time": "2023-03-18T11:34:31.880Z"
   },
   {
    "duration": 7,
    "start_time": "2023-03-18T11:34:32.630Z"
   },
   {
    "duration": 10,
    "start_time": "2023-03-18T11:34:45.312Z"
   },
   {
    "duration": 219,
    "start_time": "2023-03-18T11:34:59.890Z"
   },
   {
    "duration": 6,
    "start_time": "2023-03-18T11:35:06.178Z"
   },
   {
    "duration": 5,
    "start_time": "2023-03-18T11:35:10.589Z"
   },
   {
    "duration": 6,
    "start_time": "2023-03-18T13:13:17.282Z"
   },
   {
    "duration": 133,
    "start_time": "2023-03-18T13:14:57.100Z"
   },
   {
    "duration": 209,
    "start_time": "2023-03-18T13:15:01.514Z"
   },
   {
    "duration": 12,
    "start_time": "2023-03-18T13:17:00.022Z"
   },
   {
    "duration": 19,
    "start_time": "2023-03-18T13:17:10.483Z"
   },
   {
    "duration": 9,
    "start_time": "2023-03-18T13:17:15.428Z"
   },
   {
    "duration": 9,
    "start_time": "2023-03-18T13:17:21.847Z"
   },
   {
    "duration": 15,
    "start_time": "2023-03-18T13:17:22.610Z"
   },
   {
    "duration": 13,
    "start_time": "2023-03-18T13:17:22.980Z"
   },
   {
    "duration": 145,
    "start_time": "2023-03-18T13:17:39.352Z"
   },
   {
    "duration": 7,
    "start_time": "2023-03-18T13:17:40.508Z"
   },
   {
    "duration": 11,
    "start_time": "2023-03-18T13:17:41.213Z"
   },
   {
    "duration": 148,
    "start_time": "2023-03-18T13:17:48.829Z"
   },
   {
    "duration": 145,
    "start_time": "2023-03-18T13:18:06.713Z"
   },
   {
    "duration": 144,
    "start_time": "2023-03-18T13:18:11.721Z"
   },
   {
    "duration": 5,
    "start_time": "2023-03-18T13:18:31.235Z"
   },
   {
    "duration": 139,
    "start_time": "2023-03-18T13:18:32.219Z"
   },
   {
    "duration": 161,
    "start_time": "2023-03-18T13:19:07.084Z"
   },
   {
    "duration": 7,
    "start_time": "2023-03-18T13:19:08.524Z"
   },
   {
    "duration": 164,
    "start_time": "2023-03-18T13:19:09.249Z"
   },
   {
    "duration": 225,
    "start_time": "2023-03-18T13:20:23.244Z"
   },
   {
    "duration": 7,
    "start_time": "2023-03-18T13:20:24.428Z"
   },
   {
    "duration": 197,
    "start_time": "2023-03-18T13:20:24.974Z"
   },
   {
    "duration": 228,
    "start_time": "2023-03-18T13:20:52.122Z"
   },
   {
    "duration": 243,
    "start_time": "2023-03-18T13:20:54.984Z"
   },
   {
    "duration": 6,
    "start_time": "2023-03-18T13:24:10.341Z"
   },
   {
    "duration": 49,
    "start_time": "2023-03-18T13:24:21.324Z"
   },
   {
    "duration": 11,
    "start_time": "2023-03-18T13:24:28.542Z"
   },
   {
    "duration": 14,
    "start_time": "2023-03-18T13:24:34.586Z"
   },
   {
    "duration": 5,
    "start_time": "2023-03-18T13:24:49.648Z"
   },
   {
    "duration": 5,
    "start_time": "2023-03-18T13:24:55.882Z"
   },
   {
    "duration": 10,
    "start_time": "2023-03-18T13:25:25.249Z"
   },
   {
    "duration": 10,
    "start_time": "2023-03-18T13:25:42.756Z"
   },
   {
    "duration": 7,
    "start_time": "2023-03-18T13:26:19.389Z"
   },
   {
    "duration": 9,
    "start_time": "2023-03-18T13:26:42.354Z"
   },
   {
    "duration": 5,
    "start_time": "2023-03-18T13:26:54.472Z"
   },
   {
    "duration": 13,
    "start_time": "2023-03-18T13:27:03.913Z"
   },
   {
    "duration": 5,
    "start_time": "2023-03-18T13:27:15.136Z"
   },
   {
    "duration": 13,
    "start_time": "2023-03-18T13:27:26.481Z"
   },
   {
    "duration": 10,
    "start_time": "2023-03-18T13:28:03.331Z"
   },
   {
    "duration": 6,
    "start_time": "2023-03-18T13:28:15.217Z"
   },
   {
    "duration": 4,
    "start_time": "2023-03-18T13:28:27.259Z"
   },
   {
    "duration": 6,
    "start_time": "2023-03-18T13:29:29.617Z"
   },
   {
    "duration": 169,
    "start_time": "2023-03-18T13:29:30.609Z"
   },
   {
    "duration": 11,
    "start_time": "2023-03-18T13:29:52.115Z"
   },
   {
    "duration": 165,
    "start_time": "2023-03-18T13:29:53.106Z"
   },
   {
    "duration": 502,
    "start_time": "2023-03-18T13:33:30.302Z"
   },
   {
    "duration": 410,
    "start_time": "2023-03-18T13:33:46.506Z"
   },
   {
    "duration": 388,
    "start_time": "2023-03-18T13:33:56.634Z"
   },
   {
    "duration": 359,
    "start_time": "2023-03-18T13:34:01.613Z"
   },
   {
    "duration": 66,
    "start_time": "2023-03-18T13:44:03.962Z"
   },
   {
    "duration": 213,
    "start_time": "2023-03-18T13:44:24.340Z"
   },
   {
    "duration": 241,
    "start_time": "2023-03-18T13:44:27.623Z"
   },
   {
    "duration": 355,
    "start_time": "2023-03-18T13:46:36.314Z"
   },
   {
    "duration": 201,
    "start_time": "2023-03-18T13:47:06.715Z"
   },
   {
    "duration": 196,
    "start_time": "2023-03-18T13:47:11.561Z"
   },
   {
    "duration": 252,
    "start_time": "2023-03-18T13:49:13.409Z"
   },
   {
    "duration": 235,
    "start_time": "2023-03-18T13:49:21.131Z"
   },
   {
    "duration": 261,
    "start_time": "2023-03-18T13:49:34.808Z"
   },
   {
    "duration": 256,
    "start_time": "2023-03-18T13:49:49.964Z"
   },
   {
    "duration": 441,
    "start_time": "2023-03-18T13:49:58.511Z"
   },
   {
    "duration": 304,
    "start_time": "2023-03-18T13:50:10.442Z"
   },
   {
    "duration": 5,
    "start_time": "2023-03-18T13:52:51.656Z"
   },
   {
    "duration": 62,
    "start_time": "2023-03-18T13:55:00.954Z"
   },
   {
    "duration": 7,
    "start_time": "2023-03-18T13:55:20.401Z"
   },
   {
    "duration": 194,
    "start_time": "2023-03-18T13:55:24.763Z"
   },
   {
    "duration": 161,
    "start_time": "2023-03-18T13:56:13.553Z"
   },
   {
    "duration": 183,
    "start_time": "2023-03-18T13:56:25.303Z"
   },
   {
    "duration": 229,
    "start_time": "2023-03-18T13:56:36.541Z"
   },
   {
    "duration": 295,
    "start_time": "2023-03-18T14:03:28.844Z"
   },
   {
    "duration": 395,
    "start_time": "2023-03-18T14:03:35.308Z"
   },
   {
    "duration": 236,
    "start_time": "2023-03-18T14:03:55.447Z"
   },
   {
    "duration": 274,
    "start_time": "2023-03-18T14:04:06.011Z"
   },
   {
    "duration": 295,
    "start_time": "2023-03-18T14:04:27.640Z"
   },
   {
    "duration": 290,
    "start_time": "2023-03-18T14:05:00.052Z"
   },
   {
    "duration": 301,
    "start_time": "2023-03-18T14:05:08.221Z"
   },
   {
    "duration": 431,
    "start_time": "2023-03-18T14:05:13.825Z"
   },
   {
    "duration": 317,
    "start_time": "2023-03-18T14:06:32.175Z"
   },
   {
    "duration": 60,
    "start_time": "2023-03-18T14:08:07.061Z"
   },
   {
    "duration": 267,
    "start_time": "2023-03-18T14:08:13.654Z"
   },
   {
    "duration": 277,
    "start_time": "2023-03-18T14:08:41.407Z"
   },
   {
    "duration": 395,
    "start_time": "2023-03-18T14:08:47.520Z"
   },
   {
    "duration": 11,
    "start_time": "2023-03-18T14:19:10.015Z"
   },
   {
    "duration": 11,
    "start_time": "2023-03-18T14:19:22.775Z"
   },
   {
    "duration": 12,
    "start_time": "2023-03-18T14:19:23.423Z"
   },
   {
    "duration": 5,
    "start_time": "2023-03-18T14:23:34.631Z"
   },
   {
    "duration": 42,
    "start_time": "2023-03-18T14:24:19.510Z"
   },
   {
    "duration": 41,
    "start_time": "2023-03-18T14:24:25.535Z"
   },
   {
    "duration": 5,
    "start_time": "2023-03-18T14:25:22.792Z"
   },
   {
    "duration": 6,
    "start_time": "2023-03-18T14:25:45.499Z"
   },
   {
    "duration": 5,
    "start_time": "2023-03-18T14:25:49.345Z"
   },
   {
    "duration": 5,
    "start_time": "2023-03-18T14:25:54.679Z"
   },
   {
    "duration": 7,
    "start_time": "2023-03-18T14:25:56.363Z"
   },
   {
    "duration": 6,
    "start_time": "2023-03-18T14:26:16.555Z"
   },
   {
    "duration": 7,
    "start_time": "2023-03-18T14:26:17.631Z"
   },
   {
    "duration": 4,
    "start_time": "2023-03-18T14:26:20.441Z"
   },
   {
    "duration": 6,
    "start_time": "2023-03-18T14:26:21.215Z"
   },
   {
    "duration": 4,
    "start_time": "2023-03-18T14:26:22.035Z"
   },
   {
    "duration": 1249,
    "start_time": "2023-03-18T14:26:27.056Z"
   },
   {
    "duration": 71,
    "start_time": "2023-03-18T14:26:28.307Z"
   },
   {
    "duration": 16,
    "start_time": "2023-03-18T14:26:28.380Z"
   },
   {
    "duration": 23,
    "start_time": "2023-03-18T14:26:28.400Z"
   },
   {
    "duration": 21,
    "start_time": "2023-03-18T14:26:28.425Z"
   },
   {
    "duration": 42,
    "start_time": "2023-03-18T14:26:28.448Z"
   },
   {
    "duration": 4,
    "start_time": "2023-03-18T14:26:28.492Z"
   },
   {
    "duration": 4,
    "start_time": "2023-03-18T14:26:28.498Z"
   },
   {
    "duration": 24,
    "start_time": "2023-03-18T14:26:28.504Z"
   },
   {
    "duration": 2,
    "start_time": "2023-03-18T14:26:28.531Z"
   },
   {
    "duration": 58,
    "start_time": "2023-03-18T14:26:28.535Z"
   },
   {
    "duration": 7,
    "start_time": "2023-03-18T14:26:28.595Z"
   },
   {
    "duration": 5,
    "start_time": "2023-03-18T14:26:28.604Z"
   },
   {
    "duration": 4,
    "start_time": "2023-03-18T14:26:28.610Z"
   },
   {
    "duration": 7,
    "start_time": "2023-03-18T14:26:28.616Z"
   },
   {
    "duration": 9,
    "start_time": "2023-03-18T14:26:28.624Z"
   },
   {
    "duration": 57,
    "start_time": "2023-03-18T14:26:28.634Z"
   },
   {
    "duration": 10,
    "start_time": "2023-03-18T14:26:28.693Z"
   },
   {
    "duration": 11,
    "start_time": "2023-03-18T14:26:28.705Z"
   },
   {
    "duration": 4,
    "start_time": "2023-03-18T14:26:28.719Z"
   },
   {
    "duration": 68,
    "start_time": "2023-03-18T14:26:28.724Z"
   },
   {
    "duration": 17,
    "start_time": "2023-03-18T14:26:28.794Z"
   },
   {
    "duration": 18,
    "start_time": "2023-03-18T14:26:28.812Z"
   },
   {
    "duration": 503,
    "start_time": "2023-03-18T14:26:28.832Z"
   },
   {
    "duration": 6,
    "start_time": "2023-03-18T14:26:29.337Z"
   },
   {
    "duration": 377,
    "start_time": "2023-03-18T14:26:29.345Z"
   },
   {
    "duration": 213,
    "start_time": "2023-03-18T14:26:29.725Z"
   },
   {
    "duration": 254,
    "start_time": "2023-03-18T14:26:29.942Z"
   },
   {
    "duration": 240,
    "start_time": "2023-03-18T14:26:30.199Z"
   },
   {
    "duration": 452,
    "start_time": "2023-03-18T14:26:30.441Z"
   },
   {
    "duration": 639,
    "start_time": "2023-03-18T14:26:30.895Z"
   },
   {
    "duration": 3,
    "start_time": "2023-03-18T14:26:31.590Z"
   },
   {
    "duration": 6,
    "start_time": "2023-03-18T14:26:31.596Z"
   },
   {
    "duration": 11,
    "start_time": "2023-03-18T14:26:31.604Z"
   },
   {
    "duration": 2,
    "start_time": "2023-03-18T14:26:31.617Z"
   },
   {
    "duration": 7,
    "start_time": "2023-03-18T14:26:31.621Z"
   },
   {
    "duration": 697,
    "start_time": "2023-03-18T14:26:31.630Z"
   },
   {
    "duration": 3,
    "start_time": "2023-03-18T14:26:32.329Z"
   },
   {
    "duration": 59,
    "start_time": "2023-03-18T14:26:32.334Z"
   },
   {
    "duration": 253,
    "start_time": "2023-03-18T14:26:32.394Z"
   },
   {
    "duration": 3,
    "start_time": "2023-03-18T14:26:32.650Z"
   },
   {
    "duration": 33,
    "start_time": "2023-03-18T14:26:32.654Z"
   },
   {
    "duration": 406,
    "start_time": "2023-03-18T14:26:32.689Z"
   },
   {
    "duration": 7,
    "start_time": "2023-03-18T14:26:33.097Z"
   },
   {
    "duration": 408,
    "start_time": "2023-03-18T14:26:33.106Z"
   },
   {
    "duration": 4,
    "start_time": "2023-03-18T14:26:33.516Z"
   },
   {
    "duration": 13,
    "start_time": "2023-03-18T14:26:33.522Z"
   },
   {
    "duration": 355,
    "start_time": "2023-03-18T14:26:33.537Z"
   },
   {
    "duration": 6,
    "start_time": "2023-03-18T14:26:33.894Z"
   },
   {
    "duration": 222,
    "start_time": "2023-03-18T14:26:33.902Z"
   },
   {
    "duration": 63,
    "start_time": "2023-03-18T14:26:34.126Z"
   },
   {
    "duration": 240,
    "start_time": "2023-03-18T14:26:34.191Z"
   },
   {
    "duration": 56,
    "start_time": "2023-03-18T14:26:34.433Z"
   },
   {
    "duration": 368,
    "start_time": "2023-03-18T14:26:34.492Z"
   },
   {
    "duration": 11,
    "start_time": "2023-03-18T14:26:34.890Z"
   },
   {
    "duration": 172,
    "start_time": "2023-03-18T14:26:34.903Z"
   },
   {
    "duration": 14,
    "start_time": "2023-03-18T14:26:35.077Z"
   },
   {
    "duration": 277,
    "start_time": "2023-03-18T14:26:35.093Z"
   },
   {
    "duration": 19,
    "start_time": "2023-03-18T14:26:35.372Z"
   },
   {
    "duration": 166,
    "start_time": "2023-03-18T14:26:35.395Z"
   },
   {
    "duration": 4,
    "start_time": "2023-03-18T14:26:35.563Z"
   },
   {
    "duration": 157,
    "start_time": "2023-03-18T14:26:35.569Z"
   },
   {
    "duration": 2,
    "start_time": "2023-03-18T14:26:35.728Z"
   },
   {
    "duration": 220,
    "start_time": "2023-03-18T14:26:35.731Z"
   },
   {
    "duration": 196,
    "start_time": "2023-03-18T14:26:35.953Z"
   },
   {
    "duration": 3,
    "start_time": "2023-03-18T14:26:36.151Z"
   },
   {
    "duration": 253,
    "start_time": "2023-03-18T14:26:36.155Z"
   },
   {
    "duration": 2,
    "start_time": "2023-03-18T14:26:36.410Z"
   },
   {
    "duration": 10,
    "start_time": "2023-03-18T14:26:36.414Z"
   },
   {
    "duration": 9,
    "start_time": "2023-03-18T14:26:36.425Z"
   },
   {
    "duration": 10,
    "start_time": "2023-03-18T14:26:36.436Z"
   },
   {
    "duration": 2,
    "start_time": "2023-03-18T14:26:36.490Z"
   },
   {
    "duration": 14,
    "start_time": "2023-03-18T14:26:36.494Z"
   },
   {
    "duration": 13,
    "start_time": "2023-03-18T14:26:36.510Z"
   },
   {
    "duration": 10,
    "start_time": "2023-03-18T14:26:36.524Z"
   },
   {
    "duration": 8,
    "start_time": "2023-03-18T14:26:36.536Z"
   },
   {
    "duration": 58,
    "start_time": "2023-03-18T14:26:36.546Z"
   },
   {
    "duration": 17,
    "start_time": "2023-03-18T14:26:36.606Z"
   },
   {
    "duration": 16,
    "start_time": "2023-03-18T14:26:36.625Z"
   },
   {
    "duration": 5,
    "start_time": "2023-03-18T14:26:36.644Z"
   },
   {
    "duration": 3,
    "start_time": "2023-03-18T14:26:36.689Z"
   },
   {
    "duration": 4,
    "start_time": "2023-03-18T14:26:36.697Z"
   },
   {
    "duration": 12,
    "start_time": "2023-03-18T14:26:36.703Z"
   },
   {
    "duration": 3,
    "start_time": "2023-03-18T14:26:36.718Z"
   },
   {
    "duration": 6,
    "start_time": "2023-03-18T14:26:36.723Z"
   },
   {
    "duration": 61,
    "start_time": "2023-03-18T14:26:36.730Z"
   },
   {
    "duration": 4,
    "start_time": "2023-03-18T14:27:33.351Z"
   },
   {
    "duration": 5,
    "start_time": "2023-03-18T14:27:34.548Z"
   },
   {
    "duration": 1311,
    "start_time": "2023-03-18T14:27:40.380Z"
   },
   {
    "duration": 74,
    "start_time": "2023-03-18T14:27:41.693Z"
   },
   {
    "duration": 17,
    "start_time": "2023-03-18T14:27:41.769Z"
   },
   {
    "duration": 20,
    "start_time": "2023-03-18T14:27:41.791Z"
   },
   {
    "duration": 21,
    "start_time": "2023-03-18T14:27:41.812Z"
   },
   {
    "duration": 18,
    "start_time": "2023-03-18T14:27:41.835Z"
   },
   {
    "duration": 6,
    "start_time": "2023-03-18T14:27:41.891Z"
   },
   {
    "duration": 9,
    "start_time": "2023-03-18T14:27:41.899Z"
   },
   {
    "duration": 49,
    "start_time": "2023-03-18T14:27:41.910Z"
   },
   {
    "duration": 3,
    "start_time": "2023-03-18T14:27:41.962Z"
   },
   {
    "duration": 25,
    "start_time": "2023-03-18T14:27:41.966Z"
   },
   {
    "duration": 6,
    "start_time": "2023-03-18T14:27:41.994Z"
   },
   {
    "duration": 10,
    "start_time": "2023-03-18T14:27:42.002Z"
   },
   {
    "duration": 3,
    "start_time": "2023-03-18T14:27:42.014Z"
   },
   {
    "duration": 12,
    "start_time": "2023-03-18T14:27:42.019Z"
   },
   {
    "duration": 66,
    "start_time": "2023-03-18T14:27:42.033Z"
   },
   {
    "duration": 8,
    "start_time": "2023-03-18T14:27:42.101Z"
   },
   {
    "duration": 9,
    "start_time": "2023-03-18T14:27:42.112Z"
   },
   {
    "duration": 11,
    "start_time": "2023-03-18T14:27:42.123Z"
   },
   {
    "duration": 4,
    "start_time": "2023-03-18T14:27:42.136Z"
   },
   {
    "duration": 50,
    "start_time": "2023-03-18T14:27:42.141Z"
   },
   {
    "duration": 33,
    "start_time": "2023-03-18T14:27:42.193Z"
   },
   {
    "duration": 16,
    "start_time": "2023-03-18T14:27:42.228Z"
   },
   {
    "duration": 610,
    "start_time": "2023-03-18T14:27:42.246Z"
   },
   {
    "duration": 6,
    "start_time": "2023-03-18T14:27:42.858Z"
   },
   {
    "duration": 425,
    "start_time": "2023-03-18T14:27:42.866Z"
   },
   {
    "duration": 291,
    "start_time": "2023-03-18T14:27:43.293Z"
   },
   {
    "duration": 292,
    "start_time": "2023-03-18T14:27:43.589Z"
   },
   {
    "duration": 265,
    "start_time": "2023-03-18T14:27:43.889Z"
   },
   {
    "duration": 258,
    "start_time": "2023-03-18T14:27:44.156Z"
   },
   {
    "duration": 375,
    "start_time": "2023-03-18T14:27:44.416Z"
   },
   {
    "duration": 3,
    "start_time": "2023-03-18T14:27:44.793Z"
   },
   {
    "duration": 11,
    "start_time": "2023-03-18T14:27:44.798Z"
   },
   {
    "duration": 19,
    "start_time": "2023-03-18T14:27:44.811Z"
   },
   {
    "duration": 4,
    "start_time": "2023-03-18T14:27:44.833Z"
   },
   {
    "duration": 4,
    "start_time": "2023-03-18T14:27:44.840Z"
   },
   {
    "duration": 369,
    "start_time": "2023-03-18T14:27:44.890Z"
   },
   {
    "duration": 3,
    "start_time": "2023-03-18T14:27:45.261Z"
   },
   {
    "duration": 150,
    "start_time": "2023-03-18T14:27:45.266Z"
   },
   {
    "duration": 176,
    "start_time": "2023-03-18T14:27:45.419Z"
   },
   {
    "duration": 4,
    "start_time": "2023-03-18T14:27:45.597Z"
   },
   {
    "duration": 17,
    "start_time": "2023-03-18T14:27:45.603Z"
   },
   {
    "duration": 169,
    "start_time": "2023-03-18T14:27:45.622Z"
   },
   {
    "duration": 7,
    "start_time": "2023-03-18T14:27:45.793Z"
   },
   {
    "duration": 246,
    "start_time": "2023-03-18T14:27:45.802Z"
   },
   {
    "duration": 3,
    "start_time": "2023-03-18T14:27:46.050Z"
   },
   {
    "duration": 17,
    "start_time": "2023-03-18T14:27:46.054Z"
   },
   {
    "duration": 179,
    "start_time": "2023-03-18T14:27:46.090Z"
   },
   {
    "duration": 20,
    "start_time": "2023-03-18T14:27:46.271Z"
   },
   {
    "duration": 152,
    "start_time": "2023-03-18T14:27:46.294Z"
   },
   {
    "duration": 10,
    "start_time": "2023-03-18T14:27:46.448Z"
   },
   {
    "duration": 152,
    "start_time": "2023-03-18T14:27:46.460Z"
   },
   {
    "duration": 6,
    "start_time": "2023-03-18T14:27:46.614Z"
   },
   {
    "duration": 168,
    "start_time": "2023-03-18T14:27:46.622Z"
   },
   {
    "duration": 10,
    "start_time": "2023-03-18T14:27:46.793Z"
   },
   {
    "duration": 184,
    "start_time": "2023-03-18T14:27:46.805Z"
   },
   {
    "duration": 5,
    "start_time": "2023-03-18T14:27:46.991Z"
   },
   {
    "duration": 469,
    "start_time": "2023-03-18T14:27:46.998Z"
   },
   {
    "duration": 22,
    "start_time": "2023-03-18T14:27:47.469Z"
   },
   {
    "duration": 222,
    "start_time": "2023-03-18T14:27:47.494Z"
   },
   {
    "duration": 6,
    "start_time": "2023-03-18T14:27:47.719Z"
   },
   {
    "duration": 211,
    "start_time": "2023-03-18T14:27:47.726Z"
   },
   {
    "duration": 4,
    "start_time": "2023-03-18T14:27:47.939Z"
   },
   {
    "duration": 225,
    "start_time": "2023-03-18T14:27:47.945Z"
   },
   {
    "duration": 221,
    "start_time": "2023-03-18T14:27:48.172Z"
   },
   {
    "duration": 3,
    "start_time": "2023-03-18T14:27:48.395Z"
   },
   {
    "duration": 288,
    "start_time": "2023-03-18T14:27:48.400Z"
   },
   {
    "duration": 3,
    "start_time": "2023-03-18T14:27:48.690Z"
   },
   {
    "duration": 17,
    "start_time": "2023-03-18T14:27:48.694Z"
   },
   {
    "duration": 14,
    "start_time": "2023-03-18T14:27:48.713Z"
   },
   {
    "duration": 12,
    "start_time": "2023-03-18T14:27:48.729Z"
   },
   {
    "duration": 48,
    "start_time": "2023-03-18T14:27:48.742Z"
   },
   {
    "duration": 12,
    "start_time": "2023-03-18T14:27:48.792Z"
   },
   {
    "duration": 14,
    "start_time": "2023-03-18T14:27:48.807Z"
   },
   {
    "duration": 11,
    "start_time": "2023-03-18T14:27:48.824Z"
   },
   {
    "duration": 5,
    "start_time": "2023-03-18T14:27:48.837Z"
   },
   {
    "duration": 53,
    "start_time": "2023-03-18T14:27:48.844Z"
   },
   {
    "duration": 12,
    "start_time": "2023-03-18T14:27:48.899Z"
   },
   {
    "duration": 13,
    "start_time": "2023-03-18T14:27:48.913Z"
   },
   {
    "duration": 4,
    "start_time": "2023-03-18T14:27:48.927Z"
   },
   {
    "duration": 6,
    "start_time": "2023-03-18T14:27:48.933Z"
   },
   {
    "duration": 20,
    "start_time": "2023-03-18T14:27:48.945Z"
   },
   {
    "duration": 31,
    "start_time": "2023-03-18T14:27:48.967Z"
   },
   {
    "duration": 3,
    "start_time": "2023-03-18T14:27:49.000Z"
   },
   {
    "duration": 9,
    "start_time": "2023-03-18T14:27:49.004Z"
   },
   {
    "duration": 9,
    "start_time": "2023-03-18T14:27:49.014Z"
   },
   {
    "duration": 10,
    "start_time": "2023-03-18T14:43:52.022Z"
   },
   {
    "duration": 1298,
    "start_time": "2023-03-19T11:26:52.051Z"
   },
   {
    "duration": 108,
    "start_time": "2023-03-19T11:26:53.351Z"
   },
   {
    "duration": 15,
    "start_time": "2023-03-19T11:26:53.461Z"
   },
   {
    "duration": 11,
    "start_time": "2023-03-19T11:26:53.478Z"
   },
   {
    "duration": 14,
    "start_time": "2023-03-19T11:26:53.491Z"
   },
   {
    "duration": 17,
    "start_time": "2023-03-19T11:26:53.507Z"
   },
   {
    "duration": 4,
    "start_time": "2023-03-19T11:26:53.525Z"
   },
   {
    "duration": 27,
    "start_time": "2023-03-19T11:26:53.531Z"
   },
   {
    "duration": 24,
    "start_time": "2023-03-19T11:26:53.560Z"
   },
   {
    "duration": 2,
    "start_time": "2023-03-19T11:26:53.586Z"
   },
   {
    "duration": 6,
    "start_time": "2023-03-19T11:26:53.590Z"
   },
   {
    "duration": 11,
    "start_time": "2023-03-19T11:26:53.597Z"
   },
   {
    "duration": 7,
    "start_time": "2023-03-19T11:26:53.609Z"
   },
   {
    "duration": 6,
    "start_time": "2023-03-19T11:26:53.617Z"
   },
   {
    "duration": 8,
    "start_time": "2023-03-19T11:26:53.624Z"
   },
   {
    "duration": 25,
    "start_time": "2023-03-19T11:26:53.633Z"
   },
   {
    "duration": 3,
    "start_time": "2023-03-19T11:26:53.659Z"
   },
   {
    "duration": 8,
    "start_time": "2023-03-19T11:26:53.663Z"
   },
   {
    "duration": 7,
    "start_time": "2023-03-19T11:26:53.673Z"
   },
   {
    "duration": 4,
    "start_time": "2023-03-19T11:26:53.682Z"
   },
   {
    "duration": 12,
    "start_time": "2023-03-19T11:26:53.688Z"
   },
   {
    "duration": 18,
    "start_time": "2023-03-19T11:26:53.702Z"
   },
   {
    "duration": 36,
    "start_time": "2023-03-19T11:26:53.722Z"
   },
   {
    "duration": 424,
    "start_time": "2023-03-19T11:26:53.760Z"
   },
   {
    "duration": 5,
    "start_time": "2023-03-19T11:26:54.186Z"
   },
   {
    "duration": 295,
    "start_time": "2023-03-19T11:26:54.193Z"
   },
   {
    "duration": 185,
    "start_time": "2023-03-19T11:26:54.490Z"
   },
   {
    "duration": 203,
    "start_time": "2023-03-19T11:26:54.680Z"
   },
   {
    "duration": 202,
    "start_time": "2023-03-19T11:26:54.885Z"
   },
   {
    "duration": 192,
    "start_time": "2023-03-19T11:26:55.089Z"
   },
   {
    "duration": 299,
    "start_time": "2023-03-19T11:26:55.282Z"
   },
   {
    "duration": 3,
    "start_time": "2023-03-19T11:26:55.583Z"
   },
   {
    "duration": 13,
    "start_time": "2023-03-19T11:26:55.588Z"
   },
   {
    "duration": 42,
    "start_time": "2023-03-19T11:26:55.603Z"
   },
   {
    "duration": 2,
    "start_time": "2023-03-19T11:26:55.647Z"
   },
   {
    "duration": 8,
    "start_time": "2023-03-19T11:26:55.651Z"
   },
   {
    "duration": 308,
    "start_time": "2023-03-19T11:26:55.661Z"
   },
   {
    "duration": 2,
    "start_time": "2023-03-19T11:26:55.971Z"
   },
   {
    "duration": 9,
    "start_time": "2023-03-19T11:26:55.975Z"
   },
   {
    "duration": 165,
    "start_time": "2023-03-19T11:26:55.985Z"
   },
   {
    "duration": 2,
    "start_time": "2023-03-19T11:26:56.157Z"
   },
   {
    "duration": 13,
    "start_time": "2023-03-19T11:26:56.161Z"
   },
   {
    "duration": 127,
    "start_time": "2023-03-19T11:26:56.176Z"
   },
   {
    "duration": 4,
    "start_time": "2023-03-19T11:26:56.304Z"
   },
   {
    "duration": 127,
    "start_time": "2023-03-19T11:26:56.310Z"
   },
   {
    "duration": 2,
    "start_time": "2023-03-19T11:26:56.439Z"
   },
   {
    "duration": 8,
    "start_time": "2023-03-19T11:26:56.456Z"
   },
   {
    "duration": 119,
    "start_time": "2023-03-19T11:26:56.466Z"
   },
   {
    "duration": 4,
    "start_time": "2023-03-19T11:26:56.586Z"
   },
   {
    "duration": 128,
    "start_time": "2023-03-19T11:26:56.592Z"
   },
   {
    "duration": 8,
    "start_time": "2023-03-19T11:26:56.722Z"
   },
   {
    "duration": 116,
    "start_time": "2023-03-19T11:26:56.731Z"
   },
   {
    "duration": 11,
    "start_time": "2023-03-19T11:26:56.848Z"
   },
   {
    "duration": 113,
    "start_time": "2023-03-19T11:26:56.861Z"
   },
   {
    "duration": 8,
    "start_time": "2023-03-19T11:26:56.975Z"
   },
   {
    "duration": 147,
    "start_time": "2023-03-19T11:26:56.984Z"
   },
   {
    "duration": 5,
    "start_time": "2023-03-19T11:26:57.133Z"
   },
   {
    "duration": 210,
    "start_time": "2023-03-19T11:26:57.140Z"
   },
   {
    "duration": 7,
    "start_time": "2023-03-19T11:26:57.357Z"
   },
   {
    "duration": 139,
    "start_time": "2023-03-19T11:26:57.366Z"
   },
   {
    "duration": 5,
    "start_time": "2023-03-19T11:26:57.507Z"
   },
   {
    "duration": 148,
    "start_time": "2023-03-19T11:26:57.513Z"
   },
   {
    "duration": 2,
    "start_time": "2023-03-19T11:26:57.663Z"
   },
   {
    "duration": 185,
    "start_time": "2023-03-19T11:26:57.667Z"
   },
   {
    "duration": 162,
    "start_time": "2023-03-19T11:26:57.856Z"
   },
   {
    "duration": 2,
    "start_time": "2023-03-19T11:26:58.020Z"
   },
   {
    "duration": 251,
    "start_time": "2023-03-19T11:26:58.023Z"
   },
   {
    "duration": 2,
    "start_time": "2023-03-19T11:26:58.275Z"
   },
   {
    "duration": 12,
    "start_time": "2023-03-19T11:26:58.279Z"
   },
   {
    "duration": 7,
    "start_time": "2023-03-19T11:26:58.292Z"
   },
   {
    "duration": 17,
    "start_time": "2023-03-19T11:26:58.300Z"
   },
   {
    "duration": 2,
    "start_time": "2023-03-19T11:26:58.318Z"
   },
   {
    "duration": 12,
    "start_time": "2023-03-19T11:26:58.321Z"
   },
   {
    "duration": 23,
    "start_time": "2023-03-19T11:26:58.335Z"
   },
   {
    "duration": 8,
    "start_time": "2023-03-19T11:26:58.359Z"
   },
   {
    "duration": 3,
    "start_time": "2023-03-19T11:26:58.369Z"
   },
   {
    "duration": 12,
    "start_time": "2023-03-19T11:26:58.373Z"
   },
   {
    "duration": 11,
    "start_time": "2023-03-19T11:26:58.386Z"
   },
   {
    "duration": 14,
    "start_time": "2023-03-19T11:26:58.399Z"
   },
   {
    "duration": 6,
    "start_time": "2023-03-19T11:26:58.414Z"
   },
   {
    "duration": 5,
    "start_time": "2023-03-19T11:26:58.421Z"
   },
   {
    "duration": 4,
    "start_time": "2023-03-19T11:26:58.457Z"
   },
   {
    "duration": 10,
    "start_time": "2023-03-19T11:26:58.462Z"
   },
   {
    "duration": 4,
    "start_time": "2023-03-19T11:26:58.474Z"
   },
   {
    "duration": 8,
    "start_time": "2023-03-19T11:26:58.479Z"
   },
   {
    "duration": 8,
    "start_time": "2023-03-19T11:26:58.489Z"
   },
   {
    "duration": 5,
    "start_time": "2023-03-19T11:30:26.801Z"
   },
   {
    "duration": 7,
    "start_time": "2023-03-19T11:31:27.460Z"
   },
   {
    "duration": 5,
    "start_time": "2023-03-19T11:31:30.051Z"
   },
   {
    "duration": 102,
    "start_time": "2023-03-19T11:31:57.056Z"
   },
   {
    "duration": 13,
    "start_time": "2023-03-19T11:33:19.394Z"
   },
   {
    "duration": 11,
    "start_time": "2023-03-19T11:47:05.347Z"
   },
   {
    "duration": 28,
    "start_time": "2023-03-19T11:47:14.044Z"
   },
   {
    "duration": 7,
    "start_time": "2023-03-19T11:49:09.674Z"
   },
   {
    "duration": 8,
    "start_time": "2023-03-19T11:49:22.716Z"
   },
   {
    "duration": 8,
    "start_time": "2023-03-19T11:49:41.557Z"
   },
   {
    "duration": 21,
    "start_time": "2023-03-19T11:50:25.391Z"
   },
   {
    "duration": 8,
    "start_time": "2023-03-19T11:50:32.158Z"
   },
   {
    "duration": 1224,
    "start_time": "2023-03-19T11:52:44.841Z"
   },
   {
    "duration": 60,
    "start_time": "2023-03-19T11:52:46.067Z"
   },
   {
    "duration": 13,
    "start_time": "2023-03-19T11:52:46.129Z"
   },
   {
    "duration": 10,
    "start_time": "2023-03-19T11:52:46.143Z"
   },
   {
    "duration": 15,
    "start_time": "2023-03-19T11:52:46.157Z"
   },
   {
    "duration": 18,
    "start_time": "2023-03-19T11:52:46.174Z"
   },
   {
    "duration": 17,
    "start_time": "2023-03-19T11:52:46.193Z"
   },
   {
    "duration": 4,
    "start_time": "2023-03-19T11:52:46.212Z"
   },
   {
    "duration": 23,
    "start_time": "2023-03-19T11:52:46.217Z"
   },
   {
    "duration": 2,
    "start_time": "2023-03-19T11:52:46.242Z"
   },
   {
    "duration": 4,
    "start_time": "2023-03-19T11:52:46.257Z"
   },
   {
    "duration": 6,
    "start_time": "2023-03-19T11:52:46.263Z"
   },
   {
    "duration": 6,
    "start_time": "2023-03-19T11:52:46.270Z"
   },
   {
    "duration": 3,
    "start_time": "2023-03-19T11:52:46.278Z"
   },
   {
    "duration": 13,
    "start_time": "2023-03-19T11:52:46.282Z"
   },
   {
    "duration": 7,
    "start_time": "2023-03-19T11:52:46.297Z"
   },
   {
    "duration": 5,
    "start_time": "2023-03-19T11:52:46.305Z"
   },
   {
    "duration": 8,
    "start_time": "2023-03-19T11:52:46.311Z"
   },
   {
    "duration": 8,
    "start_time": "2023-03-19T11:52:46.320Z"
   },
   {
    "duration": 31,
    "start_time": "2023-03-19T11:52:46.329Z"
   },
   {
    "duration": 14,
    "start_time": "2023-03-19T11:52:46.362Z"
   },
   {
    "duration": 14,
    "start_time": "2023-03-19T11:52:46.378Z"
   },
   {
    "duration": 10,
    "start_time": "2023-03-19T11:52:46.394Z"
   },
   {
    "duration": 474,
    "start_time": "2023-03-19T11:52:46.405Z"
   },
   {
    "duration": 5,
    "start_time": "2023-03-19T11:52:46.880Z"
   },
   {
    "duration": 289,
    "start_time": "2023-03-19T11:52:46.886Z"
   },
   {
    "duration": 191,
    "start_time": "2023-03-19T11:52:47.177Z"
   },
   {
    "duration": 229,
    "start_time": "2023-03-19T11:52:47.372Z"
   },
   {
    "duration": 214,
    "start_time": "2023-03-19T11:52:47.603Z"
   },
   {
    "duration": 192,
    "start_time": "2023-03-19T11:52:47.819Z"
   },
   {
    "duration": 257,
    "start_time": "2023-03-19T11:52:48.013Z"
   },
   {
    "duration": 3,
    "start_time": "2023-03-19T11:52:48.272Z"
   },
   {
    "duration": 7,
    "start_time": "2023-03-19T11:52:48.276Z"
   },
   {
    "duration": 15,
    "start_time": "2023-03-19T11:52:48.285Z"
   },
   {
    "duration": 3,
    "start_time": "2023-03-19T11:52:48.301Z"
   },
   {
    "duration": 4,
    "start_time": "2023-03-19T11:52:48.306Z"
   },
   {
    "duration": 309,
    "start_time": "2023-03-19T11:52:48.312Z"
   },
   {
    "duration": 2,
    "start_time": "2023-03-19T11:52:48.623Z"
   },
   {
    "duration": 11,
    "start_time": "2023-03-19T11:52:48.627Z"
   },
   {
    "duration": 155,
    "start_time": "2023-03-19T11:52:48.639Z"
   },
   {
    "duration": 2,
    "start_time": "2023-03-19T11:52:48.796Z"
   },
   {
    "duration": 10,
    "start_time": "2023-03-19T11:52:48.800Z"
   },
   {
    "duration": 137,
    "start_time": "2023-03-19T11:52:48.811Z"
   },
   {
    "duration": 8,
    "start_time": "2023-03-19T11:52:48.950Z"
   },
   {
    "duration": 124,
    "start_time": "2023-03-19T11:52:48.960Z"
   },
   {
    "duration": 2,
    "start_time": "2023-03-19T11:52:49.086Z"
   },
   {
    "duration": 10,
    "start_time": "2023-03-19T11:52:49.090Z"
   },
   {
    "duration": 118,
    "start_time": "2023-03-19T11:52:49.101Z"
   },
   {
    "duration": 4,
    "start_time": "2023-03-19T11:52:49.221Z"
   },
   {
    "duration": 118,
    "start_time": "2023-03-19T11:52:49.226Z"
   },
   {
    "duration": 16,
    "start_time": "2023-03-19T11:52:49.345Z"
   },
   {
    "duration": 115,
    "start_time": "2023-03-19T11:52:49.362Z"
   },
   {
    "duration": 4,
    "start_time": "2023-03-19T11:52:49.479Z"
   },
   {
    "duration": 125,
    "start_time": "2023-03-19T11:52:49.484Z"
   },
   {
    "duration": 8,
    "start_time": "2023-03-19T11:52:49.610Z"
   },
   {
    "duration": 134,
    "start_time": "2023-03-19T11:52:49.620Z"
   },
   {
    "duration": 5,
    "start_time": "2023-03-19T11:52:49.757Z"
   },
   {
    "duration": 201,
    "start_time": "2023-03-19T11:52:49.764Z"
   },
   {
    "duration": 7,
    "start_time": "2023-03-19T11:52:49.967Z"
   },
   {
    "duration": 133,
    "start_time": "2023-03-19T11:52:49.976Z"
   },
   {
    "duration": 4,
    "start_time": "2023-03-19T11:52:50.110Z"
   },
   {
    "duration": 139,
    "start_time": "2023-03-19T11:52:50.115Z"
   },
   {
    "duration": 3,
    "start_time": "2023-03-19T11:52:50.255Z"
   },
   {
    "duration": 178,
    "start_time": "2023-03-19T11:52:50.259Z"
   },
   {
    "duration": 168,
    "start_time": "2023-03-19T11:52:50.439Z"
   },
   {
    "duration": 2,
    "start_time": "2023-03-19T11:52:50.609Z"
   },
   {
    "duration": 231,
    "start_time": "2023-03-19T11:52:50.612Z"
   },
   {
    "duration": 3,
    "start_time": "2023-03-19T11:52:50.844Z"
   },
   {
    "duration": 13,
    "start_time": "2023-03-19T11:52:50.848Z"
   },
   {
    "duration": 10,
    "start_time": "2023-03-19T11:52:50.863Z"
   },
   {
    "duration": 8,
    "start_time": "2023-03-19T11:52:50.874Z"
   },
   {
    "duration": 4,
    "start_time": "2023-03-19T11:52:50.883Z"
   },
   {
    "duration": 13,
    "start_time": "2023-03-19T11:52:50.888Z"
   },
   {
    "duration": 8,
    "start_time": "2023-03-19T11:52:50.903Z"
   },
   {
    "duration": 8,
    "start_time": "2023-03-19T11:52:50.912Z"
   },
   {
    "duration": 36,
    "start_time": "2023-03-19T11:52:50.921Z"
   },
   {
    "duration": 11,
    "start_time": "2023-03-19T11:52:50.959Z"
   },
   {
    "duration": 11,
    "start_time": "2023-03-19T11:52:50.972Z"
   },
   {
    "duration": 10,
    "start_time": "2023-03-19T11:52:50.984Z"
   },
   {
    "duration": 4,
    "start_time": "2023-03-19T11:52:50.996Z"
   },
   {
    "duration": 7,
    "start_time": "2023-03-19T11:52:51.001Z"
   },
   {
    "duration": 5,
    "start_time": "2023-03-19T11:52:51.012Z"
   },
   {
    "duration": 7,
    "start_time": "2023-03-19T11:52:51.018Z"
   },
   {
    "duration": 9,
    "start_time": "2023-03-19T11:52:51.057Z"
   },
   {
    "duration": 7,
    "start_time": "2023-03-19T11:52:51.068Z"
   },
   {
    "duration": 13,
    "start_time": "2023-03-19T11:52:51.076Z"
   },
   {
    "duration": 9,
    "start_time": "2023-03-19T11:52:51.091Z"
   },
   {
    "duration": 8,
    "start_time": "2023-03-19T11:55:19.306Z"
   },
   {
    "duration": 5,
    "start_time": "2023-03-19T11:55:34.238Z"
   },
   {
    "duration": 9,
    "start_time": "2023-03-19T11:56:05.745Z"
   },
   {
    "duration": 7,
    "start_time": "2023-03-19T11:56:09.650Z"
   },
   {
    "duration": 5,
    "start_time": "2023-03-19T11:56:20.688Z"
   },
   {
    "duration": 4,
    "start_time": "2023-03-19T11:56:41.434Z"
   },
   {
    "duration": 1640,
    "start_time": "2023-03-21T09:25:32.016Z"
   },
   {
    "duration": 136,
    "start_time": "2023-03-21T09:25:33.659Z"
   },
   {
    "duration": 22,
    "start_time": "2023-03-21T09:25:33.796Z"
   },
   {
    "duration": 24,
    "start_time": "2023-03-21T09:25:33.820Z"
   },
   {
    "duration": 43,
    "start_time": "2023-03-21T09:25:33.847Z"
   },
   {
    "duration": 45,
    "start_time": "2023-03-21T09:25:33.892Z"
   },
   {
    "duration": 16,
    "start_time": "2023-03-21T09:25:33.939Z"
   },
   {
    "duration": 57,
    "start_time": "2023-03-21T09:25:33.957Z"
   },
   {
    "duration": 37,
    "start_time": "2023-03-21T09:25:34.016Z"
   },
   {
    "duration": 15,
    "start_time": "2023-03-21T09:25:34.054Z"
   },
   {
    "duration": 51,
    "start_time": "2023-03-21T09:25:34.071Z"
   },
   {
    "duration": 16,
    "start_time": "2023-03-21T09:25:34.124Z"
   },
   {
    "duration": 27,
    "start_time": "2023-03-21T09:25:34.142Z"
   },
   {
    "duration": 9,
    "start_time": "2023-03-21T09:25:34.172Z"
   },
   {
    "duration": 39,
    "start_time": "2023-03-21T09:25:34.183Z"
   },
   {
    "duration": 23,
    "start_time": "2023-03-21T09:25:34.224Z"
   },
   {
    "duration": 23,
    "start_time": "2023-03-21T09:25:34.249Z"
   },
   {
    "duration": 38,
    "start_time": "2023-03-21T09:25:34.273Z"
   },
   {
    "duration": 44,
    "start_time": "2023-03-21T09:25:34.312Z"
   },
   {
    "duration": 57,
    "start_time": "2023-03-21T09:25:34.359Z"
   },
   {
    "duration": 43,
    "start_time": "2023-03-21T09:25:34.417Z"
   },
   {
    "duration": 28,
    "start_time": "2023-03-21T09:25:34.462Z"
   },
   {
    "duration": 36,
    "start_time": "2023-03-21T09:25:34.491Z"
   },
   {
    "duration": 506,
    "start_time": "2023-03-21T09:25:34.530Z"
   },
   {
    "duration": 6,
    "start_time": "2023-03-21T09:25:35.037Z"
   },
   {
    "duration": 418,
    "start_time": "2023-03-21T09:25:35.045Z"
   },
   {
    "duration": 251,
    "start_time": "2023-03-21T09:25:35.465Z"
   },
   {
    "duration": 244,
    "start_time": "2023-03-21T09:25:35.718Z"
   },
   {
    "duration": 268,
    "start_time": "2023-03-21T09:25:35.964Z"
   },
   {
    "duration": 281,
    "start_time": "2023-03-21T09:25:36.234Z"
   },
   {
    "duration": 332,
    "start_time": "2023-03-21T09:25:36.517Z"
   },
   {
    "duration": 3,
    "start_time": "2023-03-21T09:25:36.851Z"
   },
   {
    "duration": 20,
    "start_time": "2023-03-21T09:25:36.856Z"
   },
   {
    "duration": 35,
    "start_time": "2023-03-21T09:25:36.878Z"
   },
   {
    "duration": 20,
    "start_time": "2023-03-21T09:25:36.915Z"
   },
   {
    "duration": 13,
    "start_time": "2023-03-21T09:25:36.938Z"
   },
   {
    "duration": 372,
    "start_time": "2023-03-21T09:25:36.953Z"
   },
   {
    "duration": 2,
    "start_time": "2023-03-21T09:25:37.327Z"
   },
   {
    "duration": 17,
    "start_time": "2023-03-21T09:25:37.331Z"
   },
   {
    "duration": 362,
    "start_time": "2023-03-21T09:25:37.350Z"
   },
   {
    "duration": 2,
    "start_time": "2023-03-21T09:25:37.718Z"
   },
   {
    "duration": 28,
    "start_time": "2023-03-21T09:25:37.722Z"
   },
   {
    "duration": 381,
    "start_time": "2023-03-21T09:25:37.752Z"
   },
   {
    "duration": 4,
    "start_time": "2023-03-21T09:25:38.135Z"
   },
   {
    "duration": 359,
    "start_time": "2023-03-21T09:25:38.141Z"
   },
   {
    "duration": 10,
    "start_time": "2023-03-21T09:25:38.507Z"
   },
   {
    "duration": 23,
    "start_time": "2023-03-21T09:25:38.522Z"
   },
   {
    "duration": 281,
    "start_time": "2023-03-21T09:25:38.547Z"
   },
   {
    "duration": 5,
    "start_time": "2023-03-21T09:25:38.830Z"
   },
   {
    "duration": 297,
    "start_time": "2023-03-21T09:25:38.837Z"
   },
   {
    "duration": 64,
    "start_time": "2023-03-21T09:25:39.136Z"
   },
   {
    "duration": 402,
    "start_time": "2023-03-21T09:25:39.203Z"
   },
   {
    "duration": 7,
    "start_time": "2023-03-21T09:25:39.607Z"
   },
   {
    "duration": 249,
    "start_time": "2023-03-21T09:25:39.616Z"
   },
   {
    "duration": 10,
    "start_time": "2023-03-21T09:25:39.867Z"
   },
   {
    "duration": 173,
    "start_time": "2023-03-21T09:25:39.878Z"
   },
   {
    "duration": 4,
    "start_time": "2023-03-21T09:25:40.053Z"
   },
   {
    "duration": 263,
    "start_time": "2023-03-21T09:25:40.060Z"
   },
   {
    "duration": 10,
    "start_time": "2023-03-21T09:25:40.325Z"
   },
   {
    "duration": 203,
    "start_time": "2023-03-21T09:25:40.336Z"
   },
   {
    "duration": 5,
    "start_time": "2023-03-21T09:25:40.541Z"
   },
   {
    "duration": 184,
    "start_time": "2023-03-21T09:25:40.548Z"
   },
   {
    "duration": 3,
    "start_time": "2023-03-21T09:25:40.734Z"
   },
   {
    "duration": 231,
    "start_time": "2023-03-21T09:25:40.739Z"
   },
   {
    "duration": 205,
    "start_time": "2023-03-21T09:25:40.972Z"
   },
   {
    "duration": 3,
    "start_time": "2023-03-21T09:25:41.179Z"
   },
   {
    "duration": 298,
    "start_time": "2023-03-21T09:25:41.183Z"
   },
   {
    "duration": 2,
    "start_time": "2023-03-21T09:25:41.484Z"
   },
   {
    "duration": 13,
    "start_time": "2023-03-21T09:25:41.497Z"
   },
   {
    "duration": 13,
    "start_time": "2023-03-21T09:25:41.514Z"
   },
   {
    "duration": 11,
    "start_time": "2023-03-21T09:25:41.529Z"
   },
   {
    "duration": 3,
    "start_time": "2023-03-21T09:25:41.542Z"
   },
   {
    "duration": 13,
    "start_time": "2023-03-21T09:25:41.546Z"
   },
   {
    "duration": 41,
    "start_time": "2023-03-21T09:25:41.560Z"
   },
   {
    "duration": 18,
    "start_time": "2023-03-21T09:25:41.607Z"
   },
   {
    "duration": 14,
    "start_time": "2023-03-21T09:25:41.628Z"
   },
   {
    "duration": 17,
    "start_time": "2023-03-21T09:25:41.644Z"
   },
   {
    "duration": 18,
    "start_time": "2023-03-21T09:25:41.663Z"
   },
   {
    "duration": 12,
    "start_time": "2023-03-21T09:25:41.683Z"
   },
   {
    "duration": 20,
    "start_time": "2023-03-21T09:25:41.707Z"
   },
   {
    "duration": 8,
    "start_time": "2023-03-21T09:25:41.728Z"
   },
   {
    "duration": 15,
    "start_time": "2023-03-21T09:25:41.738Z"
   },
   {
    "duration": 21,
    "start_time": "2023-03-21T09:25:41.756Z"
   },
   {
    "duration": 10,
    "start_time": "2023-03-21T09:25:41.779Z"
   },
   {
    "duration": 24,
    "start_time": "2023-03-21T09:25:41.791Z"
   },
   {
    "duration": 12,
    "start_time": "2023-03-21T09:25:41.817Z"
   },
   {
    "duration": 12,
    "start_time": "2023-03-21T09:25:41.831Z"
   },
   {
    "duration": 8,
    "start_time": "2023-03-21T09:26:09.507Z"
   },
   {
    "duration": 7,
    "start_time": "2023-03-21T09:26:18.868Z"
   },
   {
    "duration": 7,
    "start_time": "2023-03-21T09:26:40.769Z"
   },
   {
    "duration": 8,
    "start_time": "2023-03-21T09:26:43.240Z"
   },
   {
    "duration": 6,
    "start_time": "2023-03-21T09:26:54.041Z"
   },
   {
    "duration": 3,
    "start_time": "2023-03-21T09:26:54.860Z"
   },
   {
    "duration": 6,
    "start_time": "2023-03-21T09:26:55.834Z"
   },
   {
    "duration": 7,
    "start_time": "2023-03-21T09:27:22.218Z"
   },
   {
    "duration": 7,
    "start_time": "2023-03-21T09:27:52.918Z"
   },
   {
    "duration": 11,
    "start_time": "2023-03-21T09:28:39.309Z"
   },
   {
    "duration": 4,
    "start_time": "2023-03-21T09:28:40.502Z"
   },
   {
    "duration": 9,
    "start_time": "2023-03-21T09:28:54.389Z"
   },
   {
    "duration": 13,
    "start_time": "2023-03-21T09:29:15.012Z"
   },
   {
    "duration": 9,
    "start_time": "2023-03-21T09:29:29.734Z"
   },
   {
    "duration": 11,
    "start_time": "2023-03-21T09:33:33.056Z"
   },
   {
    "duration": 9,
    "start_time": "2023-03-21T09:34:03.214Z"
   },
   {
    "duration": 18,
    "start_time": "2023-03-21T09:34:12.095Z"
   },
   {
    "duration": 9,
    "start_time": "2023-03-21T09:34:49.312Z"
   },
   {
    "duration": 9,
    "start_time": "2023-03-21T09:35:01.240Z"
   },
   {
    "duration": 10,
    "start_time": "2023-03-21T09:35:16.174Z"
   },
   {
    "duration": 12,
    "start_time": "2023-03-21T09:35:28.366Z"
   },
   {
    "duration": 9,
    "start_time": "2023-03-21T09:36:44.523Z"
   },
   {
    "duration": 2,
    "start_time": "2023-03-21T09:36:46.153Z"
   },
   {
    "duration": 11,
    "start_time": "2023-03-21T09:37:01.016Z"
   },
   {
    "duration": 119,
    "start_time": "2023-03-21T10:24:52.558Z"
   }
  ],
  "kernelspec": {
   "display_name": "Python 3 (ipykernel)",
   "language": "python",
   "name": "python3"
  },
  "language_info": {
   "codemirror_mode": {
    "name": "ipython",
    "version": 3
   },
   "file_extension": ".py",
   "mimetype": "text/x-python",
   "name": "python",
   "nbconvert_exporter": "python",
   "pygments_lexer": "ipython3",
   "version": "3.9.5"
  },
  "toc": {
   "base_numbering": 1,
   "nav_menu": {},
   "number_sections": true,
   "sideBar": true,
   "skip_h1_title": true,
   "title_cell": "Table of Contents",
   "title_sidebar": "Contents",
   "toc_cell": false,
   "toc_position": {
    "height": "calc(100% - 180px)",
    "left": "10px",
    "top": "150px",
    "width": "230.683px"
   },
   "toc_section_display": true,
   "toc_window_display": true
  }
 },
 "nbformat": 4,
 "nbformat_minor": 4
}
